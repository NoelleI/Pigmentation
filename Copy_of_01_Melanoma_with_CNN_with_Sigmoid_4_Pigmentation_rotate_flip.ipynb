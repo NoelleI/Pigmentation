{
  "nbformat": 4,
  "nbformat_minor": 0,
  "metadata": {
    "colab": {
      "name": "Copy of 01-Melanoma-with-CNN-with-Sigmoid-4-Pigmentation-rotate-flip.ipynb",
      "version": "0.3.2",
      "provenance": [],
      "toc_visible": true,
      "include_colab_link": true
    },
    "language_info": {
      "codemirror_mode": {
        "name": "ipython",
        "version": 3
      },
      "file_extension": ".py",
      "mimetype": "text/x-python",
      "name": "python",
      "nbconvert_exporter": "python",
      "pygments_lexer": "ipython3",
      "version": "3.5.4"
    },
    "kernelspec": {
      "display_name": "Python 3",
      "language": "python",
      "name": "python3"
    }
  },
  "cells": [
    {
      "cell_type": "markdown",
      "metadata": {
        "id": "view-in-github",
        "colab_type": "text"
      },
      "source": [
        "<a href=\"https://colab.research.google.com/github/NoelleI/Pigmentation/blob/master/Copy_of_01_Melanoma_with_CNN_with_Sigmoid_4_Pigmentation_rotate_flip.ipynb\" target=\"_parent\"><img src=\"https://colab.research.google.com/assets/colab-badge.svg\" alt=\"Open In Colab\"/></a>"
      ]
    },
    {
      "cell_type": "markdown",
      "metadata": {
        "id": "241BvQNpfNyB",
        "colab_type": "text"
      },
      "source": [
        "# Melanoma with CNN"
      ]
    },
    {
      "cell_type": "markdown",
      "metadata": {
        "id": "HPubA4t4fNyC",
        "colab_type": "text"
      },
      "source": [
        "This analysis trains a neural network to perform segmentation on melanoma data and then applies the algorithm to segment a pigmentation lesion"
      ]
    },
    {
      "cell_type": "markdown",
      "metadata": {
        "id": "A0VaxmP22GVM",
        "colab_type": "text"
      },
      "source": [
        "This line clones the github repository so that data may be accessed and the file can be saved there"
      ]
    },
    {
      "cell_type": "code",
      "metadata": {
        "id": "ddSl392jIi_w",
        "colab_type": "code",
        "outputId": "10c04b4c-ebdb-48c9-cc45-4faf0137cd74",
        "colab": {
          "base_uri": "https://localhost:8080/",
          "height": 34
        }
      },
      "source": [
        "!git clone https://github.com/NoelleI/Pigmentation.git"
      ],
      "execution_count": 0,
      "outputs": [
        {
          "output_type": "stream",
          "text": [
            "fatal: destination path 'Pigmentation' already exists and is not an empty directory.\n"
          ],
          "name": "stdout"
        }
      ]
    },
    {
      "cell_type": "markdown",
      "metadata": {
        "id": "3cswYjth4ck7",
        "colab_type": "text"
      },
      "source": [
        "This mounts Google Drive to access the ~10G melanoma photo data sets\n",
        "\n",
        "1.   List item\n",
        "2.   List item\n",
        "\n"
      ]
    },
    {
      "cell_type": "code",
      "metadata": {
        "id": "8ReR4v01td3m",
        "colab_type": "code",
        "outputId": "eeade7a8-cf23-4ba5-da9e-646dc21fdebd",
        "colab": {
          "base_uri": "https://localhost:8080/",
          "height": 34
        }
      },
      "source": [
        "from google.colab import drive\n",
        "drive.mount('/content/gdrive', force_remount=True) "
      ],
      "execution_count": 0,
      "outputs": [
        {
          "output_type": "stream",
          "text": [
            "Mounted at /content/gdrive\n"
          ],
          "name": "stdout"
        }
      ]
    },
    {
      "cell_type": "code",
      "metadata": {
        "id": "efKvkEMKfNyD",
        "colab_type": "code",
        "outputId": "5491e7e8-20a9-41bd-b666-1e556512a2f1",
        "colab": {
          "base_uri": "https://localhost:8080/",
          "height": 34
        }
      },
      "source": [
        "import tensorflow as tf\n",
        "import matplotlib\n",
        "import matplotlib.image as mpimg\n",
        "import os\n",
        "%matplotlib inline\n",
        "# First, load the image\n",
        "#dir_path = os.path.dirname(os.path.realpath(__file__))\n",
        "filename = \"./Pigmentation/pigmentation.png\"\n",
        "\n",
        "# Load the image\n",
        "pigment_image = mpimg.imread(filename)\n",
        "\n",
        "# Print out its shape\n",
        "print(pigment_image.shape)\n"
      ],
      "execution_count": 0,
      "outputs": [
        {
          "output_type": "stream",
          "text": [
            "(689, 898, 3)\n"
          ],
          "name": "stdout"
        }
      ]
    },
    {
      "cell_type": "code",
      "metadata": {
        "id": "o0fuEbnzfNyJ",
        "colab_type": "code",
        "outputId": "b73b923f-fe85-4986-aa0c-a3f10d649d7c",
        "colab": {
          "base_uri": "https://localhost:8080/",
          "height": 34
        }
      },
      "source": [
        "pwd"
      ],
      "execution_count": 0,
      "outputs": [
        {
          "output_type": "execute_result",
          "data": {
            "text/plain": [
              "'/content'"
            ]
          },
          "metadata": {
            "tags": []
          },
          "execution_count": 8
        }
      ]
    },
    {
      "cell_type": "code",
      "metadata": {
        "id": "8r-Pb0MCfNyM",
        "colab_type": "code",
        "outputId": "70fc2481-692c-4526-9c49-d053c24ccfbe",
        "colab": {
          "base_uri": "https://localhost:8080/",
          "height": 269
        }
      },
      "source": [
        "import matplotlib.pyplot as plt\n",
        "plt.imshow(pigment_image)\n",
        "plt.show()"
      ],
      "execution_count": 0,
      "outputs": [
        {
          "output_type": "display_data",
          "data": {
            "image/png": "[encoded data removed]",
            "text/plain": [
              "<Figure size 432x288 with 1 Axes>"
            ]
          },
          "metadata": {
            "tags": []
          }
        }
      ]
    },
    {
      "cell_type": "code",
      "metadata": {
        "id": "XRiNFY6gfNyP",
        "colab_type": "code",
        "outputId": "d24dae01-150b-43a9-8cbc-7dd7482345fc",
        "colab": {
          "base_uri": "https://localhost:8080/",
          "height": 34
        }
      },
      "source": [
        "pigment_image.shape"
      ],
      "execution_count": 0,
      "outputs": [
        {
          "output_type": "execute_result",
          "data": {
            "text/plain": [
              "(689, 898, 3)"
            ]
          },
          "metadata": {
            "tags": []
          },
          "execution_count": 10
        }
      ]
    },
    {
      "cell_type": "code",
      "metadata": {
        "id": "V1ccZ5owfNyR",
        "colab_type": "code",
        "colab": {}
      },
      "source": [
        "import skimage\n",
        "pigment_image_resized = skimage.transform.resize(pigment_image, (96,128,3))"
      ],
      "execution_count": 0,
      "outputs": []
    },
    {
      "cell_type": "code",
      "metadata": {
        "id": "MqpbxiAQfNyT",
        "colab_type": "code",
        "colab": {}
      },
      "source": [
        "##note: in order to discern the melanin content, it will be necessary to understand how this resizing algorithm works: does it take a maximum value? What does it use?"
      ],
      "execution_count": 0,
      "outputs": []
    },
    {
      "cell_type": "code",
      "metadata": {
        "id": "vDWN9Rp5fNyV",
        "colab_type": "code",
        "outputId": "f4f542b7-2b94-4b88-c078-43677d2cd64c",
        "colab": {
          "base_uri": "https://localhost:8080/",
          "height": 269
        }
      },
      "source": [
        "plt.imshow(pigment_image_resized)\n",
        "plt.show()"
      ],
      "execution_count": 0,
      "outputs": [
        {
          "output_type": "display_data",
          "data": {
            "image/png": "[encoded data removed]",
            "text/plain": [
              "<Figure size 432x288 with 1 Axes>"
            ]
          },
          "metadata": {
            "tags": []
          }
        }
      ]
    },
    {
      "cell_type": "code",
      "metadata": {
        "id": "u8c0wI8hfNyX",
        "colab_type": "code",
        "outputId": "42193532-00bd-4987-a503-6395bcb30aaa",
        "colab": {
          "base_uri": "https://localhost:8080/",
          "height": 34
        }
      },
      "source": [
        "type(pigment_image)"
      ],
      "execution_count": 0,
      "outputs": [
        {
          "output_type": "execute_result",
          "data": {
            "text/plain": [
              "numpy.ndarray"
            ]
          },
          "metadata": {
            "tags": []
          },
          "execution_count": 14
        }
      ]
    },
    {
      "cell_type": "code",
      "metadata": {
        "id": "_gV5JVt3fNya",
        "colab_type": "code",
        "colab": {}
      },
      "source": [
        "import numpy as np\n",
        "pigment_image_show = pigment_image_resized\n",
        "pigment_image_resized = np.reshape(pigment_image_resized, [1,96,128,3])"
      ],
      "execution_count": 0,
      "outputs": []
    },
    {
      "cell_type": "code",
      "metadata": {
        "id": "CQ48pRh55Xv7",
        "colab_type": "code",
        "outputId": "5c94be6f-f6cb-49f1-942b-08b232b17bb5",
        "colab": {
          "base_uri": "https://localhost:8080/",
          "height": 34
        }
      },
      "source": [
        "import scipy\n",
        "scipy.__version__"
      ],
      "execution_count": 0,
      "outputs": [
        {
          "output_type": "execute_result",
          "data": {
            "text/plain": [
              "'1.0.0'"
            ]
          },
          "metadata": {
            "tags": []
          },
          "execution_count": 19
        }
      ]
    },
    {
      "cell_type": "code",
      "metadata": {
        "colab_type": "code",
        "outputId": "1a352ea0-0736-46f7-f70b-89e0bb95d373",
        "id": "tBqV9RTtmYOX",
        "colab": {
          "base_uri": "https://localhost:8080/",
          "height": 221
        }
      },
      "source": [
        " pip install scipy==1.0.0"
      ],
      "execution_count": 0,
      "outputs": [
        {
          "output_type": "stream",
          "text": [
            "Collecting scipy==1.0.0\n",
            "  Using cached https://files.pythonhosted.org/packages/d8/5e/caa01ba7be11600b6a9d39265440d7b3be3d69206da887c42bef049521f2/scipy-1.0.0-cp36-cp36m-manylinux1_x86_64.whl\n",
            "Requirement already satisfied: numpy>=1.8.2 in /usr/local/lib/python3.6/dist-packages (from scipy==1.0.0) (1.16.3)\n",
            "\u001b[31mERROR: cvxpy 1.0.15 has requirement scipy>=1.1.0, but you'll have scipy 1.0.0 which is incompatible.\u001b[0m\n",
            "\u001b[31mERROR: albumentations 0.1.12 has requirement imgaug<0.2.7,>=0.2.5, but you'll have imgaug 0.2.9 which is incompatible.\u001b[0m\n",
            "Installing collected packages: scipy\n",
            "Successfully installed scipy-1.0.0\n"
          ],
          "name": "stdout"
        },
        {
          "output_type": "display_data",
          "data": {
            "application/vnd.colab-display-data+json": {
              "pip_warning": {
                "packages": [
                  "scipy"
                ]
              }
            }
          },
          "metadata": {
            "tags": []
          }
        }
      ]
    },
    {
      "cell_type": "code",
      "metadata": {
        "colab_type": "code",
        "outputId": "cb8a2195-f55f-42f8-a8de-b606157dcafb",
        "id": "8XHIF5mdmW1X",
        "colab": {
          "base_uri": "https://localhost:8080/",
          "height": 51
        }
      },
      "source": [
        "!pip install pillow"
      ],
      "execution_count": 0,
      "outputs": [
        {
          "output_type": "stream",
          "text": [
            "Requirement already satisfied: pillow in /usr/local/lib/python3.6/dist-packages (4.3.0)\n",
            "Requirement already satisfied: olefile in /usr/local/lib/python3.6/dist-packages (from pillow) (0.46)\n"
          ],
          "name": "stdout"
        }
      ]
    },
    {
      "cell_type": "code",
      "metadata": {
        "id": "CLb2SmFqfNyc",
        "colab_type": "code",
        "outputId": "b4bddf0a-98bb-45da-e642-af616af9fd2b",
        "colab": {
          "base_uri": "https://localhost:8080/",
          "height": 85
        }
      },
      "source": [
        "from scipy import ndimage, misc\n",
        "import re\n",
        "import os\n",
        "#get pigmentation photos\n",
        "pigs = []\n",
        "for root, dirnames, filenames in os.walk(\"./Pigmentation/Pigmentation_photos/Experiment 1/Spot 4\"): \n",
        "    for filename in filenames:\n",
        "        if re.search('d*.PNG', filename):\n",
        "            filepath = os.path.join(root, filename)\n",
        "            pig = ndimage.imread(filepath)\n",
        "            pig_resized = skimage.transform.resize(pig, (96,128,3))  #redo this size or re-size later in Tensorflow\n",
        "            pigs.append(pig_resized)\n",
        "            #filename = filename.split(\".\")\n",
        "            #name = filename[0] + \"2.\" + filename[1]\n",
        "            #print(name)\n",
        "            \n",
        "            #new_path = os.path.join(root, name)\n",
        "            #f = open(new_path, 'w+b')\n",
        "            #misc.imsave(new_path, _seg_resized)\n",
        "            #os.remove(filepath)\n",
        "            #f.close()\n",
        "pigs = np.array(pigs)"
      ],
      "execution_count": 0,
      "outputs": [
        {
          "output_type": "stream",
          "text": [
            "/usr/local/lib/python3.6/dist-packages/ipykernel_launcher.py:10: DeprecationWarning: `imread` is deprecated!\n",
            "`imread` is deprecated in SciPy 1.0.0.\n",
            "Use ``matplotlib.pyplot.imread`` instead.\n",
            "  # Remove the CWD from sys.path while we load stuff.\n"
          ],
          "name": "stderr"
        }
      ]
    },
    {
      "cell_type": "code",
      "metadata": {
        "id": "16YjyKn5fNye",
        "colab_type": "code",
        "outputId": "64a4e39d-a367-4367-bc5a-76e178be888f",
        "colab": {
          "base_uri": "https://localhost:8080/",
          "height": 493
        }
      },
      "source": [
        "filenames "
      ],
      "execution_count": 0,
      "outputs": [
        {
          "output_type": "execute_result",
          "data": {
            "text/plain": [
              "['11--10-02-pm.PNG',\n",
              " '6--09-28-am.PNG',\n",
              " '1-1--09-23-am.PNG',\n",
              " '10--09-30-pm.PNG',\n",
              " '25--11-06-pm.PNG',\n",
              " '20--10-18-pm.PNG',\n",
              " '16--10-12-pm.PNG',\n",
              " '26--11-10-am.PNG',\n",
              " '12--10-04-pm.PNG',\n",
              " '18--10-14-am.PNG',\n",
              " '9--09-29-pm.PNG',\n",
              " '3--09-25-am.PNG',\n",
              " '5--09-27-pm.PNG',\n",
              " '21--10-120-pm.PNG',\n",
              " '4--09-25-pm.PNG',\n",
              " '7--09-28-pm.PNG',\n",
              " '14--10-10-am.PNG',\n",
              " '15--10-11-pm.PNG',\n",
              " '13--10-06-am.PNG',\n",
              " '17--10-13-am.PNG',\n",
              " '27--11-11-pm.PNG',\n",
              " '2--09-23-pm.PNG',\n",
              " '22--10-25-am.PNG',\n",
              " '8--09-29-am.PNG',\n",
              " '0-0--09-22-pm.PNG',\n",
              " '24--11-04-am.PNG',\n",
              " '23--10-28-pm.PNG',\n",
              " '19--10-16-pm.PNG']"
            ]
          },
          "metadata": {
            "tags": []
          },
          "execution_count": 22
        }
      ]
    },
    {
      "cell_type": "code",
      "metadata": {
        "id": "jtuGqdGLfNyh",
        "colab_type": "code",
        "outputId": "948808c8-ab93-4e80-f447-2559e93db6fc",
        "colab": {
          "base_uri": "https://localhost:8080/",
          "height": 286
        }
      },
      "source": [
        "plt.imshow(pigs[0])\n"
      ],
      "execution_count": 0,
      "outputs": [
        {
          "output_type": "execute_result",
          "data": {
            "text/plain": [
              "<matplotlib.image.AxesImage at 0x7f1ea4070748>"
            ]
          },
          "metadata": {
            "tags": []
          },
          "execution_count": 23
        },
        {
          "output_type": "display_data",
          "data": {
            "image/png": "[encoded data removed]",
            "text/plain": [
              "<Figure size 432x288 with 1 Axes>"
            ]
          },
          "metadata": {
            "tags": []
          }
        }
      ]
    },
    {
      "cell_type": "code",
      "metadata": {
        "id": "Pw0kvHibfNyk",
        "colab_type": "code",
        "colab": {}
      },
      "source": [
        ""
      ],
      "execution_count": 0,
      "outputs": []
    },
    {
      "cell_type": "code",
      "metadata": {
        "id": "7C9-o1mCfNym",
        "colab_type": "code",
        "outputId": "441e734c-de7e-45c9-c5be-d9b59215c167",
        "colab": {
          "base_uri": "https://localhost:8080/",
          "height": 170
        }
      },
      "source": [
        "\n",
        "#there are 2594 photos\n",
        "images = []\n",
        "for root, dirnames, filenames in os.walk(\"/content/gdrive/My Drive/ISIC2018_Task1-2_Training_Input/ISIC2018_Task1-2_Training_Input\"):\n",
        "    print(root)\n",
        "    for filename in filenames:\n",
        "        if re.search(\"ISIC_\\d*final_size2.(jpg|jpeg|png|bmp|tiff)$\", filename):  ##This will retrieve all the images, so needs 2b redone\n",
        "            filepath = os.path.join(root, filename)\n",
        "            image = ndimage.imread(filepath, mode=\"RGB\")\n",
        "            #image_resized = misc.imresize(image, (96,128,3))  #redo this size or re-size later in Tensorflow ->STORE resized images later\n",
        "            images.append(image)\n",
        "            flip_ud_image = np.flipud(image)\n",
        "            images.append(flip_ud_image)\n",
        "            rotate_image = ndimage.rotate(image, 45)\n",
        "            rotate_image = misc.imresize(rotate_image, (96,128,3))\n",
        "            images.append(rotate_image)\n",
        "            #filename = filename.split(\".\")\n",
        "            #name = filename[0] + \"2.\" + filename[1]\n",
        "            #print(name)\n",
        "            \n",
        "            #new_path = os.path.join(root, name)\n",
        "            #f = open(new_path, 'w+b')\n",
        "            #misc.imsave(new_path, image_resized)\n",
        "            #f.close()\n",
        "images = np.array(images)"
      ],
      "execution_count": 0,
      "outputs": [
        {
          "output_type": "stream",
          "text": [
            "/content/gdrive/My Drive/ISIC2018_Task1-2_Training_Input/ISIC2018_Task1-2_Training_Input\n"
          ],
          "name": "stdout"
        },
        {
          "output_type": "stream",
          "text": [
            "/usr/local/lib/python3.6/dist-packages/ipykernel_launcher.py:7: DeprecationWarning: `imread` is deprecated!\n",
            "`imread` is deprecated in SciPy 1.0.0.\n",
            "Use ``matplotlib.pyplot.imread`` instead.\n",
            "  import sys\n",
            "/usr/local/lib/python3.6/dist-packages/ipykernel_launcher.py:13: DeprecationWarning: `imresize` is deprecated!\n",
            "`imresize` is deprecated in SciPy 1.0.0, and will be removed in 1.2.0.\n",
            "Use ``skimage.transform.resize`` instead.\n",
            "  del sys.path[0]\n"
          ],
          "name": "stderr"
        }
      ]
    },
    {
      "cell_type": "code",
      "metadata": {
        "id": "Cah1pgUJ5M3r",
        "colab_type": "code",
        "outputId": "9102dcf5-a363-41a3-c0d4-124a4a3e8d87",
        "colab": {
          "base_uri": "https://localhost:8080/",
          "height": 34
        }
      },
      "source": [
        "images.shape"
      ],
      "execution_count": 0,
      "outputs": [
        {
          "output_type": "execute_result",
          "data": {
            "text/plain": [
              "(7782, 96, 128, 3)"
            ]
          },
          "metadata": {
            "tags": []
          },
          "execution_count": 70
        }
      ]
    },
    {
      "cell_type": "code",
      "metadata": {
        "id": "YHX6zN6QfNyp",
        "colab_type": "code",
        "outputId": "4851aabf-7f71-4e46-9936-67867b821a25",
        "colab": {
          "base_uri": "https://localhost:8080/",
          "height": 337
        }
      },
      "source": [
        "image = images[2593,:,:,:]\n",
        "rotate_image = ndimage.rotate(image, 45)\n",
        "rotate_image = misc.imresize(rotate_image, (96,128,3))\n",
        "plt.imshow(rotate_image)\n",
        "plt.show()"
      ],
      "execution_count": 0,
      "outputs": [
        {
          "output_type": "stream",
          "text": [
            "/usr/local/lib/python3.6/dist-packages/ipykernel_launcher.py:3: DeprecationWarning: `imresize` is deprecated!\n",
            "`imresize` is deprecated in SciPy 1.0.0, and will be removed in 1.2.0.\n",
            "Use ``skimage.transform.resize`` instead.\n",
            "  This is separate from the ipykernel package so we can avoid doing imports until\n"
          ],
          "name": "stderr"
        },
        {
          "output_type": "display_data",
          "data": {
            "image/png": "[encoded data removed]",
            "text/plain": [
              "<Figure size 432x288 with 1 Axes>"
            ]
          },
          "metadata": {
            "tags": []
          }
        }
      ]
    },
    {
      "cell_type": "code",
      "metadata": {
        "scrolled": true,
        "id": "L4oVdioPfNyu",
        "colab_type": "code",
        "outputId": "3a825ee3-88b5-4fd5-9217-041e9aec372b",
        "colab": {
          "base_uri": "https://localhost:8080/",
          "height": 269
        }
      },
      "source": [
        "image = images[2593,:,:,:]\n",
        "plt.imshow(image)\n",
        "plt.show()"
      ],
      "execution_count": 0,
      "outputs": [
        {
          "output_type": "display_data",
          "data": {
            "image/png": "[encoded data removed]",
            "text/plain": [
              "<Figure size 432x288 with 1 Axes>"
            ]
          },
          "metadata": {
            "tags": []
          }
        }
      ]
    },
    {
      "cell_type": "code",
      "metadata": {
        "id": "ua4HcGj1fNyx",
        "colab_type": "code",
        "outputId": "3f2673d0-5c33-4274-c4f1-12e442ebe07e",
        "colab": {
          "base_uri": "https://localhost:8080/",
          "height": 34
        }
      },
      "source": [
        "filepath"
      ],
      "execution_count": 0,
      "outputs": [
        {
          "output_type": "execute_result",
          "data": {
            "text/plain": [
              "'/content/gdrive/My Drive/ISIC2018_Task1-2_Training_Input/ISIC2018_Task1-2_Training_Input/ISIC_0000095final_size2.jpg'"
            ]
          },
          "metadata": {
            "tags": []
          },
          "execution_count": 32
        }
      ]
    },
    {
      "cell_type": "code",
      "metadata": {
        "id": "1TzfHJAQfNy3",
        "colab_type": "code",
        "outputId": "542d7d34-6289-49fb-a82d-04c021afcb4c",
        "colab": {
          "base_uri": "https://localhost:8080/",
          "height": 34
        }
      },
      "source": [
        "image.shape"
      ],
      "execution_count": 0,
      "outputs": [
        {
          "output_type": "execute_result",
          "data": {
            "text/plain": [
              "(96, 128, 3)"
            ]
          },
          "metadata": {
            "tags": []
          },
          "execution_count": 33
        }
      ]
    },
    {
      "cell_type": "code",
      "metadata": {
        "id": "gVkIYE05fNy6",
        "colab_type": "code",
        "outputId": "1cfbf2ec-f8c4-44c9-df97-9d39172e61bb",
        "colab": {
          "base_uri": "https://localhost:8080/",
          "height": 337
        }
      },
      "source": [
        "image = ndimage.imread(filepath, mode=\"RGB\")\n",
        "plt.imshow(image)\n",
        "plt.show()"
      ],
      "execution_count": 0,
      "outputs": [
        {
          "output_type": "stream",
          "text": [
            "/usr/local/lib/python3.6/dist-packages/ipykernel_launcher.py:1: DeprecationWarning: `imread` is deprecated!\n",
            "`imread` is deprecated in SciPy 1.0.0.\n",
            "Use ``matplotlib.pyplot.imread`` instead.\n",
            "  \"\"\"Entry point for launching an IPython kernel.\n"
          ],
          "name": "stderr"
        },
        {
          "output_type": "display_data",
          "data": {
            "image/png": "[encoded data removed]",
            "text/plain": [
              "<Figure size 432x288 with 1 Axes>"
            ]
          },
          "metadata": {
            "tags": []
          }
        }
      ]
    },
    {
      "cell_type": "code",
      "metadata": {
        "id": "-U-RUbxEfNy9",
        "colab_type": "code",
        "outputId": "6be1c761-715e-4c7a-e956-e01535fe7184",
        "colab": {
          "base_uri": "https://localhost:8080/",
          "height": 153
        }
      },
      "source": [
        "#C:/Users\\Admin\\Documents\\Skin Depth\\Leads and Projects\\Melanoma Challenge\\2018\\ISIC2018_Task1_Training_GroundTruth\\ISIC2018_Task1_Training_GroundTruth\n",
        "segs = []\n",
        "files = []\n",
        "for root, dirnames, filenames in os.walk(\"/content/gdrive/My Drive/ISIC2018_Task1_Training_GroundTruth/ISIC2018_Task1_Training_GroundTruth\"):  #\"/content/gdrive/My Drive/ISIC2018_Task1_Training_GroundTruth (1).zip (Unzipped Files)/ISIC2018_Task1_Training_GroundTruth\"): #/content/gdrive/My Drive/ISIC2018_Task1_Training_GroundTruth (1).zip (Unzipped Files)/ISIC2018_Task1_Training_GroundTruth\"): #C:/Users/Admin/Documents/Skin Depth/Leads and Projects/Melanoma Challenge/2018/ISIC2018_Task1_Training_GroundTruth/ISIC2018_Task1_Training_GroundTruth\"): \n",
        "    for filename in filenames:\n",
        "        if re.search(\"ISIC_\\d*_segmentation.(jpg|jpeg|png|bmp|tiff)$\", filename):\n",
        "            files.append(filename)\n",
        "            filepath = os.path.join(root, filename)\n",
        "            seg = ndimage.imread(filepath, mode=\"L\")\n",
        "            seg_resized = misc.imresize(seg, (96,128,1))  #redo this size or re-size later in Tensorflow\n",
        "            segs.append(seg_resized)\n",
        "            #flip_ud_seg = np.flipud(seg_resized)\n",
        "            #segs.append(flip_ud_seg)\n",
        "            #rotate_seg = ndimage.rotate(seg, 45)\n",
        "            #rotate_seg = misc.imresize(rotate_seg, (96,128,1))\n",
        "            #segs.append(rotate_seg)\n",
        "            #filename = filename.split(\".\")\n",
        "            #name = filename[0] + \"2.\" + filename[1]\n",
        "            #print(name)\n",
        "            \n",
        "            #new_path = os.path.join(root, name)\n",
        "            #f = open(new_path, 'w+b')\n",
        "            #misc.imsave(new_path, seg_resized)\n",
        "            #os.remove(filepath)\n",
        "            #f.close()\n",
        "segs = np.array(segs)\n"
      ],
      "execution_count": 0,
      "outputs": [
        {
          "output_type": "stream",
          "text": [
            "/usr/local/lib/python3.6/dist-packages/ipykernel_launcher.py:8: DeprecationWarning: `imread` is deprecated!\n",
            "`imread` is deprecated in SciPy 1.0.0.\n",
            "Use ``matplotlib.pyplot.imread`` instead.\n",
            "  \n",
            "/usr/local/lib/python3.6/dist-packages/ipykernel_launcher.py:9: DeprecationWarning: `imresize` is deprecated!\n",
            "`imresize` is deprecated in SciPy 1.0.0, and will be removed in 1.2.0.\n",
            "Use ``skimage.transform.resize`` instead.\n",
            "  if __name__ == '__main__':\n"
          ],
          "name": "stderr"
        }
      ]
    },
    {
      "cell_type": "code",
      "metadata": {
        "id": "Yam-tyDLfNy_",
        "colab_type": "code",
        "outputId": "4ea784ab-7cb6-401e-9347-0f8056853e4f",
        "colab": {
          "base_uri": "https://localhost:8080/",
          "height": 34
        }
      },
      "source": [
        "segs.shape\n"
      ],
      "execution_count": 0,
      "outputs": [
        {
          "output_type": "execute_result",
          "data": {
            "text/plain": [
              "(1171, 96, 128)"
            ]
          },
          "metadata": {
            "tags": []
          },
          "execution_count": 107
        }
      ]
    },
    {
      "cell_type": "code",
      "metadata": {
        "id": "oSuMOrrc1jk8",
        "colab_type": "code",
        "outputId": "9c463be8-7e54-4384-88e0-5f6e6626ef25",
        "colab": {
          "base_uri": "https://localhost:8080/",
          "height": 17034
        }
      },
      "source": [
        "filenames"
      ],
      "execution_count": 0,
      "outputs": [
        {
          "output_type": "execute_result",
          "data": {
            "text/plain": [
              "['ISIC_0010576_segmentation_final_size2.png',\n",
              " 'ISIC_0010584_segmentationfinal_size.png',\n",
              " 'ISIC_0010581_segmentationfinal_size.png',\n",
              " 'ISIC_0010581_segmentation_final_size2.png',\n",
              " 'ISIC_0010581_segmentation_final_size.png',\n",
              " 'ISIC_0010581_segmentation.png',\n",
              " 'ISIC_0010581_segmentationreduced.png',\n",
              " 'ISIC_0010584_segmentation_final_size.png',\n",
              " 'ISIC_0010584_segmentationreduced.png',\n",
              " 'ISIC_0010584_segmentation.png',\n",
              " 'ISIC_0010584_segmentation_final_size2.png',\n",
              " 'ISIC_0010585_segmentationfinal_size.png',\n",
              " 'ISIC_0010585_segmentation_final_size.png',\n",
              " 'ISIC_0010585_segmentation.png',\n",
              " 'ISIC_0010585_segmentationreduced.png',\n",
              " 'ISIC_0010585_segmentation_final_size2.png',\n",
              " 'ISIC_0010587_segmentation.png',\n",
              " 'ISIC_0010587_segmentation_final_size.png',\n",
              " 'ISIC_0010587_segmentationreduced.png',\n",
              " 'ISIC_0010587_segmentationfinal_size.png',\n",
              " 'ISIC_0010587_segmentation_final_size2.png',\n",
              " 'ISIC_0010588_segmentationfinal_size.png',\n",
              " 'ISIC_0010588_segmentation.png',\n",
              " 'ISIC_0010589_segmentation_final_size.png',\n",
              " 'ISIC_0010589_segmentationreduced.png',\n",
              " 'ISIC_0010589_segmentation.png',\n",
              " 'ISIC_0010588_segmentationreduced.png',\n",
              " 'ISIC_0010588_segmentation_final_size2.png',\n",
              " 'ISIC_0010588_segmentation_final_size.png',\n",
              " 'ISIC_0010589_segmentationfinal_size.png',\n",
              " 'ISIC_0010589_segmentation_final_size2.png',\n",
              " 'ISIC_0010590_segmentationfinal_size.png',\n",
              " 'ISIC_0010591_segmentationfinal_size.png',\n",
              " 'ISIC_0010591_segmentation_final_size.png',\n",
              " 'ISIC_0010590_segmentation_final_size.png',\n",
              " 'ISIC_0010590_segmentation_final_size2.png',\n",
              " 'ISIC_0010591_segmentation.png',\n",
              " 'ISIC_0010590_segmentation.png',\n",
              " 'ISIC_0010590_segmentationreduced.png',\n",
              " 'ISIC_0010591_segmentationreduced.png',\n",
              " 'ISIC_0010591_segmentation_final_size2.png',\n",
              " 'ISIC_0010593_segmentationfinal_size.png',\n",
              " 'ISIC_0010592_segmentation.png',\n",
              " 'ISIC_0010593_segmentation.png',\n",
              " 'ISIC_0010592_segmentationreduced.png',\n",
              " 'ISIC_0010592_segmentation_final_size2.png',\n",
              " 'ISIC_0010593_segmentation_final_size.png',\n",
              " 'ISIC_0010592_segmentationfinal_size.png',\n",
              " 'ISIC_0010593_segmentationreduced.png',\n",
              " 'ISIC_0010592_segmentation_final_size.png',\n",
              " 'ISIC_0010595_segmentation.png',\n",
              " 'ISIC_0010595_segmentationfinal_size.png',\n",
              " 'ISIC_0010596_segmentation_final_size.png',\n",
              " 'ISIC_0010595_segmentationreduced.png',\n",
              " 'ISIC_0010596_segmentationreduced.png',\n",
              " 'ISIC_0010595_segmentation_final_size.png',\n",
              " 'ISIC_0010593_segmentation_final_size2.png',\n",
              " 'ISIC_0010595_segmentation_final_size2.png',\n",
              " 'ISIC_0010596_segmentation.png',\n",
              " 'ISIC_0010596_segmentationfinal_size.png',\n",
              " 'ISIC_0010596_segmentation_final_size2.png',\n",
              " 'ISIC_0010597_segmentationfinal_size.png',\n",
              " 'ISIC_0010598_segmentationreduced.png',\n",
              " 'ISIC_0010597_segmentation_final_size.png',\n",
              " 'ISIC_0010598_segmentationfinal_size.png',\n",
              " 'ISIC_0010597_segmentationreduced.png',\n",
              " 'ISIC_0010598_segmentation.png',\n",
              " 'ISIC_0010597_segmentation_final_size2.png',\n",
              " 'ISIC_0010597_segmentation.png',\n",
              " 'ISIC_0010598_segmentation_final_size.png',\n",
              " 'ISIC_0010598_segmentation_final_size2.png',\n",
              " 'ISIC_0010602_segmentationfinal_size.png',\n",
              " 'ISIC_0010599_segmentation.png',\n",
              " 'ISIC_0010602_segmentationreduced.png',\n",
              " 'ISIC_0010599_segmentation_final_size.png',\n",
              " 'ISIC_0010599_segmentationreduced.png',\n",
              " 'ISIC_0010602_segmentation.png',\n",
              " 'ISIC_0010599_segmentationfinal_size.png',\n",
              " 'ISIC_0010602_segmentation_final_size.png',\n",
              " 'ISIC_0010599_segmentation_final_size2.png',\n",
              " 'ISIC_0010602_segmentation_final_size2.png',\n",
              " 'ISIC_0010603_segmentationfinal_size.png',\n",
              " 'ISIC_0010603_segmentation_final_size.png',\n",
              " 'ISIC_0010604_segmentation.png',\n",
              " 'ISIC_0010604_segmentationreduced.png',\n",
              " 'ISIC_0010603_segmentation.png',\n",
              " 'ISIC_0010603_segmentationreduced.png',\n",
              " 'ISIC_0010603_segmentation_final_size2.png',\n",
              " 'ISIC_0010604_segmentation_final_size.png',\n",
              " 'ISIC_0010604_segmentationfinal_size.png',\n",
              " 'ISIC_0010604_segmentation_final_size2.png',\n",
              " 'ISIC_0010605_segmentationfinal_size.png',\n",
              " 'ISIC_0010606_segmentation.png',\n",
              " 'ISIC_0010605_segmentation_final_size2.png',\n",
              " 'ISIC_0010606_segmentation_final_size.png',\n",
              " 'ISIC_0010605_segmentation.png',\n",
              " 'ISIC_0010606_segmentationfinal_size.png',\n",
              " 'ISIC_0010605_segmentation_final_size.png',\n",
              " 'ISIC_0010605_segmentationreduced.png',\n",
              " 'ISIC_0010606_segmentationreduced.png',\n",
              " 'ISIC_0010606_segmentation_final_size2.png',\n",
              " 'ISIC_0010607_segmentationfinal_size.png',\n",
              " 'ISIC_0010607_segmentation_final_size.png',\n",
              " 'ISIC_0010844_segmentationreduced.png',\n",
              " 'ISIC_0010607_segmentation.png',\n",
              " 'ISIC_0010844_segmentation.png',\n",
              " 'ISIC_0010844_segmentationfinal_size.png',\n",
              " 'ISIC_0010607_segmentationreduced.png',\n",
              " 'ISIC_0010607_segmentation_final_size2.png',\n",
              " 'ISIC_0010844_segmentation_final_size.png',\n",
              " 'ISIC_0010844_segmentation_final_size2.png',\n",
              " 'ISIC_0010847_segmentation_final_size.png',\n",
              " 'ISIC_0010846_segmentation.png',\n",
              " 'ISIC_0010846_segmentationfinal_size.png',\n",
              " 'ISIC_0010846_segmentationreduced.png',\n",
              " 'ISIC_0010846_segmentation_final_size.png',\n",
              " 'ISIC_0010847_segmentationfinal_size.png',\n",
              " 'ISIC_0010847_segmentation.png',\n",
              " 'ISIC_0010847_segmentationreduced.png',\n",
              " 'ISIC_0010846_segmentation_final_size2.png',\n",
              " 'ISIC_0010847_segmentation_final_size2.png',\n",
              " 'ISIC_0010849_segmentation_final_size.png',\n",
              " 'ISIC_0010848_segmentationfinal_size.png',\n",
              " 'ISIC_0010848_segmentation.png',\n",
              " 'ISIC_0010848_segmentation_final_size.png',\n",
              " 'ISIC_0010849_segmentationreduced.png',\n",
              " 'ISIC_0010848_segmentationreduced.png',\n",
              " 'ISIC_0010848_segmentation_final_size2.png',\n",
              " 'ISIC_0010849_segmentation.png',\n",
              " 'ISIC_0010849_segmentationfinal_size.png',\n",
              " 'ISIC_0010849_segmentation_final_size2.png',\n",
              " 'ISIC_0010850_segmentationfinal_size.png',\n",
              " 'ISIC_0010851_segmentationfinal_size.png',\n",
              " 'ISIC_0010851_segmentation.png',\n",
              " 'ISIC_0010850_segmentation.png',\n",
              " 'ISIC_0010850_segmentationreduced.png',\n",
              " 'ISIC_0010851_segmentationreduced.png',\n",
              " 'ISIC_0010850_segmentation_final_size.png',\n",
              " 'ISIC_0010851_segmentation_final_size.png',\n",
              " 'ISIC_0010850_segmentation_final_size2.png',\n",
              " 'ISIC_0010851_segmentation_final_size2.png',\n",
              " 'ISIC_0010853_segmentationfinal_size.png',\n",
              " 'ISIC_0010852_segmentation_final_size.png',\n",
              " 'ISIC_0010853_segmentation.png',\n",
              " 'ISIC_0010852_segmentation_final_size2.png',\n",
              " 'ISIC_0010853_segmentation_final_size.png',\n",
              " 'ISIC_0010852_segmentationfinal_size.png',\n",
              " 'ISIC_0010853_segmentationreduced.png',\n",
              " 'ISIC_0010852_segmentation.png',\n",
              " 'ISIC_0010852_segmentationreduced.png',\n",
              " 'ISIC_0010853_segmentation_final_size2.png',\n",
              " 'ISIC_0010854_segmentationfinal_size.png',\n",
              " 'ISIC_0010856_segmentationreduced.png',\n",
              " 'ISIC_0010854_segmentation.png',\n",
              " 'ISIC_0010854_segmentation_final_size2.png',\n",
              " 'ISIC_0010854_segmentation_final_size.png',\n",
              " 'ISIC_0010854_segmentationreduced.png',\n",
              " 'ISIC_0010856_segmentationfinal_size.png',\n",
              " 'ISIC_0010856_segmentation_final_size.png',\n",
              " 'ISIC_0010856_segmentation.png',\n",
              " 'ISIC_0010856_segmentation_final_size2.png',\n",
              " 'ISIC_0010858_segmentationfinal_size.png',\n",
              " 'ISIC_0010858_segmentation.png',\n",
              " 'ISIC_0010857_segmentationreduced.png',\n",
              " 'ISIC_0010857_segmentation_final_size.png',\n",
              " 'ISIC_0010857_segmentationfinal_size.png',\n",
              " 'ISIC_0010857_segmentation_final_size2.png',\n",
              " 'ISIC_0010858_segmentation_final_size.png',\n",
              " 'ISIC_0010857_segmentation.png',\n",
              " 'ISIC_0010858_segmentationreduced.png',\n",
              " 'ISIC_0010858_segmentation_final_size2.png',\n",
              " 'ISIC_0010860_segmentationfinal_size.png',\n",
              " 'ISIC_0010860_segmentationreduced.png',\n",
              " 'ISIC_0010860_segmentation_final_size2.png',\n",
              " 'ISIC_0010861_segmentationfinal_size.png',\n",
              " 'ISIC_0010861_segmentation.png',\n",
              " 'ISIC_0010860_segmentation_final_size.png',\n",
              " 'ISIC_0010861_segmentationreduced.png',\n",
              " 'ISIC_0010860_segmentation.png',\n",
              " 'ISIC_0010861_segmentation_final_size.png',\n",
              " 'ISIC_0010861_segmentation_final_size2.png',\n",
              " 'ISIC_0010862_segmentation_final_size2.png',\n",
              " 'ISIC_0010863_segmentation.png',\n",
              " 'ISIC_0010863_segmentationfinal_size.png',\n",
              " 'ISIC_0010862_segmentationfinal_size.png',\n",
              " 'ISIC_0010863_segmentation_final_size.png',\n",
              " 'ISIC_0010862_segmentation.png',\n",
              " 'ISIC_0010862_segmentationreduced.png',\n",
              " 'ISIC_0010862_segmentation_final_size.png',\n",
              " 'ISIC_0010863_segmentationreduced.png',\n",
              " 'ISIC_0010863_segmentation_final_size2.png',\n",
              " 'ISIC_0011079_segmentationfinal_size.png',\n",
              " 'ISIC_0010864_segmentation.png',\n",
              " 'ISIC_0011079_segmentationreduced.png',\n",
              " 'ISIC_0010864_segmentation_final_size2.png',\n",
              " 'ISIC_0010864_segmentation_final_size.png',\n",
              " 'ISIC_0011079_segmentation_final_size.png',\n",
              " 'ISIC_0011079_segmentation.png',\n",
              " 'ISIC_0010864_segmentationreduced.png',\n",
              " 'ISIC_0010864_segmentationfinal_size.png',\n",
              " 'ISIC_0011079_segmentation_final_size2.png',\n",
              " 'ISIC_0011082_segmentationfinal_size.png',\n",
              " 'ISIC_0011082_segmentationreduced.png',\n",
              " 'ISIC_0011081_segmentation_final_size.png',\n",
              " 'ISIC_0011081_segmentation.png',\n",
              " 'ISIC_0011081_segmentationfinal_size.png',\n",
              " 'ISIC_0011082_segmentation_final_size.png',\n",
              " 'ISIC_0011081_segmentation_final_size2.png',\n",
              " 'ISIC_0011082_segmentation.png',\n",
              " 'ISIC_0011081_segmentationreduced.png',\n",
              " 'ISIC_0011082_segmentation_final_size2.png',\n",
              " 'ISIC_0011084_segmentationfinal_size.png',\n",
              " 'ISIC_0011084_segmentation_final_size.png',\n",
              " 'ISIC_0011084_segmentationreduced.png',\n",
              " 'ISIC_0011083_segmentationreduced.png',\n",
              " 'ISIC_0011083_segmentation_final_size.png',\n",
              " 'ISIC_0011083_segmentationfinal_size.png',\n",
              " 'ISIC_0011083_segmentation_final_size2.png',\n",
              " 'ISIC_0011084_segmentation.png',\n",
              " 'ISIC_0011083_segmentation.png',\n",
              " 'ISIC_0011084_segmentation_final_size2.png',\n",
              " 'ISIC_0011088_segmentationfinal_size.png',\n",
              " 'ISIC_0011085_segmentation_final_size.png',\n",
              " 'ISIC_0011085_segmentationreduced.png',\n",
              " 'ISIC_0011088_segmentation.png',\n",
              " 'ISIC_0011085_segmentation_final_size2.png',\n",
              " 'ISIC_0011088_segmentation_final_size.png',\n",
              " 'ISIC_0011088_segmentationreduced.png',\n",
              " 'ISIC_0011085_segmentationfinal_size.png',\n",
              " 'ISIC_0011085_segmentation.png',\n",
              " 'ISIC_0011088_segmentation_final_size2.png',\n",
              " 'ISIC_0011090_segmentationfinal_size.png',\n",
              " 'ISIC_0011090_segmentation_final_size.png',\n",
              " 'ISIC_0011089_segmentationreduced.png',\n",
              " 'ISIC_0011089_segmentation_final_size.png',\n",
              " 'ISIC_0011089_segmentationfinal_size.png',\n",
              " 'ISIC_0011090_segmentation.png',\n",
              " 'ISIC_0011089_segmentation.png',\n",
              " 'ISIC_0011089_segmentation_final_size2.png',\n",
              " 'ISIC_0011090_segmentationreduced.png',\n",
              " 'ISIC_0011090_segmentation_final_size2.png',\n",
              " 'ISIC_0011092_segmentationfinal_size.png',\n",
              " 'ISIC_0011095_segmentationreduced.png',\n",
              " 'ISIC_0011092_segmentation.png',\n",
              " 'ISIC_0011092_segmentationreduced.png',\n",
              " 'ISIC_0011092_segmentation_final_size2.png',\n",
              " 'ISIC_0011095_segmentationfinal_size.png',\n",
              " 'ISIC_0011095_segmentation_final_size.png',\n",
              " 'ISIC_0011095_segmentation.png',\n",
              " 'ISIC_0011092_segmentation_final_size.png',\n",
              " 'ISIC_0011095_segmentation_final_size2.png',\n",
              " 'ISIC_0011097_segmentationfinal_size.png',\n",
              " 'ISIC_0011097_segmentation.png',\n",
              " 'ISIC_0011098_segmentation.png',\n",
              " 'ISIC_0011098_segmentationreduced.png',\n",
              " 'ISIC_0011097_segmentationreduced.png',\n",
              " 'ISIC_0011097_segmentation_final_size2.png',\n",
              " 'ISIC_0011098_segmentationfinal_size.png',\n",
              " 'ISIC_0011097_segmentation_final_size.png',\n",
              " 'ISIC_0011098_segmentation_final_size.png',\n",
              " 'ISIC_0011098_segmentation_final_size2.png',\n",
              " 'ISIC_0011099_segmentationfinal_size.png',\n",
              " 'ISIC_0011101_segmentation.png',\n",
              " 'ISIC_0011099_segmentation_final_size.png',\n",
              " 'ISIC_0011099_segmentation.png',\n",
              " 'ISIC_0011099_segmentationreduced.png',\n",
              " 'ISIC_0011101_segmentationreduced.png',\n",
              " 'ISIC_0011099_segmentation_final_size2.png',\n",
              " 'ISIC_0011101_segmentationfinal_size.png',\n",
              " 'ISIC_0011101_segmentation_final_size.png',\n",
              " 'ISIC_0011101_segmentation_final_size2.png',\n",
              " 'ISIC_0011102_segmentationfinal_size.png',\n",
              " 'ISIC_0011104_segmentationfinal_size.png',\n",
              " 'ISIC_0011104_segmentation.png',\n",
              " 'ISIC_0011102_segmentationreduced.png',\n",
              " 'ISIC_0011104_segmentation_final_size.png',\n",
              " 'ISIC_0011104_segmentationreduced.png',\n",
              " 'ISIC_0011102_segmentation.png',\n",
              " 'ISIC_0011102_segmentation_final_size2.png',\n",
              " 'ISIC_0011102_segmentation_final_size.png',\n",
              " 'ISIC_0011104_segmentation_final_size2.png',\n",
              " 'ISIC_0011105_segmentationfinal_size.png',\n",
              " 'ISIC_0011105_segmentation_final_size2.png',\n",
              " 'ISIC_0011107_segmentation.png',\n",
              " 'ISIC_0011107_segmentation_final_size.png',\n",
              " 'ISIC_0011107_segmentationreduced.png',\n",
              " 'ISIC_0011107_segmentationfinal_size.png',\n",
              " 'ISIC_0011105_segmentationreduced.png',\n",
              " 'ISIC_0011105_segmentation.png',\n",
              " 'ISIC_0011105_segmentation_final_size.png',\n",
              " 'ISIC_0011107_segmentation_final_size2.png',\n",
              " 'ISIC_0011110_segmentationfinal_size.png',\n",
              " 'ISIC_0011110_segmentation.png',\n",
              " 'ISIC_0011109_segmentationreduced.png',\n",
              " 'ISIC_0011109_segmentationfinal_size.png',\n",
              " 'ISIC_0011110_segmentationreduced.png',\n",
              " 'ISIC_0011109_segmentation.png',\n",
              " 'ISIC_0011109_segmentation_final_size2.png',\n",
              " 'ISIC_0011110_segmentation_final_size.png',\n",
              " 'ISIC_0011109_segmentation_final_size.png',\n",
              " 'ISIC_0011110_segmentation_final_size2.png',\n",
              " 'ISIC_0011112_segmentationfinal_size.png',\n",
              " 'ISIC_0011112_segmentation_final_size2.png',\n",
              " 'ISIC_0011112_segmentationreduced.png',\n",
              " 'ISIC_0011114_segmentationreduced.png',\n",
              " 'ISIC_0011112_segmentation.png',\n",
              " 'ISIC_0011112_segmentation_final_size.png',\n",
              " 'ISIC_0011114_segmentation_final_size.png',\n",
              " 'ISIC_0011114_segmentation.png',\n",
              " 'ISIC_0011114_segmentationfinal_size.png',\n",
              " 'ISIC_0011114_segmentation_final_size2.png',\n",
              " 'ISIC_0011115_segmentationreduced.png',\n",
              " 'ISIC_0011115_segmentation.png',\n",
              " 'ISIC_0011117_segmentationreduced.png',\n",
              " 'ISIC_0011117_segmentation.png',\n",
              " 'ISIC_0011117_segmentationfinal_size.png',\n",
              " 'ISIC_0011117_segmentation_final_size.png',\n",
              " 'ISIC_0011115_segmentation_final_size.png',\n",
              " 'ISIC_0011115_segmentation_final_size2.png',\n",
              " 'ISIC_0011115_segmentationfinal_size.png',\n",
              " 'ISIC_0011117_segmentation_final_size2.png',\n",
              " 'ISIC_0011118_segmentation_final_size.png',\n",
              " 'ISIC_0011119_segmentationfinal_size.png',\n",
              " 'ISIC_0011119_segmentationreduced.png',\n",
              " 'ISIC_0011119_segmentation_final_size.png',\n",
              " 'ISIC_0011118_segmentation.png',\n",
              " 'ISIC_0011118_segmentationfinal_size.png',\n",
              " 'ISIC_0011118_segmentationreduced.png',\n",
              " 'ISIC_0011118_segmentation_final_size2.png',\n",
              " 'ISIC_0011119_segmentation.png',\n",
              " 'ISIC_0011119_segmentation_final_size2.png',\n",
              " 'ISIC_0011120_segmentationfinal_size.png',\n",
              " 'ISIC_0011120_segmentation.png',\n",
              " 'ISIC_0011120_segmentation_final_size.png',\n",
              " 'ISIC_0011121_segmentationreduced.png',\n",
              " 'ISIC_0011121_segmentation_final_size.png',\n",
              " 'ISIC_0011120_segmentation_final_size2.png',\n",
              " 'ISIC_0011121_segmentationfinal_size.png',\n",
              " 'ISIC_0011120_segmentationreduced.png',\n",
              " 'ISIC_0011121_segmentation.png',\n",
              " 'ISIC_0011121_segmentation_final_size2.png',\n",
              " 'ISIC_0011123_segmentationfinal_size.png',\n",
              " 'ISIC_0011124_segmentationreduced.png',\n",
              " 'ISIC_0011124_segmentation_final_size.png',\n",
              " 'ISIC_0011124_segmentation.png',\n",
              " 'ISIC_0011124_segmentationfinal_size.png',\n",
              " 'ISIC_0011123_segmentationreduced.png',\n",
              " 'ISIC_0011123_segmentation_final_size.png',\n",
              " 'ISIC_0011123_segmentation.png',\n",
              " 'ISIC_0011123_segmentation_final_size2.png',\n",
              " 'ISIC_0011124_segmentation_final_size2.png',\n",
              " 'ISIC_0011127_segmentationfinal_size.png',\n",
              " 'ISIC_0011127_segmentation_final_size.png',\n",
              " 'ISIC_0011128_segmentation_final_size.png',\n",
              " 'ISIC_0011128_segmentationreduced.png',\n",
              " 'ISIC_0011127_segmentation_final_size2.png',\n",
              " 'ISIC_0011127_segmentation.png',\n",
              " 'ISIC_0011128_segmentationfinal_size.png',\n",
              " 'ISIC_0011128_segmentation.png',\n",
              " 'ISIC_0011127_segmentationreduced.png',\n",
              " 'ISIC_0011128_segmentation_final_size2.png',\n",
              " 'ISIC_0011130_segmentation.png',\n",
              " 'ISIC_0011130_segmentationfinal_size.png',\n",
              " 'ISIC_0011129_segmentation.png',\n",
              " 'ISIC_0011130_segmentation_final_size.png',\n",
              " 'ISIC_0011129_segmentation_final_size2.png',\n",
              " 'ISIC_0011129_segmentation_final_size.png',\n",
              " 'ISIC_0011130_segmentationreduced.png',\n",
              " 'ISIC_0011129_segmentationreduced.png',\n",
              " 'ISIC_0011129_segmentationfinal_size.png',\n",
              " 'ISIC_0011130_segmentation_final_size2.png',\n",
              " 'ISIC_0011131_segmentationfinal_size.png',\n",
              " 'ISIC_0011131_segmentation.png',\n",
              " 'ISIC_0011131_segmentation_final_size.png',\n",
              " 'ISIC_0011132_segmentationreduced.png',\n",
              " 'ISIC_0011131_segmentationreduced.png',\n",
              " 'ISIC_0011132_segmentation.png',\n",
              " 'ISIC_0011132_segmentationfinal_size.png',\n",
              " 'ISIC_0011132_segmentation_final_size.png',\n",
              " 'ISIC_0011131_segmentation_final_size2.png',\n",
              " 'ISIC_0011132_segmentation_final_size2.png',\n",
              " 'ISIC_0011137_segmentationreduced.png',\n",
              " 'ISIC_0011135_segmentationfinal_size.png',\n",
              " 'ISIC_0011137_segmentation_final_size.png',\n",
              " 'ISIC_0011137_segmentationfinal_size.png',\n",
              " 'ISIC_0011137_segmentation.png',\n",
              " 'ISIC_0011135_segmentationreduced.png',\n",
              " 'ISIC_0011135_segmentation.png',\n",
              " 'ISIC_0011135_segmentation_final_size2.png',\n",
              " 'ISIC_0011135_segmentation_final_size.png',\n",
              " 'ISIC_0011137_segmentation_final_size2.png',\n",
              " 'ISIC_0011139_segmentationfinal_size.png',\n",
              " 'ISIC_0011140_segmentation.png',\n",
              " 'ISIC_0011139_segmentation.png',\n",
              " 'ISIC_0011140_segmentationfinal_size.png',\n",
              " 'ISIC_0011140_segmentationreduced.png',\n",
              " 'ISIC_0011139_segmentation_final_size.png',\n",
              " 'ISIC_0011140_segmentation_final_size.png',\n",
              " 'ISIC_0011139_segmentationreduced.png',\n",
              " 'ISIC_0011139_segmentation_final_size2.png',\n",
              " 'ISIC_0011140_segmentation_final_size2.png',\n",
              " 'ISIC_0011143_segmentationfinal_size.png',\n",
              " 'ISIC_0011143_segmentation.png',\n",
              " 'ISIC_0011143_segmentation_final_size.png',\n",
              " 'ISIC_0011144_segmentation_final_size.png',\n",
              " 'ISIC_0011144_segmentation.png',\n",
              " 'ISIC_0011144_segmentationreduced.png',\n",
              " 'ISIC_0011144_segmentationfinal_size.png',\n",
              " 'ISIC_0011143_segmentation_final_size2.png',\n",
              " 'ISIC_0011143_segmentationreduced.png',\n",
              " 'ISIC_0011144_segmentation_final_size2.png',\n",
              " 'ISIC_0011146_segmentationfinal_size.png',\n",
              " 'ISIC_0011149_segmentation_final_size.png',\n",
              " 'ISIC_0011146_segmentation.png',\n",
              " 'ISIC_0011149_segmentationreduced.png',\n",
              " 'ISIC_0011146_segmentation_final_size2.png',\n",
              " 'ISIC_0011149_segmentationfinal_size.png',\n",
              " 'ISIC_0011146_segmentationreduced.png',\n",
              " 'ISIC_0011146_segmentation_final_size.png',\n",
              " 'ISIC_0011149_segmentation.png',\n",
              " 'ISIC_0011149_segmentation_final_size2.png',\n",
              " 'ISIC_0011150_segmentationfinal_size.png',\n",
              " 'ISIC_0011150_segmentation.png',\n",
              " 'ISIC_0011151_segmentationreduced.png',\n",
              " 'ISIC_0011151_segmentation.png',\n",
              " 'ISIC_0011150_segmentation_final_size.png',\n",
              " 'ISIC_0011150_segmentation_final_size2.png',\n",
              " 'ISIC_0011151_segmentationfinal_size.png',\n",
              " 'ISIC_0011151_segmentation_final_size.png',\n",
              " 'ISIC_0011150_segmentationreduced.png',\n",
              " 'ISIC_0011151_segmentation_final_size2.png',\n",
              " 'ISIC_0011155_segmentationfinal_size.png',\n",
              " 'ISIC_0011156_segmentation_final_size.png',\n",
              " 'ISIC_0011155_segmentation_final_size2.png',\n",
              " 'ISIC_0011156_segmentationfinal_size.png',\n",
              " 'ISIC_0011155_segmentationreduced.png',\n",
              " 'ISIC_0011155_segmentation_final_size.png',\n",
              " 'ISIC_0011155_segmentation.png',\n",
              " 'ISIC_0011156_segmentationreduced.png',\n",
              " 'ISIC_0011156_segmentation.png',\n",
              " 'ISIC_0011156_segmentation_final_size2.png',\n",
              " 'ISIC_0011157_segmentationfinal_size.png',\n",
              " 'ISIC_0011157_segmentation_final_size.png',\n",
              " 'ISIC_0011158_segmentationreduced.png',\n",
              " 'ISIC_0011158_segmentation.png',\n",
              " 'ISIC_0011157_segmentation.png',\n",
              " 'ISIC_0011157_segmentation_final_size2.png',\n",
              " 'ISIC_0011158_segmentation_final_size.png',\n",
              " 'ISIC_0011157_segmentationreduced.png',\n",
              " 'ISIC_0011158_segmentationfinal_size.png',\n",
              " 'ISIC_0011158_segmentation_final_size2.png',\n",
              " 'ISIC_0011161_segmentationfinal_size.png',\n",
              " 'ISIC_0011159_segmentation_final_size.png',\n",
              " 'ISIC_0011159_segmentation.png',\n",
              " 'ISIC_0011159_segmentationreduced.png',\n",
              " 'ISIC_0011159_segmentation_final_size2.png',\n",
              " 'ISIC_0011159_segmentationfinal_size.png',\n",
              " 'ISIC_0011161_segmentationreduced.png',\n",
              " 'ISIC_0011161_segmentation.png',\n",
              " 'ISIC_0011161_segmentation_final_size.png',\n",
              " 'ISIC_0011161_segmentation_final_size2.png',\n",
              " 'ISIC_0011163_segmentation_final_size.png',\n",
              " 'ISIC_0011163_segmentationfinal_size.png',\n",
              " 'ISIC_0011163_segmentationreduced.png',\n",
              " 'ISIC_0011162_segmentation_final_size2.png',\n",
              " 'ISIC_0011162_segmentation_final_size.png',\n",
              " 'ISIC_0011162_segmentationfinal_size.png',\n",
              " 'ISIC_0011163_segmentation.png',\n",
              " 'ISIC_0011162_segmentation.png',\n",
              " 'ISIC_0011162_segmentationreduced.png',\n",
              " 'ISIC_0011163_segmentation_final_size2.png',\n",
              " 'ISIC_0011164_segmentationfinal_size.png',\n",
              " 'ISIC_0011164_segmentation_final_size.png',\n",
              " 'ISIC_0011164_segmentation.png',\n",
              " 'ISIC_0011164_segmentationreduced.png',\n",
              " 'ISIC_0011165_segmentationreduced.png',\n",
              " 'ISIC_0011165_segmentation_final_size.png',\n",
              " 'ISIC_0011165_segmentationfinal_size.png',\n",
              " 'ISIC_0011164_segmentation_final_size2.png',\n",
              " 'ISIC_0011165_segmentation.png',\n",
              " 'ISIC_0011165_segmentation_final_size2.png',\n",
              " 'ISIC_0011167_segmentationfinal_size.png',\n",
              " 'ISIC_0011167_segmentationreduced.png',\n",
              " 'ISIC_0011166_segmentation_final_size.png',\n",
              " 'ISIC_0011166_segmentation_final_size2.png',\n",
              " 'ISIC_0011167_segmentation.png',\n",
              " 'ISIC_0011166_segmentationreduced.png',\n",
              " 'ISIC_0011166_segmentation.png',\n",
              " 'ISIC_0011166_segmentationfinal_size.png',\n",
              " 'ISIC_0011167_segmentation_final_size.png',\n",
              " 'ISIC_0011167_segmentation_final_size2.png',\n",
              " 'ISIC_0011168_segmentationfinal_size.png',\n",
              " 'ISIC_0011169_segmentation.png',\n",
              " 'ISIC_0011168_segmentation_final_size2.png',\n",
              " 'ISIC_0011168_segmentation.png',\n",
              " 'ISIC_0011168_segmentation_final_size.png',\n",
              " 'ISIC_0011169_segmentationfinal_size.png',\n",
              " 'ISIC_0011169_segmentationreduced.png',\n",
              " 'ISIC_0011168_segmentationreduced.png',\n",
              " 'ISIC_0011169_segmentation_final_size.png',\n",
              " 'ISIC_0011169_segmentation_final_size2.png',\n",
              " 'ISIC_0011171_segmentationfinal_size.png',\n",
              " 'ISIC_0011170_segmentation_final_size2.png',\n",
              " 'ISIC_0011170_segmentationreduced.png',\n",
              " 'ISIC_0011170_segmentationfinal_size.png',\n",
              " 'ISIC_0011170_segmentation.png',\n",
              " 'ISIC_0011171_segmentation_final_size.png',\n",
              " 'ISIC_0011170_segmentation_final_size.png',\n",
              " 'ISIC_0011171_segmentationreduced.png',\n",
              " 'ISIC_0011171_segmentation.png',\n",
              " 'ISIC_0011171_segmentation_final_size2.png',\n",
              " 'ISIC_0011176_segmentationfinal_size.png',\n",
              " 'ISIC_0011173_segmentation_final_size2.png',\n",
              " 'ISIC_0011176_segmentationreduced.png',\n",
              " 'ISIC_0011173_segmentationfinal_size.png',\n",
              " 'ISIC_0011176_segmentation.png',\n",
              " 'ISIC_0011173_segmentationreduced.png',\n",
              " 'ISIC_0011173_segmentation.png',\n",
              " 'ISIC_0011176_segmentation_final_size.png',\n",
              " 'ISIC_0011173_segmentation_final_size.png',\n",
              " 'ISIC_0011176_segmentation_final_size2.png',\n",
              " 'ISIC_0011177_segmentationfinal_size.png',\n",
              " 'ISIC_0011177_segmentationreduced.png',\n",
              " 'ISIC_0011177_segmentation_final_size.png',\n",
              " 'ISIC_0011199_segmentation_final_size.png',\n",
              " 'ISIC_0011199_segmentation.png',\n",
              " 'ISIC_0011199_segmentationfinal_size.png',\n",
              " 'ISIC_0011177_segmentation_final_size2.png',\n",
              " 'ISIC_0011199_segmentationreduced.png',\n",
              " 'ISIC_0011177_segmentation.png',\n",
              " 'ISIC_0011199_segmentation_final_size2.png',\n",
              " 'ISIC_0011202_segmentation_final_size.png',\n",
              " 'ISIC_0011203_segmentation.png',\n",
              " 'ISIC_0011202_segmentationfinal_size.png',\n",
              " 'ISIC_0011202_segmentationreduced.png',\n",
              " 'ISIC_0011203_segmentationreduced.png',\n",
              " 'ISIC_0011202_segmentation_final_size2.png',\n",
              " 'ISIC_0011203_segmentation_final_size.png',\n",
              " 'ISIC_0011202_segmentation.png',\n",
              " 'ISIC_0011203_segmentationfinal_size.png',\n",
              " 'ISIC_0011204_segmentation.png',\n",
              " 'ISIC_0011204_segmentationfinal_size.png',\n",
              " 'ISIC_0011203_segmentation_final_size2.png',\n",
              " 'ISIC_0011205_segmentation_final_size.png',\n",
              " 'ISIC_0011204_segmentation_final_size.png',\n",
              " 'ISIC_0011204_segmentation_final_size2.png',\n",
              " 'ISIC_0011205_segmentation.png',\n",
              " 'ISIC_0011205_segmentationfinal_size.png',\n",
              " 'ISIC_0011205_segmentationreduced.png',\n",
              " 'ISIC_0011204_segmentationreduced.png',\n",
              " 'ISIC_0011205_segmentation_final_size2.png',\n",
              " 'ISIC_0011207_segmentationfinal_size.png',\n",
              " 'ISIC_0011207_segmentation_final_size.png',\n",
              " 'ISIC_0011207_segmentationreduced.png',\n",
              " 'ISIC_0011208_segmentation.png',\n",
              " 'ISIC_0011208_segmentation_final_size.png',\n",
              " 'ISIC_0011207_segmentation.png',\n",
              " 'ISIC_0011208_segmentationfinal_size.png',\n",
              " 'ISIC_0011207_segmentation_final_size2.png',\n",
              " 'ISIC_0011208_segmentationreduced.png',\n",
              " 'ISIC_0011208_segmentation_final_size2.png',\n",
              " 'ISIC_0011211_segmentationfinal_size.png',\n",
              " 'ISIC_0011210_segmentationfinal_size.png',\n",
              " 'ISIC_0011211_segmentation.png',\n",
              " 'ISIC_0011210_segmentation.png',\n",
              " 'ISIC_0011210_segmentationreduced.png',\n",
              " 'ISIC_0011210_segmentation_final_size2.png',\n",
              " 'ISIC_0011211_segmentationreduced.png',\n",
              " 'ISIC_0011211_segmentation_final_size.png',\n",
              " 'ISIC_0011210_segmentation_final_size.png',\n",
              " 'ISIC_0011211_segmentation_final_size2.png',\n",
              " 'ISIC_0011213_segmentationfinal_size.png',\n",
              " 'ISIC_0011213_segmentation_final_size.png',\n",
              " 'ISIC_0011212_segmentationreduced.png',\n",
              " 'ISIC_0011213_segmentation.png',\n",
              " 'ISIC_0011212_segmentation_final_size2.png',\n",
              " 'ISIC_0011212_segmentation.png',\n",
              " 'ISIC_0011213_segmentationreduced.png',\n",
              " 'ISIC_0011212_segmentation_final_size.png',\n",
              " 'ISIC_0011212_segmentationfinal_size.png',\n",
              " 'ISIC_0011213_segmentation_final_size2.png',\n",
              " 'ISIC_0011218_segmentationfinal_size.png',\n",
              " 'ISIC_0011218_segmentation.png',\n",
              " 'ISIC_0011214_segmentation.png',\n",
              " 'ISIC_0011214_segmentationfinal_size.png',\n",
              " 'ISIC_0011218_segmentationreduced.png',\n",
              " 'ISIC_0011214_segmentation_final_size2.png',\n",
              " 'ISIC_0011218_segmentation_final_size.png',\n",
              " 'ISIC_0011214_segmentationreduced.png',\n",
              " 'ISIC_0011214_segmentation_final_size.png',\n",
              " 'ISIC_0011218_segmentation_final_size2.png',\n",
              " 'ISIC_0011220_segmentationfinal_size.png',\n",
              " 'ISIC_0011219_segmentationreduced.png',\n",
              " 'ISIC_0011220_segmentation_final_size.png',\n",
              " 'ISIC_0011219_segmentationfinal_size.png',\n",
              " 'ISIC_0011219_segmentation_final_size.png',\n",
              " 'ISIC_0011219_segmentation.png',\n",
              " 'ISIC_0011220_segmentationreduced.png',\n",
              " 'ISIC_0011219_segmentation_final_size2.png',\n",
              " 'ISIC_0011220_segmentation.png',\n",
              " 'ISIC_0011220_segmentation_final_size2.png',\n",
              " 'ISIC_0011223_segmentationfinal_size.png',\n",
              " 'ISIC_0011224_segmentationfinal_size.png',\n",
              " 'ISIC_0011223_segmentation.png',\n",
              " 'ISIC_0011223_segmentationreduced.png',\n",
              " 'ISIC_0011224_segmentation_final_size.png',\n",
              " 'ISIC_0011223_segmentation_final_size2.png',\n",
              " 'ISIC_0011224_segmentation.png',\n",
              " 'ISIC_0011223_segmentation_final_size.png',\n",
              " 'ISIC_0011224_segmentationreduced.png',\n",
              " 'ISIC_0011224_segmentation_final_size2.png',\n",
              " 'ISIC_0011225_segmentationfinal_size.png',\n",
              " 'ISIC_0011225_segmentation_final_size2.png',\n",
              " 'ISIC_0011227_segmentation_final_size.png',\n",
              " 'ISIC_0011227_segmentationfinal_size.png',\n",
              " 'ISIC_0011227_segmentationreduced.png',\n",
              " 'ISIC_0011225_segmentation_final_size.png',\n",
              " 'ISIC_0011225_segmentationreduced.png',\n",
              " 'ISIC_0011227_segmentation.png',\n",
              " 'ISIC_0011225_segmentation.png',\n",
              " 'ISIC_0011227_segmentation_final_size2.png',\n",
              " 'ISIC_0011229_segmentationfinal_size.png',\n",
              " 'ISIC_0011228_segmentationfinal_size.png',\n",
              " 'ISIC_0011229_segmentation_final_size.png',\n",
              " 'ISIC_0011229_segmentationreduced.png',\n",
              " 'ISIC_0011228_segmentation_final_size.png',\n",
              " 'ISIC_0011228_segmentationreduced.png',\n",
              " 'ISIC_0011228_segmentation.png',\n",
              " 'ISIC_0011229_segmentation.png',\n",
              " 'ISIC_0011228_segmentation_final_size2.png',\n",
              " 'ISIC_0011229_segmentation_final_size2.png',\n",
              " 'ISIC_0011230_segmentationfinal_size.png',\n",
              " 'ISIC_0011292_segmentationreduced.png',\n",
              " 'ISIC_0011292_segmentation_final_size.png',\n",
              " 'ISIC_0011292_segmentationfinal_size.png',\n",
              " 'ISIC_0011230_segmentation_final_size2.png',\n",
              " 'ISIC_0011230_segmentationreduced.png',\n",
              " 'ISIC_0011230_segmentation_final_size.png',\n",
              " 'ISIC_0011230_segmentation.png',\n",
              " 'ISIC_0011292_segmentation.png',\n",
              " 'ISIC_0011292_segmentation_final_size2.png',\n",
              " 'ISIC_0011295_segmentationfinal_size.png',\n",
              " 'ISIC_0011294_segmentationreduced.png',\n",
              " 'ISIC_0011295_segmentation_final_size.png',\n",
              " 'ISIC_0011294_segmentationfinal_size.png',\n",
              " 'ISIC_0011294_segmentation_final_size.png',\n",
              " 'ISIC_0011294_segmentation_final_size2.png',\n",
              " 'ISIC_0011295_segmentationreduced.png',\n",
              " 'ISIC_0011294_segmentation.png',\n",
              " 'ISIC_0011295_segmentation.png',\n",
              " 'ISIC_0011295_segmentation_final_size2.png',\n",
              " 'ISIC_0011297_segmentationfinal_size.png',\n",
              " 'ISIC_0011297_segmentation.png',\n",
              " 'ISIC_0011296_segmentation_final_size.png',\n",
              " 'ISIC_0011296_segmentation_final_size2.png',\n",
              " 'ISIC_0011296_segmentationfinal_size.png',\n",
              " 'ISIC_0011297_segmentation_final_size.png',\n",
              " 'ISIC_0011296_segmentationreduced.png',\n",
              " 'ISIC_0011297_segmentationreduced.png',\n",
              " 'ISIC_0011296_segmentation.png',\n",
              " 'ISIC_0011297_segmentation_final_size2.png',\n",
              " 'ISIC_0011298_segmentationfinal_size.png',\n",
              " 'ISIC_0011298_segmentationreduced.png',\n",
              " 'ISIC_0011298_segmentation_final_size.png',\n",
              " 'ISIC_0011300_segmentation.png',\n",
              " 'ISIC_0011300_segmentation_final_size.png',\n",
              " 'ISIC_0011300_segmentationreduced.png',\n",
              " 'ISIC_0011298_segmentation_final_size2.png',\n",
              " 'ISIC_0011298_segmentation.png',\n",
              " 'ISIC_0011300_segmentationfinal_size.png',\n",
              " 'ISIC_0011300_segmentation_final_size2.png',\n",
              " 'ISIC_0011301_segmentationfinal_size.png',\n",
              " 'ISIC_0011303_segmentation.png',\n",
              " 'ISIC_0011303_segmentationfinal_size.png',\n",
              " 'ISIC_0011303_segmentationreduced.png',\n",
              " 'ISIC_0011301_segmentationreduced.png',\n",
              " 'ISIC_0011301_segmentation.png',\n",
              " 'ISIC_0011301_segmentation_final_size2.png',\n",
              " 'ISIC_0011303_segmentation_final_size.png',\n",
              " 'ISIC_0011301_segmentation_final_size.png',\n",
              " 'ISIC_0011303_segmentation_final_size2.png',\n",
              " 'ISIC_0011305_segmentationfinal_size.png',\n",
              " 'ISIC_0011304_segmentationfinal_size.png',\n",
              " 'ISIC_0011305_segmentationreduced.png',\n",
              " 'ISIC_0011305_segmentation_final_size.png',\n",
              " 'ISIC_0011304_segmentation.png',\n",
              " 'ISIC_0011304_segmentationreduced.png',\n",
              " 'ISIC_0011305_segmentation.png',\n",
              " 'ISIC_0011304_segmentation_final_size2.png',\n",
              " 'ISIC_0011304_segmentation_final_size.png',\n",
              " 'ISIC_0011305_segmentation_final_size2.png',\n",
              " 'ISIC_0011306_segmentationfinal_size.png',\n",
              " 'ISIC_0011315_segmentationfinal_size.png',\n",
              " 'ISIC_0011306_segmentation.png',\n",
              " 'ISIC_0011315_segmentation.png',\n",
              " 'ISIC_0011306_segmentationreduced.png',\n",
              " 'ISIC_0011306_segmentation_final_size2.png',\n",
              " 'ISIC_0011306_segmentation_final_size.png',\n",
              " 'ISIC_0011315_segmentation_final_size.png',\n",
              " 'ISIC_0011315_segmentationreduced.png',\n",
              " 'ISIC_0011315_segmentation_final_size2.png',\n",
              " 'ISIC_0011317_segmentationfinal_size.png',\n",
              " 'ISIC_0011317_segmentation.png',\n",
              " 'ISIC_0011317_segmentationreduced.png',\n",
              " 'ISIC_0011322_segmentationfinal_size.png',\n",
              " 'ISIC_0011317_segmentation_final_size2.png',\n",
              " 'ISIC_0011322_segmentation_final_size.png',\n",
              " 'ISIC_0011322_segmentation.png',\n",
              " 'ISIC_0011317_segmentation_final_size.png',\n",
              " 'ISIC_0011322_segmentationreduced.png',\n",
              " 'ISIC_0011322_segmentation_final_size2.png',\n",
              " 'ISIC_0011324_segmentationfinal_size.png',\n",
              " 'ISIC_0011323_segmentation.png',\n",
              " 'ISIC_0011323_segmentationreduced.png',\n",
              " 'ISIC_0011324_segmentation_final_size.png',\n",
              " 'ISIC_0011323_segmentation_final_size.png',\n",
              " 'ISIC_0011324_segmentation.png',\n",
              " 'ISIC_0011323_segmentation_final_size2.png',\n",
              " 'ISIC_0011323_segmentationfinal_size.png',\n",
              " 'ISIC_0011324_segmentationreduced.png',\n",
              " 'ISIC_0011324_segmentation_final_size2.png',\n",
              " 'ISIC_0011326_segmentationfinal_size.png',\n",
              " 'ISIC_0011327_segmentation.png',\n",
              " 'ISIC_0011326_segmentationreduced.png',\n",
              " 'ISIC_0011326_segmentation_final_size.png',\n",
              " 'ISIC_0011327_segmentationreduced.png',\n",
              " 'ISIC_0011327_segmentationfinal_size.png',\n",
              " 'ISIC_0011326_segmentation_final_size2.png',\n",
              " 'ISIC_0011327_segmentation_final_size.png',\n",
              " 'ISIC_0011326_segmentation.png',\n",
              " 'ISIC_0011327_segmentation_final_size2.png',\n",
              " 'ISIC_0011328_segmentationfinal_size.png',\n",
              " 'ISIC_0011329_segmentation_final_size.png',\n",
              " 'ISIC_0011328_segmentationreduced.png',\n",
              " 'ISIC_0011329_segmentation.png',\n",
              " 'ISIC_0011328_segmentation.png',\n",
              " 'ISIC_0011329_segmentationfinal_size.png',\n",
              " 'ISIC_0011329_segmentationreduced.png',\n",
              " 'ISIC_0011328_segmentation_final_size2.png',\n",
              " 'ISIC_0011328_segmentation_final_size.png',\n",
              " 'ISIC_0011329_segmentation_final_size2.png',\n",
              " 'ISIC_0011333_segmentationfinal_size.png',\n",
              " 'ISIC_0011330_segmentation_final_size.png',\n",
              " 'ISIC_0011333_segmentation_final_size.png',\n",
              " 'ISIC_0011333_segmentation.png',\n",
              " 'ISIC_0011333_segmentationreduced.png',\n",
              " 'ISIC_0011330_segmentationreduced.png',\n",
              " 'ISIC_0011330_segmentation.png',\n",
              " 'ISIC_0011330_segmentation_final_size2.png',\n",
              " 'ISIC_0011330_segmentationfinal_size.png',\n",
              " 'ISIC_0011333_segmentation_final_size2.png',\n",
              " 'ISIC_0011336_segmentationfinal_size.png',\n",
              " 'ISIC_0011334_segmentationreduced.png',\n",
              " 'ISIC_0011336_segmentation.png',\n",
              " 'ISIC_0011334_segmentation_final_size2.png',\n",
              " 'ISIC_0011334_segmentationfinal_size.png',\n",
              " 'ISIC_0011334_segmentation_final_size.png',\n",
              " 'ISIC_0011336_segmentationreduced.png',\n",
              " 'ISIC_0011336_segmentation_final_size.png',\n",
              " 'ISIC_0011334_segmentation.png',\n",
              " 'ISIC_0011336_segmentation_final_size2.png',\n",
              " 'ISIC_0011338_segmentationfinal_size.png',\n",
              " 'ISIC_0011339_segmentation_final_size.png',\n",
              " 'ISIC_0011339_segmentationreduced.png',\n",
              " 'ISIC_0011338_segmentation_final_size2.png',\n",
              " 'ISIC_0011338_segmentation.png',\n",
              " 'ISIC_0011339_segmentationfinal_size.png',\n",
              " 'ISIC_0011339_segmentation.png',\n",
              " 'ISIC_0011338_segmentation_final_size.png',\n",
              " 'ISIC_0011338_segmentationreduced.png',\n",
              " 'ISIC_0011339_segmentation_final_size2.png',\n",
              " 'ISIC_0011341_segmentationfinal_size.png',\n",
              " 'ISIC_0011341_segmentation_final_size.png',\n",
              " 'ISIC_0011343_segmentationreduced.png',\n",
              " 'ISIC_0011341_segmentation.png',\n",
              " 'ISIC_0011343_segmentation.png',\n",
              " 'ISIC_0011341_segmentationreduced.png',\n",
              " 'ISIC_0011343_segmentationfinal_size.png',\n",
              " 'ISIC_0011343_segmentation_final_size.png',\n",
              " 'ISIC_0011341_segmentation_final_size2.png',\n",
              " 'ISIC_0011343_segmentation_final_size2.png',\n",
              " 'ISIC_0011345_segmentationfinal_size.png',\n",
              " 'ISIC_0011345_segmentation_final_size.png',\n",
              " 'ISIC_0011344_segmentation_final_size.png',\n",
              " 'ISIC_0011345_segmentationreduced.png',\n",
              " 'ISIC_0011345_segmentation.png',\n",
              " 'ISIC_0011344_segmentationfinal_size.png',\n",
              " 'ISIC_0011344_segmentation.png',\n",
              " 'ISIC_0011344_segmentation_final_size2.png',\n",
              " 'ISIC_0011344_segmentationreduced.png',\n",
              " 'ISIC_0011345_segmentation_final_size2.png',\n",
              " 'ISIC_0011347_segmentationfinal_size.png',\n",
              " 'ISIC_0011347_segmentation_final_size2.png',\n",
              " 'ISIC_0011347_segmentation.png',\n",
              " 'ISIC_0011347_segmentation_final_size.png',\n",
              " 'ISIC_0011347_segmentationreduced.png',\n",
              " 'ISIC_0011348_segmentation.png',\n",
              " 'ISIC_0011348_segmentation_final_size.png',\n",
              " 'ISIC_0011348_segmentationreduced.png',\n",
              " 'ISIC_0011348_segmentationfinal_size.png',\n",
              " 'ISIC_0011348_segmentation_final_size2.png',\n",
              " 'ISIC_0011352_segmentationfinal_size.png',\n",
              " 'ISIC_0011349_segmentationfinal_size.png',\n",
              " 'ISIC_0011352_segmentationreduced.png',\n",
              " 'ISIC_0011349_segmentationreduced.png',\n",
              " 'ISIC_0011349_segmentation_final_size2.png',\n",
              " 'ISIC_0011352_segmentation.png',\n",
              " 'ISIC_0011352_segmentation_final_size.png',\n",
              " 'ISIC_0011349_segmentation.png',\n",
              " 'ISIC_0011349_segmentation_final_size.png',\n",
              " 'ISIC_0011352_segmentation_final_size2.png',\n",
              " 'ISIC_0011353_segmentationfinal_size.png',\n",
              " 'ISIC_0011353_segmentationreduced.png',\n",
              " 'ISIC_0011356_segmentation_final_size.png',\n",
              " 'ISIC_0011353_segmentation.png',\n",
              " 'ISIC_0011356_segmentation.png',\n",
              " 'ISIC_0011356_segmentationreduced.png',\n",
              " 'ISIC_0011353_segmentation_final_size.png',\n",
              " 'ISIC_0011353_segmentation_final_size2.png',\n",
              " 'ISIC_0011356_segmentationfinal_size.png',\n",
              " 'ISIC_0011356_segmentation_final_size2.png',\n",
              " 'ISIC_0011357_segmentationfinal_size.png',\n",
              " 'ISIC_0011358_segmentationfinal_size.png',\n",
              " 'ISIC_0011357_segmentation_final_size.png',\n",
              " 'ISIC_0011358_segmentationreduced.png',\n",
              " 'ISIC_0011357_segmentationreduced.png',\n",
              " 'ISIC_0011357_segmentation_final_size2.png',\n",
              " 'ISIC_0011358_segmentation.png',\n",
              " 'ISIC_0011358_segmentation_final_size.png',\n",
              " 'ISIC_0011357_segmentation.png',\n",
              " 'ISIC_0011358_segmentation_final_size2.png',\n",
              " 'ISIC_0011359_segmentationfinal_size.png',\n",
              " 'ISIC_0011359_segmentation.png',\n",
              " 'ISIC_0011359_segmentationreduced.png',\n",
              " 'ISIC_0011360_segmentationreduced.png',\n",
              " 'ISIC_0011360_segmentation.png',\n",
              " 'ISIC_0011360_segmentationfinal_size.png',\n",
              " 'ISIC_0011359_segmentation_final_size2.png',\n",
              " 'ISIC_0011359_segmentation_final_size.png',\n",
              " 'ISIC_0011360_segmentation_final_size.png',\n",
              " 'ISIC_0011360_segmentation_final_size2.png',\n",
              " 'ISIC_0011361_segmentationfinal_size.png',\n",
              " 'ISIC_0011361_segmentationreduced.png',\n",
              " 'ISIC_0011362_segmentationreduced.png',\n",
              " 'ISIC_0011362_segmentation_final_size.png',\n",
              " 'ISIC_0011361_segmentation_final_size.png',\n",
              " 'ISIC_0011362_segmentation.png',\n",
              " 'ISIC_0011361_segmentation.png',\n",
              " 'ISIC_0011361_segmentation_final_size2.png',\n",
              " 'ISIC_0011362_segmentationfinal_size.png',\n",
              " 'ISIC_0011362_segmentation_final_size2.png',\n",
              " 'ISIC_0011363_segmentationfinal_size.png',\n",
              " 'ISIC_0011366_segmentationfinal_size.png',\n",
              " 'ISIC_0011363_segmentation_final_size.png',\n",
              " 'ISIC_0011363_segmentation.png',\n",
              " 'ISIC_0011363_segmentationreduced.png',\n",
              " 'ISIC_0011366_segmentation_final_size.png',\n",
              " 'ISIC_0011366_segmentation.png',\n",
              " 'ISIC_0011363_segmentation_final_size2.png',\n",
              " 'ISIC_0011366_segmentationreduced.png',\n",
              " 'ISIC_0011367_segmentation.png',\n",
              " 'ISIC_0011372_segmentationfinal_size.png',\n",
              " 'ISIC_0011372_segmentation_final_size.png',\n",
              " 'ISIC_0011367_segmentationfinal_size.png',\n",
              " 'ISIC_0011367_segmentationreduced.png',\n",
              " 'ISIC_0011366_segmentation_final_size2.png',\n",
              " 'ISIC_0011367_segmentation_final_size.png',\n",
              " 'ISIC_0011372_segmentation.png',\n",
              " 'ISIC_0011367_segmentation_final_size2.png',\n",
              " 'ISIC_0011372_segmentationreduced.png',\n",
              " 'ISIC_0011372_segmentation_final_size2.png',\n",
              " 'ISIC_0011374_segmentationfinal_size.png',\n",
              " 'ISIC_0011373_segmentation.png',\n",
              " 'ISIC_0011373_segmentation_final_size2.png',\n",
              " 'ISIC_0011374_segmentation.png',\n",
              " 'ISIC_0011374_segmentation_final_size.png',\n",
              " 'ISIC_0011374_segmentationreduced.png',\n",
              " 'ISIC_0011373_segmentationfinal_size.png',\n",
              " 'ISIC_0011373_segmentationreduced.png',\n",
              " 'ISIC_0011373_segmentation_final_size.png',\n",
              " 'ISIC_0011374_segmentation_final_size2.png',\n",
              " 'ISIC_0011378_segmentationreduced.png',\n",
              " 'ISIC_0011378_segmentation_final_size.png',\n",
              " 'ISIC_0011382_segmentation_final_size.png',\n",
              " 'ISIC_0011378_segmentation.png',\n",
              " 'ISIC_0011378_segmentation_final_size2.png',\n",
              " 'ISIC_0011378_segmentationfinal_size.png',\n",
              " 'ISIC_0011382_segmentationreduced.png',\n",
              " 'ISIC_0011382_segmentationfinal_size.png',\n",
              " 'ISIC_0011382_segmentation.png',\n",
              " 'ISIC_0011382_segmentation_final_size2.png',\n",
              " 'ISIC_0011384_segmentationfinal_size.png',\n",
              " 'ISIC_0011384_segmentationreduced.png',\n",
              " 'ISIC_0011383_segmentation_final_size.png',\n",
              " 'ISIC_0011383_segmentation_final_size2.png',\n",
              " 'ISIC_0011383_segmentation.png',\n",
              " 'ISIC_0011383_segmentationfinal_size.png',\n",
              " 'ISIC_0011384_segmentation_final_size.png',\n",
              " 'ISIC_0011383_segmentationreduced.png',\n",
              " 'ISIC_0011384_segmentation.png',\n",
              " 'ISIC_0011384_segmentation_final_size2.png',\n",
              " 'ISIC_0011386_segmentationfinal_size.png',\n",
              " 'ISIC_0011385_segmentationfinal_size.png',\n",
              " 'ISIC_0011386_segmentation_final_size.png',\n",
              " 'ISIC_0011386_segmentationreduced.png',\n",
              " 'ISIC_0011385_segmentationreduced.png',\n",
              " 'ISIC_0011385_segmentation_final_size.png',\n",
              " 'ISIC_0011386_segmentation.png',\n",
              " 'ISIC_0011385_segmentation_final_size2.png',\n",
              " 'ISIC_0011385_segmentation.png',\n",
              " 'ISIC_0011386_segmentation_final_size2.png',\n",
              " 'ISIC_0011387_segmentation_final_size2.png',\n",
              " 'ISIC_0011390_segmentation.png',\n",
              " 'ISIC_0011390_segmentation_final_size.png',\n",
              " 'ISIC_0011390_segmentationreduced.png',\n",
              " 'ISIC_0011387_segmentationreduced.png',\n",
              " 'ISIC_0011387_segmentation.png',\n",
              " 'ISIC_0011390_segmentationfinal_size.png',\n",
              " 'ISIC_0011387_segmentation_final_size.png',\n",
              " 'ISIC_0011387_segmentationfinal_size.png',\n",
              " 'ISIC_0011390_segmentation_final_size2.png',\n",
              " 'ISIC_0011397_segmentation_final_size.png',\n",
              " 'ISIC_0011397_segmentationfinal_size.png',\n",
              " 'ISIC_0011393_segmentation_final_size2.png',\n",
              " 'ISIC_0011393_segmentationreduced.png',\n",
              " 'ISIC_0011397_segmentation.png',\n",
              " 'ISIC_0011393_segmentation.png',\n",
              " 'ISIC_0011393_segmentationfinal_size.png',\n",
              " 'ISIC_0011397_segmentationreduced.png',\n",
              " 'ISIC_0011393_segmentation_final_size.png',\n",
              " 'ISIC_0011397_segmentation_final_size2.png',\n",
              " 'ISIC_0011398_segmentationfinal_size.png',\n",
              " 'ISIC_0011402_segmentationreduced.png',\n",
              " 'ISIC_0011398_segmentation_final_size2.png',\n",
              " 'ISIC_0011398_segmentation.png',\n",
              " 'ISIC_0011402_segmentationfinal_size.png',\n",
              " 'ISIC_0011398_segmentation_final_size.png',\n",
              " 'ISIC_0011402_segmentation.png',\n",
              " 'ISIC_0011398_segmentationreduced.png',\n",
              " 'ISIC_0011402_segmentation_final_size.png',\n",
              " 'ISIC_0011402_segmentation_final_size2.png',\n",
              " 'ISIC_0012086_segmentation_final_size.png',\n",
              " 'ISIC_0012086_segmentationfinal_size.png',\n",
              " 'ISIC_0012086_segmentation.png',\n",
              " 'ISIC_0012089_segmentation.png',\n",
              " 'ISIC_0012086_segmentation_final_size2.png',\n",
              " 'ISIC_0012086_segmentationreduced.png',\n",
              " 'ISIC_0012089_segmentation_final_size.png',\n",
              " 'ISIC_0012089_segmentationreduced.png',\n",
              " 'ISIC_0012089_segmentationfinal_size.png',\n",
              " 'ISIC_0012089_segmentation_final_size2.png',\n",
              " 'ISIC_0012090_segmentation.png',\n",
              " 'ISIC_0012090_segmentationreduced.png',\n",
              " 'ISIC_0012092_segmentation.png',\n",
              " 'ISIC_0012092_segmentationfinal_size.png',\n",
              " 'ISIC_0012092_segmentation_final_size.png',\n",
              " 'ISIC_0012090_segmentation_final_size2.png',\n",
              " 'ISIC_0012092_segmentationreduced.png',\n",
              " 'ISIC_0012090_segmentation_final_size.png',\n",
              " 'ISIC_0012090_segmentationfinal_size.png',\n",
              " 'ISIC_0012092_segmentation_final_size2.png',\n",
              " 'ISIC_0012094_segmentationfinal_size.png',\n",
              " 'ISIC_0012094_segmentationreduced.png',\n",
              " 'ISIC_0012094_segmentation_final_size2.png',\n",
              " 'ISIC_0012095_segmentation.png',\n",
              " 'ISIC_0012094_segmentation_final_size.png',\n",
              " 'ISIC_0012095_segmentation_final_size.png',\n",
              " 'ISIC_0012094_segmentation.png',\n",
              " 'ISIC_0012095_segmentationfinal_size.png',\n",
              " 'ISIC_0012095_segmentationreduced.png',\n",
              " 'ISIC_0012095_segmentation_final_size2.png',\n",
              " 'ISIC_0012097_segmentationfinal_size.png',\n",
              " 'ISIC_0012099_segmentationfinal_size.png',\n",
              " 'ISIC_0012099_segmentation_final_size.png',\n",
              " 'ISIC_0012097_segmentation.png',\n",
              " 'ISIC_0012097_segmentation_final_size.png',\n",
              " 'ISIC_0012099_segmentation.png',\n",
              " 'ISIC_0012097_segmentation_final_size2.png',\n",
              " 'ISIC_0012097_segmentationreduced.png',\n",
              " 'ISIC_0012099_segmentationreduced.png',\n",
              " 'ISIC_0012099_segmentation_final_size2.png',\n",
              " 'ISIC_0012105_segmentationfinal_size.png',\n",
              " 'ISIC_0012102_segmentationreduced.png',\n",
              " 'ISIC_0012105_segmentationreduced.png',\n",
              " 'ISIC_0012102_segmentation_final_size2.png',\n",
              " 'ISIC_0012102_segmentation_final_size.png',\n",
              " 'ISIC_0012105_segmentation_final_size.png',\n",
              " 'ISIC_0012105_segmentation.png',\n",
              " 'ISIC_0012102_segmentation.png',\n",
              " 'ISIC_0012102_segmentationfinal_size.png',\n",
              " 'ISIC_0012105_segmentation_final_size2.png',\n",
              " 'ISIC_0012108_segmentationfinal_size.png',\n",
              " 'ISIC_0012107_segmentation_final_size2.png',\n",
              " 'ISIC_0012108_segmentationreduced.png',\n",
              " 'ISIC_0012107_segmentation_final_size.png',\n",
              " 'ISIC_0012107_segmentationreduced.png',\n",
              " 'ISIC_0012107_segmentation.png',\n",
              " 'ISIC_0012107_segmentationfinal_size.png',\n",
              " 'ISIC_0012108_segmentation_final_size.png',\n",
              " 'ISIC_0012108_segmentation.png',\n",
              " ...]"
            ]
          },
          "metadata": {
            "tags": []
          },
          "execution_count": 89
        }
      ]
    },
    {
      "cell_type": "code",
      "metadata": {
        "id": "IjXBktkT8DJZ",
        "colab_type": "code",
        "colab": {}
      },
      "source": [
        "segs[-1].shape"
      ],
      "execution_count": 0,
      "outputs": []
    },
    {
      "cell_type": "code",
      "metadata": {
        "id": "BOLrZ8LZZe7r",
        "colab_type": "code",
        "colab": {}
      },
      "source": [
        "images.shape"
      ],
      "execution_count": 0,
      "outputs": []
    },
    {
      "cell_type": "code",
      "metadata": {
        "id": "hK4yqeJafNzD",
        "colab_type": "code",
        "colab": {}
      },
      "source": [
        "filename = filenames[3]\n",
        "filepath = os.path.join(root, filename)\n",
        "seg = ndimage.imread(filepath, mode=\"L\")"
      ],
      "execution_count": 0,
      "outputs": []
    },
    {
      "cell_type": "code",
      "metadata": {
        "id": "ywAIbXWifNzF",
        "colab_type": "code",
        "colab": {}
      },
      "source": [
        "seg.shape"
      ],
      "execution_count": 0,
      "outputs": []
    },
    {
      "cell_type": "code",
      "metadata": {
        "id": "WNLxVopWfNzI",
        "colab_type": "code",
        "colab": {}
      },
      "source": [
        "image = segs[2593,:,:]\n",
        "plt.imshow(image)\n",
        "plt.show()"
      ],
      "execution_count": 0,
      "outputs": []
    },
    {
      "cell_type": "code",
      "metadata": {
        "id": "mR6OM_mcfNzK",
        "colab_type": "code",
        "colab": {}
      },
      "source": [
        "image = image = ndimage.imread(filepath, mode=\"RGB\")\n",
        "plt.imshow(image)\n",
        "plt.show()"
      ],
      "execution_count": 0,
      "outputs": []
    },
    {
      "cell_type": "markdown",
      "metadata": {
        "id": "J8N4Xlk9fNzN",
        "colab_type": "text"
      },
      "source": [
        "### Helper Functions"
      ]
    },
    {
      "cell_type": "markdown",
      "metadata": {
        "id": "IS6Tms7_fNzN",
        "colab_type": "text"
      },
      "source": [
        "Function to help intialize random weights for fully connected or convolutional layers, we leave the shape attribute as a parameter for this."
      ]
    },
    {
      "cell_type": "code",
      "metadata": {
        "id": "nwxTUCjRfNzO",
        "colab_type": "code",
        "colab": {}
      },
      "source": [
        "from sklearn.model_selection import train_test_split\n",
        "trainim, testim, trainlab, testlab = train_test_split(images, segs, test_size = 0.3) #this is randomized each time the program is started and run from scratch"
      ],
      "execution_count": 0,
      "outputs": []
    },
    {
      "cell_type": "code",
      "metadata": {
        "id": "gIxY01G3fNzQ",
        "colab_type": "code",
        "colab": {}
      },
      "source": [
        "trainim.shape"
      ],
      "execution_count": 0,
      "outputs": []
    },
    {
      "cell_type": "code",
      "metadata": {
        "id": "G-zXpjhkfNzS",
        "colab_type": "code",
        "colab": {}
      },
      "source": [
        "np.max(testlab)"
      ],
      "execution_count": 0,
      "outputs": []
    },
    {
      "cell_type": "code",
      "metadata": {
        "id": "ndDyqlFhfNzU",
        "colab_type": "code",
        "colab": {}
      },
      "source": [
        "testlab.shape"
      ],
      "execution_count": 0,
      "outputs": []
    },
    {
      "cell_type": "code",
      "metadata": {
        "id": "x0Kb2P4tfNzX",
        "colab_type": "code",
        "colab": {}
      },
      "source": [
        "training_labels = np.around(trainlab/255)"
      ],
      "execution_count": 0,
      "outputs": []
    },
    {
      "cell_type": "code",
      "metadata": {
        "id": "4C4pwHf7fNza",
        "colab_type": "code",
        "colab": {}
      },
      "source": [
        "image = training_labels[5,:,:]\n",
        "plt.imshow(image)\n",
        "plt.show()"
      ],
      "execution_count": 0,
      "outputs": []
    },
    {
      "cell_type": "code",
      "metadata": {
        "id": "8_8a19MbfNzd",
        "colab_type": "code",
        "colab": {}
      },
      "source": [
        "class MelHelper():\n",
        "    \n",
        "    def __init__(self):\n",
        "        self.i = 0\n",
        "        \n",
        "        ####Can probably eliminate this part ####\n",
        "        \n",
        "        # Grabs a list of all the data batches for training\n",
        "        #self.all_train_batches = [data_batch1,data_batch2,data_batch3,data_batch4,data_batch5]\n",
        "        # Grabs a list of all the test batches (really just one batch)\n",
        "        #self.test_batch = [test_batch]\n",
        "        \n",
        "        ###eliminate####\n",
        "        \n",
        "        # Intialize some empty variables for later on\n",
        "        self.training_images = None\n",
        "        self.training_labels = None\n",
        "        \n",
        "        self.test_images = None\n",
        "        self.test_labels = None\n",
        "    \n",
        "    def set_up_images(self):\n",
        "        \n",
        "        print(\"Setting Up Training Images and Labels\")\n",
        "        \n",
        "        ###Not Needed####\n",
        "        # Vertically stacks the training images\n",
        "        #self.training_images = np.vstack([d[b\"data\"] for d in self.all_train_batches])  #insert images here, make sure they are \n",
        "        #vetically stacked##\n",
        "        #train_len = len(self.training_images)\n",
        "        \n",
        "        # Reshapes and normalizes training images\n",
        "        self.training_images = trainim/255   #normalize only ->replace with images with training set later\n",
        "                                #self.training_images.reshape(train_len,3,32,32).transpose(0,2,3,1)/255\n",
        "        # One hot Encodes the training labels (e.g. [0,0,0,1,0,0,0,0,0,0])\n",
        "        \n",
        "        ##May need to replace this with code that rounds a humber to 0 or 1 for the mask ##\n",
        "        self.training_labels = np.around(trainlab/255) #one_hot_encode(np.hstack([d[b\"labels\"] for d in self.all_train_batches]), 10)\n",
        "        \n",
        "        print(\"Setting Up Test Images and Labels\")\n",
        "        \n",
        "        # Vertically stacks the test images\n",
        "        #self.test_images = np.vstack([d[b\"data\"] for d in self.test_batch])\n",
        "        #test_len = len(self.test_images)\n",
        "        \n",
        "        # Reshapes and normalizes test images\n",
        "        self.test_images = testim/255 #self.test_images.reshape(test_len,3,32,32).transpose(0,2,3,1)/255\n",
        "        # One hot Encodes the test labels (e.g. [0,0,0,1,0,0,0,0,0,0])\n",
        "        self.test_labels = np.around(testlab/255).reshape(-1,96*128) #one_hot_encode(np.hstack([d[b\"labels\"] for d in self.test_batch]), 10)\n",
        "        \n",
        "    def next_batch(self, batch_size):\n",
        "        # Note that the 100 dimension in the reshape call is set by an assumed batch size of 100 - this is now a mistake\n",
        "        xtra = (self.i + batch_size) % len(self.training_images)\n",
        "        if xtra<batch_size and xtra != 0:\n",
        "            x = np.vstack((self.training_images[self.i:self.i+batch_size], self.training_images[0:xtra])) #.reshape(100,32,32,3)  #why is this necessary?\n",
        "            y = np.vstack((self.training_labels[self.i:self.i+batch_size].reshape(-1,21*28), self.training_labels[0:xtra].reshape(-1,21*28)))\n",
        "        else:\n",
        "            x = self.training_images[self.i:self.i+batch_size] #.reshape(100,32,32,3)  #why is this necessary?\n",
        "            y = self.training_labels[self.i:self.i+batch_size].reshape(-1,96*128)\n",
        "        \n",
        "        self.i = xtra \n",
        "        return x, y"
      ],
      "execution_count": 0,
      "outputs": []
    },
    {
      "cell_type": "code",
      "metadata": {
        "id": "LTmLVENAfNze",
        "colab_type": "code",
        "colab": {}
      },
      "source": [
        "def init_weights(shape):\n",
        "    init_random_dist = tf.truncated_normal(shape, stddev=0.1)\n",
        "    return tf.Variable(init_random_dist)"
      ],
      "execution_count": 0,
      "outputs": []
    },
    {
      "cell_type": "markdown",
      "metadata": {
        "id": "83Yh6X2mfNzg",
        "colab_type": "text"
      },
      "source": [
        "Same as init_weights, but for the biases"
      ]
    },
    {
      "cell_type": "code",
      "metadata": {
        "id": "Dd3vlocsfNzg",
        "colab_type": "code",
        "colab": {}
      },
      "source": [
        "def init_bias(shape):\n",
        "    init_bias_vals = tf.constant(0.1, shape=shape)\n",
        "    return tf.Variable(init_bias_vals)"
      ],
      "execution_count": 0,
      "outputs": []
    },
    {
      "cell_type": "markdown",
      "metadata": {
        "id": "EyF20ufBfNzi",
        "colab_type": "text"
      },
      "source": [
        "Create a 2D convolution using builtin conv2d from TF. From those docs:\n",
        "\n",
        "Computes a 2-D convolution given 4-D `input` and `filter` tensors.\n",
        "\n",
        "Given an input tensor of shape `[batch, in_height, in_width, in_channels]`\n",
        "and a filter / kernel tensor of shape\n",
        "`[filter_height, filter_width, in_channels, out_channels]`, this op\n",
        "performs the following:\n",
        "\n",
        "1. Flattens the filter to a 2-D matrix with shape\n",
        "   `[filter_height * filter_width * in_channels, output_channels]`.\n",
        "2. Extracts image patches from the input tensor to form a *virtual*\n",
        "   tensor of shape `[batch, out_height, out_width,\n",
        "   filter_height * filter_width * in_channels]`.\n",
        "3. For each patch, right-multiplies the filter matrix and the image patch\n",
        "   vector.\n"
      ]
    },
    {
      "cell_type": "code",
      "metadata": {
        "id": "fvrLH9wufNzj",
        "colab_type": "code",
        "colab": {}
      },
      "source": [
        "def conv2d(x, W):\n",
        "    return tf.nn.conv2d(x, W, strides=[1, 1, 1, 1], padding='SAME')"
      ],
      "execution_count": 0,
      "outputs": []
    },
    {
      "cell_type": "code",
      "metadata": {
        "id": "dofb-mrtfNzm",
        "colab_type": "code",
        "colab": {}
      },
      "source": [
        "def deconv2d(x, shape):\n",
        "    return tf.layers.conv2d_transpose(x, shape[3], shape[0:2])"
      ],
      "execution_count": 0,
      "outputs": []
    },
    {
      "cell_type": "markdown",
      "metadata": {
        "id": "MXGFwjkxfNzn",
        "colab_type": "text"
      },
      "source": [
        "Create a max pooling layer, again using built in TF functions:\n",
        "\n",
        "Performs the max pooling on the input.\n",
        "\n",
        "    Args:\n",
        "      value: A 4-D `Tensor` with shape `[batch, height, width, channels]` and\n",
        "        type `tf.float32`.\n",
        "      ksize: A list of ints that has length >= 4.  The size of the window for\n",
        "        each dimension of the input tensor.\n",
        "      strides: A list of ints that has length >= 4.  The stride of the sliding\n",
        "        window for each dimension of the input tensor.\n",
        "      padding: A string, either `'VALID'` or `'SAME'`. "
      ]
    },
    {
      "cell_type": "code",
      "metadata": {
        "id": "BIO9pWjXfNzp",
        "colab_type": "code",
        "colab": {}
      },
      "source": [
        "def max_pool_2by2(x):\n",
        "    return tf.nn.max_pool(x, ksize=[1, 2, 2, 1], \n",
        "                          strides=[1, 2, 2, 1], padding='SAME')"
      ],
      "execution_count": 0,
      "outputs": []
    },
    {
      "cell_type": "markdown",
      "metadata": {
        "id": "9VqEnybqfNzs",
        "colab_type": "text"
      },
      "source": [
        "Using the conv2d function, we'll return an actual convolutional layer here that uses an ReLu activation."
      ]
    },
    {
      "cell_type": "code",
      "metadata": {
        "id": "OS9b-naGfNzt",
        "colab_type": "code",
        "colab": {}
      },
      "source": [
        "def convolutional_layer(input_x, shape):\n",
        "    W = init_weights(shape)\n",
        "    b = init_bias([shape[3]])\n",
        "    return tf.nn.relu(conv2d(input_x, W) + b)"
      ],
      "execution_count": 0,
      "outputs": []
    },
    {
      "cell_type": "markdown",
      "metadata": {
        "id": "_0-cGJDsfNzu",
        "colab_type": "text"
      },
      "source": [
        "This is a normal fully connected layer"
      ]
    },
    {
      "cell_type": "code",
      "metadata": {
        "id": "w9tiw8fKfNzv",
        "colab_type": "code",
        "colab": {}
      },
      "source": [
        "def normal_full_layer(input_layer, size):\n",
        "    input_size = int(input_layer.get_shape()[1])\n",
        "    W = init_weights([input_size, size])\n",
        "    b = init_bias([size])\n",
        "    return tf.matmul(input_layer, W) + b"
      ],
      "execution_count": 0,
      "outputs": []
    },
    {
      "cell_type": "code",
      "metadata": {
        "id": "RoKldfkxfNzy",
        "colab_type": "code",
        "colab": {}
      },
      "source": [
        "def deconvolutional_layer(input_x, shape):\n",
        "    #W = init_weights(shape)\n",
        "    b = init_bias([shape[3]])  #draw this out to see if it makes sense\n",
        "    return tf.nn.relu(deconv2d(input_x, shape) +b)"
      ],
      "execution_count": 0,
      "outputs": []
    },
    {
      "cell_type": "markdown",
      "metadata": {
        "id": "p2rwibDxfNzz",
        "colab_type": "text"
      },
      "source": [
        "### Placeholders"
      ]
    },
    {
      "cell_type": "code",
      "metadata": {
        "id": "8E82SWUmfNz0",
        "colab_type": "code",
        "colab": {}
      },
      "source": [
        "x = tf.placeholder(tf.float32,shape=[None,96,128,3])  #trace the shaping of these through the code...\n"
      ],
      "execution_count": 0,
      "outputs": []
    },
    {
      "cell_type": "code",
      "metadata": {
        "id": "U2djuEyMfNz1",
        "colab_type": "code",
        "colab": {}
      },
      "source": [
        "y_true = tf.placeholder(tf.float32,shape=[None,96*128])  #this now has every pixel in the ground truth segmentation"
      ],
      "execution_count": 0,
      "outputs": []
    },
    {
      "cell_type": "markdown",
      "metadata": {
        "id": "IzopPGJyfNz5",
        "colab_type": "text"
      },
      "source": [
        "### Layers"
      ]
    },
    {
      "cell_type": "code",
      "metadata": {
        "id": "6YyKmti2fNz5",
        "colab_type": "code",
        "colab": {}
      },
      "source": [
        "x_image = tf.reshape(x,[-1,96,128,3])  #-1 infers the shape of the first dimension (here, the batch size)"
      ],
      "execution_count": 0,
      "outputs": []
    },
    {
      "cell_type": "code",
      "metadata": {
        "id": "B2zOibybfNz7",
        "colab_type": "code",
        "colab": {}
      },
      "source": [
        "# Using a 6by6 filter here, used 5by5 in video, you can play around with the filter size\n",
        "# You can change the 32 output, that essentially represents the amount of filters used\n",
        "# You need to pass in 32 to the next input though, the 1 comes from the original input of \n",
        "# a single image.\n",
        "convo_1 = convolutional_layer(x_image,shape=[3,3,3,16])\n",
        "convo_1_pooling = max_pool_2by2(convo_1)"
      ],
      "execution_count": 0,
      "outputs": []
    },
    {
      "cell_type": "code",
      "metadata": {
        "id": "Tjs326AsfNz9",
        "colab_type": "code",
        "colab": {}
      },
      "source": [
        "# Using a 6by6 filter here, used 5by5 in video, you can play around with the filter size\n",
        "# You can actually change the 64 output if you want, you can think of that as a representation\n",
        "# of the amount of 6by6 filters used.\n",
        "convo_2 = convolutional_layer(convo_1_pooling,shape=[3,3,16,16])\n",
        "convo_2_pooling = max_pool_2by2(convo_2)"
      ],
      "execution_count": 0,
      "outputs": []
    },
    {
      "cell_type": "code",
      "metadata": {
        "id": "ZSeZobE1fNz_",
        "colab_type": "code",
        "colab": {}
      },
      "source": [
        "#print(convo_2_pooling.shape)"
      ],
      "execution_count": 0,
      "outputs": []
    },
    {
      "cell_type": "code",
      "metadata": {
        "id": "g0yF11JTfN0B",
        "colab_type": "code",
        "colab": {}
      },
      "source": [
        "# Using a 6by6 filter here, used 5by5 in video, you can play around with the filter size\n",
        "## You can actually change the 64 output if you want, you can think of that as a representation\n",
        "# of the amount of 6by6 filters used.\n",
        "convo_3 = convolutional_layer(convo_2,shape=[3,3,16,32])\n",
        "convo_3_pooling = max_pool_2by2(convo_3)"
      ],
      "execution_count": 0,
      "outputs": []
    },
    {
      "cell_type": "code",
      "metadata": {
        "id": "kW50R3CKfN0C",
        "colab_type": "code",
        "colab": {}
      },
      "source": [
        ""
      ],
      "execution_count": 0,
      "outputs": []
    },
    {
      "cell_type": "code",
      "metadata": {
        "id": "F1OFvnKJfN0F",
        "colab_type": "code",
        "colab": {}
      },
      "source": [
        "print(convo_3_pooling.shape)"
      ],
      "execution_count": 0,
      "outputs": []
    },
    {
      "cell_type": "code",
      "metadata": {
        "id": "lK5Ch1YKfN0I",
        "colab_type": "code",
        "colab": {}
      },
      "source": [
        "# Using a 6by6 filter here, used 5by5 in video, you can play around with the filter size\n",
        "# You can actually change the 64 output if you want, you can think of that as a representation\n",
        "# of the amount of 6by6 filters used.\n",
        "convo_4 = convolutional_layer(convo_3_pooling,shape=[3,3,32,64])\n",
        "convo_4_pooling = max_pool_2by2(convo_4)"
      ],
      "execution_count": 0,
      "outputs": []
    },
    {
      "cell_type": "code",
      "metadata": {
        "id": "XLw9sqc3fN0J",
        "colab_type": "code",
        "colab": {}
      },
      "source": [
        "print(convo_4_pooling.shape)"
      ],
      "execution_count": 0,
      "outputs": []
    },
    {
      "cell_type": "code",
      "metadata": {
        "id": "mrjbYcoHfN0L",
        "colab_type": "code",
        "colab": {}
      },
      "source": [
        "convo_5 = convolutional_layer(convo_4,shape=[3,3,64,128])\n",
        "#convo_5_pooling = max_pool_2by2(convo_5)"
      ],
      "execution_count": 0,
      "outputs": []
    },
    {
      "cell_type": "code",
      "metadata": {
        "id": "AUhatLBVfN0M",
        "colab_type": "code",
        "colab": {}
      },
      "source": [
        "print(convo_5.shape)"
      ],
      "execution_count": 0,
      "outputs": []
    },
    {
      "cell_type": "code",
      "metadata": {
        "id": "2umt_QNxfN0O",
        "colab_type": "code",
        "colab": {}
      },
      "source": [
        "convo_6 = convolutional_layer(convo_5,shape=[3,3,128,256])\n",
        "#convo_6_pooling = max_pool_2by2(convo_6)"
      ],
      "execution_count": 0,
      "outputs": []
    },
    {
      "cell_type": "code",
      "metadata": {
        "id": "q1RQ1ZCcfN0Q",
        "colab_type": "code",
        "colab": {}
      },
      "source": [
        "print(convo_6.shape)"
      ],
      "execution_count": 0,
      "outputs": []
    },
    {
      "cell_type": "code",
      "metadata": {
        "id": "lnPU1krEfN0S",
        "colab_type": "code",
        "colab": {}
      },
      "source": [
        "deconv_6 = deconvolutional_layer(convo_6, shape = [3,3,256,128])"
      ],
      "execution_count": 0,
      "outputs": []
    },
    {
      "cell_type": "code",
      "metadata": {
        "id": "OA6GQlpwfN0U",
        "colab_type": "code",
        "colab": {}
      },
      "source": [
        "deconv_6.shape"
      ],
      "execution_count": 0,
      "outputs": []
    },
    {
      "cell_type": "code",
      "metadata": {
        "id": "KIx6JFX7fN0X",
        "colab_type": "code",
        "colab": {}
      },
      "source": [
        "# Why 7 by 7 image? Because we did 2 pooling layers, so (28/2)/2 = 7\n",
        "# 64 then just comes from the output of the previous Convolution\n",
        "deconvo_6_flat = tf.reshape(deconv_6,[-1,26*34*128])\n",
        "full_layer_one = tf.nn.relu(normal_full_layer(deconvo_6_flat,96*128))   "
      ],
      "execution_count": 0,
      "outputs": []
    },
    {
      "cell_type": "markdown",
      "metadata": {
        "id": "FW0ccrXgIF_9",
        "colab_type": "text"
      },
      "source": [
        "### This fully connected layer is 5.5 GB. It is very expensive and cannot fit into memory.\n",
        "### Need to use the upsampling and deconvolutional layers instead"
      ]
    },
    {
      "cell_type": "code",
      "metadata": {
        "id": "_RJR5cksfN0Z",
        "colab_type": "code",
        "colab": {}
      },
      "source": [
        "print(full_layer_one.shape)\n"
      ],
      "execution_count": 0,
      "outputs": []
    },
    {
      "cell_type": "code",
      "metadata": {
        "id": "BUOuhsoqfN0a",
        "colab_type": "code",
        "colab": {}
      },
      "source": [
        "# NOTE THE PLACEHOLDER HERE!\n",
        "hold_prob = tf.placeholder(tf.float32)\n",
        "\n",
        "full_one_dropout = tf.nn.dropout(full_layer_one,keep_prob=hold_prob)"
      ],
      "execution_count": 0,
      "outputs": []
    },
    {
      "cell_type": "code",
      "metadata": {
        "id": "iEiMBW0bfN0c",
        "colab_type": "code",
        "colab": {}
      },
      "source": [
        "#full_layer_two = tf.nn.relu(normal_full_layer(full_one_dropout,96*128))\n"
      ],
      "execution_count": 0,
      "outputs": []
    },
    {
      "cell_type": "code",
      "metadata": {
        "id": "0gv4a5-ffN0d",
        "colab_type": "code",
        "colab": {}
      },
      "source": [
        "#full_layer_three = tf.nn.relu(normal_full_layer(full_layer_two,192*256))\n"
      ],
      "execution_count": 0,
      "outputs": []
    },
    {
      "cell_type": "markdown",
      "metadata": {
        "id": "EEAI_bK3fN0e",
        "colab_type": "text"
      },
      "source": [
        "deconv_layer_one = "
      ]
    },
    {
      "cell_type": "markdown",
      "metadata": {
        "id": "MvXbU049fN0e",
        "colab_type": "text"
      },
      "source": [
        "## Augment the output with a direct connection to the input photo"
      ]
    },
    {
      "cell_type": "markdown",
      "metadata": {
        "id": "2EuKsLJ0fN0f",
        "colab_type": "text"
      },
      "source": [
        "#do not use for now\n",
        "\n",
        "flat_in = tf.reshape(x,[-1,1764])\n",
        "aug = tf.concat([flat_in, full_one_dropout], axis = 1)\n",
        "print(flat_in.shape)\n",
        "print(full_one_dropout.shape)\n",
        "print(aug.shape)\n",
        "##need to think about how to concatenate these"
      ]
    },
    {
      "cell_type": "markdown",
      "metadata": {
        "id": "uI1iPuAlfN0f",
        "colab_type": "text"
      },
      "source": [
        "\n",
        "full_one_plus_in = tf.convert_to_tensor(aug, dtype=tf.float32)"
      ]
    },
    {
      "cell_type": "markdown",
      "metadata": {
        "id": "OMWgjB_8fN0g",
        "colab_type": "text"
      },
      "source": [
        "type(full_one_dropout)"
      ]
    },
    {
      "cell_type": "code",
      "metadata": {
        "id": "Zk0vZ8CofN0g",
        "colab_type": "code",
        "colab": {}
      },
      "source": [
        "y_pred = normal_full_layer(full_one_dropout, 96*128)"
      ],
      "execution_count": 0,
      "outputs": []
    },
    {
      "cell_type": "markdown",
      "metadata": {
        "id": "kzfSiPBifN0i",
        "colab_type": "text"
      },
      "source": [
        "### Loss Function"
      ]
    },
    {
      "cell_type": "code",
      "metadata": {
        "id": "gGxLHevsfN0i",
        "colab_type": "code",
        "colab": {}
      },
      "source": [
        "cross_entropy = tf.reduce_mean(tf.nn.sigmoid_cross_entropy_with_logits(labels=y_true,logits=y_pred))"
      ],
      "execution_count": 0,
      "outputs": []
    },
    {
      "cell_type": "code",
      "metadata": {
        "id": "OwrgZr8WfN0k",
        "colab_type": "code",
        "colab": {}
      },
      "source": [
        ""
      ],
      "execution_count": 0,
      "outputs": []
    },
    {
      "cell_type": "markdown",
      "metadata": {
        "id": "Vd8V8rTafN0l",
        "colab_type": "text"
      },
      "source": [
        "### Optimizer"
      ]
    },
    {
      "cell_type": "code",
      "metadata": {
        "id": "ShpM5aWifN0m",
        "colab_type": "code",
        "colab": {}
      },
      "source": [
        "optimizer = tf.train.AdamOptimizer(learning_rate=0.003)\n",
        "train = optimizer.minimize(cross_entropy)   #can this be done for each pixel?"
      ],
      "execution_count": 0,
      "outputs": []
    },
    {
      "cell_type": "markdown",
      "metadata": {
        "id": "2pgeA03VfN0o",
        "colab_type": "text"
      },
      "source": [
        "### Intialize Variables"
      ]
    },
    {
      "cell_type": "code",
      "metadata": {
        "id": "b6p_q-h8fN0p",
        "colab_type": "code",
        "colab": {}
      },
      "source": [
        "init = tf.global_variables_initializer()"
      ],
      "execution_count": 0,
      "outputs": []
    },
    {
      "cell_type": "code",
      "metadata": {
        "id": "IJBnGN8bfN0r",
        "colab_type": "code",
        "colab": {}
      },
      "source": [
        "saver = tf.train.Saver()"
      ],
      "execution_count": 0,
      "outputs": []
    },
    {
      "cell_type": "markdown",
      "metadata": {
        "id": "uJSc-_gtfN0s",
        "colab_type": "text"
      },
      "source": [
        "### Session"
      ]
    },
    {
      "cell_type": "code",
      "metadata": {
        "id": "sCgyHGU9fN0s",
        "colab_type": "code",
        "colab": {}
      },
      "source": [
        "mel = MelHelper()\n",
        "mel.set_up_images()"
      ],
      "execution_count": 0,
      "outputs": []
    },
    {
      "cell_type": "code",
      "metadata": {
        "scrolled": false,
        "id": "LvFchSc7fN0v",
        "colab_type": "code",
        "colab": {}
      },
      "source": [
        "steps = 10001\n",
        "import time\n",
        "batch_size = 1\n",
        "\n",
        "#use Cifar_helper to set up next batch\n",
        "with tf.Session() as sess:\n",
        "    sess.run(init)\n",
        "    print(\"done init\")\n",
        "    \n",
        "    start_time = time.clock()\n",
        "    \n",
        "    for i in range(steps): \n",
        "        batch_x, batch_y = mel.next_batch(batch_size)\n",
        "        #print(i)\n",
        "        #print(\"\\n\")\n",
        "        \n",
        "        #print(\"batch training labels shape is \", batch_y.shape)\n",
        "        #print(\"batch training labels type is \", batch_y.dtype)\n",
        "        #print(\"batch training labels are \", batch_y)\n",
        "        #print(\"batch training data are \", batch_x)\n",
        "        #image = batch_y.reshape(-1,21,28)[5,:,:]\n",
        "        sess.run(train,feed_dict={x:batch_x,y_true:batch_y,hold_prob:0.5})\n",
        "        #print(\"batch training prediction are \", batch_y)\n",
        "        #image_pred = sess.run(y_pred,feed_dict={x:batch_x,y_true:batch_y,hold_prob:1.0} ).reshape(-1,21,28)[5,:,:]\n",
        "        #image_pred = np.round(1/(1 + np.exp(-image_pred)))\n",
        "        \n",
        "        if i%100 == 0:\n",
        "            print('Currently on step {}'.format(i))\n",
        "            print(\"the time is \", time.clock() - start_time, \"\\n\")\n",
        "             #print(\"mel i is \", mel.i)\n",
        "             #plt.imshow(image)\n",
        "             #plt.show()\n",
        "             #plt.imshow(image_pred)\n",
        "             #plt.show()\n",
        "            \n",
        "            #print('Currently on step {}'.format(i))\n",
        "            #print('Accuracy is:')\n",
        "            # Test the Train Model\n",
        "            #matches = tf.equal(tf.argmax(y_pred,1),tf.argmax(y_true,1))\n",
        "\n",
        "            #acc = tf.reduce_mean(tf.cast(matches,tf.float32))\n",
        "\n",
        "            pred = tf.round(1/(1 + tf.exp(-tf.reshape(y_pred, [-1,21,28]))))\n",
        "            true = tf.reshape(y_true, [-1,21,28])\n",
        "          \n",
        "            # Test the Train Model\n",
        "            #matches = tf.equal(tf.argmax(y_pred,1),tf.argmax(y_true,1))  ###REPLACE THIS LINE TO INCLUDE JACARD INDEX####\n",
        "            #y_pred = tf.round(y_pred)\n",
        "            #y_true = tf.round(y_true)\n",
        "            \n",
        "            intersect = tf.reduce_sum(tf.cast(true*pred, tf.float32), axis = [1,2])\n",
        "            union = tf.reduce_sum(tf.cast(pred, tf.float32), axis = [1,2]) + tf.reduce_sum(tf.cast(true, tf.float32), axis = [1,2]) - intersect  #think this has an error\n",
        "            jacc = intersect/union\n",
        "            #acc = tf.reduce_mean(tf.cast(intersect,tf.float32))\n",
        "            #print(\"test labels shape is \", mel.test_labels.shape)\n",
        "            #print(\"\\n\")\n",
        "            \n",
        "            print('Avg Jacc is:')\n",
        "            J_out = sess.run([jacc, pred],feed_dict={x:mel.test_images,y_true:mel.test_labels,hold_prob:1.0})\n",
        "            print(np.sum(J_out[0])/J_out[0].shape[0], \" step number is \",  i, \" batch_size is \", batch_size)\n",
        "            #if i == 500:\n",
        "                #batch_size = 20\n",
        "            #if i == 25000:\n",
        "                #batch_size = 200\n",
        "            \n",
        "            #print out Jacc for training set and test set, Save Jacc and entropy to variable,\n",
        "            #print out step number\n",
        "            \n",
        "            #use larger pics\n",
        "            #print out and analyse cross entropy\n",
        "            #run with full training batch for several iterations\n",
        "            #pred = sess.run(pred,feed_dict={x:mel.test_images,y_true:mel.test_labels,hold_prob:1.0})\n",
        "            \n",
        "        if i == steps - 1:\n",
        "            \n",
        "            pred_pigment = sess.run([pred],feed_dict={x:pigs,hold_prob:1.0})\n",
        "            \n",
        "        #save_path = saver.save(sess, \"./model.ckpt\")"
      ],
      "execution_count": 0,
      "outputs": []
    },
    {
      "cell_type": "markdown",
      "metadata": {
        "id": "ozKxJoKafN0x",
        "colab_type": "text"
      },
      "source": [
        "## Great Job!"
      ]
    },
    {
      "cell_type": "code",
      "metadata": {
        "id": "aPBW3tGrfN0x",
        "colab_type": "code",
        "colab": {}
      },
      "source": [
        "plt.imshow(pred_pigment[0][5,:,:])\n",
        "plt.show()"
      ],
      "execution_count": 0,
      "outputs": []
    },
    {
      "cell_type": "code",
      "metadata": {
        "id": "F065GTgDfN0y",
        "colab_type": "code",
        "colab": {}
      },
      "source": [
        "pigs.shape"
      ],
      "execution_count": 0,
      "outputs": []
    },
    {
      "cell_type": "code",
      "metadata": {
        "id": "hpT_cK9NfN01",
        "colab_type": "code",
        "colab": {}
      },
      "source": [
        "pred_pigment[0].shape"
      ],
      "execution_count": 0,
      "outputs": []
    },
    {
      "cell_type": "code",
      "metadata": {
        "id": "Zxfv9B0wfN03",
        "colab_type": "code",
        "colab": {}
      },
      "source": [
        "plt.imshow(pigment_image_show)\n",
        "plt.show()"
      ],
      "execution_count": 0,
      "outputs": []
    },
    {
      "cell_type": "code",
      "metadata": {
        "id": "JAPOpkOnfN05",
        "colab_type": "code",
        "colab": {}
      },
      "source": [
        "mask = np.zeros([21,28,3])#np.vstack([pred_pigment[0],pred_pigment[0],pred_pigment[0]])\n",
        "mask[:,:,0] = pred_pigment[0][0,:,:]\n",
        "mask[:,:,1] = pred_pigment[0][0,:,:]\n",
        "mask[:,:,2] = pred_pigment[0][0,:,:]\n",
        "#mask = 1-mask\n",
        "#mask = mask.astype(int)\n",
        "\n",
        "image = pigment_image_show\n",
        "#image[mask] = 0\n",
        "image2 = image*mask*255\n",
        "image1 = image*(1- mask)*255\n"
      ],
      "execution_count": 0,
      "outputs": []
    },
    {
      "cell_type": "code",
      "metadata": {
        "id": "sUdEkyQDfN06",
        "colab_type": "code",
        "colab": {}
      },
      "source": [
        "plt.imshow(image2)\n",
        "plt.show()"
      ],
      "execution_count": 0,
      "outputs": []
    },
    {
      "cell_type": "code",
      "metadata": {
        "id": "UOT68oxRfN08",
        "colab_type": "code",
        "colab": {}
      },
      "source": [
        "plt.imshow(image1)\n",
        "plt.show()"
      ],
      "execution_count": 0,
      "outputs": []
    },
    {
      "cell_type": "code",
      "metadata": {
        "id": "ajywFtjAfN09",
        "colab_type": "code",
        "colab": {}
      },
      "source": [
        "image2[:,:,0].shape"
      ],
      "execution_count": 0,
      "outputs": []
    },
    {
      "cell_type": "code",
      "metadata": {
        "id": "K24a-3W1fN0_",
        "colab_type": "code",
        "colab": {}
      },
      "source": [
        "red = image2[:,:,0].reshape(-1)"
      ],
      "execution_count": 0,
      "outputs": []
    },
    {
      "cell_type": "code",
      "metadata": {
        "id": "ONqRmNbgfN1A",
        "colab_type": "code",
        "colab": {}
      },
      "source": [
        "plt.hist(red, bins = 500, range = (0.1, red.max()))"
      ],
      "execution_count": 0,
      "outputs": []
    },
    {
      "cell_type": "code",
      "metadata": {
        "id": "Dx1I2TsyfN1B",
        "colab_type": "code",
        "colab": {}
      },
      "source": [
        "plt.show()"
      ],
      "execution_count": 0,
      "outputs": []
    },
    {
      "cell_type": "code",
      "metadata": {
        "id": "sr2dpX_dfN1C",
        "colab_type": "code",
        "colab": {}
      },
      "source": [
        "a2 = np.average(red, weights = mask[:,:,0].reshape(-1))"
      ],
      "execution_count": 0,
      "outputs": []
    },
    {
      "cell_type": "code",
      "metadata": {
        "id": "Jevzwut9fN1E",
        "colab_type": "code",
        "colab": {}
      },
      "source": [
        "a2"
      ],
      "execution_count": 0,
      "outputs": []
    },
    {
      "cell_type": "code",
      "metadata": {
        "id": "7BHV-xfHfN1F",
        "colab_type": "code",
        "colab": {}
      },
      "source": [
        "mask[0].shape"
      ],
      "execution_count": 0,
      "outputs": []
    },
    {
      "cell_type": "code",
      "metadata": {
        "id": "qs855rM1fN1G",
        "colab_type": "code",
        "colab": {}
      },
      "source": [
        "red_norm = image1[:,:,0].reshape(-1)"
      ],
      "execution_count": 0,
      "outputs": []
    },
    {
      "cell_type": "code",
      "metadata": {
        "id": "ea9StQEufN1H",
        "colab_type": "code",
        "colab": {}
      },
      "source": [
        "plt.hist(red_norm, bins = 500, range = (0.1, red_norm.max()))"
      ],
      "execution_count": 0,
      "outputs": []
    },
    {
      "cell_type": "code",
      "metadata": {
        "id": "l3Q9PxaWfN1I",
        "colab_type": "code",
        "colab": {}
      },
      "source": [
        "plt.show()"
      ],
      "execution_count": 0,
      "outputs": []
    },
    {
      "cell_type": "code",
      "metadata": {
        "id": "u2KHoacjfN1J",
        "colab_type": "code",
        "colab": {}
      },
      "source": [
        "mask_inv = 1-mask"
      ],
      "execution_count": 0,
      "outputs": []
    },
    {
      "cell_type": "code",
      "metadata": {
        "id": "rHWWM8OpfN1K",
        "colab_type": "code",
        "colab": {}
      },
      "source": [
        "a1 = np.average(red_norm, weights =mask_inv[:,:,0].reshape(-1))"
      ],
      "execution_count": 0,
      "outputs": []
    },
    {
      "cell_type": "code",
      "metadata": {
        "id": "erjg3_0VfN1L",
        "colab_type": "code",
        "colab": {}
      },
      "source": [
        "mask_inv.shape"
      ],
      "execution_count": 0,
      "outputs": []
    },
    {
      "cell_type": "code",
      "metadata": {
        "id": "EBVZiGiAfN1L",
        "colab_type": "code",
        "colab": {}
      },
      "source": [
        "a1"
      ],
      "execution_count": 0,
      "outputs": []
    },
    {
      "cell_type": "code",
      "metadata": {
        "id": "npZUBCrTfN1M",
        "colab_type": "code",
        "colab": {}
      },
      "source": [
        "a1 - a2"
      ],
      "execution_count": 0,
      "outputs": []
    },
    {
      "cell_type": "code",
      "metadata": {
        "id": "m6Tn1RcofN1N",
        "colab_type": "code",
        "colab": {}
      },
      "source": [
        "blue = image2[:,:,2].reshape(-1)"
      ],
      "execution_count": 0,
      "outputs": []
    },
    {
      "cell_type": "code",
      "metadata": {
        "id": "8uc36qqjfN1O",
        "colab_type": "code",
        "colab": {}
      },
      "source": [
        "blue_norm = image1[:,:,2].reshape(-1)"
      ],
      "execution_count": 0,
      "outputs": []
    },
    {
      "cell_type": "code",
      "metadata": {
        "id": "pYlWlxbXfN1Q",
        "colab_type": "code",
        "colab": {}
      },
      "source": [
        "plt.hist(blue, bins = 500, range = (0.1, blue.max()))\n",
        "plt.show()"
      ],
      "execution_count": 0,
      "outputs": []
    },
    {
      "cell_type": "code",
      "metadata": {
        "id": "Z_tMSOZzfN1R",
        "colab_type": "code",
        "colab": {}
      },
      "source": [
        "plt.hist(blue_norm, bins = 500, range = (0.1, blue_norm.max()))\n",
        "plt.figure()\n",
        "plt.show()"
      ],
      "execution_count": 0,
      "outputs": []
    },
    {
      "cell_type": "code",
      "metadata": {
        "id": "I5dc6TdTfN1S",
        "colab_type": "code",
        "colab": {}
      },
      "source": [
        "def measure_progress(pigs,masks):\n",
        "    blue_pigs = []\n",
        "    blue_norms = []\n",
        "    imagesp = []\n",
        "    imagesn = []\n",
        "    i = 0\n",
        "    for pig in pigs:\n",
        "        mask = np.zeros([21,28,3])#np.vstack([pred_pigment[0],pred_pigment[0],pred_pigment[0]])\n",
        "        mask[:,:,0] = pred_pigment[0][i,:,:]\n",
        "        mask[:,:,1] = pred_pigment[0][i,:,:]\n",
        "        mask[:,:,2] = pred_pigment[0][i,:,:]\n",
        "        mask_inv = 1- mask\n",
        "        imagep = pig*mask*255\n",
        "        imagen = pig*(1- mask)*255\n",
        "        imagesp += [imagep]\n",
        "        imagesn += [imagen]\n",
        "        blue_norm = imagen[:,:,2].reshape(-1)\n",
        "        blue_pig = imagep[:,:,2].reshape(-1)\n",
        "        an = np.average(blue_norm, weights =mask_inv[:,:,2].reshape(-1))\n",
        "        ap = np.average(blue_pig, weights =mask[:,:,2].reshape(-1))\n",
        "        blue_pigs += [ap]\n",
        "        blue_norms += [an]\n",
        "        i+=1\n",
        "    blue_pigs = np.array(blue_pigs)\n",
        "    blue_norms = np.array(blue_norms)\n",
        "    return(blue_pigs, blue_norms, imagesp, imagesn)"
      ],
      "execution_count": 0,
      "outputs": []
    },
    {
      "cell_type": "code",
      "metadata": {
        "id": "0Gl1CurMfN1T",
        "colab_type": "code",
        "colab": {}
      },
      "source": [
        "pigmented, normal, imagesp, imagesn = measure_progress(pigs,pred_pigment)"
      ],
      "execution_count": 0,
      "outputs": []
    },
    {
      "cell_type": "code",
      "metadata": {
        "id": "hIybHR8HfN1U",
        "colab_type": "code",
        "colab": {}
      },
      "source": [
        "J_out[1].shape"
      ],
      "execution_count": 0,
      "outputs": []
    },
    {
      "cell_type": "code",
      "metadata": {
        "id": "SFU1gqlwfN1V",
        "colab_type": "code",
        "colab": {}
      },
      "source": [
        "pigmented"
      ],
      "execution_count": 0,
      "outputs": []
    },
    {
      "cell_type": "code",
      "metadata": {
        "id": "OGl5P8_DfN1W",
        "colab_type": "code",
        "colab": {}
      },
      "source": [
        "normal"
      ],
      "execution_count": 0,
      "outputs": []
    },
    {
      "cell_type": "code",
      "metadata": {
        "id": "SI0Ug5XQfN1X",
        "colab_type": "code",
        "colab": {}
      },
      "source": [
        "plt.plot(normal - pigmented)"
      ],
      "execution_count": 0,
      "outputs": []
    },
    {
      "cell_type": "code",
      "metadata": {
        "id": "2Y-HM_QTfN1X",
        "colab_type": "code",
        "colab": {}
      },
      "source": [
        "plt.plot(normal)"
      ],
      "execution_count": 0,
      "outputs": []
    },
    {
      "cell_type": "code",
      "metadata": {
        "id": "hPauIGdCfN1Y",
        "colab_type": "code",
        "colab": {}
      },
      "source": [
        "plt.plot(pigmented)"
      ],
      "execution_count": 0,
      "outputs": []
    },
    {
      "cell_type": "code",
      "metadata": {
        "id": "EKYExBeMfN1Z",
        "colab_type": "code",
        "colab": {}
      },
      "source": [
        "plt.imshow(imagesp[0])"
      ],
      "execution_count": 0,
      "outputs": []
    },
    {
      "cell_type": "code",
      "metadata": {
        "id": "RGbveiABfN1a",
        "colab_type": "code",
        "colab": {}
      },
      "source": [
        "plt.imshow(imagesp[1])"
      ],
      "execution_count": 0,
      "outputs": []
    },
    {
      "cell_type": "code",
      "metadata": {
        "id": "QLx2lHwtfN1b",
        "colab_type": "code",
        "colab": {}
      },
      "source": [
        "plt.imshow(imagesp[2])"
      ],
      "execution_count": 0,
      "outputs": []
    },
    {
      "cell_type": "code",
      "metadata": {
        "id": "X5_39MM-fN1d",
        "colab_type": "code",
        "colab": {}
      },
      "source": [
        "plt.imshow(imagesp[3])"
      ],
      "execution_count": 0,
      "outputs": []
    },
    {
      "cell_type": "code",
      "metadata": {
        "id": "p3d7xIRpfN1e",
        "colab_type": "code",
        "colab": {}
      },
      "source": [
        "plt.imshow(imagesp[4])"
      ],
      "execution_count": 0,
      "outputs": []
    },
    {
      "cell_type": "code",
      "metadata": {
        "id": "lVuabyyffN1f",
        "colab_type": "code",
        "colab": {}
      },
      "source": [
        "plt.imshow(imagesp[5])"
      ],
      "execution_count": 0,
      "outputs": []
    },
    {
      "cell_type": "code",
      "metadata": {
        "id": "ecXz5Qg2fN1g",
        "colab_type": "code",
        "colab": {}
      },
      "source": [
        "plt.imshow(imagesp[6])"
      ],
      "execution_count": 0,
      "outputs": []
    },
    {
      "cell_type": "code",
      "metadata": {
        "id": "vljOjV8AfN1g",
        "colab_type": "code",
        "colab": {}
      },
      "source": [
        "plt.imshow(imagesp[7])"
      ],
      "execution_count": 0,
      "outputs": []
    },
    {
      "cell_type": "code",
      "metadata": {
        "id": "20qm-GS0fN1h",
        "colab_type": "code",
        "colab": {}
      },
      "source": [
        "plt.imshow(imagesp[8])"
      ],
      "execution_count": 0,
      "outputs": []
    },
    {
      "cell_type": "code",
      "metadata": {
        "id": "_raVEmR1fN1j",
        "colab_type": "code",
        "colab": {}
      },
      "source": [
        "plt.imshow(imagesp[9])"
      ],
      "execution_count": 0,
      "outputs": []
    },
    {
      "cell_type": "code",
      "metadata": {
        "id": "jLG0X9zwfN1l",
        "colab_type": "code",
        "colab": {}
      },
      "source": [
        "plt.imshow(imagesp[10])"
      ],
      "execution_count": 0,
      "outputs": []
    },
    {
      "cell_type": "code",
      "metadata": {
        "id": "551fWebzfN1m",
        "colab_type": "code",
        "colab": {}
      },
      "source": [
        "pigmented[0]"
      ],
      "execution_count": 0,
      "outputs": []
    },
    {
      "cell_type": "code",
      "metadata": {
        "id": "mD9EF_yxfN1m",
        "colab_type": "code",
        "colab": {}
      },
      "source": [
        "pigmented[10]"
      ],
      "execution_count": 0,
      "outputs": []
    },
    {
      "cell_type": "code",
      "metadata": {
        "id": "ks9ZDXfWfN1n",
        "colab_type": "code",
        "colab": {}
      },
      "source": [
        "plt.imshow(imagesp[0])"
      ],
      "execution_count": 0,
      "outputs": []
    },
    {
      "cell_type": "code",
      "metadata": {
        "id": "lqMFsSngfN1o",
        "colab_type": "code",
        "colab": {}
      },
      "source": [
        "plt.imshow(imagesp[11])"
      ],
      "execution_count": 0,
      "outputs": []
    },
    {
      "cell_type": "code",
      "metadata": {
        "id": "FHHB-0G2fN1p",
        "colab_type": "code",
        "colab": {}
      },
      "source": [
        "plt.imshow(imagesp[12])"
      ],
      "execution_count": 0,
      "outputs": []
    },
    {
      "cell_type": "code",
      "metadata": {
        "id": "ZgSGsY2YfN1q",
        "colab_type": "code",
        "colab": {}
      },
      "source": [
        "plt.imshow(imagesp[13])"
      ],
      "execution_count": 0,
      "outputs": []
    },
    {
      "cell_type": "code",
      "metadata": {
        "id": "s4TjKPuQfN1s",
        "colab_type": "code",
        "colab": {}
      },
      "source": [
        "plt.imshow(imagesp[14])"
      ],
      "execution_count": 0,
      "outputs": []
    },
    {
      "cell_type": "code",
      "metadata": {
        "id": "5yDzxusDfN1t",
        "colab_type": "code",
        "colab": {}
      },
      "source": [
        "plt.imshow(imagesp[15])"
      ],
      "execution_count": 0,
      "outputs": []
    },
    {
      "cell_type": "code",
      "metadata": {
        "id": "px8uG7stfN1t",
        "colab_type": "code",
        "colab": {}
      },
      "source": [
        "plt.imshow(imagesp[16])"
      ],
      "execution_count": 0,
      "outputs": []
    },
    {
      "cell_type": "code",
      "metadata": {
        "id": "WCVqCLpcfN1u",
        "colab_type": "code",
        "colab": {}
      },
      "source": [
        "plt.imshow(imagesp[17])"
      ],
      "execution_count": 0,
      "outputs": []
    },
    {
      "cell_type": "code",
      "metadata": {
        "id": "1UXuk8sxfN1x",
        "colab_type": "code",
        "colab": {}
      },
      "source": [
        "plt.imshow(imagesp[18])"
      ],
      "execution_count": 0,
      "outputs": []
    },
    {
      "cell_type": "code",
      "metadata": {
        "id": "hbx4K_-9fN1y",
        "colab_type": "code",
        "colab": {}
      },
      "source": [
        "plt.imshow(imagesp[19])"
      ],
      "execution_count": 0,
      "outputs": []
    },
    {
      "cell_type": "code",
      "metadata": {
        "id": "e6MwZhmyfN1y",
        "colab_type": "code",
        "colab": {}
      },
      "source": [
        "plt.imshow(imagesp[20])"
      ],
      "execution_count": 0,
      "outputs": []
    },
    {
      "cell_type": "code",
      "metadata": {
        "id": "L2t3dY8EfN11",
        "colab_type": "code",
        "colab": {}
      },
      "source": [
        "plt.imshow(imagesp[21])"
      ],
      "execution_count": 0,
      "outputs": []
    },
    {
      "cell_type": "code",
      "metadata": {
        "id": "DuGQCCKnfN11",
        "colab_type": "code",
        "colab": {}
      },
      "source": [
        "plt.imshow(imagesp[22])"
      ],
      "execution_count": 0,
      "outputs": []
    },
    {
      "cell_type": "code",
      "metadata": {
        "id": "ust1UM-LfN15",
        "colab_type": "code",
        "colab": {}
      },
      "source": [
        "plt.imshow(imagesp[23])"
      ],
      "execution_count": 0,
      "outputs": []
    },
    {
      "cell_type": "code",
      "metadata": {
        "id": "hrAjXfnUfN16",
        "colab_type": "code",
        "colab": {}
      },
      "source": [
        "plt.imshow(imagesp[24])"
      ],
      "execution_count": 0,
      "outputs": []
    },
    {
      "cell_type": "code",
      "metadata": {
        "id": "Nig__U98fN16",
        "colab_type": "code",
        "colab": {}
      },
      "source": [
        "plt.imshow(imagesp[25])"
      ],
      "execution_count": 0,
      "outputs": []
    },
    {
      "cell_type": "code",
      "metadata": {
        "id": "i7tRlK70fN17",
        "colab_type": "code",
        "colab": {}
      },
      "source": [
        "plt.imshow(imagesp[26])"
      ],
      "execution_count": 0,
      "outputs": []
    },
    {
      "cell_type": "code",
      "metadata": {
        "id": "xhAjKp-FfN18",
        "colab_type": "code",
        "colab": {}
      },
      "source": [
        "plt.imshow(imagesp[27])"
      ],
      "execution_count": 0,
      "outputs": []
    },
    {
      "cell_type": "code",
      "metadata": {
        "id": "ONZHGxYgfN19",
        "colab_type": "code",
        "colab": {}
      },
      "source": [
        "plt.imshow(imagesp[0])"
      ],
      "execution_count": 0,
      "outputs": []
    },
    {
      "cell_type": "code",
      "metadata": {
        "id": "WBoXOjU6fN1-",
        "colab_type": "code",
        "colab": {}
      },
      "source": [
        "test = normal - pigmented"
      ],
      "execution_count": 0,
      "outputs": []
    },
    {
      "cell_type": "code",
      "metadata": {
        "id": "_3vR3FEkfN1_",
        "colab_type": "code",
        "colab": {}
      },
      "source": [
        "test = np.hstack([test[0:2], test[4:8], test[9:21], test[22:26], test[27]])"
      ],
      "execution_count": 0,
      "outputs": []
    },
    {
      "cell_type": "code",
      "metadata": {
        "id": "eBWPYJQqfN2A",
        "colab_type": "code",
        "colab": {}
      },
      "source": [
        "plt.plot(test)"
      ],
      "execution_count": 0,
      "outputs": []
    },
    {
      "cell_type": "code",
      "metadata": {
        "id": "tUhETHmvfN2B",
        "colab_type": "code",
        "colab": {}
      },
      "source": [
        "filenames"
      ],
      "execution_count": 0,
      "outputs": []
    },
    {
      "cell_type": "code",
      "metadata": {
        "id": "cXZzpi6CfN2C",
        "colab_type": "code",
        "colab": {}
      },
      "source": [
        "normal = np.hstack([normal[0:2], normal[12], normal[21:28], normal[2:12], normal[13:20]])"
      ],
      "execution_count": 0,
      "outputs": []
    },
    {
      "cell_type": "code",
      "metadata": {
        "id": "xCGAAJMafN2D",
        "colab_type": "code",
        "colab": {}
      },
      "source": [
        "pigmented = np.hstack([pigmented[0:2], pigmented[12], pigmented[21:28], pigmented[2:12], pigmented[13:20]])"
      ],
      "execution_count": 0,
      "outputs": []
    },
    {
      "cell_type": "code",
      "metadata": {
        "id": "8oUhRhYvfN2E",
        "colab_type": "code",
        "colab": {}
      },
      "source": [
        "plt.plot(normal-pigmented)"
      ],
      "execution_count": 0,
      "outputs": []
    },
    {
      "cell_type": "code",
      "metadata": {
        "id": "RQzHMxI8fN2F",
        "colab_type": "code",
        "colab": {}
      },
      "source": [
        "## 26, 21, 2, 3, 8 -> 8,3,10,11,16"
      ],
      "execution_count": 0,
      "outputs": []
    },
    {
      "cell_type": "code",
      "metadata": {
        "id": "DSo5OEV8fN2F",
        "colab_type": "code",
        "colab": {}
      },
      "source": [
        "normal.shape"
      ],
      "execution_count": 0,
      "outputs": []
    },
    {
      "cell_type": "code",
      "metadata": {
        "id": "kuY1yTNrfN2G",
        "colab_type": "code",
        "colab": {}
      },
      "source": [
        "normal = np.hstack([normal[0:3], normal[4:8], normal[9], normal[12:16], normal[17:27]])"
      ],
      "execution_count": 0,
      "outputs": []
    },
    {
      "cell_type": "code",
      "metadata": {
        "id": "PR9K3H7ufN2H",
        "colab_type": "code",
        "colab": {}
      },
      "source": [
        "pigmented = np.hstack([pigmented[0:3], pigmented[4:8], pigmented[9], pigmented[12:16], pigmented[17:27]])"
      ],
      "execution_count": 0,
      "outputs": []
    },
    {
      "cell_type": "code",
      "metadata": {
        "id": "3xtRhAlQfN2I",
        "colab_type": "code",
        "colab": {}
      },
      "source": [
        "new_files_names = np.hstack([filenames[0:3], filenames[4:8], filenames[9], filenames[12:16], filenames[17:27]])"
      ],
      "execution_count": 0,
      "outputs": []
    },
    {
      "cell_type": "code",
      "metadata": {
        "id": "4Bn2MCC6fN2I",
        "colab_type": "code",
        "colab": {}
      },
      "source": [
        "plt.plot(normal-pigmented)"
      ],
      "execution_count": 0,
      "outputs": []
    },
    {
      "cell_type": "code",
      "metadata": {
        "id": "RGsF6DPXfN2L",
        "colab_type": "code",
        "colab": {}
      },
      "source": [
        "plt.plot(pigmented)"
      ],
      "execution_count": 0,
      "outputs": []
    },
    {
      "cell_type": "code",
      "metadata": {
        "id": "edq64hVRfN2M",
        "colab_type": "code",
        "colab": {}
      },
      "source": [
        "plt.plot(normal)"
      ],
      "execution_count": 0,
      "outputs": []
    },
    {
      "cell_type": "code",
      "metadata": {
        "id": "mKzE4nHQfN2N",
        "colab_type": "code",
        "colab": {}
      },
      "source": [
        "plt.plot(pigmented/normal)"
      ],
      "execution_count": 0,
      "outputs": []
    },
    {
      "cell_type": "code",
      "metadata": {
        "id": "AlBabwzifN2N",
        "colab_type": "code",
        "colab": {}
      },
      "source": [
        "plt.plot((normal - pigmented)/normal)"
      ],
      "execution_count": 0,
      "outputs": []
    },
    {
      "cell_type": "code",
      "metadata": {
        "id": "QgYrZGrXfN2O",
        "colab_type": "code",
        "colab": {}
      },
      "source": [
        "new_files_names"
      ],
      "execution_count": 0,
      "outputs": []
    },
    {
      "cell_type": "code",
      "metadata": {
        "id": "KTrCVmMOfN2P",
        "colab_type": "code",
        "colab": {}
      },
      "source": [
        "plt.imshow(imagesp[12])"
      ],
      "execution_count": 0,
      "outputs": []
    },
    {
      "cell_type": "code",
      "metadata": {
        "id": "ZtyHpfeIfN2Q",
        "colab_type": "code",
        "colab": {}
      },
      "source": [
        ""
      ],
      "execution_count": 0,
      "outputs": []
    },
    {
      "cell_type": "code",
      "metadata": {
        "id": "0-fgJ663fN2U",
        "colab_type": "code",
        "colab": {}
      },
      "source": [
        ""
      ],
      "execution_count": 0,
      "outputs": []
    },
    {
      "cell_type": "markdown",
      "metadata": {
        "id": "AT9oUH6HujIw",
        "colab_type": "text"
      },
      "source": [
        ""
      ]
    }
  ]
}