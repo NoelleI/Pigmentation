{
  "nbformat": 4,
  "nbformat_minor": 0,
  "metadata": {
    "colab": {
      "name": "Smaller-Melanoma-with-CNN-with-Sigmoid-4-Pigmentation-rotate-flip.ipynb",
      "version": "0.3.2",
      "provenance": [],
      "toc_visible": true,
      "include_colab_link": true
    },
    "language_info": {
      "codemirror_mode": {
        "name": "ipython",
        "version": 3
      },
      "file_extension": ".py",
      "mimetype": "text/x-python",
      "name": "python",
      "nbconvert_exporter": "python",
      "pygments_lexer": "ipython3",
      "version": "3.5.4"
    },
    "kernelspec": {
      "name": "python3",
      "display_name": "Python 3"
    },
    "accelerator": "TPU"
  },
  "cells": [
    {
      "cell_type": "markdown",
      "metadata": {
        "id": "view-in-github",
        "colab_type": "text"
      },
      "source": [
        "<a href=\"https://colab.research.google.com/github/NoelleI/Pigmentation/blob/master/Smaller_Melanoma_with_CNN_with_Sigmoid_4_Pigmentation_rotate_flip.ipynb\" target=\"_parent\"><img src=\"https://colab.research.google.com/assets/colab-badge.svg\" alt=\"Open In Colab\"/></a>"
      ]
    },
    {
      "cell_type": "markdown",
      "metadata": {
        "id": "241BvQNpfNyB",
        "colab_type": "text"
      },
      "source": [
        "# Melanoma with CNN"
      ]
    },
    {
      "cell_type": "markdown",
      "metadata": {
        "id": "HPubA4t4fNyC",
        "colab_type": "text"
      },
      "source": [
        "This analysis trains a neural network to perform segmentation on melanoma data and then applies the algorithm to segment a pigmentation lesion"
      ]
    },
    {
      "cell_type": "markdown",
      "metadata": {
        "id": "A0VaxmP22GVM",
        "colab_type": "text"
      },
      "source": [
        "This line clones the github repository so that data may be accessed and the file can be saved there"
      ]
    },
    {
      "cell_type": "code",
      "metadata": {
        "id": "ddSl392jIi_w",
        "colab_type": "code",
        "outputId": "e25c3c4f-57ae-496d-da7f-4b4ce31e2ddc",
        "colab": {
          "base_uri": "https://localhost:8080/",
          "height": 34
        }
      },
      "source": [
        "!git clone https://github.com/NoelleI/Pigmentation.git"
      ],
      "execution_count": 74,
      "outputs": [
        {
          "output_type": "stream",
          "text": [
            "fatal: destination path 'Pigmentation' already exists and is not an empty directory.\n"
          ],
          "name": "stdout"
        }
      ]
    },
    {
      "cell_type": "markdown",
      "metadata": {
        "id": "3cswYjth4ck7",
        "colab_type": "text"
      },
      "source": [
        "This mounts Google Drive to access the ~10G melanoma photo data sets\n",
        "\n",
        "1.   List item\n",
        "2.   List item\n",
        "\n"
      ]
    },
    {
      "cell_type": "code",
      "metadata": {
        "id": "8ReR4v01td3m",
        "colab_type": "code",
        "colab": {}
      },
      "source": [
        "#from google.colab import drive\n",
        "#drive.mount('/content/gdrive', force_remount=True) "
      ],
      "execution_count": 0,
      "outputs": []
    },
    {
      "cell_type": "code",
      "metadata": {
        "id": "efKvkEMKfNyD",
        "colab_type": "code",
        "outputId": "f5e5cbb5-257f-44d3-e8c0-2b8bb2d31af9",
        "colab": {
          "base_uri": "https://localhost:8080/",
          "height": 34
        }
      },
      "source": [
        "import tensorflow as tf\n",
        "import matplotlib\n",
        "import matplotlib.image as mpimg\n",
        "import os\n",
        "%matplotlib inline\n",
        "# First, load the image\n",
        "#dir_path = os.path.dirname(os.path.realpath(__file__))\n",
        "filename = \"./Pigmentation/pigmentation.png\"\n",
        "\n",
        "# Load the image\n",
        "pigment_image = mpimg.imread(filename)\n",
        "\n",
        "# Print out its shape\n",
        "print(pigment_image.shape)\n"
      ],
      "execution_count": 76,
      "outputs": [
        {
          "output_type": "stream",
          "text": [
            "(689, 898, 3)\n"
          ],
          "name": "stdout"
        }
      ]
    },
    {
      "cell_type": "code",
      "metadata": {
        "id": "o0fuEbnzfNyJ",
        "colab_type": "code",
        "colab": {
          "base_uri": "https://localhost:8080/",
          "height": 34
        },
        "outputId": "7f08425b-4303-4951-fd51-256f5fd35d96"
      },
      "source": [
        "pwd"
      ],
      "execution_count": 77,
      "outputs": [
        {
          "output_type": "execute_result",
          "data": {
            "text/plain": [
              "'/content'"
            ]
          },
          "metadata": {
            "tags": []
          },
          "execution_count": 77
        }
      ]
    },
    {
      "cell_type": "code",
      "metadata": {
        "id": "8r-Pb0MCfNyM",
        "colab_type": "code",
        "colab": {
          "base_uri": "https://localhost:8080/",
          "height": 269
        },
        "outputId": "1fd7f545-f336-4ca6-b78d-2f186ff56420"
      },
      "source": [
        "import matplotlib.pyplot as plt\n",
        "plt.imshow(pigment_image)\n",
        "plt.show()"
      ],
      "execution_count": 78,
      "outputs": [
        {
          "output_type": "display_data",
          "data": {
            "image/png": "[encoded data removed]",
            "text/plain": [
              "<Figure size 432x288 with 1 Axes>"
            ]
          },
          "metadata": {
            "tags": []
          }
        }
      ]
    },
    {
      "cell_type": "code",
      "metadata": {
        "id": "XRiNFY6gfNyP",
        "colab_type": "code",
        "colab": {
          "base_uri": "https://localhost:8080/",
          "height": 34
        },
        "outputId": "e9b781dd-e8f7-4893-ef31-cb7e3b9b5fc8"
      },
      "source": [
        "pigment_image.shape"
      ],
      "execution_count": 79,
      "outputs": [
        {
          "output_type": "execute_result",
          "data": {
            "text/plain": [
              "(689, 898, 3)"
            ]
          },
          "metadata": {
            "tags": []
          },
          "execution_count": 79
        }
      ]
    },
    {
      "cell_type": "code",
      "metadata": {
        "id": "V1ccZ5owfNyR",
        "colab_type": "code",
        "colab": {}
      },
      "source": [
        "import skimage\n",
        "pigment_image_resized = skimage.transform.resize(pigment_image, (96,128,3))\n"
      ],
      "execution_count": 0,
      "outputs": []
    },
    {
      "cell_type": "code",
      "metadata": {
        "id": "MqpbxiAQfNyT",
        "colab_type": "code",
        "colab": {}
      },
      "source": [
        "##note: in order to discern the melanin content, it will be necessary to understand how this resizing algorithm works: does it take a maximum value? What does it use?"
      ],
      "execution_count": 0,
      "outputs": []
    },
    {
      "cell_type": "code",
      "metadata": {
        "id": "vDWN9Rp5fNyV",
        "colab_type": "code",
        "colab": {
          "base_uri": "https://localhost:8080/",
          "height": 269
        },
        "outputId": "aafce5fa-194a-4ba2-c7d2-722f0a1e5ec0"
      },
      "source": [
        "plt.imshow(pigment_image_resized)\n",
        "plt.show()"
      ],
      "execution_count": 82,
      "outputs": [
        {
          "output_type": "display_data",
          "data": {
            "image/png": "[encoded data removed]",
            "text/plain": [
              "<Figure size 432x288 with 1 Axes>"
            ]
          },
          "metadata": {
            "tags": []
          }
        }
      ]
    },
    {
      "cell_type": "code",
      "metadata": {
        "id": "u8c0wI8hfNyX",
        "colab_type": "code",
        "colab": {
          "base_uri": "https://localhost:8080/",
          "height": 34
        },
        "outputId": "724e704f-3994-4840-a880-920df3c57864"
      },
      "source": [
        "type(pigment_image)"
      ],
      "execution_count": 83,
      "outputs": [
        {
          "output_type": "execute_result",
          "data": {
            "text/plain": [
              "numpy.ndarray"
            ]
          },
          "metadata": {
            "tags": []
          },
          "execution_count": 83
        }
      ]
    },
    {
      "cell_type": "code",
      "metadata": {
        "id": "_gV5JVt3fNya",
        "colab_type": "code",
        "colab": {}
      },
      "source": [
        "import numpy as np\n",
        "pigment_image_show = pigment_image_resized\n",
        "pigment_image_resized = np.reshape(pigment_image_resized, [1,96,128,3])"
      ],
      "execution_count": 0,
      "outputs": []
    },
    {
      "cell_type": "code",
      "metadata": {
        "id": "CQ48pRh55Xv7",
        "colab_type": "code",
        "colab": {
          "base_uri": "https://localhost:8080/",
          "height": 34
        },
        "outputId": "adcfb074-a01e-41c7-a019-f32a1e4c5435"
      },
      "source": [
        "import scipy\n",
        "scipy.__version__"
      ],
      "execution_count": 85,
      "outputs": [
        {
          "output_type": "execute_result",
          "data": {
            "text/plain": [
              "'1.0.0'"
            ]
          },
          "metadata": {
            "tags": []
          },
          "execution_count": 85
        }
      ]
    },
    {
      "cell_type": "code",
      "metadata": {
        "colab_type": "code",
        "id": "tBqV9RTtmYOX",
        "colab": {
          "base_uri": "https://localhost:8080/",
          "height": 51
        },
        "outputId": "5010d74c-75d0-4403-ee04-14f53ec33ea1"
      },
      "source": [
        " pip install scipy==1.0.0"
      ],
      "execution_count": 86,
      "outputs": [
        {
          "output_type": "stream",
          "text": [
            "Requirement already satisfied: scipy==1.0.0 in /usr/local/lib/python3.6/dist-packages (1.0.0)\n",
            "Requirement already satisfied: numpy>=1.8.2 in /usr/local/lib/python3.6/dist-packages (from scipy==1.0.0) (1.16.3)\n"
          ],
          "name": "stdout"
        }
      ]
    },
    {
      "cell_type": "code",
      "metadata": {
        "colab_type": "code",
        "id": "8XHIF5mdmW1X",
        "colab": {
          "base_uri": "https://localhost:8080/",
          "height": 51
        },
        "outputId": "3014e958-fa78-40bd-eba4-45b25c46ee25"
      },
      "source": [
        "!pip install pillow"
      ],
      "execution_count": 87,
      "outputs": [
        {
          "output_type": "stream",
          "text": [
            "Requirement already satisfied: pillow in /usr/local/lib/python3.6/dist-packages (4.3.0)\n",
            "Requirement already satisfied: olefile in /usr/local/lib/python3.6/dist-packages (from pillow) (0.46)\n"
          ],
          "name": "stdout"
        }
      ]
    },
    {
      "cell_type": "code",
      "metadata": {
        "id": "CLb2SmFqfNyc",
        "colab_type": "code",
        "colab": {
          "base_uri": "https://localhost:8080/",
          "height": 85
        },
        "outputId": "e7756fd8-653f-4a9c-bec8-9ce58e2696e1"
      },
      "source": [
        "from scipy import ndimage, misc\n",
        "import re\n",
        "import os\n",
        "#get pigmentation photos\n",
        "pigs = []\n",
        "for root, dirnames, filenames in os.walk(\"./Pigmentation/Pigmentation_photos/Experiment 1/Spot 4\"): \n",
        "    for filename in filenames:\n",
        "        if re.search('d*.PNG', filename):\n",
        "            filepath = os.path.join(root, filename)\n",
        "            pig = ndimage.imread(filepath)\n",
        "            pig_resized = skimage.transform.resize(pig, (96,128,3))  #redo this size or re-size later in Tensorflow\n",
        "            pigs.append(pig_resized)\n",
        "            #filename = filename.split(\".\")\n",
        "            #name = filename[0] + \"2.\" + filename[1]\n",
        "            #print(name)\n",
        "            \n",
        "            #new_path = os.path.join(root, name)\n",
        "            #f = open(new_path, 'w+b')\n",
        "            #misc.imsave(new_path, _seg_resized)\n",
        "            #os.remove(filepath)\n",
        "            #f.close()\n",
        "pigs = np.array(pigs)"
      ],
      "execution_count": 88,
      "outputs": [
        {
          "output_type": "stream",
          "text": [
            "/usr/local/lib/python3.6/dist-packages/ipykernel_launcher.py:10: DeprecationWarning: `imread` is deprecated!\n",
            "`imread` is deprecated in SciPy 1.0.0.\n",
            "Use ``matplotlib.pyplot.imread`` instead.\n",
            "  # Remove the CWD from sys.path while we load stuff.\n"
          ],
          "name": "stderr"
        }
      ]
    },
    {
      "cell_type": "code",
      "metadata": {
        "id": "16YjyKn5fNye",
        "colab_type": "code",
        "colab": {
          "base_uri": "https://localhost:8080/",
          "height": 493
        },
        "outputId": "2d82a3cb-7d68-40fd-a070-383a702f2741"
      },
      "source": [
        "filenames "
      ],
      "execution_count": 89,
      "outputs": [
        {
          "output_type": "execute_result",
          "data": {
            "text/plain": [
              "['9--09-29-pm.PNG',\n",
              " '23--10-28-pm.PNG',\n",
              " '8--09-29-am.PNG',\n",
              " '5--09-27-pm.PNG',\n",
              " '7--09-28-pm.PNG',\n",
              " '14--10-10-am.PNG',\n",
              " '11--10-02-pm.PNG',\n",
              " '15--10-11-pm.PNG',\n",
              " '26--11-10-am.PNG',\n",
              " '27--11-11-pm.PNG',\n",
              " '18--10-14-am.PNG',\n",
              " '10--09-30-pm.PNG',\n",
              " '21--10-120-pm.PNG',\n",
              " '19--10-16-pm.PNG',\n",
              " '16--10-12-pm.PNG',\n",
              " '3--09-25-am.PNG',\n",
              " '25--11-06-pm.PNG',\n",
              " '4--09-25-pm.PNG',\n",
              " '0-0--09-22-pm.PNG',\n",
              " '1-1--09-23-am.PNG',\n",
              " '13--10-06-am.PNG',\n",
              " '20--10-18-pm.PNG',\n",
              " '6--09-28-am.PNG',\n",
              " '12--10-04-pm.PNG',\n",
              " '22--10-25-am.PNG',\n",
              " '17--10-13-am.PNG',\n",
              " '24--11-04-am.PNG',\n",
              " '2--09-23-pm.PNG']"
            ]
          },
          "metadata": {
            "tags": []
          },
          "execution_count": 89
        }
      ]
    },
    {
      "cell_type": "code",
      "metadata": {
        "id": "jtuGqdGLfNyh",
        "colab_type": "code",
        "colab": {
          "base_uri": "https://localhost:8080/",
          "height": 286
        },
        "outputId": "07074fc9-6ecd-4261-dc20-047a8bcd3da1"
      },
      "source": [
        "plt.imshow(pigs[0])\n"
      ],
      "execution_count": 90,
      "outputs": [
        {
          "output_type": "execute_result",
          "data": {
            "text/plain": [
              "<matplotlib.image.AxesImage at 0x7f3cab8e21d0>"
            ]
          },
          "metadata": {
            "tags": []
          },
          "execution_count": 90
        },
        {
          "output_type": "display_data",
          "data": {
            "image/png": "[encoded data removed]",
            "text/plain": [
              "<Figure size 432x288 with 1 Axes>"
            ]
          },
          "metadata": {
            "tags": []
          }
        }
      ]
    },
    {
      "cell_type": "code",
      "metadata": {
        "id": "Pw0kvHibfNyk",
        "colab_type": "code",
        "colab": {}
      },
      "source": [
        "## I created a train-test split in the original upload of files to Google Docs, but I will merge these because I've realized that I can still use train-test split below and it will \n",
        "## randomize the photos each time"
      ],
      "execution_count": 0,
      "outputs": []
    },
    {
      "cell_type": "code",
      "metadata": {
        "id": "7C9-o1mCfNym",
        "colab_type": "code",
        "colab": {
          "base_uri": "https://localhost:8080/",
          "height": 289
        },
        "outputId": "2fe4c07b-7931-47e2-cd13-fd44232ae0c8"
      },
      "source": [
        "\n",
        "#there are 2594 photos\n",
        "images = []\n",
        "for root, dirnames, filenames in os.walk(\"/content/gdrive/My Drive/Batches/ISIC2018_Task1-2_Training_Input_batches\"): #/content/gdrive/My Drive/ISIC2018_Task1-2_Training_Input/ISIC2018_Task1-2_Training_Input\"):\n",
        "    for filename in filenames:\n",
        "            filepath = os.path.join(root, filename)\n",
        "            image = ndimage.imread(filepath, mode=\"RGB\")\n",
        "            image_resized = misc.imresize(image, (48,64,3))  #redo this size or re-size later in Tensorflow ->STORE resized images later\n",
        "            images.append(image_resized)\n",
        "for root, dirnames, filenames in os.walk(\"/content/gdrive/My Drive/Batches/ISIC2018_Task1-2_Testing_Input_batches\"): #/content/gdrive/My Drive/ISIC2018_Task1-2_Training_Input/ISIC2018_Task1-2_Training_Input\"):\n",
        "    for filename in filenames:\n",
        "            filepath = os.path.join(root, filename)\n",
        "            image = ndimage.imread(filepath, mode=\"RGB\")\n",
        "            image_resized = misc.imresize(image, (48,64,3))  #redo this size or re-size later in Tensorflow ->STORE resized images later\n",
        "            images.append(image_resized)            \n",
        "            \n",
        "            \n",
        "            \n",
        "images = np.array(images)"
      ],
      "execution_count": 92,
      "outputs": [
        {
          "output_type": "stream",
          "text": [
            "/usr/local/lib/python3.6/dist-packages/ipykernel_launcher.py:5: DeprecationWarning: `imread` is deprecated!\n",
            "`imread` is deprecated in SciPy 1.0.0.\n",
            "Use ``matplotlib.pyplot.imread`` instead.\n",
            "  \"\"\"\n",
            "/usr/local/lib/python3.6/dist-packages/ipykernel_launcher.py:6: DeprecationWarning: `imresize` is deprecated!\n",
            "`imresize` is deprecated in SciPy 1.0.0, and will be removed in 1.2.0.\n",
            "Use ``skimage.transform.resize`` instead.\n",
            "  \n",
            "/usr/local/lib/python3.6/dist-packages/ipykernel_launcher.py:11: DeprecationWarning: `imread` is deprecated!\n",
            "`imread` is deprecated in SciPy 1.0.0.\n",
            "Use ``matplotlib.pyplot.imread`` instead.\n",
            "  # This is added back by InteractiveShellApp.init_path()\n",
            "/usr/local/lib/python3.6/dist-packages/ipykernel_launcher.py:12: DeprecationWarning: `imresize` is deprecated!\n",
            "`imresize` is deprecated in SciPy 1.0.0, and will be removed in 1.2.0.\n",
            "Use ``skimage.transform.resize`` instead.\n",
            "  if sys.path[0] == '':\n"
          ],
          "name": "stderr"
        }
      ]
    },
    {
      "cell_type": "code",
      "metadata": {
        "id": "Cah1pgUJ5M3r",
        "colab_type": "code",
        "colab": {
          "base_uri": "https://localhost:8080/",
          "height": 34
        },
        "outputId": "03413d03-6524-40d8-ce62-a4e90017b10f"
      },
      "source": [
        "images.shape"
      ],
      "execution_count": 93,
      "outputs": [
        {
          "output_type": "execute_result",
          "data": {
            "text/plain": [
              "(7782, 48, 64, 3)"
            ]
          },
          "metadata": {
            "tags": []
          },
          "execution_count": 93
        }
      ]
    },
    {
      "cell_type": "code",
      "metadata": {
        "id": "YHX6zN6QfNyp",
        "colab_type": "code",
        "colab": {
          "base_uri": "https://localhost:8080/",
          "height": 337
        },
        "outputId": "7acf36b3-f617-4645-9aaf-f732aed4f614"
      },
      "source": [
        "image = images[2580,:,:,:]\n",
        "rotate_image = ndimage.rotate(image, 45)\n",
        "rotate_image = misc.imresize(rotate_image, (48,64,3))\n",
        "plt.imshow(rotate_image)\n",
        "plt.show()"
      ],
      "execution_count": 94,
      "outputs": [
        {
          "output_type": "stream",
          "text": [
            "/usr/local/lib/python3.6/dist-packages/ipykernel_launcher.py:3: DeprecationWarning: `imresize` is deprecated!\n",
            "`imresize` is deprecated in SciPy 1.0.0, and will be removed in 1.2.0.\n",
            "Use ``skimage.transform.resize`` instead.\n",
            "  This is separate from the ipykernel package so we can avoid doing imports until\n"
          ],
          "name": "stderr"
        },
        {
          "output_type": "display_data",
          "data": {
            "image/png": "[encoded data removed]",
            "text/plain": [
              "<Figure size 432x288 with 1 Axes>"
            ]
          },
          "metadata": {
            "tags": []
          }
        }
      ]
    },
    {
      "cell_type": "code",
      "metadata": {
        "id": "ZXWnSaquyMWD",
        "colab_type": "code",
        "colab": {}
      },
      "source": [
        ""
      ],
      "execution_count": 0,
      "outputs": []
    },
    {
      "cell_type": "markdown",
      "metadata": {
        "id": "65gwtHvIyPKN",
        "colab_type": "text"
      },
      "source": [
        "***The images look blurry***"
      ]
    },
    {
      "cell_type": "code",
      "metadata": {
        "scrolled": true,
        "id": "L4oVdioPfNyu",
        "colab_type": "code",
        "colab": {
          "base_uri": "https://localhost:8080/",
          "height": 269
        },
        "outputId": "8ff2730e-04e2-4b5b-f965-90065017420a"
      },
      "source": [
        "image = images[0,:,:,:]\n",
        "plt.imshow(image)\n",
        "plt.show()"
      ],
      "execution_count": 95,
      "outputs": [
        {
          "output_type": "display_data",
          "data": {
            "image/png": "[encoded data removed]",
            "text/plain": [
              "<Figure size 432x288 with 1 Axes>"
            ]
          },
          "metadata": {
            "tags": []
          }
        }
      ]
    },
    {
      "cell_type": "code",
      "metadata": {
        "id": "ua4HcGj1fNyx",
        "colab_type": "code",
        "colab": {
          "base_uri": "https://localhost:8080/",
          "height": 34
        },
        "outputId": "0ebbda59-0107-49ef-8623-a65a4a6bea84"
      },
      "source": [
        "filepath"
      ],
      "execution_count": 96,
      "outputs": [
        {
          "output_type": "execute_result",
          "data": {
            "text/plain": [
              "'/content/gdrive/My Drive/Batches/ISIC2018_Task1-2_Testing_Input_batches/batch10/ISIC_0002673r.jpg'"
            ]
          },
          "metadata": {
            "tags": []
          },
          "execution_count": 96
        }
      ]
    },
    {
      "cell_type": "code",
      "metadata": {
        "id": "1TzfHJAQfNy3",
        "colab_type": "code",
        "colab": {
          "base_uri": "https://localhost:8080/",
          "height": 34
        },
        "outputId": "bd52c6ed-f630-46e0-b620-37ea1a9c9bcb"
      },
      "source": [
        "image.shape"
      ],
      "execution_count": 97,
      "outputs": [
        {
          "output_type": "execute_result",
          "data": {
            "text/plain": [
              "(48, 64, 3)"
            ]
          },
          "metadata": {
            "tags": []
          },
          "execution_count": 97
        }
      ]
    },
    {
      "cell_type": "code",
      "metadata": {
        "id": "gVkIYE05fNy6",
        "colab_type": "code",
        "colab": {
          "base_uri": "https://localhost:8080/",
          "height": 337
        },
        "outputId": "29c8b1d2-21d6-42ed-e06f-663ecb110ff0"
      },
      "source": [
        "image = ndimage.imread(filepath, mode=\"RGB\")\n",
        "plt.imshow(image)\n",
        "plt.show()"
      ],
      "execution_count": 98,
      "outputs": [
        {
          "output_type": "stream",
          "text": [
            "/usr/local/lib/python3.6/dist-packages/ipykernel_launcher.py:1: DeprecationWarning: `imread` is deprecated!\n",
            "`imread` is deprecated in SciPy 1.0.0.\n",
            "Use ``matplotlib.pyplot.imread`` instead.\n",
            "  \"\"\"Entry point for launching an IPython kernel.\n"
          ],
          "name": "stderr"
        },
        {
          "output_type": "display_data",
          "data": {
            "image/png": "[encoded data removed]",
            "text/plain": [
              "<Figure size 432x288 with 1 Axes>"
            ]
          },
          "metadata": {
            "tags": []
          }
        }
      ]
    },
    {
      "cell_type": "code",
      "metadata": {
        "id": "-U-RUbxEfNy9",
        "colab_type": "code",
        "colab": {
          "base_uri": "https://localhost:8080/",
          "height": 289
        },
        "outputId": "f55dd83d-ab06-45f7-89db-6d8a2b87f929"
      },
      "source": [
        "#C:/Users\\Admin\\Documents\\Skin Depth\\Leads and Projects\\Melanoma Challenge\\2018\\ISIC2018_Task1_Training_GroundTruth\\ISIC2018_Task1_Training_GroundTruth\n",
        "segs = []\n",
        "files = []\n",
        "for root, dirnames, filenames in os.walk(\"/content/gdrive/My Drive/Batches/ISIC2018_Task1_Training_GroundTruth_batches\"):  #\"/content/gdrive/My Drive/ISIC2018_Task1_Training_GroundTruth (1).zip (Unzipped Files)/ISIC2018_Task1_Training_GroundTruth\"): #/content/gdrive/My Drive/ISIC2018_Task1_Training_GroundTruth (1).zip (Unzipped Files)/ISIC2018_Task1_Training_GroundTruth\"): #C:/Users/Admin/Documents/Skin Depth/Leads and Projects/Melanoma Challenge/2018/ISIC2018_Task1_Training_GroundTruth/ISIC2018_Task1_Training_GroundTruth\"): \n",
        "    for filename in filenames:\n",
        "            files.append(filename)\n",
        "            filepath = os.path.join(root, filename)\n",
        "            seg = ndimage.imread(filepath, mode=\"L\")\n",
        "            seg_resized = misc.imresize(seg, (48,64,3))\n",
        "            segs.append(seg_resized)\n",
        "for root, dirnames, filenames in os.walk(\"/content/gdrive/My Drive/Batches/ISIC2018_Task1_Testing_GroundTruth_batches\"):  #\"/content/gdrive/My Drive/ISIC2018_Task1_Training_GroundTruth (1).zip (Unzipped Files)/ISIC2018_Task1_Training_GroundTruth\"): #/content/gdrive/My Drive/ISIC2018_Task1_Training_GroundTruth (1).zip (Unzipped Files)/ISIC2018_Task1_Training_GroundTruth\"): #C:/Users/Admin/Documents/Skin Depth/Leads and Projects/Melanoma Challenge/2018/ISIC2018_Task1_Training_GroundTruth/ISIC2018_Task1_Training_GroundTruth\"): \n",
        "    for filename in filenames:\n",
        "            files.append(filename)\n",
        "            filepath = os.path.join(root, filename)\n",
        "            seg = ndimage.imread(filepath, mode=\"L\")\n",
        "            seg_resized = misc.imresize(seg, (48,64,3))\n",
        "            segs.append(seg_resized)   \n",
        "segs = np.array(segs)\n"
      ],
      "execution_count": 99,
      "outputs": [
        {
          "output_type": "stream",
          "text": [
            "/usr/local/lib/python3.6/dist-packages/ipykernel_launcher.py:7: DeprecationWarning: `imread` is deprecated!\n",
            "`imread` is deprecated in SciPy 1.0.0.\n",
            "Use ``matplotlib.pyplot.imread`` instead.\n",
            "  import sys\n",
            "/usr/local/lib/python3.6/dist-packages/ipykernel_launcher.py:8: DeprecationWarning: `imresize` is deprecated!\n",
            "`imresize` is deprecated in SciPy 1.0.0, and will be removed in 1.2.0.\n",
            "Use ``skimage.transform.resize`` instead.\n",
            "  \n",
            "/usr/local/lib/python3.6/dist-packages/ipykernel_launcher.py:14: DeprecationWarning: `imread` is deprecated!\n",
            "`imread` is deprecated in SciPy 1.0.0.\n",
            "Use ``matplotlib.pyplot.imread`` instead.\n",
            "  \n",
            "/usr/local/lib/python3.6/dist-packages/ipykernel_launcher.py:15: DeprecationWarning: `imresize` is deprecated!\n",
            "`imresize` is deprecated in SciPy 1.0.0, and will be removed in 1.2.0.\n",
            "Use ``skimage.transform.resize`` instead.\n",
            "  from ipykernel import kernelapp as app\n"
          ],
          "name": "stderr"
        }
      ]
    },
    {
      "cell_type": "markdown",
      "metadata": {
        "id": "5m_rU4ahoECY",
        "colab_type": "text"
      },
      "source": [
        "**Check some features of the data to be sure that it uploaded properly**"
      ]
    },
    {
      "cell_type": "code",
      "metadata": {
        "id": "Yam-tyDLfNy_",
        "colab_type": "code",
        "colab": {
          "base_uri": "https://localhost:8080/",
          "height": 34
        },
        "outputId": "dbaebb5c-db8b-46c2-8f71-9cf0f7b06667"
      },
      "source": [
        "segs.shape\n"
      ],
      "execution_count": 100,
      "outputs": [
        {
          "output_type": "execute_result",
          "data": {
            "text/plain": [
              "(7782, 48, 64)"
            ]
          },
          "metadata": {
            "tags": []
          },
          "execution_count": 100
        }
      ]
    },
    {
      "cell_type": "code",
      "metadata": {
        "id": "IjXBktkT8DJZ",
        "colab_type": "code",
        "colab": {
          "base_uri": "https://localhost:8080/",
          "height": 34
        },
        "outputId": "cab3821b-1758-4fb0-be2c-b3d8f7621ff8"
      },
      "source": [
        "segs[-1].shape"
      ],
      "execution_count": 101,
      "outputs": [
        {
          "output_type": "execute_result",
          "data": {
            "text/plain": [
              "(48, 64)"
            ]
          },
          "metadata": {
            "tags": []
          },
          "execution_count": 101
        }
      ]
    },
    {
      "cell_type": "code",
      "metadata": {
        "id": "BOLrZ8LZZe7r",
        "colab_type": "code",
        "colab": {
          "base_uri": "https://localhost:8080/",
          "height": 34
        },
        "outputId": "712fbf66-b699-4a01-c892-91dadecbb325"
      },
      "source": [
        "images.shape"
      ],
      "execution_count": 102,
      "outputs": [
        {
          "output_type": "execute_result",
          "data": {
            "text/plain": [
              "(7782, 48, 64, 3)"
            ]
          },
          "metadata": {
            "tags": []
          },
          "execution_count": 102
        }
      ]
    },
    {
      "cell_type": "code",
      "metadata": {
        "id": "hK4yqeJafNzD",
        "colab_type": "code",
        "colab": {
          "base_uri": "https://localhost:8080/",
          "height": 85
        },
        "outputId": "4e845642-21d7-4daf-cb4a-799a49ef4593"
      },
      "source": [
        "filename = filenames[3]\n",
        "filepath = os.path.join(root, filename)\n",
        "seg = ndimage.imread(filepath, mode=\"L\")"
      ],
      "execution_count": 103,
      "outputs": [
        {
          "output_type": "stream",
          "text": [
            "/usr/local/lib/python3.6/dist-packages/ipykernel_launcher.py:3: DeprecationWarning: `imread` is deprecated!\n",
            "`imread` is deprecated in SciPy 1.0.0.\n",
            "Use ``matplotlib.pyplot.imread`` instead.\n",
            "  This is separate from the ipykernel package so we can avoid doing imports until\n"
          ],
          "name": "stderr"
        }
      ]
    },
    {
      "cell_type": "code",
      "metadata": {
        "id": "ywAIbXWifNzF",
        "colab_type": "code",
        "colab": {
          "base_uri": "https://localhost:8080/",
          "height": 34
        },
        "outputId": "ad2549af-190c-49a8-a64a-f8b0e29807b6"
      },
      "source": [
        "seg.shape"
      ],
      "execution_count": 104,
      "outputs": [
        {
          "output_type": "execute_result",
          "data": {
            "text/plain": [
              "(96, 128)"
            ]
          },
          "metadata": {
            "tags": []
          },
          "execution_count": 104
        }
      ]
    },
    {
      "cell_type": "code",
      "metadata": {
        "id": "WNLxVopWfNzI",
        "colab_type": "code",
        "colab": {
          "base_uri": "https://localhost:8080/",
          "height": 269
        },
        "outputId": "76a04e5d-4923-45da-e6b7-e990a3508664"
      },
      "source": [
        "image = segs[2593,:,:]\n",
        "plt.imshow(image)\n",
        "plt.show()"
      ],
      "execution_count": 105,
      "outputs": [
        {
          "output_type": "display_data",
          "data": {
            "image/png": "[encoded data removed]",
            "text/plain": [
              "<Figure size 432x288 with 1 Axes>"
            ]
          },
          "metadata": {
            "tags": []
          }
        }
      ]
    },
    {
      "cell_type": "code",
      "metadata": {
        "id": "mR6OM_mcfNzK",
        "colab_type": "code",
        "colab": {
          "base_uri": "https://localhost:8080/",
          "height": 337
        },
        "outputId": "d15f4c11-c418-41e3-f925-7a694fa3cc8c"
      },
      "source": [
        "image = image = ndimage.imread(filepath, mode=\"RGB\")\n",
        "plt.imshow(image)\n",
        "plt.show()"
      ],
      "execution_count": 106,
      "outputs": [
        {
          "output_type": "stream",
          "text": [
            "/usr/local/lib/python3.6/dist-packages/ipykernel_launcher.py:1: DeprecationWarning: `imread` is deprecated!\n",
            "`imread` is deprecated in SciPy 1.0.0.\n",
            "Use ``matplotlib.pyplot.imread`` instead.\n",
            "  \"\"\"Entry point for launching an IPython kernel.\n"
          ],
          "name": "stderr"
        },
        {
          "output_type": "display_data",
          "data": {
            "image/png": "[encoded data removed]",
            "text/plain": [
              "<Figure size 432x288 with 1 Axes>"
            ]
          },
          "metadata": {
            "tags": []
          }
        }
      ]
    },
    {
      "cell_type": "markdown",
      "metadata": {
        "id": "J8N4Xlk9fNzN",
        "colab_type": "text"
      },
      "source": [
        "### Helper Functions"
      ]
    },
    {
      "cell_type": "markdown",
      "metadata": {
        "id": "IS6Tms7_fNzN",
        "colab_type": "text"
      },
      "source": [
        "Function to help intialize random weights for fully connected or convolutional layers, we leave the shape attribute as a parameter for this."
      ]
    },
    {
      "cell_type": "code",
      "metadata": {
        "id": "nwxTUCjRfNzO",
        "colab_type": "code",
        "colab": {}
      },
      "source": [
        "from sklearn.model_selection import train_test_split\n",
        "trainim, testim, trainlab, testlab = train_test_split(images, segs, test_size = 0.3) #this is randomized each time the program is started and run from scratch"
      ],
      "execution_count": 0,
      "outputs": []
    },
    {
      "cell_type": "code",
      "metadata": {
        "id": "gIxY01G3fNzQ",
        "colab_type": "code",
        "colab": {
          "base_uri": "https://localhost:8080/",
          "height": 34
        },
        "outputId": "ccb9109d-2ff7-476a-adc6-4dadeb4541e2"
      },
      "source": [
        "trainim.shape"
      ],
      "execution_count": 108,
      "outputs": [
        {
          "output_type": "execute_result",
          "data": {
            "text/plain": [
              "(5447, 48, 64, 3)"
            ]
          },
          "metadata": {
            "tags": []
          },
          "execution_count": 108
        }
      ]
    },
    {
      "cell_type": "code",
      "metadata": {
        "id": "G-zXpjhkfNzS",
        "colab_type": "code",
        "colab": {
          "base_uri": "https://localhost:8080/",
          "height": 34
        },
        "outputId": "d7da2881-011f-4324-c36d-d7a3ca342fdc"
      },
      "source": [
        "np.max(testlab)"
      ],
      "execution_count": 109,
      "outputs": [
        {
          "output_type": "execute_result",
          "data": {
            "text/plain": [
              "255"
            ]
          },
          "metadata": {
            "tags": []
          },
          "execution_count": 109
        }
      ]
    },
    {
      "cell_type": "code",
      "metadata": {
        "id": "ndDyqlFhfNzU",
        "colab_type": "code",
        "colab": {
          "base_uri": "https://localhost:8080/",
          "height": 34
        },
        "outputId": "cc822df4-629f-4e07-b75e-c53ca84bf271"
      },
      "source": [
        "testlab.shape"
      ],
      "execution_count": 110,
      "outputs": [
        {
          "output_type": "execute_result",
          "data": {
            "text/plain": [
              "(2335, 48, 64)"
            ]
          },
          "metadata": {
            "tags": []
          },
          "execution_count": 110
        }
      ]
    },
    {
      "cell_type": "code",
      "metadata": {
        "id": "4C4pwHf7fNza",
        "colab_type": "code",
        "colab": {
          "base_uri": "https://localhost:8080/",
          "height": 269
        },
        "outputId": "ae40e3ff-c31f-49de-a0bc-13b279894796"
      },
      "source": [
        "image = trainlab[5,:,:]\n",
        "plt.imshow(image)\n",
        "plt.show()"
      ],
      "execution_count": 111,
      "outputs": [
        {
          "output_type": "display_data",
          "data": {
            "image/png": "[encoded data removed]",
            "text/plain": [
              "<Figure size 432x288 with 1 Axes>"
            ]
          },
          "metadata": {
            "tags": []
          }
        }
      ]
    },
    {
      "cell_type": "code",
      "metadata": {
        "id": "8_8a19MbfNzd",
        "colab_type": "code",
        "colab": {}
      },
      "source": [
        "class MelHelper():\n",
        "    \n",
        "    def __init__(self):\n",
        "        self.i = 0\n",
        "        \n",
        "        ####Can probably eliminate this part ####\n",
        "        \n",
        "        # Grabs a list of all the data batches for training\n",
        "        #self.all_train_batches = [data_batch1,data_batch2,data_batch3,data_batch4,data_batch5]\n",
        "        # Grabs a list of all the test batches (really just one batch)\n",
        "        #self.test_batch = [test_batch]\n",
        "        \n",
        "        ###eliminate####\n",
        "        \n",
        "        # Intialize some empty variables for later on\n",
        "        self.training_images = None\n",
        "        self.training_labels = None\n",
        "        \n",
        "        self.test_images = None\n",
        "        self.test_labels = None\n",
        "    \n",
        "    def set_up_images(self):\n",
        "        \n",
        "        print(\"Setting Up Training Images and Labels\")\n",
        "        \n",
        "        ###Not Needed####\n",
        "        # Vertically stacks the training images\n",
        "        #self.training_images = np.vstack([d[b\"data\"] for d in self.all_train_batches])  #insert images here, make sure they are \n",
        "        #vetically stacked##\n",
        "        #train_len = len(self.training_images)\n",
        "        \n",
        "        # Reshapes and normalizes training images\n",
        "        self.training_images = trainim/255   #normalize only ->replace with images with training set later\n",
        "                                #self.training_images.reshape(train_len,3,32,32).transpose(0,2,3,1)/255\n",
        "        # One hot Encodes the training labels (e.g. [0,0,0,1,0,0,0,0,0,0])\n",
        "        \n",
        "        ##May need to replace this with code that rounds a humber to 0 or 1 for the mask ##\n",
        "        self.training_labels = np.around(trainlab/255) #one_hot_encode(np.hstack([d[b\"labels\"] for d in self.all_train_batches]), 10)\n",
        "        \n",
        "        print(\"Setting Up Test Images and Labels\")\n",
        "        \n",
        "        # Vertically stacks the test images\n",
        "        #self.test_images = np.vstack([d[b\"data\"] for d in self.test_batch])\n",
        "        #test_len = len(self.test_images)\n",
        "        \n",
        "        # Reshapes and normalizes test images\n",
        "        self.test_images = testim/255 #self.test_images.reshape(test_len,3,32,32).transpose(0,2,3,1)/255\n",
        "        # One hot Encodes the test labels (e.g. [0,0,0,1,0,0,0,0,0,0])\n",
        "        self.test_labels = np.around(testlab/255).reshape(-1,48*64) #one_hot_encode(np.hstack([d[b\"labels\"] for d in self.test_batch]), 10)\n",
        "        \n",
        "    def next_batch(self, batch_size):\n",
        "        # Note that the 100 dimension in the reshape call is set by an assumed batch size of 100 - this is now a mistake\n",
        "        xtra = (self.i + batch_size) % len(self.training_images)\n",
        "        if xtra<batch_size and xtra != 0:\n",
        "            x = np.vstack((self.training_images[self.i:self.i+batch_size], self.training_images[0:xtra])) #.reshape(100,32,32,3)  #why is this necessary?\n",
        "            y = np.vstack((self.training_labels[self.i:self.i+batch_size].reshape(-1,48*64), self.training_labels[0:xtra].reshape(-1,48*64)))\n",
        "        else:\n",
        "            x = self.training_images[self.i:self.i+batch_size] #.reshape(100,32,32,3)  #why is this necessary?\n",
        "            y = self.training_labels[self.i:self.i+batch_size].reshape(-1,48*64)\n",
        "        \n",
        "        self.i = xtra \n",
        "        return x, y"
      ],
      "execution_count": 0,
      "outputs": []
    },
    {
      "cell_type": "code",
      "metadata": {
        "id": "LTmLVENAfNze",
        "colab_type": "code",
        "colab": {}
      },
      "source": [
        "def init_weights(shape):\n",
        "    init_random_dist = tf.truncated_normal(shape, stddev=0.1)\n",
        "    return tf.Variable(init_random_dist)"
      ],
      "execution_count": 0,
      "outputs": []
    },
    {
      "cell_type": "markdown",
      "metadata": {
        "id": "83Yh6X2mfNzg",
        "colab_type": "text"
      },
      "source": [
        "Same as init_weights, but for the biases"
      ]
    },
    {
      "cell_type": "code",
      "metadata": {
        "id": "Dd3vlocsfNzg",
        "colab_type": "code",
        "colab": {}
      },
      "source": [
        "def init_bias(shape):\n",
        "    init_bias_vals = tf.constant(0.1, shape=shape)\n",
        "    return tf.Variable(init_bias_vals)"
      ],
      "execution_count": 0,
      "outputs": []
    },
    {
      "cell_type": "markdown",
      "metadata": {
        "id": "EyF20ufBfNzi",
        "colab_type": "text"
      },
      "source": [
        "Create a 2D convolution using builtin conv2d from TF. From those docs:\n",
        "\n",
        "Computes a 2-D convolution given 4-D `input` and `filter` tensors.\n",
        "\n",
        "Given an input tensor of shape `[batch, in_height, in_width, in_channels]`\n",
        "and a filter / kernel tensor of shape\n",
        "`[filter_height, filter_width, in_channels, out_channels]`, this op\n",
        "performs the following:\n",
        "\n",
        "1. Flattens the filter to a 2-D matrix with shape\n",
        "   `[filter_height * filter_width * in_channels, output_channels]`.\n",
        "2. Extracts image patches from the input tensor to form a *virtual*\n",
        "   tensor of shape `[batch, out_height, out_width,\n",
        "   filter_height * filter_width * in_channels]`.\n",
        "3. For each patch, right-multiplies the filter matrix and the image patch\n",
        "   vector.\n"
      ]
    },
    {
      "cell_type": "code",
      "metadata": {
        "id": "fvrLH9wufNzj",
        "colab_type": "code",
        "colab": {}
      },
      "source": [
        "def conv2d(x, W):\n",
        "    return tf.nn.conv2d(x, W, strides=[1, 1, 1, 1], padding='SAME')"
      ],
      "execution_count": 0,
      "outputs": []
    },
    {
      "cell_type": "code",
      "metadata": {
        "id": "dofb-mrtfNzm",
        "colab_type": "code",
        "colab": {}
      },
      "source": [
        "def deconv2d(x, shape):\n",
        "    return tf.layers.conv2d_transpose(x, shape[3], shape[0:2])"
      ],
      "execution_count": 0,
      "outputs": []
    },
    {
      "cell_type": "markdown",
      "metadata": {
        "id": "MXGFwjkxfNzn",
        "colab_type": "text"
      },
      "source": [
        "Create a max pooling layer, again using built in TF functions:\n",
        "\n",
        "Performs the max pooling on the input.\n",
        "\n",
        "    Args:\n",
        "      value: A 4-D `Tensor` with shape `[batch, height, width, channels]` and\n",
        "        type `tf.float32`.\n",
        "      ksize: A list of ints that has length >= 4.  The size of the window for\n",
        "        each dimension of the input tensor.\n",
        "      strides: A list of ints that has length >= 4.  The stride of the sliding\n",
        "        window for each dimension of the input tensor.\n",
        "      padding: A string, either `'VALID'` or `'SAME'`. "
      ]
    },
    {
      "cell_type": "code",
      "metadata": {
        "id": "BIO9pWjXfNzp",
        "colab_type": "code",
        "colab": {}
      },
      "source": [
        "def max_pool_2by2(x):\n",
        "    return tf.nn.max_pool(x, ksize=[1, 2, 2, 1], \n",
        "                          strides=[1, 2, 2, 1], padding='SAME')"
      ],
      "execution_count": 0,
      "outputs": []
    },
    {
      "cell_type": "markdown",
      "metadata": {
        "id": "9VqEnybqfNzs",
        "colab_type": "text"
      },
      "source": [
        "Using the conv2d function, we'll return an actual convolutional layer here that uses an ReLu activation."
      ]
    },
    {
      "cell_type": "code",
      "metadata": {
        "id": "OS9b-naGfNzt",
        "colab_type": "code",
        "colab": {}
      },
      "source": [
        "def convolutional_layer(input_x, shape):\n",
        "    W = init_weights(shape)\n",
        "    b = init_bias([shape[3]])\n",
        "    return tf.nn.relu(conv2d(input_x, W) + b)"
      ],
      "execution_count": 0,
      "outputs": []
    },
    {
      "cell_type": "markdown",
      "metadata": {
        "id": "_0-cGJDsfNzu",
        "colab_type": "text"
      },
      "source": [
        "This is a normal fully connected layer"
      ]
    },
    {
      "cell_type": "code",
      "metadata": {
        "id": "w9tiw8fKfNzv",
        "colab_type": "code",
        "colab": {}
      },
      "source": [
        "def normal_full_layer(input_layer, size):\n",
        "    input_size = int(input_layer.get_shape()[1])\n",
        "    W = init_weights([input_size, size])\n",
        "    b = init_bias([size])\n",
        "    return tf.matmul(input_layer, W) + b"
      ],
      "execution_count": 0,
      "outputs": []
    },
    {
      "cell_type": "code",
      "metadata": {
        "id": "RoKldfkxfNzy",
        "colab_type": "code",
        "colab": {}
      },
      "source": [
        "def deconvolutional_layer(input_x, shape):\n",
        "    #W = init_weights(shape)\n",
        "    b = init_bias([shape[3]])  #draw this out to see if it makes sense\n",
        "    return tf.nn.relu(deconv2d(input_x, shape) +b)"
      ],
      "execution_count": 0,
      "outputs": []
    },
    {
      "cell_type": "markdown",
      "metadata": {
        "id": "p2rwibDxfNzz",
        "colab_type": "text"
      },
      "source": [
        "### Placeholders"
      ]
    },
    {
      "cell_type": "code",
      "metadata": {
        "id": "8E82SWUmfNz0",
        "colab_type": "code",
        "colab": {}
      },
      "source": [
        "x = tf.placeholder(tf.float32,shape=[None,48,64,3])  #trace the shaping of these through the code...\n"
      ],
      "execution_count": 0,
      "outputs": []
    },
    {
      "cell_type": "code",
      "metadata": {
        "id": "U2djuEyMfNz1",
        "colab_type": "code",
        "colab": {}
      },
      "source": [
        "y_true = tf.placeholder(tf.float32,shape=[None,48*64])  #this now has every pixel in the ground truth segmentation"
      ],
      "execution_count": 0,
      "outputs": []
    },
    {
      "cell_type": "markdown",
      "metadata": {
        "id": "IzopPGJyfNz5",
        "colab_type": "text"
      },
      "source": [
        "### Layers"
      ]
    },
    {
      "cell_type": "code",
      "metadata": {
        "id": "6YyKmti2fNz5",
        "colab_type": "code",
        "colab": {}
      },
      "source": [
        "x_image = tf.reshape(x,[-1,48,64,3])  #-1 infers the shape of the first dimension (here, the batch size)"
      ],
      "execution_count": 0,
      "outputs": []
    },
    {
      "cell_type": "code",
      "metadata": {
        "id": "B2zOibybfNz7",
        "colab_type": "code",
        "colab": {}
      },
      "source": [
        "# Using a 6by6 filter here, used 5by5 in video, you can play around with the filter size\n",
        "# You can change the 32 output, that essentially represents the amount of filters used\n",
        "# You need to pass in 32 to the next input though, the 1 comes from the original input of \n",
        "# a single image.\n",
        "convo_1 = convolutional_layer(x_image,shape=[3,3,3,16])\n",
        "convo_1_pooling = max_pool_2by2(convo_1)"
      ],
      "execution_count": 0,
      "outputs": []
    },
    {
      "cell_type": "code",
      "metadata": {
        "id": "Tjs326AsfNz9",
        "colab_type": "code",
        "colab": {}
      },
      "source": [
        "# Using a 6by6 filter here, used 5by5 in video, you can play around with the filter size\n",
        "# You can actually change the 64 output if you want, you can think of that as a representation\n",
        "# of the amount of 6by6 filters used.\n",
        "convo_2 = convolutional_layer(convo_1_pooling,shape=[3,3,16,16])\n",
        "convo_2_pooling = max_pool_2by2(convo_2)"
      ],
      "execution_count": 0,
      "outputs": []
    },
    {
      "cell_type": "code",
      "metadata": {
        "id": "ZSeZobE1fNz_",
        "colab_type": "code",
        "colab": {}
      },
      "source": [
        "#print(convo_2_pooling.shape)"
      ],
      "execution_count": 0,
      "outputs": []
    },
    {
      "cell_type": "code",
      "metadata": {
        "id": "g0yF11JTfN0B",
        "colab_type": "code",
        "colab": {}
      },
      "source": [
        "# Using a 6by6 filter here, used 5by5 in video, you can play around with the filter size\n",
        "## You can actually change the 64 output if you want, you can think of that as a representation\n",
        "# of the amount of 6by6 filters used.\n",
        "convo_3 = convolutional_layer(convo_2,shape=[3,3,16,32])\n",
        "convo_3_pooling = max_pool_2by2(convo_3)"
      ],
      "execution_count": 0,
      "outputs": []
    },
    {
      "cell_type": "code",
      "metadata": {
        "id": "kW50R3CKfN0C",
        "colab_type": "code",
        "colab": {}
      },
      "source": [
        ""
      ],
      "execution_count": 0,
      "outputs": []
    },
    {
      "cell_type": "code",
      "metadata": {
        "id": "F1OFvnKJfN0F",
        "colab_type": "code",
        "colab": {
          "base_uri": "https://localhost:8080/",
          "height": 34
        },
        "outputId": "82a15a16-cce6-4dff-ba04-433a35fe928a"
      },
      "source": [
        "print(convo_3_pooling.shape)"
      ],
      "execution_count": 128,
      "outputs": [
        {
          "output_type": "stream",
          "text": [
            "(?, 12, 16, 32)\n"
          ],
          "name": "stdout"
        }
      ]
    },
    {
      "cell_type": "code",
      "metadata": {
        "id": "lK5Ch1YKfN0I",
        "colab_type": "code",
        "colab": {}
      },
      "source": [
        "# Using a 6by6 filter here, used 5by5 in video, you can play around with the filter size\n",
        "# You can actually change the 64 output if you want, you can think of that as a representation\n",
        "# of the amount of 6by6 filters used.\n",
        "convo_4 = convolutional_layer(convo_3_pooling,shape=[3,3,32,64])\n",
        "#convo_4_pooling = max_pool_2by2(convo_4)"
      ],
      "execution_count": 0,
      "outputs": []
    },
    {
      "cell_type": "code",
      "metadata": {
        "id": "XLw9sqc3fN0J",
        "colab_type": "code",
        "colab": {}
      },
      "source": [
        "#print(convo_4_pooling.shape)"
      ],
      "execution_count": 0,
      "outputs": []
    },
    {
      "cell_type": "code",
      "metadata": {
        "id": "mrjbYcoHfN0L",
        "colab_type": "code",
        "colab": {}
      },
      "source": [
        "#convo_5 = convolutional_layer(convo_4,shape=[3,3,64,128])\n",
        "#convo_5_pooling = max_pool_2by2(convo_5)"
      ],
      "execution_count": 0,
      "outputs": []
    },
    {
      "cell_type": "code",
      "metadata": {
        "id": "AUhatLBVfN0M",
        "colab_type": "code",
        "colab": {
          "base_uri": "https://localhost:8080/",
          "height": 34
        },
        "outputId": "cbc610b5-4eea-4651-c30c-6bc5a1a2c26d"
      },
      "source": [
        "print(convo_4.shape)"
      ],
      "execution_count": 132,
      "outputs": [
        {
          "output_type": "stream",
          "text": [
            "(?, 12, 16, 64)\n"
          ],
          "name": "stdout"
        }
      ]
    },
    {
      "cell_type": "code",
      "metadata": {
        "id": "2umt_QNxfN0O",
        "colab_type": "code",
        "colab": {}
      },
      "source": [
        "#convo_6 = convolutional_layer(convo_5,shape=[3,3,128,256])\n",
        "#convo_6_pooling = max_pool_2by2(convo_6)"
      ],
      "execution_count": 0,
      "outputs": []
    },
    {
      "cell_type": "code",
      "metadata": {
        "id": "q1RQ1ZCcfN0Q",
        "colab_type": "code",
        "colab": {}
      },
      "source": [
        "#print(convo_6.shape)"
      ],
      "execution_count": 0,
      "outputs": []
    },
    {
      "cell_type": "code",
      "metadata": {
        "id": "lnPU1krEfN0S",
        "colab_type": "code",
        "colab": {}
      },
      "source": [
        "deconv_4 = deconvolutional_layer(convo_4, shape = [3,3,64,32])"
      ],
      "execution_count": 0,
      "outputs": []
    },
    {
      "cell_type": "code",
      "metadata": {
        "id": "OA6GQlpwfN0U",
        "colab_type": "code",
        "colab": {
          "base_uri": "https://localhost:8080/",
          "height": 34
        },
        "outputId": "823a2c8a-60b4-4b1a-e1a3-33f32dc9ad3e"
      },
      "source": [
        "deconv_4.shape\n"
      ],
      "execution_count": 136,
      "outputs": [
        {
          "output_type": "execute_result",
          "data": {
            "text/plain": [
              "TensorShape([Dimension(None), Dimension(14), Dimension(18), Dimension(32)])"
            ]
          },
          "metadata": {
            "tags": []
          },
          "execution_count": 136
        }
      ]
    },
    {
      "cell_type": "code",
      "metadata": {
        "id": "KIx6JFX7fN0X",
        "colab_type": "code",
        "colab": {}
      },
      "source": [
        "# Why 7 by 7 image? Because we did 2 pooling layers, so (28/2)/2 = 7\n",
        "# 64 then just comes from the output of the previous Convolution\n",
        "deconvo_4_flat = tf.reshape(deconv_4,[-1,14*18*32])\n",
        "full_layer_one = tf.nn.relu(normal_full_layer(deconvo_4_flat,48*64))"
      ],
      "execution_count": 0,
      "outputs": []
    },
    {
      "cell_type": "code",
      "metadata": {
        "id": "_RJR5cksfN0Z",
        "colab_type": "code",
        "colab": {
          "base_uri": "https://localhost:8080/",
          "height": 34
        },
        "outputId": "236db8de-f296-4f8e-b388-7349fa49c8c5"
      },
      "source": [
        "print(full_layer_one.shape)\n"
      ],
      "execution_count": 138,
      "outputs": [
        {
          "output_type": "stream",
          "text": [
            "(?, 3072)\n"
          ],
          "name": "stdout"
        }
      ]
    },
    {
      "cell_type": "code",
      "metadata": {
        "id": "BUOuhsoqfN0a",
        "colab_type": "code",
        "colab": {}
      },
      "source": [
        "# NOTE THE PLACEHOLDER HERE!\n",
        "hold_prob = tf.placeholder(tf.float32)\n",
        "\n",
        "full_one_dropout = tf.nn.dropout(full_layer_one,keep_prob=hold_prob)"
      ],
      "execution_count": 0,
      "outputs": []
    },
    {
      "cell_type": "code",
      "metadata": {
        "id": "iEiMBW0bfN0c",
        "colab_type": "code",
        "colab": {}
      },
      "source": [
        "#full_layer_two = tf.nn.relu(normal_full_layer(full_one_dropout,96*128))\n"
      ],
      "execution_count": 0,
      "outputs": []
    },
    {
      "cell_type": "code",
      "metadata": {
        "id": "0gv4a5-ffN0d",
        "colab_type": "code",
        "colab": {}
      },
      "source": [
        "#full_layer_three = tf.nn.relu(normal_full_layer(full_layer_two,192*256))\n"
      ],
      "execution_count": 0,
      "outputs": []
    },
    {
      "cell_type": "markdown",
      "metadata": {
        "id": "EEAI_bK3fN0e",
        "colab_type": "text"
      },
      "source": [
        "deconv_layer_one = "
      ]
    },
    {
      "cell_type": "markdown",
      "metadata": {
        "id": "MvXbU049fN0e",
        "colab_type": "text"
      },
      "source": [
        "## Augment the output with a direct connection to the input photo"
      ]
    },
    {
      "cell_type": "markdown",
      "metadata": {
        "id": "2EuKsLJ0fN0f",
        "colab_type": "text"
      },
      "source": [
        "#do not use for now\n",
        "\n",
        "flat_in = tf.reshape(x,[-1,1764])\n",
        "aug = tf.concat([flat_in, full_one_dropout], axis = 1)\n",
        "print(flat_in.shape)\n",
        "print(full_one_dropout.shape)\n",
        "print(aug.shape)\n",
        "##need to think about how to concatenate these"
      ]
    },
    {
      "cell_type": "markdown",
      "metadata": {
        "id": "uI1iPuAlfN0f",
        "colab_type": "text"
      },
      "source": [
        "\n",
        "full_one_plus_in = tf.convert_to_tensor(aug, dtype=tf.float32)"
      ]
    },
    {
      "cell_type": "markdown",
      "metadata": {
        "id": "OMWgjB_8fN0g",
        "colab_type": "text"
      },
      "source": [
        "type(full_one_dropout)"
      ]
    },
    {
      "cell_type": "code",
      "metadata": {
        "id": "Zk0vZ8CofN0g",
        "colab_type": "code",
        "colab": {}
      },
      "source": [
        "y_pred = normal_full_layer(full_one_dropout, 48*64)"
      ],
      "execution_count": 0,
      "outputs": []
    },
    {
      "cell_type": "markdown",
      "metadata": {
        "id": "kzfSiPBifN0i",
        "colab_type": "text"
      },
      "source": [
        "### Loss Function"
      ]
    },
    {
      "cell_type": "code",
      "metadata": {
        "id": "gGxLHevsfN0i",
        "colab_type": "code",
        "colab": {}
      },
      "source": [
        "cross_entropy = tf.reduce_mean(tf.nn.sigmoid_cross_entropy_with_logits(labels=y_true,logits=y_pred))"
      ],
      "execution_count": 0,
      "outputs": []
    },
    {
      "cell_type": "code",
      "metadata": {
        "id": "OwrgZr8WfN0k",
        "colab_type": "code",
        "colab": {}
      },
      "source": [
        ""
      ],
      "execution_count": 0,
      "outputs": []
    },
    {
      "cell_type": "markdown",
      "metadata": {
        "id": "v7_7P_MxxKvn",
        "colab_type": "text"
      },
      "source": [
        "This will be updated to a loss function based on the jaccard index, as in the related publication"
      ]
    },
    {
      "cell_type": "markdown",
      "metadata": {
        "id": "Vd8V8rTafN0l",
        "colab_type": "text"
      },
      "source": [
        "### Optimizer"
      ]
    },
    {
      "cell_type": "code",
      "metadata": {
        "id": "ShpM5aWifN0m",
        "colab_type": "code",
        "colab": {}
      },
      "source": [
        "optimizer = tf.train.AdamOptimizer(learning_rate=0.003)\n",
        "train = optimizer.minimize(cross_entropy)   #can this be done for each pixel?"
      ],
      "execution_count": 0,
      "outputs": []
    },
    {
      "cell_type": "markdown",
      "metadata": {
        "id": "2pgeA03VfN0o",
        "colab_type": "text"
      },
      "source": [
        "### Intialize Variables"
      ]
    },
    {
      "cell_type": "code",
      "metadata": {
        "id": "b6p_q-h8fN0p",
        "colab_type": "code",
        "colab": {}
      },
      "source": [
        "init = tf.global_variables_initializer()"
      ],
      "execution_count": 0,
      "outputs": []
    },
    {
      "cell_type": "code",
      "metadata": {
        "id": "IJBnGN8bfN0r",
        "colab_type": "code",
        "colab": {}
      },
      "source": [
        "saver = tf.train.Saver()"
      ],
      "execution_count": 0,
      "outputs": []
    },
    {
      "cell_type": "markdown",
      "metadata": {
        "id": "uJSc-_gtfN0s",
        "colab_type": "text"
      },
      "source": [
        "### Session"
      ]
    },
    {
      "cell_type": "code",
      "metadata": {
        "id": "sCgyHGU9fN0s",
        "colab_type": "code",
        "colab": {
          "base_uri": "https://localhost:8080/",
          "height": 51
        },
        "outputId": "6ce85f41-8ecf-4df3-d0fd-44f13ad9ba83"
      },
      "source": [
        "mel = MelHelper()\n",
        "mel.set_up_images()"
      ],
      "execution_count": 145,
      "outputs": [
        {
          "output_type": "stream",
          "text": [
            "Setting Up Training Images and Labels\n",
            "Setting Up Test Images and Labels\n"
          ],
          "name": "stdout"
        }
      ]
    },
    {
      "cell_type": "code",
      "metadata": {
        "scrolled": false,
        "id": "LvFchSc7fN0v",
        "colab_type": "code",
        "colab": {
          "base_uri": "https://localhost:8080/",
          "height": 4913
        },
        "outputId": "c1a2bd04-9b86-44cf-c8be-0e49bbc50ea2"
      },
      "source": [
        "steps = 10001\n",
        "import time\n",
        "batch_size = 1\n",
        "\n",
        "#use Cifar_helper to set up next batch\n",
        "with tf.Session() as sess:\n",
        "    print(\"starting init\")\n",
        "    sess.run(init)\n",
        "    print(\"done init\")\n",
        "    \n",
        "    start_time = time.clock()\n",
        "    \n",
        "    for i in range(steps): \n",
        "        batch_x, batch_y = mel.next_batch(batch_size)\n",
        "        #print(i)\n",
        "        #print(\"\\n\")\n",
        "        \n",
        "        #print(\"batch training labels shape is \", batch_y.shape)\n",
        "        #print(\"batch training labels type is \", batch_y.dtype)\n",
        "        #print(\"batch training labels are \", batch_y)\n",
        "        #print(\"batch training data are \", batch_x)\n",
        "        #image = batch_y.reshape(-1,21,28)[5,:,:]\n",
        "        sess.run(train,feed_dict={x:batch_x,y_true:batch_y,hold_prob:0.5})\n",
        "        #print(\"batch training prediction are \", batch_y)\n",
        "        #image_pred = sess.run(y_pred,feed_dict={x:batch_x,y_true:batch_y,hold_prob:1.0} ).reshape(-1,21,28)[5,:,:]\n",
        "        #image_pred = np.round(1/(1 + np.exp(-image_pred)))\n",
        "        \n",
        "        if i%100 == 0:\n",
        "            print('Currently on step {}'.format(i))\n",
        "            print(\"the time is \", time.clock() - start_time, \"\\n\")\n",
        "             #print(\"mel i is \", mel.i)\n",
        "             #plt.imshow(image)\n",
        "             #plt.show()\n",
        "             #plt.imshow(image_pred)\n",
        "             #plt.show()\n",
        "            \n",
        "            #print('Currently on step {}'.format(i))\n",
        "            #print('Accuracy is:')\n",
        "            # Test the Train Model\n",
        "            #matches = tf.equal(tf.argmax(y_pred,1),tf.argmax(y_true,1))\n",
        "\n",
        "            #acc = tf.reduce_mean(tf.cast(matches,tf.float32))\n",
        "\n",
        "            pred = tf.round(1/(1 + tf.exp(-tf.reshape(y_pred, [-1,48,64]))))\n",
        "            true = tf.reshape(y_true, [-1,48,64])\n",
        "          \n",
        "            # Test the Train Model\n",
        "            #matches = tf.equal(tf.argmax(y_pred,1),tf.argmax(y_true,1))  ###REPLACE THIS LINE TO INCLUDE JACARD INDEX####\n",
        "            #y_pred = tf.round(y_pred)\n",
        "            #y_true = tf.round(y_true)\n",
        "            \n",
        "            intersect = tf.reduce_sum(tf.cast(true*pred, tf.float32), axis = [1,2])\n",
        "            union = tf.reduce_sum(tf.cast(pred, tf.float32), axis = [1,2]) + tf.reduce_sum(tf.cast(true, tf.float32), axis = [1,2]) - intersect  #think this has an error\n",
        "            jacc = intersect/union\n",
        "            #acc = tf.reduce_mean(tf.cast(intersect,tf.float32))\n",
        "            #print(\"test labels shape is \", mel.test_labels.shape)\n",
        "            #print(\"\\n\")\n",
        "            \n",
        "            print('Avg Jacc is:')\n",
        "            J_out = sess.run([jacc, pred],feed_dict={x:mel.test_images,y_true:mel.test_labels,hold_prob:1.0})\n",
        "            print(np.sum(J_out[0])/J_out[0].shape[0], \" step number is \",  i, \" batch_size is \", batch_size)\n",
        "            #if i == 500:\n",
        "                #batch_size = 20\n",
        "            #if i == 25000:\n",
        "                #batch_size = 200\n",
        "            \n",
        "            #print out Jacc for training set and test set, Save Jacc and entropy to variable,\n",
        "            #print out step number\n",
        "            \n",
        "            #use larger pics\n",
        "            #print out and analyse cross entropy\n",
        "            #run with full training batch for several iterations\n",
        "            #pred = sess.run(pred,feed_dict={x:mel.test_images,y_true:mel.test_labels,hold_prob:1.0})\n",
        "            \n",
        "        if i == steps - 1:\n",
        "            \n",
        "            pred_pigment = sess.run([pred],feed_dict={x:pigs,hold_prob:1.0})\n",
        "            \n",
        "        #save_path = saver.save(sess, \"./model.ckpt\")"
      ],
      "execution_count": 147,
      "outputs": [
        {
          "output_type": "stream",
          "text": [
            "starting init\n",
            "done init\n",
            "Currently on step 0\n",
            "the time is  0.44241199999999026 \n",
            "\n",
            "Avg Jacc is:\n",
            "0.13284467742070397  step number is  0  batch_size is  1\n",
            "Currently on step 100\n",
            "the time is  45.028701999999996 \n",
            "\n",
            "Avg Jacc is:\n",
            "0.2706463505420236  step number is  100  batch_size is  1\n",
            "Currently on step 200\n",
            "the time is  88.61935999999999 \n",
            "\n",
            "Avg Jacc is:\n",
            "0.31131011505453693  step number is  200  batch_size is  1\n",
            "Currently on step 300\n",
            "the time is  137.55121400000002 \n",
            "\n",
            "Avg Jacc is:\n",
            "0.37825203677061026  step number is  300  batch_size is  1\n",
            "Currently on step 400\n",
            "the time is  181.767969 \n",
            "\n",
            "Avg Jacc is:\n",
            "0.3353967572688035  step number is  400  batch_size is  1\n",
            "Currently on step 500\n",
            "the time is  226.30053100000003 \n",
            "\n",
            "Avg Jacc is:\n",
            "0.3586025589283324  step number is  500  batch_size is  1\n",
            "Currently on step 600\n",
            "the time is  270.279895 \n",
            "\n",
            "Avg Jacc is:\n",
            "0.3786288602449143  step number is  600  batch_size is  1\n",
            "Currently on step 700\n",
            "the time is  314.57459800000004 \n",
            "\n",
            "Avg Jacc is:\n",
            "0.3739013149089936  step number is  700  batch_size is  1\n",
            "Currently on step 800\n",
            "the time is  358.05321100000003 \n",
            "\n",
            "Avg Jacc is:\n",
            "0.31400556870650426  step number is  800  batch_size is  1\n",
            "Currently on step 900\n",
            "the time is  402.314746 \n",
            "\n",
            "Avg Jacc is:\n",
            "0.37708251430339934  step number is  900  batch_size is  1\n",
            "Currently on step 1000\n",
            "the time is  445.750778 \n",
            "\n",
            "Avg Jacc is:\n",
            "0.34920818974170237  step number is  1000  batch_size is  1\n",
            "Currently on step 1100\n",
            "the time is  489.980568 \n",
            "\n",
            "Avg Jacc is:\n",
            "0.36700923029309424  step number is  1100  batch_size is  1\n",
            "Currently on step 1200\n",
            "the time is  533.442994 \n",
            "\n",
            "Avg Jacc is:\n",
            "0.35373522086623393  step number is  1200  batch_size is  1\n",
            "Currently on step 1300\n",
            "the time is  577.6451119999999 \n",
            "\n",
            "Avg Jacc is:\n",
            "0.37691906555306476  step number is  1300  batch_size is  1\n",
            "Currently on step 1400\n",
            "the time is  621.1321019999999 \n",
            "\n",
            "Avg Jacc is:\n",
            "0.36593177027569596  step number is  1400  batch_size is  1\n",
            "Currently on step 1500\n",
            "the time is  665.704219 \n",
            "\n",
            "Avg Jacc is:\n",
            "0.3739864243174518  step number is  1500  batch_size is  1\n",
            "Currently on step 1600\n",
            "the time is  709.9347359999999 \n",
            "\n",
            "Avg Jacc is:\n",
            "0.35230804378011243  step number is  1600  batch_size is  1\n",
            "Currently on step 1700\n",
            "the time is  754.5165989999999 \n",
            "\n",
            "Avg Jacc is:\n",
            "0.3601763249464668  step number is  1700  batch_size is  1\n",
            "Currently on step 1800\n",
            "the time is  798.108979 \n",
            "\n",
            "Avg Jacc is:\n",
            "0.36182257511375804  step number is  1800  batch_size is  1\n",
            "Currently on step 1900\n",
            "the time is  842.4519919999999 \n",
            "\n",
            "Avg Jacc is:\n",
            "0.36053788309689505  step number is  1900  batch_size is  1\n",
            "Currently on step 2000\n",
            "the time is  886.198408 \n",
            "\n",
            "Avg Jacc is:\n",
            "0.3533454061830835  step number is  2000  batch_size is  1\n",
            "Currently on step 2100\n",
            "the time is  930.4700919999999 \n",
            "\n",
            "Avg Jacc is:\n",
            "0.3273404825933485  step number is  2100  batch_size is  1\n",
            "Currently on step 2200\n",
            "the time is  974.126952 \n",
            "\n",
            "Avg Jacc is:\n",
            "0.3545098576351713  step number is  2200  batch_size is  1\n",
            "Currently on step 2300\n",
            "the time is  1018.582518 \n",
            "\n",
            "Avg Jacc is:\n",
            "0.3749927855661135  step number is  2300  batch_size is  1\n",
            "Currently on step 2400\n",
            "the time is  1062.349355 \n",
            "\n",
            "Avg Jacc is:\n",
            "0.3475601098266863  step number is  2400  batch_size is  1\n",
            "Currently on step 2500\n",
            "the time is  1106.598833 \n",
            "\n",
            "Avg Jacc is:\n",
            "0.35608223827288543  step number is  2500  batch_size is  1\n",
            "Currently on step 2600\n",
            "the time is  1150.34732 \n",
            "\n",
            "Avg Jacc is:\n",
            "0.35781351943087525  step number is  2600  batch_size is  1\n",
            "Currently on step 2700\n",
            "the time is  1195.19504 \n",
            "\n",
            "Avg Jacc is:\n",
            "0.3273707257093148  step number is  2700  batch_size is  1\n",
            "Currently on step 2800\n",
            "the time is  1239.085393 \n",
            "\n",
            "Avg Jacc is:\n",
            "0.37217675153907925  step number is  2800  batch_size is  1\n",
            "Currently on step 2900\n",
            "the time is  1284.2379230000001 \n",
            "\n",
            "Avg Jacc is:\n",
            "0.3638705856029176  step number is  2900  batch_size is  1\n",
            "Currently on step 3000\n",
            "the time is  1328.559432 \n",
            "\n",
            "Avg Jacc is:\n",
            "0.3569893749163544  step number is  3000  batch_size is  1\n",
            "Currently on step 3100\n",
            "the time is  1373.217895 \n",
            "\n",
            "Avg Jacc is:\n",
            "0.35222878956437365  step number is  3100  batch_size is  1\n",
            "Currently on step 3200\n",
            "the time is  1416.945555 \n",
            "\n",
            "Avg Jacc is:\n",
            "0.3634196312065043  step number is  3200  batch_size is  1\n",
            "Currently on step 3300\n",
            "the time is  1461.4433860000001 \n",
            "\n",
            "Avg Jacc is:\n",
            "0.3727580885305139  step number is  3300  batch_size is  1\n",
            "Currently on step 3400\n",
            "the time is  1505.149285 \n",
            "\n",
            "Avg Jacc is:\n",
            "0.36722155944693524  step number is  3400  batch_size is  1\n",
            "Currently on step 3500\n",
            "the time is  1548.8671570000001 \n",
            "\n",
            "Avg Jacc is:\n",
            "0.36786079488423445  step number is  3500  batch_size is  1\n",
            "Currently on step 3600\n",
            "the time is  1593.362081 \n",
            "\n",
            "Avg Jacc is:\n",
            "0.3614282122005487  step number is  3600  batch_size is  1\n",
            "Currently on step 3700\n",
            "the time is  1637.1176580000001 \n",
            "\n",
            "Avg Jacc is:\n",
            "0.3559238343984208  step number is  3700  batch_size is  1\n",
            "Currently on step 3800\n",
            "the time is  1681.7755060000002 \n",
            "\n",
            "Avg Jacc is:\n",
            "0.34840338827455836  step number is  3800  batch_size is  1\n",
            "Currently on step 3900\n",
            "the time is  1725.575259 \n",
            "\n",
            "Avg Jacc is:\n",
            "0.35181014328493043  step number is  3900  batch_size is  1\n",
            "Currently on step 4000\n",
            "the time is  1770.187721 \n",
            "\n",
            "Avg Jacc is:\n",
            "0.3506125472597698  step number is  4000  batch_size is  1\n",
            "Currently on step 4100\n",
            "the time is  1813.9444560000002 \n",
            "\n",
            "Avg Jacc is:\n",
            "0.3556282517230996  step number is  4100  batch_size is  1\n",
            "Currently on step 4200\n",
            "the time is  1858.921863 \n",
            "\n",
            "Avg Jacc is:\n",
            "0.36868627250066915  step number is  4200  batch_size is  1\n",
            "Currently on step 4300\n",
            "the time is  1903.389188 \n",
            "\n",
            "Avg Jacc is:\n",
            "0.3688182234508833  step number is  4300  batch_size is  1\n",
            "Currently on step 4400\n",
            "the time is  1948.0389300000002 \n",
            "\n",
            "Avg Jacc is:\n",
            "0.347331835728386  step number is  4400  batch_size is  1\n",
            "Currently on step 4500\n",
            "the time is  1998.763012 \n",
            "\n",
            "Avg Jacc is:\n",
            "0.3683085602917559  step number is  4500  batch_size is  1\n",
            "Currently on step 4600\n",
            "the time is  2057.60532 \n",
            "\n",
            "Avg Jacc is:\n",
            "0.36897793428800857  step number is  4600  batch_size is  1\n",
            "Currently on step 4700\n",
            "the time is  2115.0256210000002 \n",
            "\n",
            "Avg Jacc is:\n",
            "0.35613697386911136  step number is  4700  batch_size is  1\n",
            "Currently on step 4800\n",
            "the time is  2173.904709 \n",
            "\n",
            "Avg Jacc is:\n",
            "0.3670959080567452  step number is  4800  batch_size is  1\n",
            "Currently on step 4900\n",
            "the time is  2231.403182 \n",
            "\n",
            "Avg Jacc is:\n",
            "0.3633352275578828  step number is  4900  batch_size is  1\n",
            "Currently on step 5000\n",
            "the time is  2290.321297 \n",
            "\n",
            "Avg Jacc is:\n",
            "0.37165346982902836  step number is  5000  batch_size is  1\n",
            "Currently on step 5100\n",
            "the time is  2347.597897 \n",
            "\n",
            "Avg Jacc is:\n",
            "0.3701754257561563  step number is  5100  batch_size is  1\n",
            "Currently on step 5200\n",
            "the time is  2406.383522 \n",
            "\n",
            "Avg Jacc is:\n",
            "0.3574830931310225  step number is  5200  batch_size is  1\n"
          ],
          "name": "stdout"
        },
        {
          "output_type": "error",
          "ename": "KeyboardInterrupt",
          "evalue": "ignored",
          "traceback": [
            "\u001b[0;31m---------------------------------------------------------------------------\u001b[0m",
            "\u001b[0;31mKeyboardInterrupt\u001b[0m                         Traceback (most recent call last)",
            "\u001b[0;32m<ipython-input-147-18ab621aa92f>\u001b[0m in \u001b[0;36m<module>\u001b[0;34m()\u001b[0m\n\u001b[1;32m     21\u001b[0m         \u001b[0;31m#print(\"batch training data are \", batch_x)\u001b[0m\u001b[0;34m\u001b[0m\u001b[0;34m\u001b[0m\u001b[0;34m\u001b[0m\u001b[0m\n\u001b[1;32m     22\u001b[0m         \u001b[0;31m#image = batch_y.reshape(-1,21,28)[5,:,:]\u001b[0m\u001b[0;34m\u001b[0m\u001b[0;34m\u001b[0m\u001b[0;34m\u001b[0m\u001b[0m\n\u001b[0;32m---> 23\u001b[0;31m         \u001b[0msess\u001b[0m\u001b[0;34m.\u001b[0m\u001b[0mrun\u001b[0m\u001b[0;34m(\u001b[0m\u001b[0mtrain\u001b[0m\u001b[0;34m,\u001b[0m\u001b[0mfeed_dict\u001b[0m\u001b[0;34m=\u001b[0m\u001b[0;34m{\u001b[0m\u001b[0mx\u001b[0m\u001b[0;34m:\u001b[0m\u001b[0mbatch_x\u001b[0m\u001b[0;34m,\u001b[0m\u001b[0my_true\u001b[0m\u001b[0;34m:\u001b[0m\u001b[0mbatch_y\u001b[0m\u001b[0;34m,\u001b[0m\u001b[0mhold_prob\u001b[0m\u001b[0;34m:\u001b[0m\u001b[0;36m0.5\u001b[0m\u001b[0;34m}\u001b[0m\u001b[0;34m)\u001b[0m\u001b[0;34m\u001b[0m\u001b[0;34m\u001b[0m\u001b[0m\n\u001b[0m\u001b[1;32m     24\u001b[0m         \u001b[0;31m#print(\"batch training prediction are \", batch_y)\u001b[0m\u001b[0;34m\u001b[0m\u001b[0;34m\u001b[0m\u001b[0;34m\u001b[0m\u001b[0m\n\u001b[1;32m     25\u001b[0m         \u001b[0;31m#image_pred = sess.run(y_pred,feed_dict={x:batch_x,y_true:batch_y,hold_prob:1.0} ).reshape(-1,21,28)[5,:,:]\u001b[0m\u001b[0;34m\u001b[0m\u001b[0;34m\u001b[0m\u001b[0;34m\u001b[0m\u001b[0m\n",
            "\u001b[0;32m/usr/local/lib/python3.6/dist-packages/tensorflow/python/client/session.py\u001b[0m in \u001b[0;36mrun\u001b[0;34m(self, fetches, feed_dict, options, run_metadata)\u001b[0m\n\u001b[1;32m    927\u001b[0m     \u001b[0;32mtry\u001b[0m\u001b[0;34m:\u001b[0m\u001b[0;34m\u001b[0m\u001b[0;34m\u001b[0m\u001b[0m\n\u001b[1;32m    928\u001b[0m       result = self._run(None, fetches, feed_dict, options_ptr,\n\u001b[0;32m--> 929\u001b[0;31m                          run_metadata_ptr)\n\u001b[0m\u001b[1;32m    930\u001b[0m       \u001b[0;32mif\u001b[0m \u001b[0mrun_metadata\u001b[0m\u001b[0;34m:\u001b[0m\u001b[0;34m\u001b[0m\u001b[0;34m\u001b[0m\u001b[0m\n\u001b[1;32m    931\u001b[0m         \u001b[0mproto_data\u001b[0m \u001b[0;34m=\u001b[0m \u001b[0mtf_session\u001b[0m\u001b[0;34m.\u001b[0m\u001b[0mTF_GetBuffer\u001b[0m\u001b[0;34m(\u001b[0m\u001b[0mrun_metadata_ptr\u001b[0m\u001b[0;34m)\u001b[0m\u001b[0;34m\u001b[0m\u001b[0;34m\u001b[0m\u001b[0m\n",
            "\u001b[0;32m/usr/local/lib/python3.6/dist-packages/tensorflow/python/client/session.py\u001b[0m in \u001b[0;36m_run\u001b[0;34m(self, handle, fetches, feed_dict, options, run_metadata)\u001b[0m\n\u001b[1;32m   1150\u001b[0m     \u001b[0;32mif\u001b[0m \u001b[0mfinal_fetches\u001b[0m \u001b[0;32mor\u001b[0m \u001b[0mfinal_targets\u001b[0m \u001b[0;32mor\u001b[0m \u001b[0;34m(\u001b[0m\u001b[0mhandle\u001b[0m \u001b[0;32mand\u001b[0m \u001b[0mfeed_dict_tensor\u001b[0m\u001b[0;34m)\u001b[0m\u001b[0;34m:\u001b[0m\u001b[0;34m\u001b[0m\u001b[0;34m\u001b[0m\u001b[0m\n\u001b[1;32m   1151\u001b[0m       results = self._do_run(handle, final_targets, final_fetches,\n\u001b[0;32m-> 1152\u001b[0;31m                              feed_dict_tensor, options, run_metadata)\n\u001b[0m\u001b[1;32m   1153\u001b[0m     \u001b[0;32melse\u001b[0m\u001b[0;34m:\u001b[0m\u001b[0;34m\u001b[0m\u001b[0;34m\u001b[0m\u001b[0m\n\u001b[1;32m   1154\u001b[0m       \u001b[0mresults\u001b[0m \u001b[0;34m=\u001b[0m \u001b[0;34m[\u001b[0m\u001b[0;34m]\u001b[0m\u001b[0;34m\u001b[0m\u001b[0;34m\u001b[0m\u001b[0m\n",
            "\u001b[0;32m/usr/local/lib/python3.6/dist-packages/tensorflow/python/client/session.py\u001b[0m in \u001b[0;36m_do_run\u001b[0;34m(self, handle, target_list, fetch_list, feed_dict, options, run_metadata)\u001b[0m\n\u001b[1;32m   1326\u001b[0m     \u001b[0;32mif\u001b[0m \u001b[0mhandle\u001b[0m \u001b[0;32mis\u001b[0m \u001b[0;32mNone\u001b[0m\u001b[0;34m:\u001b[0m\u001b[0;34m\u001b[0m\u001b[0;34m\u001b[0m\u001b[0m\n\u001b[1;32m   1327\u001b[0m       return self._do_call(_run_fn, feeds, fetches, targets, options,\n\u001b[0;32m-> 1328\u001b[0;31m                            run_metadata)\n\u001b[0m\u001b[1;32m   1329\u001b[0m     \u001b[0;32melse\u001b[0m\u001b[0;34m:\u001b[0m\u001b[0;34m\u001b[0m\u001b[0;34m\u001b[0m\u001b[0m\n\u001b[1;32m   1330\u001b[0m       \u001b[0;32mreturn\u001b[0m \u001b[0mself\u001b[0m\u001b[0;34m.\u001b[0m\u001b[0m_do_call\u001b[0m\u001b[0;34m(\u001b[0m\u001b[0m_prun_fn\u001b[0m\u001b[0;34m,\u001b[0m \u001b[0mhandle\u001b[0m\u001b[0;34m,\u001b[0m \u001b[0mfeeds\u001b[0m\u001b[0;34m,\u001b[0m \u001b[0mfetches\u001b[0m\u001b[0;34m)\u001b[0m\u001b[0;34m\u001b[0m\u001b[0;34m\u001b[0m\u001b[0m\n",
            "\u001b[0;32m/usr/local/lib/python3.6/dist-packages/tensorflow/python/client/session.py\u001b[0m in \u001b[0;36m_do_call\u001b[0;34m(self, fn, *args)\u001b[0m\n\u001b[1;32m   1332\u001b[0m   \u001b[0;32mdef\u001b[0m \u001b[0m_do_call\u001b[0m\u001b[0;34m(\u001b[0m\u001b[0mself\u001b[0m\u001b[0;34m,\u001b[0m \u001b[0mfn\u001b[0m\u001b[0;34m,\u001b[0m \u001b[0;34m*\u001b[0m\u001b[0margs\u001b[0m\u001b[0;34m)\u001b[0m\u001b[0;34m:\u001b[0m\u001b[0;34m\u001b[0m\u001b[0;34m\u001b[0m\u001b[0m\n\u001b[1;32m   1333\u001b[0m     \u001b[0;32mtry\u001b[0m\u001b[0;34m:\u001b[0m\u001b[0;34m\u001b[0m\u001b[0;34m\u001b[0m\u001b[0m\n\u001b[0;32m-> 1334\u001b[0;31m       \u001b[0;32mreturn\u001b[0m \u001b[0mfn\u001b[0m\u001b[0;34m(\u001b[0m\u001b[0;34m*\u001b[0m\u001b[0margs\u001b[0m\u001b[0;34m)\u001b[0m\u001b[0;34m\u001b[0m\u001b[0;34m\u001b[0m\u001b[0m\n\u001b[0m\u001b[1;32m   1335\u001b[0m     \u001b[0;32mexcept\u001b[0m \u001b[0merrors\u001b[0m\u001b[0;34m.\u001b[0m\u001b[0mOpError\u001b[0m \u001b[0;32mas\u001b[0m \u001b[0me\u001b[0m\u001b[0;34m:\u001b[0m\u001b[0;34m\u001b[0m\u001b[0;34m\u001b[0m\u001b[0m\n\u001b[1;32m   1336\u001b[0m       \u001b[0mmessage\u001b[0m \u001b[0;34m=\u001b[0m \u001b[0mcompat\u001b[0m\u001b[0;34m.\u001b[0m\u001b[0mas_text\u001b[0m\u001b[0;34m(\u001b[0m\u001b[0me\u001b[0m\u001b[0;34m.\u001b[0m\u001b[0mmessage\u001b[0m\u001b[0;34m)\u001b[0m\u001b[0;34m\u001b[0m\u001b[0;34m\u001b[0m\u001b[0m\n",
            "\u001b[0;32m/usr/local/lib/python3.6/dist-packages/tensorflow/python/client/session.py\u001b[0m in \u001b[0;36m_run_fn\u001b[0;34m(feed_dict, fetch_list, target_list, options, run_metadata)\u001b[0m\n\u001b[1;32m   1317\u001b[0m       \u001b[0mself\u001b[0m\u001b[0;34m.\u001b[0m\u001b[0m_extend_graph\u001b[0m\u001b[0;34m(\u001b[0m\u001b[0;34m)\u001b[0m\u001b[0;34m\u001b[0m\u001b[0;34m\u001b[0m\u001b[0m\n\u001b[1;32m   1318\u001b[0m       return self._call_tf_sessionrun(\n\u001b[0;32m-> 1319\u001b[0;31m           options, feed_dict, fetch_list, target_list, run_metadata)\n\u001b[0m\u001b[1;32m   1320\u001b[0m \u001b[0;34m\u001b[0m\u001b[0m\n\u001b[1;32m   1321\u001b[0m     \u001b[0;32mdef\u001b[0m \u001b[0m_prun_fn\u001b[0m\u001b[0;34m(\u001b[0m\u001b[0mhandle\u001b[0m\u001b[0;34m,\u001b[0m \u001b[0mfeed_dict\u001b[0m\u001b[0;34m,\u001b[0m \u001b[0mfetch_list\u001b[0m\u001b[0;34m)\u001b[0m\u001b[0;34m:\u001b[0m\u001b[0;34m\u001b[0m\u001b[0;34m\u001b[0m\u001b[0m\n",
            "\u001b[0;32m/usr/local/lib/python3.6/dist-packages/tensorflow/python/client/session.py\u001b[0m in \u001b[0;36m_call_tf_sessionrun\u001b[0;34m(self, options, feed_dict, fetch_list, target_list, run_metadata)\u001b[0m\n\u001b[1;32m   1405\u001b[0m     return tf_session.TF_SessionRun_wrapper(\n\u001b[1;32m   1406\u001b[0m         \u001b[0mself\u001b[0m\u001b[0;34m.\u001b[0m\u001b[0m_session\u001b[0m\u001b[0;34m,\u001b[0m \u001b[0moptions\u001b[0m\u001b[0;34m,\u001b[0m \u001b[0mfeed_dict\u001b[0m\u001b[0;34m,\u001b[0m \u001b[0mfetch_list\u001b[0m\u001b[0;34m,\u001b[0m \u001b[0mtarget_list\u001b[0m\u001b[0;34m,\u001b[0m\u001b[0;34m\u001b[0m\u001b[0;34m\u001b[0m\u001b[0m\n\u001b[0;32m-> 1407\u001b[0;31m         run_metadata)\n\u001b[0m\u001b[1;32m   1408\u001b[0m \u001b[0;34m\u001b[0m\u001b[0m\n\u001b[1;32m   1409\u001b[0m   \u001b[0;32mdef\u001b[0m \u001b[0m_call_tf_sessionprun\u001b[0m\u001b[0;34m(\u001b[0m\u001b[0mself\u001b[0m\u001b[0;34m,\u001b[0m \u001b[0mhandle\u001b[0m\u001b[0;34m,\u001b[0m \u001b[0mfeed_dict\u001b[0m\u001b[0;34m,\u001b[0m \u001b[0mfetch_list\u001b[0m\u001b[0;34m)\u001b[0m\u001b[0;34m:\u001b[0m\u001b[0;34m\u001b[0m\u001b[0;34m\u001b[0m\u001b[0m\n",
            "\u001b[0;31mKeyboardInterrupt\u001b[0m: "
          ]
        }
      ]
    },
    {
      "cell_type": "markdown",
      "metadata": {
        "id": "ozKxJoKafN0x",
        "colab_type": "text"
      },
      "source": [
        "## Great Job!"
      ]
    },
    {
      "cell_type": "code",
      "metadata": {
        "id": "aPBW3tGrfN0x",
        "colab_type": "code",
        "colab": {}
      },
      "source": [
        "plt.imshow(pred_pigment[0][5,:,:])\n",
        "plt.show()"
      ],
      "execution_count": 0,
      "outputs": []
    },
    {
      "cell_type": "code",
      "metadata": {
        "id": "F065GTgDfN0y",
        "colab_type": "code",
        "colab": {}
      },
      "source": [
        "pigs.shape"
      ],
      "execution_count": 0,
      "outputs": []
    },
    {
      "cell_type": "code",
      "metadata": {
        "id": "hpT_cK9NfN01",
        "colab_type": "code",
        "colab": {}
      },
      "source": [
        "pred_pigment[0].shape"
      ],
      "execution_count": 0,
      "outputs": []
    },
    {
      "cell_type": "code",
      "metadata": {
        "id": "Zxfv9B0wfN03",
        "colab_type": "code",
        "colab": {}
      },
      "source": [
        "plt.imshow(pigment_image_show)\n",
        "plt.show()"
      ],
      "execution_count": 0,
      "outputs": []
    },
    {
      "cell_type": "code",
      "metadata": {
        "id": "JAPOpkOnfN05",
        "colab_type": "code",
        "colab": {}
      },
      "source": [
        "mask = np.zeros([21,28,3])#np.vstack([pred_pigment[0],pred_pigment[0],pred_pigment[0]])\n",
        "mask[:,:,0] = pred_pigment[0][0,:,:]\n",
        "mask[:,:,1] = pred_pigment[0][0,:,:]\n",
        "mask[:,:,2] = pred_pigment[0][0,:,:]\n",
        "#mask = 1-mask\n",
        "#mask = mask.astype(int)\n",
        "\n",
        "image = pigment_image_show\n",
        "#image[mask] = 0\n",
        "image2 = image*mask*255\n",
        "image1 = image*(1- mask)*255\n"
      ],
      "execution_count": 0,
      "outputs": []
    },
    {
      "cell_type": "code",
      "metadata": {
        "id": "sUdEkyQDfN06",
        "colab_type": "code",
        "colab": {}
      },
      "source": [
        "plt.imshow(image2)\n",
        "plt.show()"
      ],
      "execution_count": 0,
      "outputs": []
    },
    {
      "cell_type": "code",
      "metadata": {
        "id": "UOT68oxRfN08",
        "colab_type": "code",
        "colab": {}
      },
      "source": [
        "plt.imshow(image1)\n",
        "plt.show()"
      ],
      "execution_count": 0,
      "outputs": []
    },
    {
      "cell_type": "code",
      "metadata": {
        "id": "ajywFtjAfN09",
        "colab_type": "code",
        "colab": {}
      },
      "source": [
        "image2[:,:,0].shape"
      ],
      "execution_count": 0,
      "outputs": []
    },
    {
      "cell_type": "code",
      "metadata": {
        "id": "K24a-3W1fN0_",
        "colab_type": "code",
        "colab": {}
      },
      "source": [
        "red = image2[:,:,0].reshape(-1)"
      ],
      "execution_count": 0,
      "outputs": []
    },
    {
      "cell_type": "code",
      "metadata": {
        "id": "ONqRmNbgfN1A",
        "colab_type": "code",
        "colab": {}
      },
      "source": [
        "plt.hist(red, bins = 500, range = (0.1, red.max()))"
      ],
      "execution_count": 0,
      "outputs": []
    },
    {
      "cell_type": "code",
      "metadata": {
        "id": "Dx1I2TsyfN1B",
        "colab_type": "code",
        "colab": {}
      },
      "source": [
        "plt.show()"
      ],
      "execution_count": 0,
      "outputs": []
    },
    {
      "cell_type": "code",
      "metadata": {
        "id": "sr2dpX_dfN1C",
        "colab_type": "code",
        "colab": {}
      },
      "source": [
        "a2 = np.average(red, weights = mask[:,:,0].reshape(-1))"
      ],
      "execution_count": 0,
      "outputs": []
    },
    {
      "cell_type": "code",
      "metadata": {
        "id": "Jevzwut9fN1E",
        "colab_type": "code",
        "colab": {}
      },
      "source": [
        "a2"
      ],
      "execution_count": 0,
      "outputs": []
    },
    {
      "cell_type": "code",
      "metadata": {
        "id": "7BHV-xfHfN1F",
        "colab_type": "code",
        "colab": {}
      },
      "source": [
        "mask[0].shape"
      ],
      "execution_count": 0,
      "outputs": []
    },
    {
      "cell_type": "code",
      "metadata": {
        "id": "qs855rM1fN1G",
        "colab_type": "code",
        "colab": {}
      },
      "source": [
        "red_norm = image1[:,:,0].reshape(-1)"
      ],
      "execution_count": 0,
      "outputs": []
    },
    {
      "cell_type": "code",
      "metadata": {
        "id": "ea9StQEufN1H",
        "colab_type": "code",
        "colab": {}
      },
      "source": [
        "plt.hist(red_norm, bins = 500, range = (0.1, red_norm.max()))"
      ],
      "execution_count": 0,
      "outputs": []
    },
    {
      "cell_type": "code",
      "metadata": {
        "id": "l3Q9PxaWfN1I",
        "colab_type": "code",
        "colab": {}
      },
      "source": [
        "plt.show()"
      ],
      "execution_count": 0,
      "outputs": []
    },
    {
      "cell_type": "code",
      "metadata": {
        "id": "u2KHoacjfN1J",
        "colab_type": "code",
        "colab": {}
      },
      "source": [
        "mask_inv = 1-mask"
      ],
      "execution_count": 0,
      "outputs": []
    },
    {
      "cell_type": "code",
      "metadata": {
        "id": "rHWWM8OpfN1K",
        "colab_type": "code",
        "colab": {}
      },
      "source": [
        "a1 = np.average(red_norm, weights =mask_inv[:,:,0].reshape(-1))"
      ],
      "execution_count": 0,
      "outputs": []
    },
    {
      "cell_type": "code",
      "metadata": {
        "id": "erjg3_0VfN1L",
        "colab_type": "code",
        "colab": {}
      },
      "source": [
        "mask_inv.shape"
      ],
      "execution_count": 0,
      "outputs": []
    },
    {
      "cell_type": "code",
      "metadata": {
        "id": "EBVZiGiAfN1L",
        "colab_type": "code",
        "colab": {}
      },
      "source": [
        "a1"
      ],
      "execution_count": 0,
      "outputs": []
    },
    {
      "cell_type": "code",
      "metadata": {
        "id": "npZUBCrTfN1M",
        "colab_type": "code",
        "colab": {}
      },
      "source": [
        "a1 - a2"
      ],
      "execution_count": 0,
      "outputs": []
    },
    {
      "cell_type": "code",
      "metadata": {
        "id": "m6Tn1RcofN1N",
        "colab_type": "code",
        "colab": {}
      },
      "source": [
        "blue = image2[:,:,2].reshape(-1)"
      ],
      "execution_count": 0,
      "outputs": []
    },
    {
      "cell_type": "code",
      "metadata": {
        "id": "8uc36qqjfN1O",
        "colab_type": "code",
        "colab": {}
      },
      "source": [
        "blue_norm = image1[:,:,2].reshape(-1)"
      ],
      "execution_count": 0,
      "outputs": []
    },
    {
      "cell_type": "code",
      "metadata": {
        "id": "pYlWlxbXfN1Q",
        "colab_type": "code",
        "colab": {}
      },
      "source": [
        "plt.hist(blue, bins = 500, range = (0.1, blue.max()))\n",
        "plt.show()"
      ],
      "execution_count": 0,
      "outputs": []
    },
    {
      "cell_type": "code",
      "metadata": {
        "id": "Z_tMSOZzfN1R",
        "colab_type": "code",
        "colab": {}
      },
      "source": [
        "plt.hist(blue_norm, bins = 500, range = (0.1, blue_norm.max()))\n",
        "plt.figure()\n",
        "plt.show()"
      ],
      "execution_count": 0,
      "outputs": []
    },
    {
      "cell_type": "code",
      "metadata": {
        "id": "I5dc6TdTfN1S",
        "colab_type": "code",
        "colab": {}
      },
      "source": [
        "def measure_progress(pigs,masks):\n",
        "    blue_pigs = []\n",
        "    blue_norms = []\n",
        "    imagesp = []\n",
        "    imagesn = []\n",
        "    i = 0\n",
        "    for pig in pigs:\n",
        "        mask = np.zeros([21,28,3])#np.vstack([pred_pigment[0],pred_pigment[0],pred_pigment[0]])\n",
        "        mask[:,:,0] = pred_pigment[0][i,:,:]\n",
        "        mask[:,:,1] = pred_pigment[0][i,:,:]\n",
        "        mask[:,:,2] = pred_pigment[0][i,:,:]\n",
        "        mask_inv = 1- mask\n",
        "        imagep = pig*mask*255\n",
        "        imagen = pig*(1- mask)*255\n",
        "        imagesp += [imagep]\n",
        "        imagesn += [imagen]\n",
        "        blue_norm = imagen[:,:,2].reshape(-1)\n",
        "        blue_pig = imagep[:,:,2].reshape(-1)\n",
        "        an = np.average(blue_norm, weights =mask_inv[:,:,2].reshape(-1))\n",
        "        ap = np.average(blue_pig, weights =mask[:,:,2].reshape(-1))\n",
        "        blue_pigs += [ap]\n",
        "        blue_norms += [an]\n",
        "        i+=1\n",
        "    blue_pigs = np.array(blue_pigs)\n",
        "    blue_norms = np.array(blue_norms)\n",
        "    return(blue_pigs, blue_norms, imagesp, imagesn)"
      ],
      "execution_count": 0,
      "outputs": []
    },
    {
      "cell_type": "code",
      "metadata": {
        "id": "0Gl1CurMfN1T",
        "colab_type": "code",
        "colab": {}
      },
      "source": [
        "pigmented, normal, imagesp, imagesn = measure_progress(pigs,pred_pigment)"
      ],
      "execution_count": 0,
      "outputs": []
    },
    {
      "cell_type": "code",
      "metadata": {
        "id": "hIybHR8HfN1U",
        "colab_type": "code",
        "colab": {}
      },
      "source": [
        "J_out[1].shape"
      ],
      "execution_count": 0,
      "outputs": []
    },
    {
      "cell_type": "code",
      "metadata": {
        "id": "SFU1gqlwfN1V",
        "colab_type": "code",
        "colab": {}
      },
      "source": [
        "pigmented"
      ],
      "execution_count": 0,
      "outputs": []
    },
    {
      "cell_type": "code",
      "metadata": {
        "id": "OGl5P8_DfN1W",
        "colab_type": "code",
        "colab": {}
      },
      "source": [
        "normal"
      ],
      "execution_count": 0,
      "outputs": []
    },
    {
      "cell_type": "code",
      "metadata": {
        "id": "SI0Ug5XQfN1X",
        "colab_type": "code",
        "colab": {}
      },
      "source": [
        "plt.plot(normal - pigmented)"
      ],
      "execution_count": 0,
      "outputs": []
    },
    {
      "cell_type": "code",
      "metadata": {
        "id": "2Y-HM_QTfN1X",
        "colab_type": "code",
        "colab": {}
      },
      "source": [
        "plt.plot(normal)"
      ],
      "execution_count": 0,
      "outputs": []
    },
    {
      "cell_type": "code",
      "metadata": {
        "id": "hPauIGdCfN1Y",
        "colab_type": "code",
        "colab": {}
      },
      "source": [
        "plt.plot(pigmented)"
      ],
      "execution_count": 0,
      "outputs": []
    },
    {
      "cell_type": "code",
      "metadata": {
        "id": "EKYExBeMfN1Z",
        "colab_type": "code",
        "colab": {}
      },
      "source": [
        "plt.imshow(imagesp[0])"
      ],
      "execution_count": 0,
      "outputs": []
    },
    {
      "cell_type": "code",
      "metadata": {
        "id": "RGbveiABfN1a",
        "colab_type": "code",
        "colab": {}
      },
      "source": [
        "plt.imshow(imagesp[1])"
      ],
      "execution_count": 0,
      "outputs": []
    },
    {
      "cell_type": "code",
      "metadata": {
        "id": "QLx2lHwtfN1b",
        "colab_type": "code",
        "colab": {}
      },
      "source": [
        "plt.imshow(imagesp[2])"
      ],
      "execution_count": 0,
      "outputs": []
    },
    {
      "cell_type": "code",
      "metadata": {
        "id": "X5_39MM-fN1d",
        "colab_type": "code",
        "colab": {}
      },
      "source": [
        "plt.imshow(imagesp[3])"
      ],
      "execution_count": 0,
      "outputs": []
    },
    {
      "cell_type": "code",
      "metadata": {
        "id": "p3d7xIRpfN1e",
        "colab_type": "code",
        "colab": {}
      },
      "source": [
        "plt.imshow(imagesp[4])"
      ],
      "execution_count": 0,
      "outputs": []
    },
    {
      "cell_type": "code",
      "metadata": {
        "id": "lVuabyyffN1f",
        "colab_type": "code",
        "colab": {}
      },
      "source": [
        "plt.imshow(imagesp[5])"
      ],
      "execution_count": 0,
      "outputs": []
    },
    {
      "cell_type": "code",
      "metadata": {
        "id": "ecXz5Qg2fN1g",
        "colab_type": "code",
        "colab": {}
      },
      "source": [
        "plt.imshow(imagesp[6])"
      ],
      "execution_count": 0,
      "outputs": []
    },
    {
      "cell_type": "code",
      "metadata": {
        "id": "vljOjV8AfN1g",
        "colab_type": "code",
        "colab": {}
      },
      "source": [
        "plt.imshow(imagesp[7])"
      ],
      "execution_count": 0,
      "outputs": []
    },
    {
      "cell_type": "code",
      "metadata": {
        "id": "20qm-GS0fN1h",
        "colab_type": "code",
        "colab": {}
      },
      "source": [
        "plt.imshow(imagesp[8])"
      ],
      "execution_count": 0,
      "outputs": []
    },
    {
      "cell_type": "code",
      "metadata": {
        "id": "_raVEmR1fN1j",
        "colab_type": "code",
        "colab": {}
      },
      "source": [
        "plt.imshow(imagesp[9])"
      ],
      "execution_count": 0,
      "outputs": []
    },
    {
      "cell_type": "code",
      "metadata": {
        "id": "jLG0X9zwfN1l",
        "colab_type": "code",
        "colab": {}
      },
      "source": [
        "plt.imshow(imagesp[10])"
      ],
      "execution_count": 0,
      "outputs": []
    },
    {
      "cell_type": "code",
      "metadata": {
        "id": "551fWebzfN1m",
        "colab_type": "code",
        "colab": {}
      },
      "source": [
        "pigmented[0]"
      ],
      "execution_count": 0,
      "outputs": []
    },
    {
      "cell_type": "code",
      "metadata": {
        "id": "mD9EF_yxfN1m",
        "colab_type": "code",
        "colab": {}
      },
      "source": [
        "pigmented[10]"
      ],
      "execution_count": 0,
      "outputs": []
    },
    {
      "cell_type": "code",
      "metadata": {
        "id": "ks9ZDXfWfN1n",
        "colab_type": "code",
        "colab": {}
      },
      "source": [
        "plt.imshow(imagesp[0])"
      ],
      "execution_count": 0,
      "outputs": []
    },
    {
      "cell_type": "code",
      "metadata": {
        "id": "lqMFsSngfN1o",
        "colab_type": "code",
        "colab": {}
      },
      "source": [
        "plt.imshow(imagesp[11])"
      ],
      "execution_count": 0,
      "outputs": []
    },
    {
      "cell_type": "code",
      "metadata": {
        "id": "FHHB-0G2fN1p",
        "colab_type": "code",
        "colab": {}
      },
      "source": [
        "plt.imshow(imagesp[12])"
      ],
      "execution_count": 0,
      "outputs": []
    },
    {
      "cell_type": "code",
      "metadata": {
        "id": "ZgSGsY2YfN1q",
        "colab_type": "code",
        "colab": {}
      },
      "source": [
        "plt.imshow(imagesp[13])"
      ],
      "execution_count": 0,
      "outputs": []
    },
    {
      "cell_type": "code",
      "metadata": {
        "id": "s4TjKPuQfN1s",
        "colab_type": "code",
        "colab": {}
      },
      "source": [
        "plt.imshow(imagesp[14])"
      ],
      "execution_count": 0,
      "outputs": []
    },
    {
      "cell_type": "code",
      "metadata": {
        "id": "5yDzxusDfN1t",
        "colab_type": "code",
        "colab": {}
      },
      "source": [
        "plt.imshow(imagesp[15])"
      ],
      "execution_count": 0,
      "outputs": []
    },
    {
      "cell_type": "code",
      "metadata": {
        "id": "px8uG7stfN1t",
        "colab_type": "code",
        "colab": {}
      },
      "source": [
        "plt.imshow(imagesp[16])"
      ],
      "execution_count": 0,
      "outputs": []
    },
    {
      "cell_type": "code",
      "metadata": {
        "id": "WCVqCLpcfN1u",
        "colab_type": "code",
        "colab": {}
      },
      "source": [
        "plt.imshow(imagesp[17])"
      ],
      "execution_count": 0,
      "outputs": []
    },
    {
      "cell_type": "code",
      "metadata": {
        "id": "1UXuk8sxfN1x",
        "colab_type": "code",
        "colab": {}
      },
      "source": [
        "plt.imshow(imagesp[18])"
      ],
      "execution_count": 0,
      "outputs": []
    },
    {
      "cell_type": "code",
      "metadata": {
        "id": "hbx4K_-9fN1y",
        "colab_type": "code",
        "colab": {}
      },
      "source": [
        "plt.imshow(imagesp[19])"
      ],
      "execution_count": 0,
      "outputs": []
    },
    {
      "cell_type": "code",
      "metadata": {
        "id": "e6MwZhmyfN1y",
        "colab_type": "code",
        "colab": {}
      },
      "source": [
        "plt.imshow(imagesp[20])"
      ],
      "execution_count": 0,
      "outputs": []
    },
    {
      "cell_type": "code",
      "metadata": {
        "id": "L2t3dY8EfN11",
        "colab_type": "code",
        "colab": {}
      },
      "source": [
        "plt.imshow(imagesp[21])"
      ],
      "execution_count": 0,
      "outputs": []
    },
    {
      "cell_type": "code",
      "metadata": {
        "id": "DuGQCCKnfN11",
        "colab_type": "code",
        "colab": {}
      },
      "source": [
        "plt.imshow(imagesp[22])"
      ],
      "execution_count": 0,
      "outputs": []
    },
    {
      "cell_type": "code",
      "metadata": {
        "id": "ust1UM-LfN15",
        "colab_type": "code",
        "colab": {}
      },
      "source": [
        "plt.imshow(imagesp[23])"
      ],
      "execution_count": 0,
      "outputs": []
    },
    {
      "cell_type": "code",
      "metadata": {
        "id": "hrAjXfnUfN16",
        "colab_type": "code",
        "colab": {}
      },
      "source": [
        "plt.imshow(imagesp[24])"
      ],
      "execution_count": 0,
      "outputs": []
    },
    {
      "cell_type": "code",
      "metadata": {
        "id": "Nig__U98fN16",
        "colab_type": "code",
        "colab": {}
      },
      "source": [
        "plt.imshow(imagesp[25])"
      ],
      "execution_count": 0,
      "outputs": []
    },
    {
      "cell_type": "code",
      "metadata": {
        "id": "i7tRlK70fN17",
        "colab_type": "code",
        "colab": {}
      },
      "source": [
        "plt.imshow(imagesp[26])"
      ],
      "execution_count": 0,
      "outputs": []
    },
    {
      "cell_type": "code",
      "metadata": {
        "id": "xhAjKp-FfN18",
        "colab_type": "code",
        "colab": {}
      },
      "source": [
        "plt.imshow(imagesp[27])"
      ],
      "execution_count": 0,
      "outputs": []
    },
    {
      "cell_type": "code",
      "metadata": {
        "id": "ONZHGxYgfN19",
        "colab_type": "code",
        "colab": {}
      },
      "source": [
        "plt.imshow(imagesp[0])"
      ],
      "execution_count": 0,
      "outputs": []
    },
    {
      "cell_type": "code",
      "metadata": {
        "id": "WBoXOjU6fN1-",
        "colab_type": "code",
        "colab": {}
      },
      "source": [
        "test = normal - pigmented"
      ],
      "execution_count": 0,
      "outputs": []
    },
    {
      "cell_type": "code",
      "metadata": {
        "id": "_3vR3FEkfN1_",
        "colab_type": "code",
        "colab": {}
      },
      "source": [
        "test = np.hstack([test[0:2], test[4:8], test[9:21], test[22:26], test[27]])"
      ],
      "execution_count": 0,
      "outputs": []
    },
    {
      "cell_type": "code",
      "metadata": {
        "id": "eBWPYJQqfN2A",
        "colab_type": "code",
        "colab": {}
      },
      "source": [
        "plt.plot(test)"
      ],
      "execution_count": 0,
      "outputs": []
    },
    {
      "cell_type": "code",
      "metadata": {
        "id": "tUhETHmvfN2B",
        "colab_type": "code",
        "colab": {}
      },
      "source": [
        "filenames"
      ],
      "execution_count": 0,
      "outputs": []
    },
    {
      "cell_type": "code",
      "metadata": {
        "id": "cXZzpi6CfN2C",
        "colab_type": "code",
        "colab": {}
      },
      "source": [
        "normal = np.hstack([normal[0:2], normal[12], normal[21:28], normal[2:12], normal[13:20]])"
      ],
      "execution_count": 0,
      "outputs": []
    },
    {
      "cell_type": "code",
      "metadata": {
        "id": "xCGAAJMafN2D",
        "colab_type": "code",
        "colab": {}
      },
      "source": [
        "pigmented = np.hstack([pigmented[0:2], pigmented[12], pigmented[21:28], pigmented[2:12], pigmented[13:20]])"
      ],
      "execution_count": 0,
      "outputs": []
    },
    {
      "cell_type": "code",
      "metadata": {
        "id": "8oUhRhYvfN2E",
        "colab_type": "code",
        "colab": {}
      },
      "source": [
        "plt.plot(normal-pigmented)"
      ],
      "execution_count": 0,
      "outputs": []
    },
    {
      "cell_type": "code",
      "metadata": {
        "id": "RQzHMxI8fN2F",
        "colab_type": "code",
        "colab": {}
      },
      "source": [
        "## 26, 21, 2, 3, 8 -> 8,3,10,11,16"
      ],
      "execution_count": 0,
      "outputs": []
    },
    {
      "cell_type": "code",
      "metadata": {
        "id": "DSo5OEV8fN2F",
        "colab_type": "code",
        "colab": {}
      },
      "source": [
        "normal.shape"
      ],
      "execution_count": 0,
      "outputs": []
    },
    {
      "cell_type": "code",
      "metadata": {
        "id": "kuY1yTNrfN2G",
        "colab_type": "code",
        "colab": {}
      },
      "source": [
        "normal = np.hstack([normal[0:3], normal[4:8], normal[9], normal[12:16], normal[17:27]])"
      ],
      "execution_count": 0,
      "outputs": []
    },
    {
      "cell_type": "code",
      "metadata": {
        "id": "PR9K3H7ufN2H",
        "colab_type": "code",
        "colab": {}
      },
      "source": [
        "pigmented = np.hstack([pigmented[0:3], pigmented[4:8], pigmented[9], pigmented[12:16], pigmented[17:27]])"
      ],
      "execution_count": 0,
      "outputs": []
    },
    {
      "cell_type": "code",
      "metadata": {
        "id": "3xtRhAlQfN2I",
        "colab_type": "code",
        "colab": {}
      },
      "source": [
        "new_files_names = np.hstack([filenames[0:3], filenames[4:8], filenames[9], filenames[12:16], filenames[17:27]])"
      ],
      "execution_count": 0,
      "outputs": []
    },
    {
      "cell_type": "code",
      "metadata": {
        "id": "4Bn2MCC6fN2I",
        "colab_type": "code",
        "colab": {}
      },
      "source": [
        "plt.plot(normal-pigmented)"
      ],
      "execution_count": 0,
      "outputs": []
    },
    {
      "cell_type": "code",
      "metadata": {
        "id": "RGsF6DPXfN2L",
        "colab_type": "code",
        "colab": {}
      },
      "source": [
        "plt.plot(pigmented)"
      ],
      "execution_count": 0,
      "outputs": []
    },
    {
      "cell_type": "code",
      "metadata": {
        "id": "edq64hVRfN2M",
        "colab_type": "code",
        "colab": {}
      },
      "source": [
        "plt.plot(normal)"
      ],
      "execution_count": 0,
      "outputs": []
    },
    {
      "cell_type": "code",
      "metadata": {
        "id": "mKzE4nHQfN2N",
        "colab_type": "code",
        "colab": {}
      },
      "source": [
        "plt.plot(pigmented/normal)"
      ],
      "execution_count": 0,
      "outputs": []
    },
    {
      "cell_type": "code",
      "metadata": {
        "id": "AlBabwzifN2N",
        "colab_type": "code",
        "colab": {}
      },
      "source": [
        "plt.plot((normal - pigmented)/normal)"
      ],
      "execution_count": 0,
      "outputs": []
    },
    {
      "cell_type": "code",
      "metadata": {
        "id": "QgYrZGrXfN2O",
        "colab_type": "code",
        "colab": {}
      },
      "source": [
        "new_files_names"
      ],
      "execution_count": 0,
      "outputs": []
    },
    {
      "cell_type": "code",
      "metadata": {
        "id": "KTrCVmMOfN2P",
        "colab_type": "code",
        "colab": {}
      },
      "source": [
        "plt.imshow(imagesp[12])"
      ],
      "execution_count": 0,
      "outputs": []
    },
    {
      "cell_type": "code",
      "metadata": {
        "id": "ZtyHpfeIfN2Q",
        "colab_type": "code",
        "colab": {}
      },
      "source": [
        ""
      ],
      "execution_count": 0,
      "outputs": []
    },
    {
      "cell_type": "code",
      "metadata": {
        "id": "0-fgJ663fN2U",
        "colab_type": "code",
        "colab": {}
      },
      "source": [
        ""
      ],
      "execution_count": 0,
      "outputs": []
    },
    {
      "cell_type": "markdown",
      "metadata": {
        "id": "AT9oUH6HujIw",
        "colab_type": "text"
      },
      "source": [
        ""
      ]
    }
  ]
}