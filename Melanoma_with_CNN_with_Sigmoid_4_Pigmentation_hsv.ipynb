{
  "nbformat": 4,
  "nbformat_minor": 0,
  "metadata": {
    "colab": {
      "name": "Melanoma-with-CNN-with-Sigmoid-4-Pigmentation-rotate-flip.ipynb",
      "version": "0.3.2",
      "provenance": [],
      "toc_visible": true,
      "include_colab_link": true
    },
    "language_info": {
      "codemirror_mode": {
        "name": "ipython",
        "version": 3
      },
      "file_extension": ".py",
      "mimetype": "text/x-python",
      "name": "python",
      "nbconvert_exporter": "python",
      "pygments_lexer": "ipython3",
      "version": "3.5.4"
    },
    "kernelspec": {
      "name": "python3",
      "display_name": "Python 3"
    },
    "accelerator": "GPU"
  },
  "cells": [
    {
      "cell_type": "markdown",
      "metadata": {
        "id": "view-in-github",
        "colab_type": "text"
      },
      "source": [
        "<a href=\"https://colab.research.google.com/github/NoelleI/Pigmentation/blob/master/Melanoma_with_CNN_with_Sigmoid_4_Pigmentation_hsv.ipynb\" target=\"_parent\"><img src=\"https://colab.research.google.com/assets/colab-badge.svg\" alt=\"Open In Colab\"/></a>"
      ]
    },
    {
      "cell_type": "markdown",
      "metadata": {
        "id": "241BvQNpfNyB",
        "colab_type": "text"
      },
      "source": [
        "# Melanoma with CNN"
      ]
    },
    {
      "cell_type": "markdown",
      "metadata": {
        "id": "HPubA4t4fNyC",
        "colab_type": "text"
      },
      "source": [
        "This analysis trains a neural network to perform segmentation on melanoma data and then applies the algorithm to segment a pigmentation lesion"
      ]
    },
    {
      "cell_type": "markdown",
      "metadata": {
        "id": "A0VaxmP22GVM",
        "colab_type": "text"
      },
      "source": [
        "This line clones the github repository so that data may be accessed and the file can be saved there"
      ]
    },
    {
      "cell_type": "code",
      "metadata": {
        "id": "ddSl392jIi_w",
        "colab_type": "code",
        "outputId": "d1c337f7-6fb0-4563-8151-9f57ac331365",
        "colab": {
          "base_uri": "https://localhost:8080/",
          "height": 34
        }
      },
      "source": [
        "!git clone https://github.com/NoelleI/Pigmentation.git"
      ],
      "execution_count": 22,
      "outputs": [
        {
          "output_type": "stream",
          "text": [
            "fatal: destination path 'Pigmentation' already exists and is not an empty directory.\n"
          ],
          "name": "stdout"
        }
      ]
    },
    {
      "cell_type": "markdown",
      "metadata": {
        "id": "3cswYjth4ck7",
        "colab_type": "text"
      },
      "source": [
        "This mounts Google Drive to access the ~10G melanoma photo data sets\n",
        "\n",
        "1.   List item\n",
        "2.   List item\n",
        "\n"
      ]
    },
    {
      "cell_type": "code",
      "metadata": {
        "id": "8ReR4v01td3m",
        "colab_type": "code",
        "outputId": "0f144e22-2c11-4fc1-e642-ea5571e40a14",
        "colab": {
          "base_uri": "https://localhost:8080/",
          "height": 34
        }
      },
      "source": [
        "from google.colab import drive\n",
        "drive.mount('/content/gdrive', force_remount=True) "
      ],
      "execution_count": 23,
      "outputs": [
        {
          "output_type": "stream",
          "text": [
            "Mounted at /content/gdrive\n"
          ],
          "name": "stdout"
        }
      ]
    },
    {
      "cell_type": "code",
      "metadata": {
        "id": "efKvkEMKfNyD",
        "colab_type": "code",
        "outputId": "61cab4f3-7772-4d04-8322-bceca68a1217",
        "colab": {
          "base_uri": "https://localhost:8080/",
          "height": 34
        }
      },
      "source": [
        "import tensorflow as tf\n",
        "import matplotlib\n",
        "import matplotlib.image as mpimg\n",
        "import os\n",
        "%matplotlib inline\n",
        "# First, load the image\n",
        "#dir_path = os.path.dirname(os.path.realpath(__file__))\n",
        "filename = \"./Pigmentation/pigmentation.png\"\n",
        "\n",
        "# Load the image\n",
        "pigment_image = mpimg.imread(filename)\n",
        "\n",
        "# Print out its shape\n",
        "print(pigment_image.shape)\n"
      ],
      "execution_count": 24,
      "outputs": [
        {
          "output_type": "stream",
          "text": [
            "(689, 898, 3)\n"
          ],
          "name": "stdout"
        }
      ]
    },
    {
      "cell_type": "code",
      "metadata": {
        "id": "o0fuEbnzfNyJ",
        "colab_type": "code",
        "outputId": "d58ed14c-2b7b-4c13-e3af-56cb742797a9",
        "colab": {
          "base_uri": "https://localhost:8080/",
          "height": 34
        }
      },
      "source": [
        "pwd"
      ],
      "execution_count": 25,
      "outputs": [
        {
          "output_type": "execute_result",
          "data": {
            "text/plain": [
              "'/content'"
            ]
          },
          "metadata": {
            "tags": []
          },
          "execution_count": 25
        }
      ]
    },
    {
      "cell_type": "code",
      "metadata": {
        "id": "8r-Pb0MCfNyM",
        "colab_type": "code",
        "outputId": "05e047c0-3038-4cd5-dfa5-22bf9317c4e1",
        "colab": {
          "base_uri": "https://localhost:8080/",
          "height": 269
        }
      },
      "source": [
        "import matplotlib.pyplot as plt\n",
        "plt.imshow(pigment_image)\n",
        "plt.show()"
      ],
      "execution_count": 26,
      "outputs": [
        {
          "output_type": "display_data",
          "data": {
            "image/png": "[encoded data removed]",
            "text/plain": [
              "<Figure size 432x288 with 1 Axes>"
            ]
          },
          "metadata": {
            "tags": []
          }
        }
      ]
    },
    {
      "cell_type": "code",
      "metadata": {
        "id": "XRiNFY6gfNyP",
        "colab_type": "code",
        "outputId": "35092950-5c1b-40b6-9a1d-3c97d6a475c2",
        "colab": {
          "base_uri": "https://localhost:8080/",
          "height": 34
        }
      },
      "source": [
        "pigment_image.shape"
      ],
      "execution_count": 27,
      "outputs": [
        {
          "output_type": "execute_result",
          "data": {
            "text/plain": [
              "(689, 898, 3)"
            ]
          },
          "metadata": {
            "tags": []
          },
          "execution_count": 27
        }
      ]
    },
    {
      "cell_type": "code",
      "metadata": {
        "id": "V1ccZ5owfNyR",
        "colab_type": "code",
        "colab": {}
      },
      "source": [
        "import skimage\n",
        "pigment_image_resized = skimage.transform.resize(pigment_image, (192,256,3))\n"
      ],
      "execution_count": 0,
      "outputs": []
    },
    {
      "cell_type": "code",
      "metadata": {
        "id": "MqpbxiAQfNyT",
        "colab_type": "code",
        "colab": {}
      },
      "source": [
        "##note: in order to discern the melanin content, it will be necessary to understand how this resizing algorithm works: does it take a maximum value? What does it use?"
      ],
      "execution_count": 0,
      "outputs": []
    },
    {
      "cell_type": "code",
      "metadata": {
        "id": "vDWN9Rp5fNyV",
        "colab_type": "code",
        "outputId": "3eb95e3a-0b45-4fdc-d5cf-88348741a70d",
        "colab": {
          "base_uri": "https://localhost:8080/",
          "height": 269
        }
      },
      "source": [
        "plt.imshow(pigment_image_resized)\n",
        "plt.show()"
      ],
      "execution_count": 30,
      "outputs": [
        {
          "output_type": "display_data",
          "data": {
            "image/png": "[encoded data removed]",
            "text/plain": [
              "<Figure size 432x288 with 1 Axes>"
            ]
          },
          "metadata": {
            "tags": []
          }
        }
      ]
    },
    {
      "cell_type": "code",
      "metadata": {
        "id": "u8c0wI8hfNyX",
        "colab_type": "code",
        "outputId": "0882e5bb-d5e4-4a97-b96d-9e7e7520d35f",
        "colab": {
          "base_uri": "https://localhost:8080/",
          "height": 34
        }
      },
      "source": [
        "type(pigment_image)"
      ],
      "execution_count": 31,
      "outputs": [
        {
          "output_type": "execute_result",
          "data": {
            "text/plain": [
              "numpy.ndarray"
            ]
          },
          "metadata": {
            "tags": []
          },
          "execution_count": 31
        }
      ]
    },
    {
      "cell_type": "code",
      "metadata": {
        "id": "_gV5JVt3fNya",
        "colab_type": "code",
        "colab": {}
      },
      "source": [
        "import numpy as np\n",
        "pigment_image_show = pigment_image_resized\n",
        "pigment_image_resized = np.reshape(pigment_image_resized, [1,192,256,3])"
      ],
      "execution_count": 0,
      "outputs": []
    },
    {
      "cell_type": "code",
      "metadata": {
        "id": "CQ48pRh55Xv7",
        "colab_type": "code",
        "outputId": "f7073844-3457-44c2-f262-1a8bbf450da6",
        "colab": {
          "base_uri": "https://localhost:8080/",
          "height": 34
        }
      },
      "source": [
        "import scipy\n",
        "scipy.__version__"
      ],
      "execution_count": 33,
      "outputs": [
        {
          "output_type": "execute_result",
          "data": {
            "text/plain": [
              "'1.0.0'"
            ]
          },
          "metadata": {
            "tags": []
          },
          "execution_count": 33
        }
      ]
    },
    {
      "cell_type": "code",
      "metadata": {
        "colab_type": "code",
        "id": "8XHIF5mdmW1X",
        "outputId": "925d50ec-82a4-4510-947d-c57beaed93d6",
        "colab": {
          "base_uri": "https://localhost:8080/",
          "height": 51
        }
      },
      "source": [
        "!pip install pillow"
      ],
      "execution_count": 34,
      "outputs": [
        {
          "output_type": "stream",
          "text": [
            "Requirement already satisfied: pillow in /usr/local/lib/python3.6/dist-packages (4.3.0)\n",
            "Requirement already satisfied: olefile in /usr/local/lib/python3.6/dist-packages (from pillow) (0.46)\n"
          ],
          "name": "stdout"
        }
      ]
    },
    {
      "cell_type": "code",
      "metadata": {
        "colab_type": "code",
        "id": "tBqV9RTtmYOX",
        "outputId": "a990888f-3654-4e44-eb3c-f90a7196ce53",
        "colab": {
          "base_uri": "https://localhost:8080/",
          "height": 136
        }
      },
      "source": [
        "!pip uninstall scipy==1.3.0\n",
        "!pip install scipy==1.0.0"
      ],
      "execution_count": 35,
      "outputs": [
        {
          "output_type": "stream",
          "text": [
            "Uninstalling scipy-1.0.0:\n",
            "  Would remove:\n",
            "    /usr/local/lib/python3.6/dist-packages/scipy-1.0.0.dist-info/*\n",
            "    /usr/local/lib/python3.6/dist-packages/scipy/*\n",
            "Proceed (y/n)? n\n",
            "Requirement already satisfied: scipy==1.0.0 in /usr/local/lib/python3.6/dist-packages (1.0.0)\n",
            "Requirement already satisfied: numpy>=1.8.2 in /usr/local/lib/python3.6/dist-packages (from scipy==1.0.0) (1.16.4)\n"
          ],
          "name": "stdout"
        }
      ]
    },
    {
      "cell_type": "code",
      "metadata": {
        "id": "CLb2SmFqfNyc",
        "colab_type": "code",
        "outputId": "af15eab3-df3c-4fe3-a7ae-fe438c42f132",
        "colab": {
          "base_uri": "https://localhost:8080/",
          "height": 85
        }
      },
      "source": [
        "from scipy import ndimage, misc\n",
        "import re\n",
        "import os\n",
        "#get pigmentation photos\n",
        "pigs = []\n",
        "for root, dirnames, filenames in os.walk(\"./Pigmentation/Pigmentation_photos/Experiment 1/Spot 4\"): \n",
        "    for filename in filenames:\n",
        "        if re.search('d*.PNG', filename):\n",
        "            filepath = os.path.join(root, filename)\n",
        "            pig = ndimage.imread(filepath)\n",
        "            pig_resized = skimage.transform.resize(pig, (192,256,3))  #redo this size or re-size later in Tensorflow\n",
        "            pigs.append(pig_resized)\n",
        "            #filename = filename.split(\".\")\n",
        "            #name = filename[0] + \"2.\" + filename[1]\n",
        "            #print(name)\n",
        "            \n",
        "            #new_path = os.path.join(root, name)\n",
        "            #f = open(new_path, 'w+b')\n",
        "            #misc.imsave(new_path, _seg_resized)\n",
        "            #os.remove(filepath)\n",
        "            #f.close()\n",
        "pigs = np.array(pigs)"
      ],
      "execution_count": 36,
      "outputs": [
        {
          "output_type": "stream",
          "text": [
            "/usr/local/lib/python3.6/dist-packages/ipykernel_launcher.py:10: DeprecationWarning: `imread` is deprecated!\n",
            "`imread` is deprecated in SciPy 1.0.0.\n",
            "Use ``matplotlib.pyplot.imread`` instead.\n",
            "  # Remove the CWD from sys.path while we load stuff.\n"
          ],
          "name": "stderr"
        }
      ]
    },
    {
      "cell_type": "code",
      "metadata": {
        "id": "16YjyKn5fNye",
        "colab_type": "code",
        "outputId": "8b83920e-ca48-4054-c57d-bc5c057b719d",
        "colab": {
          "base_uri": "https://localhost:8080/",
          "height": 493
        }
      },
      "source": [
        "filenames "
      ],
      "execution_count": 37,
      "outputs": [
        {
          "output_type": "execute_result",
          "data": {
            "text/plain": [
              "['12--10-04-pm.PNG',\n",
              " '11--10-02-pm.PNG',\n",
              " '26--11-10-am.PNG',\n",
              " '19--10-16-pm.PNG',\n",
              " '27--11-11-pm.PNG',\n",
              " '9--09-29-pm.PNG',\n",
              " '16--10-12-pm.PNG',\n",
              " '20--10-18-pm.PNG',\n",
              " '14--10-10-am.PNG',\n",
              " '2--09-23-pm.PNG',\n",
              " '17--10-13-am.PNG',\n",
              " '10--09-30-pm.PNG',\n",
              " '15--10-11-pm.PNG',\n",
              " '4--09-25-pm.PNG',\n",
              " '24--11-04-am.PNG',\n",
              " '25--11-06-pm.PNG',\n",
              " '3--09-25-am.PNG',\n",
              " '21--10-120-pm.PNG',\n",
              " '8--09-29-am.PNG',\n",
              " '0-0--09-22-pm.PNG',\n",
              " '23--10-28-pm.PNG',\n",
              " '1-1--09-23-am.PNG',\n",
              " '18--10-14-am.PNG',\n",
              " '5--09-27-pm.PNG',\n",
              " '6--09-28-am.PNG',\n",
              " '7--09-28-pm.PNG',\n",
              " '13--10-06-am.PNG',\n",
              " '22--10-25-am.PNG']"
            ]
          },
          "metadata": {
            "tags": []
          },
          "execution_count": 37
        }
      ]
    },
    {
      "cell_type": "code",
      "metadata": {
        "id": "jtuGqdGLfNyh",
        "colab_type": "code",
        "outputId": "fee2b249-51d9-42b5-969b-82297de73ae6",
        "colab": {
          "base_uri": "https://localhost:8080/",
          "height": 286
        }
      },
      "source": [
        "plt.imshow(pigs[0])\n"
      ],
      "execution_count": 38,
      "outputs": [
        {
          "output_type": "execute_result",
          "data": {
            "text/plain": [
              "<matplotlib.image.AxesImage at 0x7f8d1dc2f208>"
            ]
          },
          "metadata": {
            "tags": []
          },
          "execution_count": 38
        },
        {
          "output_type": "display_data",
          "data": {
            "image/png": "[encoded data removed]",
            "text/plain": [
              "<Figure size 432x288 with 1 Axes>"
            ]
          },
          "metadata": {
            "tags": []
          }
        }
      ]
    },
    {
      "cell_type": "code",
      "metadata": {
        "id": "Pw0kvHibfNyk",
        "colab_type": "code",
        "colab": {}
      },
      "source": [
        "## I created a train-test split in the original upload of files to Google Docs, but I will merge these because I've realized that I can still use train-test split below and it will \n",
        "## randomize the photos each time"
      ],
      "execution_count": 0,
      "outputs": []
    },
    {
      "cell_type": "code",
      "metadata": {
        "id": "uZK6LNtK22F0",
        "colab_type": "code",
        "colab": {}
      },
      "source": [
        "\n",
        "from skimage import data\n",
        "from skimage.color import rgb2hsv"
      ],
      "execution_count": 0,
      "outputs": []
    },
    {
      "cell_type": "code",
      "metadata": {
        "id": "7C9-o1mCfNym",
        "colab_type": "code",
        "outputId": "9d340a11-9a6f-40ae-aeda-8a5baa20cba3",
        "colab": {
          "base_uri": "https://localhost:8080/",
          "height": 85
        }
      },
      "source": [
        "from scipy import ndimage, misc\n",
        "import re\n",
        "import os\n",
        "#there are 2594 photos\n",
        "images = []\n",
        "for root, dirnames, filenames in os.walk(\"/content/gdrive/My Drive/Batches/ISIC2018_Task1-2_Training_Input_batches\"): #/content/gdrive/My Drive/ISIC2018_Task1-2_Training_Input/ISIC2018_Task1-2_Training_Input\"):\n",
        "    for filename in filenames:\n",
        "      if re.search('d*[^{r|f}].jpg', filename):\n",
        "            #print(filename)\n",
        "            filepath = os.path.join(root, filename)\n",
        "            #image = ndimage.imread(filepath, mode=\"RGB\")\n",
        "            rgb_img = ndimage.imread(filepath, mode=\"RGB\")\n",
        "            hsv_img = rgb2hsv(rgb_img)\n",
        "            image = np.concatenate((rgb_img,hsv_img), axis =2)\n",
        "            # = misc.imresize(image, (192,256,3))  #redo this size or re-size later in Tensorflow ->STORE resized images later\n",
        "            images.append(image)\n",
        "for root, dirnames, filenames in os.walk(\"/content/gdrive/My Drive/Batches/ISIC2018_Task1-2_Testing_Input_batches\"): #/content/gdrive/My Drive/ISIC2018_Task1-2_Training_Input/ISIC2018_Task1-2_Training_Input\"):\n",
        "    for filename in filenames:\n",
        "      if re.search('d*[^{r|f}].jpg', filename):\n",
        "            filepath = os.path.join(root, filename)\n",
        "            #image = ndimage.imread(filepath, mode=\"RGB\")\n",
        "            rgb_img = ndimage.imread(filepath, mode=\"RGB\")\n",
        "            hsv_img = rgb2hsv(rgb_img)\n",
        "            image = np.concatenate((rgb_img,hsv_img), axis =2)\n",
        "            #image_resized = misc.imresize(image, (192,256,3))  #redo this size or re-size later in Tensorflow ->STORE resized images later\n",
        "            images.append(image)            \n",
        "            \n",
        "            \n",
        "            \n",
        "images = np.array(images)"
      ],
      "execution_count": 0,
      "outputs": [
        {
          "output_type": "stream",
          "text": [
            "/usr/local/lib/python3.6/dist-packages/ipykernel_launcher.py:12: DeprecationWarning: `imread` is deprecated!\n",
            "`imread` is deprecated in SciPy 1.0.0.\n",
            "Use ``matplotlib.pyplot.imread`` instead.\n",
            "  if sys.path[0] == '':\n"
          ],
          "name": "stderr"
        }
      ]
    },
    {
      "cell_type": "code",
      "metadata": {
        "id": "Cah1pgUJ5M3r",
        "colab_type": "code",
        "colab": {}
      },
      "source": [
        "images.shape"
      ],
      "execution_count": 0,
      "outputs": []
    },
    {
      "cell_type": "code",
      "metadata": {
        "id": "BbNeSGUt7yxW",
        "colab_type": "code",
        "colab": {}
      },
      "source": [
        "filenames"
      ],
      "execution_count": 0,
      "outputs": []
    },
    {
      "cell_type": "code",
      "metadata": {
        "id": "uXpTgX2I1-2b",
        "colab_type": "code",
        "colab": {}
      },
      "source": [
        "len(images)"
      ],
      "execution_count": 0,
      "outputs": []
    },
    {
      "cell_type": "code",
      "metadata": {
        "id": "YHX6zN6QfNyp",
        "colab_type": "code",
        "colab": {}
      },
      "source": [
        "image = images[2580,:,:,:]\n",
        "rotate_image = ndimage.rotate(image, 45)\n",
        "rotate_image = misc.imresize(rotate_image, (192,256,6))\n",
        "plt.imshow(rotate_image)\n",
        "plt.show()"
      ],
      "execution_count": 0,
      "outputs": []
    },
    {
      "cell_type": "code",
      "metadata": {
        "id": "ZXWnSaquyMWD",
        "colab_type": "code",
        "colab": {}
      },
      "source": [
        ""
      ],
      "execution_count": 0,
      "outputs": []
    },
    {
      "cell_type": "markdown",
      "metadata": {
        "id": "65gwtHvIyPKN",
        "colab_type": "text"
      },
      "source": [
        "***The images look blurry***"
      ]
    },
    {
      "cell_type": "code",
      "metadata": {
        "scrolled": true,
        "id": "L4oVdioPfNyu",
        "colab_type": "code",
        "colab": {}
      },
      "source": [
        "image = images[0,:,:,:]\n",
        "plt.imshow(image)\n",
        "plt.show()"
      ],
      "execution_count": 0,
      "outputs": []
    },
    {
      "cell_type": "code",
      "metadata": {
        "id": "ua4HcGj1fNyx",
        "colab_type": "code",
        "colab": {}
      },
      "source": [
        "filepath"
      ],
      "execution_count": 0,
      "outputs": []
    },
    {
      "cell_type": "code",
      "metadata": {
        "id": "1TzfHJAQfNy3",
        "colab_type": "code",
        "colab": {}
      },
      "source": [
        "image.shape"
      ],
      "execution_count": 0,
      "outputs": []
    },
    {
      "cell_type": "code",
      "metadata": {
        "id": "gVkIYE05fNy6",
        "colab_type": "code",
        "colab": {}
      },
      "source": [
        "image = ndimage.imread(filepath, mode=\"RGB\")\n",
        "plt.imshow(image)\n",
        "plt.show()"
      ],
      "execution_count": 0,
      "outputs": []
    },
    {
      "cell_type": "code",
      "metadata": {
        "id": "-U-RUbxEfNy9",
        "colab_type": "code",
        "colab": {}
      },
      "source": [
        "#C:/Users\\Admin\\Documents\\Skin Depth\\Leads and Projects\\Melanoma Challenge\\2018\\ISIC2018_Task1_Training_GroundTruth\\ISIC2018_Task1_Training_GroundTruth\n",
        "segs = []\n",
        "files = []\n",
        "for root, dirnames, filenames in os.walk(\"/content/gdrive/My Drive/Batches/ISIC2018_Task1_Training_GroundTruth_batches\"):  #\"/content/gdrive/My Drive/ISIC2018_Task1_Training_GroundTruth (1).zip (Unzipped Files)/ISIC2018_Task1_Training_GroundTruth\"): #/content/gdrive/My Drive/ISIC2018_Task1_Training_GroundTruth (1).zip (Unzipped Files)/ISIC2018_Task1_Training_GroundTruth\"): #C:/Users/Admin/Documents/Skin Depth/Leads and Projects/Melanoma Challenge/2018/ISIC2018_Task1_Training_GroundTruth/ISIC2018_Task1_Training_GroundTruth\"): \n",
        "    for filename in filenames:\n",
        "      if re.search('d*[^{r|f}]_segmentation.png', filename):\n",
        "            print(filename)\n",
        "            files.append(filename)\n",
        "            filepath = os.path.join(root, filename)\n",
        "            seg = ndimage.imread(filepath, mode=\"L\")\n",
        "            #seg_resized = misc.imresize(seg, (192,256,3))\n",
        "            segs.append(seg)\n",
        "for root, dirnames, filenames in os.walk(\"/content/gdrive/My Drive/Batches/ISIC2018_Task1_Testing_GroundTruth_batches\"):  #\"/content/gdrive/My Drive/ISIC2018_Task1_Training_GroundTruth (1).zip (Unzipped Files)/ISIC2018_Task1_Training_GroundTruth\"): #/content/gdrive/My Drive/ISIC2018_Task1_Training_GroundTruth (1).zip (Unzipped Files)/ISIC2018_Task1_Training_GroundTruth\"): #C:/Users/Admin/Documents/Skin Depth/Leads and Projects/Melanoma Challenge/2018/ISIC2018_Task1_Training_GroundTruth/ISIC2018_Task1_Training_GroundTruth\"): \n",
        "    for filename in filenames:\n",
        "       if re.search('d*[^{r|f}]_segmentation.png', filename):\n",
        "            files.append(filename)\n",
        "            filepath = os.path.join(root, filename)\n",
        "            seg = ndimage.imread(filepath, mode=\"L\")\n",
        "            #seg_resized = misc.imresize(seg, (192,256,3))\n",
        "            segs.append(seg)   \n",
        "segs = np.array(segs)\n"
      ],
      "execution_count": 0,
      "outputs": []
    },
    {
      "cell_type": "markdown",
      "metadata": {
        "id": "5m_rU4ahoECY",
        "colab_type": "text"
      },
      "source": [
        "**Check some features of the data to be sure that it uploaded properly**"
      ]
    },
    {
      "cell_type": "code",
      "metadata": {
        "id": "Yam-tyDLfNy_",
        "colab_type": "code",
        "colab": {}
      },
      "source": [
        "segs.shape\n"
      ],
      "execution_count": 0,
      "outputs": []
    },
    {
      "cell_type": "code",
      "metadata": {
        "id": "RE3eA9UmQbnZ",
        "colab_type": "code",
        "colab": {}
      },
      "source": [
        "len(files)"
      ],
      "execution_count": 0,
      "outputs": []
    },
    {
      "cell_type": "code",
      "metadata": {
        "id": "IjXBktkT8DJZ",
        "colab_type": "code",
        "colab": {}
      },
      "source": [
        "segs[-1].shape"
      ],
      "execution_count": 0,
      "outputs": []
    },
    {
      "cell_type": "code",
      "metadata": {
        "id": "BOLrZ8LZZe7r",
        "colab_type": "code",
        "colab": {}
      },
      "source": [
        "images.shape"
      ],
      "execution_count": 0,
      "outputs": []
    },
    {
      "cell_type": "code",
      "metadata": {
        "id": "hK4yqeJafNzD",
        "colab_type": "code",
        "colab": {}
      },
      "source": [
        "filename = filenames[3]\n",
        "filepath = os.path.join(root, filename)\n",
        "seg = ndimage.imread(filepath, mode=\"L\")"
      ],
      "execution_count": 0,
      "outputs": []
    },
    {
      "cell_type": "code",
      "metadata": {
        "id": "ywAIbXWifNzF",
        "colab_type": "code",
        "colab": {}
      },
      "source": [
        "seg.shape"
      ],
      "execution_count": 0,
      "outputs": []
    },
    {
      "cell_type": "code",
      "metadata": {
        "id": "WNLxVopWfNzI",
        "colab_type": "code",
        "colab": {}
      },
      "source": [
        "image = segs[2593,:,:]\n",
        "plt.imshow(image)\n",
        "plt.show()"
      ],
      "execution_count": 0,
      "outputs": []
    },
    {
      "cell_type": "code",
      "metadata": {
        "id": "mR6OM_mcfNzK",
        "colab_type": "code",
        "colab": {}
      },
      "source": [
        "image = image = ndimage.imread(filepath, mode=\"RGB\")\n",
        "plt.imshow(image)\n",
        "plt.show()"
      ],
      "execution_count": 0,
      "outputs": []
    },
    {
      "cell_type": "markdown",
      "metadata": {
        "id": "J8N4Xlk9fNzN",
        "colab_type": "text"
      },
      "source": [
        "### Helper Functions"
      ]
    },
    {
      "cell_type": "markdown",
      "metadata": {
        "id": "IS6Tms7_fNzN",
        "colab_type": "text"
      },
      "source": [
        "Function to help intialize random weights for fully connected or convolutional layers, we leave the shape attribute as a parameter for this."
      ]
    },
    {
      "cell_type": "code",
      "metadata": {
        "id": "nwxTUCjRfNzO",
        "colab_type": "code",
        "colab": {}
      },
      "source": [
        "from sklearn.model_selection import train_test_split\n",
        "trainim, testim, trainlab, testlab = train_test_split(images, segs, test_size = 0.05) #this is randomized each time the program is started and run from scratch"
      ],
      "execution_count": 0,
      "outputs": []
    },
    {
      "cell_type": "code",
      "metadata": {
        "id": "gIxY01G3fNzQ",
        "colab_type": "code",
        "colab": {}
      },
      "source": [
        "trainim.shape"
      ],
      "execution_count": 0,
      "outputs": []
    },
    {
      "cell_type": "code",
      "metadata": {
        "id": "G-zXpjhkfNzS",
        "colab_type": "code",
        "colab": {}
      },
      "source": [
        "np.max(testlab)"
      ],
      "execution_count": 0,
      "outputs": []
    },
    {
      "cell_type": "code",
      "metadata": {
        "id": "ndDyqlFhfNzU",
        "colab_type": "code",
        "colab": {}
      },
      "source": [
        "testlab.shape"
      ],
      "execution_count": 0,
      "outputs": []
    },
    {
      "cell_type": "code",
      "metadata": {
        "id": "4C4pwHf7fNza",
        "colab_type": "code",
        "colab": {}
      },
      "source": [
        "image = trainlab[5,:,:]\n",
        "plt.imshow(image)\n",
        "plt.show()"
      ],
      "execution_count": 0,
      "outputs": []
    },
    {
      "cell_type": "code",
      "metadata": {
        "id": "sj7akIWSM2YT",
        "colab_type": "code",
        "colab": {}
      },
      "source": [
        "class MelHelper():\n",
        "    \n",
        "    def __init__(self):\n",
        "        self.i = 0\n",
        "        \n",
        "        ####Can probably eliminate this part ####\n",
        "        \n",
        "        # Grabs a list of all the data batches for training\n",
        "        #self.all_train_batches = [data_batch1,data_batch2,data_batch3,data_batch4,data_batch5]\n",
        "        # Grabs a list of all the test batches (really just one batch)\n",
        "        #self.test_batch = [test_batch]\n",
        "        \n",
        "        ###eliminate####\n",
        "        \n",
        "        # Intialize some empty variables for later on\n",
        "        self.training_images = None\n",
        "        self.training_labels = None\n",
        "        \n",
        "        self.test_images = None\n",
        "        self.test_labels = None\n",
        "    \n",
        "    def set_up_images(self):\n",
        "        \n",
        "        print(\"Setting Up Training Images and Labels\")\n",
        "        \n",
        "        ###Not Needed####\n",
        "        # Vertically stacks the training images\n",
        "        #self.training_images = np.vstack([d[b\"data\"] for d in self.all_train_batches])  #insert images here, make sure they are \n",
        "        #vetically stacked##\n",
        "        #train_len = len(self.training_images)\n",
        "        \n",
        "        # Reshapes and normalizes training images\n",
        "        self.training_images = trainim/255   #normalize only ->replace with images with training set later\n",
        "                                #self.training_images.reshape(train_len,3,32,32).transpose(0,2,3,1)/255\n",
        "        # One hot Encodes the training labels (e.g. [0,0,0,1,0,0,0,0,0,0])\n",
        "        \n",
        "        ##May need to replace this with code that rounds a humber to 0 or 1 for the mask ##\n",
        "        self.training_labels = np.around(trainlab/255) #one_hot_encode(np.hstack([d[b\"labels\"] for d in self.all_train_batches]), 10)\n",
        "        \n",
        "        print(\"Setting Up Test Images and Labels\")\n",
        "        \n",
        "        # Vertically stacks the test images\n",
        "        #self.test_images = np.vstack([d[b\"data\"] for d in self.test_batch])\n",
        "        #test_len = len(self.test_images)\n",
        "        \n",
        "        # Reshapes and normalizes test images\n",
        "        self.test_images = testim/255 #self.test_images.reshape(test_len,3,32,32).transpose(0,2,3,1)/255\n",
        "        # One hot Encodes the test labels (e.g. [0,0,0,1,0,0,0,0,0,0])\n",
        "        self.test_labels = np.around(testlab/255) #one_hot_encode(np.hstack([d[b\"labels\"] for d in self.test_batch]), 10)\n",
        "        \n",
        "    def next_batch(self, batch_size):\n",
        "        # Note that the 100 dimension in the reshape call is set by an assumed batch size of 100 - this is now a mistake\n",
        "        xtra = (self.i + batch_size) % len(self.training_images)\n",
        "        if xtra<batch_size and xtra != 0:\n",
        "            x = np.vstack((self.training_images[self.i:self.i+batch_size], self.training_images[0:xtra])) #.reshape(100,32,32,3)  #why is this necessary?\n",
        "            y = np.vstack((self.training_labels[self.i:self.i+batch_size], self.training_labels[0:xtra]))\n",
        "        else:\n",
        "            x = self.training_images[self.i:self.i+batch_size] #.reshape(100,32,32,3)  #why is this necessary?\n",
        "            y = self.training_labels[self.i:self.i+batch_size]\n",
        "        \n",
        "        self.i = xtra \n",
        "        return x, y"
      ],
      "execution_count": 0,
      "outputs": []
    },
    {
      "cell_type": "code",
      "metadata": {
        "id": "LTmLVENAfNze",
        "colab_type": "code",
        "colab": {}
      },
      "source": [
        "def init_weights(shape):\n",
        "    init_random_dist = tf.truncated_normal(shape, stddev=0.1)\n",
        "    return tf.Variable(init_random_dist)"
      ],
      "execution_count": 0,
      "outputs": []
    },
    {
      "cell_type": "markdown",
      "metadata": {
        "id": "83Yh6X2mfNzg",
        "colab_type": "text"
      },
      "source": [
        "Same as init_weights, but for the biases"
      ]
    },
    {
      "cell_type": "code",
      "metadata": {
        "id": "Dd3vlocsfNzg",
        "colab_type": "code",
        "colab": {}
      },
      "source": [
        "def init_bias(shape):\n",
        "    init_bias_vals = tf.constant(0.1, shape=shape)\n",
        "    return tf.Variable(init_bias_vals)"
      ],
      "execution_count": 0,
      "outputs": []
    },
    {
      "cell_type": "markdown",
      "metadata": {
        "id": "EyF20ufBfNzi",
        "colab_type": "text"
      },
      "source": [
        "Create a 2D convolution using builtin conv2d from TF. From those docs:\n",
        "\n",
        "Computes a 2-D convolution given 4-D `input` and `filter` tensors.\n",
        "\n",
        "Given an input tensor of shape `[batch, in_height, in_width, in_channels]`\n",
        "and a filter / kernel tensor of shape\n",
        "`[filter_height, filter_width, in_channels, out_channels]`, this op\n",
        "performs the following:\n",
        "\n",
        "1. Flattens the filter to a 2-D matrix with shape\n",
        "   `[filter_height * filter_width * in_channels, output_channels]`.\n",
        "2. Extracts image patches from the input tensor to form a *virtual*\n",
        "   tensor of shape `[batch, out_height, out_width,\n",
        "   filter_height * filter_width * in_channels]`.\n",
        "3. For each patch, right-multiplies the filter matrix and the image patch\n",
        "   vector.\n"
      ]
    },
    {
      "cell_type": "code",
      "metadata": {
        "id": "fvrLH9wufNzj",
        "colab_type": "code",
        "colab": {}
      },
      "source": [
        "def conv2d(x, W):\n",
        "    return tf.nn.conv2d(x, W, strides=[1, 1, 1, 1], padding='SAME')"
      ],
      "execution_count": 0,
      "outputs": []
    },
    {
      "cell_type": "code",
      "metadata": {
        "id": "dofb-mrtfNzm",
        "colab_type": "code",
        "colab": {}
      },
      "source": [
        "def deconv2d(x, shape):\n",
        "    return tf.layers.conv2d_transpose(x, shape[3], shape[0:2], padding = 'SAME')"
      ],
      "execution_count": 0,
      "outputs": []
    },
    {
      "cell_type": "code",
      "metadata": {
        "id": "BIO9pWjXfNzp",
        "colab_type": "code",
        "colab": {}
      },
      "source": [
        "def max_pool_2by2(x):\n",
        "    return tf.nn.max_pool(x, ksize=[1, 2, 2, 1], \n",
        "                          strides=[1, 2, 2, 1], padding='SAME')"
      ],
      "execution_count": 0,
      "outputs": []
    },
    {
      "cell_type": "markdown",
      "metadata": {
        "id": "9VqEnybqfNzs",
        "colab_type": "text"
      },
      "source": [
        "Using the conv2d function, we'll return an actual convolutional layer here that uses an ReLu activation."
      ]
    },
    {
      "cell_type": "code",
      "metadata": {
        "id": "OS9b-naGfNzt",
        "colab_type": "code",
        "colab": {}
      },
      "source": [
        "def convolutional_layer(input_x, shape):\n",
        "    if input_x.shape[0]==1:\n",
        "      training = False\n",
        "    else: training = True\n",
        "    W = init_weights(shape)\n",
        "    b = init_bias([shape[3]])\n",
        "    c = conv2d(input_x, W) + b   ###put batch normalization here because it should include the weights\n",
        "    bnc = tf.layers.batch_normalization(c, training = training)\n",
        "    return tf.nn.relu(bnc)"
      ],
      "execution_count": 0,
      "outputs": []
    },
    {
      "cell_type": "markdown",
      "metadata": {
        "id": "_0-cGJDsfNzu",
        "colab_type": "text"
      },
      "source": [
        "This is a normal fully connected layer"
      ]
    },
    {
      "cell_type": "code",
      "metadata": {
        "id": "w9tiw8fKfNzv",
        "colab_type": "code",
        "colab": {}
      },
      "source": [
        "def normal_full_layer(input_layer, size):\n",
        "    input_size = int(input_layer.get_shape()[1])\n",
        "    W = init_weights([input_size, size])\n",
        "    b = init_bias([size])\n",
        "    return tf.matmul(input_layer, W) + b"
      ],
      "execution_count": 0,
      "outputs": []
    },
    {
      "cell_type": "code",
      "metadata": {
        "id": "RoKldfkxfNzy",
        "colab_type": "code",
        "colab": {}
      },
      "source": [
        "def deconvolutional_layer(input_x, shape):\n",
        "    #W = init_weights(shape)\n",
        "    if input_x.shape[0]==1:\n",
        "      training = False\n",
        "    else: training = True\n",
        "    b = init_bias([shape[3]])  #draw this out to see if it makes sense\n",
        "    d = deconv2d(input_x, shape) +b\n",
        "    bnd = tf.layers.batch_normalization(d, training = training)\n",
        "    return tf.nn.relu(bnd)"
      ],
      "execution_count": 0,
      "outputs": []
    },
    {
      "cell_type": "code",
      "metadata": {
        "id": "I52QXtPPGU1u",
        "colab_type": "code",
        "colab": {}
      },
      "source": [
        "def output_layer(input_x, shape):\n",
        "    #W = init_weights(shape)\n",
        "    if input_x.shape[0]==1:\n",
        "      training = False\n",
        "    else: training = True\n",
        "    b = init_bias([shape[3]])  #draw this out to see if it makes sense\n",
        "    d = deconv2d(input_x, shape) +b\n",
        "    \n",
        "    return tf.nn.sigmoid(d)"
      ],
      "execution_count": 0,
      "outputs": []
    },
    {
      "cell_type": "markdown",
      "metadata": {
        "id": "p2rwibDxfNzz",
        "colab_type": "text"
      },
      "source": [
        "### Placeholders"
      ]
    },
    {
      "cell_type": "code",
      "metadata": {
        "id": "8E82SWUmfNz0",
        "colab_type": "code",
        "colab": {}
      },
      "source": [
        "x = tf.placeholder(tf.float32,shape=[None,192,256,6])  #trace the shaping of these through the code...\n"
      ],
      "execution_count": 0,
      "outputs": []
    },
    {
      "cell_type": "code",
      "metadata": {
        "id": "U2djuEyMfNz1",
        "colab_type": "code",
        "colab": {}
      },
      "source": [
        "\n",
        "y_true = tf.placeholder(tf.float32,shape=[None,192,256])  #this now has every pixel in the ground truth segmentation"
      ],
      "execution_count": 0,
      "outputs": []
    },
    {
      "cell_type": "markdown",
      "metadata": {
        "id": "IzopPGJyfNz5",
        "colab_type": "text"
      },
      "source": [
        "### Layers"
      ]
    },
    {
      "cell_type": "code",
      "metadata": {
        "id": "6YyKmti2fNz5",
        "colab_type": "code",
        "colab": {}
      },
      "source": [
        "x_image = tf.reshape(x,[-1,192,256,6])  #-1 infers the shape of the first dimension (here, the batch size)"
      ],
      "execution_count": 0,
      "outputs": []
    },
    {
      "cell_type": "code",
      "metadata": {
        "id": "B2zOibybfNz7",
        "colab_type": "code",
        "colab": {}
      },
      "source": [
        "# Using a 6by6 filter here, used 5by5 in video, you can play around with the filter size\n",
        "# You can change the 32 output, that essentially represents the amount of filters used\n",
        "# You need to pass in 32 to the next input though, the 1 comes from the original input of \n",
        "# a single image.\n",
        "convo_1 = convolutional_layer(x_image,shape=[3,3,6,16])\n",
        "convo_12 = convolutional_layer(convo_1,shape=[3,3,16,32])\n",
        "convo_1_pooling = max_pool_2by2(convo_12)"
      ],
      "execution_count": 0,
      "outputs": []
    },
    {
      "cell_type": "code",
      "metadata": {
        "id": "V3wMs2SYTVpR",
        "colab_type": "code",
        "colab": {}
      },
      "source": [
        "print(convo_1_pooling.shape)"
      ],
      "execution_count": 0,
      "outputs": []
    },
    {
      "cell_type": "code",
      "metadata": {
        "id": "Tjs326AsfNz9",
        "colab_type": "code",
        "colab": {}
      },
      "source": [
        "# Using a 6by6 filter here, used 5by5 in video, you can play around with the filter size\n",
        "# You can actually change the 64 output if you want, you can think of that as a representation\n",
        "# of the amount of 6by6 filters used.\n",
        "convo_2 = convolutional_layer(convo_1_pooling,shape=[3,3,32,64])\n",
        "convo_22 = convolutional_layer(convo_2,shape=[3,3,64,64])\n",
        "convo_2_pooling = max_pool_2by2(convo_22)"
      ],
      "execution_count": 0,
      "outputs": []
    },
    {
      "cell_type": "code",
      "metadata": {
        "id": "ZSeZobE1fNz_",
        "colab_type": "code",
        "colab": {}
      },
      "source": [
        "print(convo_2_pooling.shape)"
      ],
      "execution_count": 0,
      "outputs": []
    },
    {
      "cell_type": "code",
      "metadata": {
        "id": "g0yF11JTfN0B",
        "colab_type": "code",
        "colab": {}
      },
      "source": [
        "# Using a 6by6 filter here, used 5by5 in video, you can play around with the filter size\n",
        "## You can actually change the 64 output if you want, you can think of that as a representation\n",
        "# of the amount of 6by6 filters used.\n",
        "convo_3 = convolutional_layer(convo_2_pooling,shape=[3,3,64,128])\n",
        "convo_32 = convolutional_layer(convo_3,shape=[3,3,128,128])\n",
        "convo_3_pooling = max_pool_2by2(convo_32)"
      ],
      "execution_count": 0,
      "outputs": []
    },
    {
      "cell_type": "code",
      "metadata": {
        "id": "F1OFvnKJfN0F",
        "colab_type": "code",
        "colab": {}
      },
      "source": [
        "print(convo_3_pooling.shape)"
      ],
      "execution_count": 0,
      "outputs": []
    },
    {
      "cell_type": "code",
      "metadata": {
        "id": "lK5Ch1YKfN0I",
        "colab_type": "code",
        "colab": {}
      },
      "source": [
        "# Using a 6by6 filter here, used 5by5 in video, you can play around with the filter size\n",
        "# You can actually change the 64 output if you want, you can think of that as a representation\n",
        "# of the amount of 6by6 filters used.\n",
        "hold_prob = tf.placeholder(tf.float32)\n",
        "\n",
        "convo_3_pooling_d = tf.nn.dropout(convo_3_pooling,keep_prob=hold_prob)\n",
        "\n",
        "\n",
        "convo_4 = convolutional_layer(convo_3_pooling_d,shape=[3,3,128,256])\n",
        "convo_42 = convolutional_layer(convo_4,shape=[3,3,256,256])\n",
        "convo_4_pooling = max_pool_2by2(convo_42)"
      ],
      "execution_count": 0,
      "outputs": []
    },
    {
      "cell_type": "code",
      "metadata": {
        "id": "XLw9sqc3fN0J",
        "colab_type": "code",
        "colab": {}
      },
      "source": [
        "print(convo_4_pooling.shape)"
      ],
      "execution_count": 0,
      "outputs": []
    },
    {
      "cell_type": "code",
      "metadata": {
        "id": "mrjbYcoHfN0L",
        "colab_type": "code",
        "colab": {}
      },
      "source": [
        "convo_5 = convolutional_layer(convo_4_pooling,shape=[3,3,256,512])\n",
        "#convo_5_pooling = max_pool_2by2(convo_5)"
      ],
      "execution_count": 0,
      "outputs": []
    },
    {
      "cell_type": "code",
      "metadata": {
        "id": "AUhatLBVfN0M",
        "colab_type": "code",
        "colab": {}
      },
      "source": [
        "print(convo_5.shape)"
      ],
      "execution_count": 0,
      "outputs": []
    },
    {
      "cell_type": "code",
      "metadata": {
        "id": "2umt_QNxfN0O",
        "colab_type": "code",
        "colab": {}
      },
      "source": [
        "#convo_6 = convolutional_layer(convo_5,shape=[3,3,128,256])\n",
        "#convo_6_pooling = max_pool_2by2(convo_6)"
      ],
      "execution_count": 0,
      "outputs": []
    },
    {
      "cell_type": "code",
      "metadata": {
        "id": "q1RQ1ZCcfN0Q",
        "colab_type": "code",
        "colab": {}
      },
      "source": [
        "#print(convo_6.shape)"
      ],
      "execution_count": 0,
      "outputs": []
    },
    {
      "cell_type": "markdown",
      "metadata": {
        "id": "Ymjgp2j1RCFe",
        "colab_type": "text"
      },
      "source": [
        "###Need to look at the shapes and sizes of all of these layers###"
      ]
    },
    {
      "cell_type": "code",
      "metadata": {
        "id": "lnPU1krEfN0S",
        "colab_type": "code",
        "colab": {}
      },
      "source": [
        "#import keras\n",
        "deconv_1 = deconvolutional_layer(convo_5, shape = [3,3,512,256])\n",
        "H = deconv_1.shape[1]\n",
        "W = deconv_1.shape[2]\n",
        "ups_1 = tf.image.resize_nearest_neighbor(deconv_1, size = [2*H,2*W])\n",
        "print(ups_1.shape)"
      ],
      "execution_count": 0,
      "outputs": []
    },
    {
      "cell_type": "code",
      "metadata": {
        "id": "Tebp1_E5vDNk",
        "colab_type": "code",
        "colab": {}
      },
      "source": [
        "deconv_2 = deconvolutional_layer(ups_1, shape = [3,3,256,256])\n",
        "deconv_22 = deconvolutional_layer(deconv_2, shape = [3,3,256,128])\n",
        "H = deconv_22.shape[1]\n",
        "W = deconv_22.shape[2]\n",
        "ups_2 = tf.image.resize_nearest_neighbor(deconv_22, size = [2*H,2*W])\n",
        "print(ups_2.shape)"
      ],
      "execution_count": 0,
      "outputs": []
    },
    {
      "cell_type": "code",
      "metadata": {
        "id": "hsq6Tw5_wCbW",
        "colab_type": "code",
        "colab": {}
      },
      "source": [
        "deconv_3 = deconvolutional_layer(ups_2, shape = [4,4,128,128])\n",
        "deconv_32 = deconvolutional_layer(deconv_3, shape = [3,3,128,128])\n",
        "H = deconv_32.shape[1]\n",
        "W = deconv_32.shape[2]\n",
        "ups_3 = tf.image.resize_nearest_neighbor(deconv_32, size = [2*H,2*W])\n",
        "print(ups_3.shape)"
      ],
      "execution_count": 0,
      "outputs": []
    },
    {
      "cell_type": "code",
      "metadata": {
        "id": "qk9mtSG50McP",
        "colab_type": "code",
        "colab": {}
      },
      "source": [
        "deconv_4 = deconvolutional_layer(ups_3, shape = [3,3,128,64])\n",
        "deconv_42 = deconvolutional_layer(deconv_4, shape = [3,3,64,32])\n",
        "H = deconv_42.shape[1]\n",
        "W = deconv_42.shape[2]\n",
        "ups_4 = tf.image.resize_nearest_neighbor(deconv_42, size = [2*H,2*W])\n",
        "print(ups_4.shape)"
      ],
      "execution_count": 0,
      "outputs": []
    },
    {
      "cell_type": "markdown",
      "metadata": {
        "id": "O07s0bzd-xdZ",
        "colab_type": "text"
      },
      "source": [
        ""
      ]
    },
    {
      "cell_type": "code",
      "metadata": {
        "id": "PhVu8DWQ0unq",
        "colab_type": "code",
        "colab": {}
      },
      "source": [
        "hold_prob2 = tf.placeholder(tf.float32)\n",
        "\n",
        "ups_4_d = tf.nn.dropout(ups_4,keep_prob=hold_prob2)\n",
        "\n",
        "deconv_5 = deconvolutional_layer(ups_4_d, shape = [3,3,32,16])\n",
        "print(deconv_5.shape)\n",
        "output = output_layer(deconv_5, shape = [3,3,16,1])\n",
        "#print(deconv_52.shape)\n",
        "#output = tf.image.resize_nearest_neighbor(deconv_52, size = [192,256])   #not sure what sort of output layer is used in the winning submission"
      ],
      "execution_count": 0,
      "outputs": []
    },
    {
      "cell_type": "code",
      "metadata": {
        "id": "s6WCdpU44eEe",
        "colab_type": "code",
        "colab": {}
      },
      "source": [
        "deconv_5.shape"
      ],
      "execution_count": 0,
      "outputs": []
    },
    {
      "cell_type": "code",
      "metadata": {
        "id": "Zk0vZ8CofN0g",
        "colab_type": "code",
        "colab": {}
      },
      "source": [
        "y_pred = output"
      ],
      "execution_count": 0,
      "outputs": []
    },
    {
      "cell_type": "markdown",
      "metadata": {
        "id": "kzfSiPBifN0i",
        "colab_type": "text"
      },
      "source": [
        "### Loss Function"
      ]
    },
    {
      "cell_type": "code",
      "metadata": {
        "id": "gGxLHevsfN0i",
        "colab_type": "code",
        "colab": {}
      },
      "source": [
        "pred = tf.reshape(y_pred, [-1,192,256])\n",
        "true = tf.reshape(y_true, [-1,192,256])\n",
        "          \n",
        "\n",
        "intersect = tf.reduce_sum(tf.cast(true*pred, tf.float32), axis = [1,2])\n",
        "sum_pred = tf.reduce_sum(tf.cast(pred*pred, tf.float32), axis = [1,2])\n",
        "sum_true = tf.reduce_sum(tf.cast(true*true, tf.float32), axis = [1,2])\n",
        "union = sum_pred + sum_true - intersect  \n",
        "jacc = intersect/union\n",
        "            \n",
        "\n",
        "\n",
        "#cross_entropy = tf.reduce_mean(tf.nn.sigmoid_cross_entropy_with_logits(labels=y_true,logits=pred))"
      ],
      "execution_count": 0,
      "outputs": []
    },
    {
      "cell_type": "markdown",
      "metadata": {
        "id": "v7_7P_MxxKvn",
        "colab_type": "text"
      },
      "source": [
        "This will be updated to a loss function based on the jaccard index, as in the related publication"
      ]
    },
    {
      "cell_type": "markdown",
      "metadata": {
        "id": "Vd8V8rTafN0l",
        "colab_type": "text"
      },
      "source": [
        "### Optimizer"
      ]
    },
    {
      "cell_type": "code",
      "metadata": {
        "id": "ShpM5aWifN0m",
        "colab_type": "code",
        "colab": {}
      },
      "source": [
        "optimizer = tf.train.AdamOptimizer(learning_rate=0.003)\n",
        "cost = -tf.reduce_mean(tf.nn.sigmoid(jacc))\n",
        "train = optimizer.minimize(cost)   #can this be done for each pixel?"
      ],
      "execution_count": 0,
      "outputs": []
    },
    {
      "cell_type": "markdown",
      "metadata": {
        "id": "2pgeA03VfN0o",
        "colab_type": "text"
      },
      "source": [
        "### Intialize Variables"
      ]
    },
    {
      "cell_type": "code",
      "metadata": {
        "id": "b6p_q-h8fN0p",
        "colab_type": "code",
        "colab": {}
      },
      "source": [
        "init = tf.global_variables_initializer()"
      ],
      "execution_count": 0,
      "outputs": []
    },
    {
      "cell_type": "code",
      "metadata": {
        "id": "IJBnGN8bfN0r",
        "colab_type": "code",
        "colab": {}
      },
      "source": [
        "saver = tf.train.Saver()"
      ],
      "execution_count": 0,
      "outputs": []
    },
    {
      "cell_type": "markdown",
      "metadata": {
        "id": "uJSc-_gtfN0s",
        "colab_type": "text"
      },
      "source": [
        "### Session"
      ]
    },
    {
      "cell_type": "code",
      "metadata": {
        "id": "sCgyHGU9fN0s",
        "colab_type": "code",
        "colab": {}
      },
      "source": [
        "mel = MelHelper()\n",
        "mel.set_up_images()"
      ],
      "execution_count": 0,
      "outputs": []
    },
    {
      "cell_type": "code",
      "metadata": {
        "id": "TquTnDl1vKyb",
        "colab_type": "code",
        "colab": {}
      },
      "source": [
        "tf.math.exp(1.)"
      ],
      "execution_count": 0,
      "outputs": []
    },
    {
      "cell_type": "code",
      "metadata": {
        "scrolled": false,
        "id": "LvFchSc7fN0v",
        "colab_type": "code",
        "colab": {}
      },
      "source": [
        "steps = 75815\n",
        "import time\n",
        "batch_size = 16\n",
        "j_test = []\n",
        "j_train = []\n",
        "\n",
        "#use Cifar_helper to set up next batch\n",
        "with tf.Session() as sess:\n",
        "    print(\"starting init\")\n",
        "    sess.run(init)\n",
        "    print(\"done init\")\n",
        "    \n",
        "    start_time = time.clock()\n",
        "    \n",
        "    for i in range(steps): \n",
        "        batch_x, batch_y = mel.next_batch(batch_size)\n",
        "        #print(i)\n",
        "        #print(\"\\n\")\n",
        "        \n",
        "        #print(\"batch training labels shape is \", batch_y.shape)\n",
        "        #print(\"batch training labels type is \", batch_y.dtype)\n",
        "        #print(\"batch training labels are \", batch_y)\n",
        "        #print(\"batch training data are \", batch_x)\n",
        "        #image = batch_y.reshape(-1,21,28)[5,:,:]\n",
        "        sess.run(train,feed_dict={x:batch_x,y_true:batch_y,hold_prob:0.5,hold_prob2:0.5})\n",
        "        #print(\"batch training prediction are \", batch_y)\n",
        "        #image_pred = sess.run(y_pred,feed_dict={x:batch_x,y_true:batch_y,hold_prob:1.0} ).reshape(-1,21,28)[5,:,:]\n",
        "        #image_pred = np.round(1/(1 + np.exp(-image_pred)))\n",
        "        \n",
        "        if i%100 == 0:\n",
        "            print('Currently on step {}'.format(i))\n",
        "            print(\"the time is \", time.clock() - start_time, \"\\n\")\n",
        "             #print(\"mel i is \", mel.i)\n",
        "             #plt.imshow(image)\n",
        "             #plt.show()\n",
        "             #plt.imshow(image_pred)\n",
        "             #plt.show()\n",
        "            \n",
        "            #print('Currently on step {}'.format(i))\n",
        "            #print('Accuracy is:')\n",
        "            # Test the Train Model\n",
        "            #matches = tf.equal(tf.argmax(y_pred,1),tf.argmax(y_true,1))\n",
        "\n",
        "            #acc = tf.reduce_mean(tf.cast(matches,tf.float32))\n",
        "\n",
        "            \n",
        "            ####use with cross entropy####\n",
        "            #pred = tf.round(1/(1 + tf.exp(-tf.reshape(y_pred, [-1,48,64]))))\n",
        "            #true = tf.reshape(y_true, [-1,48,64])\n",
        "          \n",
        "            # Test the Train Model\n",
        "            #matches = tf.equal(tf.argmax(y_pred,1),tf.argmax(y_true,1))  ###REPLACE THIS LINE TO INCLUDE JACARD INDEX####\n",
        "            pred_o = tf.math.round(pred)\n",
        "            true_o = tf.math.round(true)\n",
        "            \n",
        "        \n",
        "\n",
        "\n",
        "            intersect_o = tf.reduce_sum(tf.cast(true*pred_o, tf.float32), axis = [1,2])\n",
        "            union_o = tf.reduce_sum(tf.cast(pred_o, tf.float32), axis = [1,2]) + tf.reduce_sum(tf.cast(true, tf.float32), axis = [1,2]) - intersect_o  #think this has an error\n",
        "            jacc_o = intersect_o/union_o\n",
        "            \n",
        "            \n",
        "            J_out = sess.run([jacc_o],feed_dict={x:batch_x,y_true:batch_y,hold_prob:1.0,hold_prob2:1.0})\n",
        "            J_train = np.sum(J_out[0])/J_out[0].shape[0]\n",
        "            j_train += [J_train]\n",
        "            \n",
        "            #acc = tf.reduce_mean(tf.cast(intersect,tf.float32))\n",
        "            #print(\"test labels shape is \", mel.test_labels.shape)\n",
        "            #print(\"\\n\")\n",
        "            \n",
        "            print('Avg Jacc is:')\n",
        "            J_out = sess.run([jacc_o, pred_o, true_o],feed_dict={x:mel.test_images,y_true:mel.test_labels,hold_prob:1.0, hold_prob2:1.0})\n",
        "           \n",
        "           \n",
        "            rn = int(np.random.random()*J_out[1].shape[0])\n",
        "           \n",
        "            plt.imshow(J_out[1][rn, :, :])\n",
        "            plt.show()\n",
        "            plt.imshow(J_out[2][rn, :, :])\n",
        "            plt.show()\n",
        "            ##it cannot evaluate over the test set, the test set is too large...reduce size of test set\n",
        "            \n",
        "            J_test = np.sum(J_out[0])/J_out[0].shape[0]\n",
        "            j_test += [J_test]\n",
        "            \n",
        "            print(J_test, \" step number is \",  i, \" batch_size is \", batch_size)\n",
        "            #print(\"intersection is\", J_out[2], \"union is\", J_out[3], \"\\n\", \"y_pred is \", J_out[4], \"true is \", J_out[5], \"sum_pred =\",  J_out[6], \"sum_true\", J_out[7])\n",
        "            #if i == 500:\n",
        "                #batch_size = 20\n",
        "            #if i == 25000:\n",
        "                #batch_size = 200\n",
        "            \n",
        "            #print out Jacc for training set and test set, Save Jacc and entropy to variable,\n",
        "            #print out step number\n",
        "            \n",
        "            #use larger pics\n",
        "            #print out and analyse cross entropy\n",
        "            #run with full training batch for several iterations\n",
        "            #pred = sess.run(pred,feed_dict={x:mel.test_images,y_true:mel.test_labels,hold_prob:1.0})\n",
        "            \n",
        "           \n",
        "        if i == steps - 1:\n",
        "            pred_mel = sess.run([pred],feed_dict={x:mel.test_images,y_true:mel.test_labels,hold_prob:1.0, hold_prob2:1.0})\n",
        "            pred_pigment = sess.run([pred],feed_dict={x:pigs,hold_prob:1.0,hold_prob2:1.0})\n",
        "            \n",
        "        #save_path = saver.save(sess, \"./model.ckpt\")\n",
        "        \n",
        "        "
      ],
      "execution_count": 0,
      "outputs": []
    },
    {
      "cell_type": "code",
      "metadata": {
        "id": "OgBtoXllqHTu",
        "colab_type": "code",
        "colab": {}
      },
      "source": [
        "J_out[1][1].shape"
      ],
      "execution_count": 0,
      "outputs": []
    },
    {
      "cell_type": "code",
      "metadata": {
        "id": "tuEdKJQ85Nqf",
        "colab_type": "code",
        "colab": {}
      },
      "source": [
        "j_train = np.array(j_train)\n",
        "j_test = np.array(j_test)\n",
        "plt.plot(j_train)"
      ],
      "execution_count": 0,
      "outputs": []
    },
    {
      "cell_type": "code",
      "metadata": {
        "id": "I6h0-RmJcPJp",
        "colab_type": "code",
        "colab": {}
      },
      "source": [
        "plt.plot(j_test)"
      ],
      "execution_count": 0,
      "outputs": []
    },
    {
      "cell_type": "code",
      "metadata": {
        "id": "1hy80bHP4M37",
        "colab_type": "code",
        "colab": {}
      },
      "source": [
        "plt.hist(J_out[0])"
      ],
      "execution_count": 0,
      "outputs": []
    },
    {
      "cell_type": "markdown",
      "metadata": {
        "id": "ozKxJoKafN0x",
        "colab_type": "text"
      },
      "source": [
        "## Great Job!"
      ]
    },
    {
      "cell_type": "code",
      "metadata": {
        "id": "aPBW3tGrfN0x",
        "colab_type": "code",
        "colab": {}
      },
      "source": [
        "plt.imshow(pred_pigment[0][5,:,:])\n",
        "plt.show()"
      ],
      "execution_count": 0,
      "outputs": []
    },
    {
      "cell_type": "code",
      "metadata": {
        "id": "F065GTgDfN0y",
        "colab_type": "code",
        "colab": {}
      },
      "source": [
        "pigs.shape"
      ],
      "execution_count": 0,
      "outputs": []
    },
    {
      "cell_type": "code",
      "metadata": {
        "id": "hpT_cK9NfN01",
        "colab_type": "code",
        "colab": {}
      },
      "source": [
        "pred_pigment[0].shape"
      ],
      "execution_count": 0,
      "outputs": []
    },
    {
      "cell_type": "code",
      "metadata": {
        "id": "Zxfv9B0wfN03",
        "colab_type": "code",
        "colab": {}
      },
      "source": [
        "plt.imshow(pigment_image_show)\n",
        "plt.show()"
      ],
      "execution_count": 0,
      "outputs": []
    },
    {
      "cell_type": "code",
      "metadata": {
        "id": "JAPOpkOnfN05",
        "colab_type": "code",
        "colab": {}
      },
      "source": [
        "mask = np.zeros([192,256,3])#np.vstack([pred_pigment[0],pred_pigment[0],pred_pigment[0]])\n",
        "mask[:,:,0] = pred_pigment[0][0,:,:]\n",
        "mask[:,:,1] = pred_pigment[0][0,:,:]\n",
        "mask[:,:,2] = pred_pigment[0][0,:,:]\n",
        "#mask = 1-mask\n",
        "#mask = mask.astype(int)\n",
        "\n",
        "image = pigment_image_show\n",
        "#image[mask] = 0\n",
        "image2 = image*mask*255\n",
        "image1 = image*(1- mask)*255\n"
      ],
      "execution_count": 0,
      "outputs": []
    },
    {
      "cell_type": "code",
      "metadata": {
        "id": "sUdEkyQDfN06",
        "colab_type": "code",
        "colab": {}
      },
      "source": [
        "plt.imshow(image2)\n",
        "plt.show()"
      ],
      "execution_count": 0,
      "outputs": []
    },
    {
      "cell_type": "code",
      "metadata": {
        "id": "UOT68oxRfN08",
        "colab_type": "code",
        "colab": {}
      },
      "source": [
        "plt.imshow(image1)\n",
        "plt.show()"
      ],
      "execution_count": 0,
      "outputs": []
    },
    {
      "cell_type": "code",
      "metadata": {
        "id": "ajywFtjAfN09",
        "colab_type": "code",
        "colab": {}
      },
      "source": [
        "image2[:,:,0].shape"
      ],
      "execution_count": 0,
      "outputs": []
    },
    {
      "cell_type": "code",
      "metadata": {
        "id": "K24a-3W1fN0_",
        "colab_type": "code",
        "colab": {}
      },
      "source": [
        "red = image2[:,:,0].reshape(-1)"
      ],
      "execution_count": 0,
      "outputs": []
    },
    {
      "cell_type": "code",
      "metadata": {
        "id": "ONqRmNbgfN1A",
        "colab_type": "code",
        "colab": {}
      },
      "source": [
        "plt.hist(red, bins = 500, range = (0.1, red.max()))"
      ],
      "execution_count": 0,
      "outputs": []
    },
    {
      "cell_type": "code",
      "metadata": {
        "id": "Dx1I2TsyfN1B",
        "colab_type": "code",
        "colab": {}
      },
      "source": [
        "plt.show()"
      ],
      "execution_count": 0,
      "outputs": []
    },
    {
      "cell_type": "code",
      "metadata": {
        "id": "sr2dpX_dfN1C",
        "colab_type": "code",
        "colab": {}
      },
      "source": [
        "a2 = np.average(red, weights = mask[:,:,0].reshape(-1))"
      ],
      "execution_count": 0,
      "outputs": []
    },
    {
      "cell_type": "code",
      "metadata": {
        "id": "Jevzwut9fN1E",
        "colab_type": "code",
        "colab": {}
      },
      "source": [
        "a2"
      ],
      "execution_count": 0,
      "outputs": []
    },
    {
      "cell_type": "code",
      "metadata": {
        "id": "7BHV-xfHfN1F",
        "colab_type": "code",
        "colab": {}
      },
      "source": [
        "mask[0].shape"
      ],
      "execution_count": 0,
      "outputs": []
    },
    {
      "cell_type": "code",
      "metadata": {
        "id": "qs855rM1fN1G",
        "colab_type": "code",
        "colab": {}
      },
      "source": [
        "red_norm = image1[:,:,0].reshape(-1)"
      ],
      "execution_count": 0,
      "outputs": []
    },
    {
      "cell_type": "code",
      "metadata": {
        "id": "ea9StQEufN1H",
        "colab_type": "code",
        "colab": {}
      },
      "source": [
        "plt.hist(red_norm, bins = 500, range = (0.1, red_norm.max()))"
      ],
      "execution_count": 0,
      "outputs": []
    },
    {
      "cell_type": "code",
      "metadata": {
        "id": "l3Q9PxaWfN1I",
        "colab_type": "code",
        "colab": {}
      },
      "source": [
        "plt.show()"
      ],
      "execution_count": 0,
      "outputs": []
    },
    {
      "cell_type": "code",
      "metadata": {
        "id": "u2KHoacjfN1J",
        "colab_type": "code",
        "colab": {}
      },
      "source": [
        "mask_inv = 1-mask"
      ],
      "execution_count": 0,
      "outputs": []
    },
    {
      "cell_type": "code",
      "metadata": {
        "id": "rHWWM8OpfN1K",
        "colab_type": "code",
        "colab": {}
      },
      "source": [
        "a1 = np.average(red_norm, weights =mask_inv[:,:,0].reshape(-1))"
      ],
      "execution_count": 0,
      "outputs": []
    },
    {
      "cell_type": "code",
      "metadata": {
        "id": "erjg3_0VfN1L",
        "colab_type": "code",
        "colab": {}
      },
      "source": [
        "mask_inv.shape"
      ],
      "execution_count": 0,
      "outputs": []
    },
    {
      "cell_type": "code",
      "metadata": {
        "id": "EBVZiGiAfN1L",
        "colab_type": "code",
        "colab": {}
      },
      "source": [
        "a1"
      ],
      "execution_count": 0,
      "outputs": []
    },
    {
      "cell_type": "code",
      "metadata": {
        "id": "npZUBCrTfN1M",
        "colab_type": "code",
        "colab": {}
      },
      "source": [
        "a1 - a2"
      ],
      "execution_count": 0,
      "outputs": []
    },
    {
      "cell_type": "code",
      "metadata": {
        "id": "m6Tn1RcofN1N",
        "colab_type": "code",
        "colab": {}
      },
      "source": [
        "blue = image2[:,:,2].reshape(-1)"
      ],
      "execution_count": 0,
      "outputs": []
    },
    {
      "cell_type": "code",
      "metadata": {
        "id": "8uc36qqjfN1O",
        "colab_type": "code",
        "colab": {}
      },
      "source": [
        "blue_norm = image1[:,:,2].reshape(-1)"
      ],
      "execution_count": 0,
      "outputs": []
    },
    {
      "cell_type": "code",
      "metadata": {
        "id": "pYlWlxbXfN1Q",
        "colab_type": "code",
        "colab": {}
      },
      "source": [
        "plt.hist(blue, bins = 500, range = (0.1, blue.max()))\n",
        "plt.show()"
      ],
      "execution_count": 0,
      "outputs": []
    },
    {
      "cell_type": "code",
      "metadata": {
        "id": "Z_tMSOZzfN1R",
        "colab_type": "code",
        "colab": {}
      },
      "source": [
        "plt.hist(blue_norm, bins = 500, range = (0.1, blue_norm.max()))\n",
        "plt.figure()\n",
        "plt.show()"
      ],
      "execution_count": 0,
      "outputs": []
    },
    {
      "cell_type": "code",
      "metadata": {
        "id": "I5dc6TdTfN1S",
        "colab_type": "code",
        "colab": {}
      },
      "source": [
        "def measure_progress(pigs,masks):\n",
        "    blue_pigs = []\n",
        "    blue_norms = []\n",
        "    imagesp = []\n",
        "    imagesn = []\n",
        "    i = 0\n",
        "    for pig in pigs:\n",
        "        mask = np.zeros([192,256,3])#np.vstack([pred_pigment[0],pred_pigment[0],pred_pigment[0]])\n",
        "        mask[:,:,0] = pred_pigment[0][i,:,:]\n",
        "        mask[:,:,1] = pred_pigment[0][i,:,:]\n",
        "        mask[:,:,2] = pred_pigment[0][i,:,:]\n",
        "        mask_inv = 1- mask\n",
        "        imagep = pig*mask*255\n",
        "        imagen = pig*(1- mask)*255\n",
        "        imagesp += [imagep]\n",
        "        imagesn += [imagen]\n",
        "        blue_norm = imagen[:,:,2].reshape(-1)\n",
        "        blue_pig = imagep[:,:,2].reshape(-1)\n",
        "        an = np.average(blue_norm, weights =mask_inv[:,:,2].reshape(-1))\n",
        "        ap = np.average(blue_pig, weights =mask[:,:,2].reshape(-1))\n",
        "        blue_pigs += [ap]\n",
        "        blue_norms += [an]\n",
        "        i+=1\n",
        "    blue_pigs = np.array(blue_pigs)\n",
        "    blue_norms = np.array(blue_norms)\n",
        "    return(blue_pigs, blue_norms, imagesp, imagesn)"
      ],
      "execution_count": 0,
      "outputs": []
    },
    {
      "cell_type": "code",
      "metadata": {
        "id": "0Gl1CurMfN1T",
        "colab_type": "code",
        "colab": {}
      },
      "source": [
        "pigmented, normal, imagesp, imagesn = measure_progress(pigs,pred_pigment)"
      ],
      "execution_count": 0,
      "outputs": []
    },
    {
      "cell_type": "code",
      "metadata": {
        "id": "hIybHR8HfN1U",
        "colab_type": "code",
        "colab": {}
      },
      "source": [
        "J_out[1].shape"
      ],
      "execution_count": 0,
      "outputs": []
    },
    {
      "cell_type": "code",
      "metadata": {
        "id": "SFU1gqlwfN1V",
        "colab_type": "code",
        "colab": {}
      },
      "source": [
        "pigmented"
      ],
      "execution_count": 0,
      "outputs": []
    },
    {
      "cell_type": "code",
      "metadata": {
        "id": "OGl5P8_DfN1W",
        "colab_type": "code",
        "colab": {}
      },
      "source": [
        "normal"
      ],
      "execution_count": 0,
      "outputs": []
    },
    {
      "cell_type": "code",
      "metadata": {
        "id": "SI0Ug5XQfN1X",
        "colab_type": "code",
        "colab": {}
      },
      "source": [
        "plt.plot(normal - pigmented)"
      ],
      "execution_count": 0,
      "outputs": []
    },
    {
      "cell_type": "code",
      "metadata": {
        "id": "2Y-HM_QTfN1X",
        "colab_type": "code",
        "colab": {}
      },
      "source": [
        "plt.plot(normal)"
      ],
      "execution_count": 0,
      "outputs": []
    },
    {
      "cell_type": "code",
      "metadata": {
        "id": "hPauIGdCfN1Y",
        "colab_type": "code",
        "colab": {}
      },
      "source": [
        "plt.plot(pigmented)"
      ],
      "execution_count": 0,
      "outputs": []
    },
    {
      "cell_type": "code",
      "metadata": {
        "id": "EKYExBeMfN1Z",
        "colab_type": "code",
        "colab": {}
      },
      "source": [
        "plt.imshow(imagesp[0])"
      ],
      "execution_count": 0,
      "outputs": []
    },
    {
      "cell_type": "code",
      "metadata": {
        "id": "RGbveiABfN1a",
        "colab_type": "code",
        "colab": {}
      },
      "source": [
        "plt.imshow(imagesp[1])"
      ],
      "execution_count": 0,
      "outputs": []
    },
    {
      "cell_type": "code",
      "metadata": {
        "id": "QLx2lHwtfN1b",
        "colab_type": "code",
        "colab": {}
      },
      "source": [
        "plt.imshow(imagesp[2])"
      ],
      "execution_count": 0,
      "outputs": []
    },
    {
      "cell_type": "code",
      "metadata": {
        "id": "X5_39MM-fN1d",
        "colab_type": "code",
        "colab": {}
      },
      "source": [
        "plt.imshow(imagesp[3])"
      ],
      "execution_count": 0,
      "outputs": []
    },
    {
      "cell_type": "code",
      "metadata": {
        "id": "p3d7xIRpfN1e",
        "colab_type": "code",
        "colab": {}
      },
      "source": [
        "plt.imshow(imagesp[4])"
      ],
      "execution_count": 0,
      "outputs": []
    },
    {
      "cell_type": "code",
      "metadata": {
        "id": "lVuabyyffN1f",
        "colab_type": "code",
        "colab": {}
      },
      "source": [
        "plt.imshow(imagesp[5])"
      ],
      "execution_count": 0,
      "outputs": []
    },
    {
      "cell_type": "code",
      "metadata": {
        "id": "ecXz5Qg2fN1g",
        "colab_type": "code",
        "colab": {}
      },
      "source": [
        "plt.imshow(imagesp[6])"
      ],
      "execution_count": 0,
      "outputs": []
    },
    {
      "cell_type": "code",
      "metadata": {
        "id": "vljOjV8AfN1g",
        "colab_type": "code",
        "colab": {}
      },
      "source": [
        "plt.imshow(imagesp[7])"
      ],
      "execution_count": 0,
      "outputs": []
    },
    {
      "cell_type": "code",
      "metadata": {
        "id": "20qm-GS0fN1h",
        "colab_type": "code",
        "colab": {}
      },
      "source": [
        "plt.imshow(imagesp[8])"
      ],
      "execution_count": 0,
      "outputs": []
    },
    {
      "cell_type": "code",
      "metadata": {
        "id": "_raVEmR1fN1j",
        "colab_type": "code",
        "colab": {}
      },
      "source": [
        "plt.imshow(imagesp[9])"
      ],
      "execution_count": 0,
      "outputs": []
    },
    {
      "cell_type": "code",
      "metadata": {
        "id": "jLG0X9zwfN1l",
        "colab_type": "code",
        "colab": {}
      },
      "source": [
        "plt.imshow(imagesp[10])"
      ],
      "execution_count": 0,
      "outputs": []
    },
    {
      "cell_type": "code",
      "metadata": {
        "id": "551fWebzfN1m",
        "colab_type": "code",
        "colab": {}
      },
      "source": [
        "pigmented[0]"
      ],
      "execution_count": 0,
      "outputs": []
    },
    {
      "cell_type": "code",
      "metadata": {
        "id": "mD9EF_yxfN1m",
        "colab_type": "code",
        "colab": {}
      },
      "source": [
        "pigmented[10]"
      ],
      "execution_count": 0,
      "outputs": []
    },
    {
      "cell_type": "code",
      "metadata": {
        "id": "ks9ZDXfWfN1n",
        "colab_type": "code",
        "colab": {}
      },
      "source": [
        "plt.imshow(imagesp[0])"
      ],
      "execution_count": 0,
      "outputs": []
    },
    {
      "cell_type": "code",
      "metadata": {
        "id": "lqMFsSngfN1o",
        "colab_type": "code",
        "colab": {}
      },
      "source": [
        "plt.imshow(imagesp[11])"
      ],
      "execution_count": 0,
      "outputs": []
    },
    {
      "cell_type": "code",
      "metadata": {
        "id": "FHHB-0G2fN1p",
        "colab_type": "code",
        "colab": {}
      },
      "source": [
        "plt.imshow(imagesp[12])"
      ],
      "execution_count": 0,
      "outputs": []
    },
    {
      "cell_type": "code",
      "metadata": {
        "id": "ZgSGsY2YfN1q",
        "colab_type": "code",
        "colab": {}
      },
      "source": [
        "plt.imshow(imagesp[13])"
      ],
      "execution_count": 0,
      "outputs": []
    },
    {
      "cell_type": "code",
      "metadata": {
        "id": "s4TjKPuQfN1s",
        "colab_type": "code",
        "colab": {}
      },
      "source": [
        "plt.imshow(imagesp[14])"
      ],
      "execution_count": 0,
      "outputs": []
    },
    {
      "cell_type": "code",
      "metadata": {
        "id": "5yDzxusDfN1t",
        "colab_type": "code",
        "colab": {}
      },
      "source": [
        "plt.imshow(imagesp[15])"
      ],
      "execution_count": 0,
      "outputs": []
    },
    {
      "cell_type": "code",
      "metadata": {
        "id": "px8uG7stfN1t",
        "colab_type": "code",
        "colab": {}
      },
      "source": [
        "plt.imshow(imagesp[16])"
      ],
      "execution_count": 0,
      "outputs": []
    },
    {
      "cell_type": "code",
      "metadata": {
        "id": "WCVqCLpcfN1u",
        "colab_type": "code",
        "colab": {}
      },
      "source": [
        "plt.imshow(imagesp[17])"
      ],
      "execution_count": 0,
      "outputs": []
    },
    {
      "cell_type": "code",
      "metadata": {
        "id": "1UXuk8sxfN1x",
        "colab_type": "code",
        "colab": {}
      },
      "source": [
        "plt.imshow(imagesp[18])"
      ],
      "execution_count": 0,
      "outputs": []
    },
    {
      "cell_type": "code",
      "metadata": {
        "id": "hbx4K_-9fN1y",
        "colab_type": "code",
        "colab": {}
      },
      "source": [
        "plt.imshow(imagesp[19])"
      ],
      "execution_count": 0,
      "outputs": []
    },
    {
      "cell_type": "code",
      "metadata": {
        "id": "e6MwZhmyfN1y",
        "colab_type": "code",
        "colab": {}
      },
      "source": [
        "plt.imshow(imagesp[20])"
      ],
      "execution_count": 0,
      "outputs": []
    },
    {
      "cell_type": "code",
      "metadata": {
        "id": "L2t3dY8EfN11",
        "colab_type": "code",
        "colab": {}
      },
      "source": [
        "plt.imshow(imagesp[21])"
      ],
      "execution_count": 0,
      "outputs": []
    },
    {
      "cell_type": "code",
      "metadata": {
        "id": "DuGQCCKnfN11",
        "colab_type": "code",
        "colab": {}
      },
      "source": [
        "plt.imshow(imagesp[22])"
      ],
      "execution_count": 0,
      "outputs": []
    },
    {
      "cell_type": "code",
      "metadata": {
        "id": "ust1UM-LfN15",
        "colab_type": "code",
        "colab": {}
      },
      "source": [
        "plt.imshow(imagesp[23])"
      ],
      "execution_count": 0,
      "outputs": []
    },
    {
      "cell_type": "code",
      "metadata": {
        "id": "hrAjXfnUfN16",
        "colab_type": "code",
        "colab": {}
      },
      "source": [
        "plt.imshow(imagesp[24])"
      ],
      "execution_count": 0,
      "outputs": []
    },
    {
      "cell_type": "code",
      "metadata": {
        "id": "Nig__U98fN16",
        "colab_type": "code",
        "colab": {}
      },
      "source": [
        "plt.imshow(imagesp[25])"
      ],
      "execution_count": 0,
      "outputs": []
    },
    {
      "cell_type": "code",
      "metadata": {
        "id": "i7tRlK70fN17",
        "colab_type": "code",
        "colab": {}
      },
      "source": [
        "plt.imshow(imagesp[26])"
      ],
      "execution_count": 0,
      "outputs": []
    },
    {
      "cell_type": "code",
      "metadata": {
        "id": "xhAjKp-FfN18",
        "colab_type": "code",
        "colab": {}
      },
      "source": [
        "plt.imshow(imagesp[27])"
      ],
      "execution_count": 0,
      "outputs": []
    },
    {
      "cell_type": "code",
      "metadata": {
        "id": "ONZHGxYgfN19",
        "colab_type": "code",
        "colab": {}
      },
      "source": [
        "plt.imshow(imagesp[0])"
      ],
      "execution_count": 0,
      "outputs": []
    },
    {
      "cell_type": "code",
      "metadata": {
        "id": "WBoXOjU6fN1-",
        "colab_type": "code",
        "colab": {}
      },
      "source": [
        "test = normal - pigmented"
      ],
      "execution_count": 0,
      "outputs": []
    },
    {
      "cell_type": "code",
      "metadata": {
        "id": "_3vR3FEkfN1_",
        "colab_type": "code",
        "colab": {}
      },
      "source": [
        "test = np.hstack([test[0:2], test[4:8], test[9:21], test[22:26], test[27]])"
      ],
      "execution_count": 0,
      "outputs": []
    },
    {
      "cell_type": "code",
      "metadata": {
        "id": "eBWPYJQqfN2A",
        "colab_type": "code",
        "colab": {}
      },
      "source": [
        "plt.plot(test)"
      ],
      "execution_count": 0,
      "outputs": []
    },
    {
      "cell_type": "code",
      "metadata": {
        "id": "tUhETHmvfN2B",
        "colab_type": "code",
        "colab": {}
      },
      "source": [
        "filenames"
      ],
      "execution_count": 0,
      "outputs": []
    },
    {
      "cell_type": "code",
      "metadata": {
        "id": "cXZzpi6CfN2C",
        "colab_type": "code",
        "colab": {}
      },
      "source": [
        "normal = np.hstack([normal[0:2], normal[12], normal[21:28], normal[2:12], normal[13:20]])"
      ],
      "execution_count": 0,
      "outputs": []
    },
    {
      "cell_type": "code",
      "metadata": {
        "id": "xCGAAJMafN2D",
        "colab_type": "code",
        "colab": {}
      },
      "source": [
        "pigmented = np.hstack([pigmented[0:2], pigmented[12], pigmented[21:28], pigmented[2:12], pigmented[13:20]])"
      ],
      "execution_count": 0,
      "outputs": []
    },
    {
      "cell_type": "code",
      "metadata": {
        "id": "8oUhRhYvfN2E",
        "colab_type": "code",
        "colab": {}
      },
      "source": [
        "plt.plot(normal-pigmented)"
      ],
      "execution_count": 0,
      "outputs": []
    },
    {
      "cell_type": "code",
      "metadata": {
        "id": "RQzHMxI8fN2F",
        "colab_type": "code",
        "colab": {}
      },
      "source": [
        "## 26, 21, 2, 3, 8 -> 8,3,10,11,16"
      ],
      "execution_count": 0,
      "outputs": []
    },
    {
      "cell_type": "code",
      "metadata": {
        "id": "DSo5OEV8fN2F",
        "colab_type": "code",
        "colab": {}
      },
      "source": [
        "normal.shape"
      ],
      "execution_count": 0,
      "outputs": []
    },
    {
      "cell_type": "code",
      "metadata": {
        "id": "kuY1yTNrfN2G",
        "colab_type": "code",
        "colab": {}
      },
      "source": [
        "normal = np.hstack([normal[0:3], normal[4:8], normal[9], normal[12:16], normal[17:27]])"
      ],
      "execution_count": 0,
      "outputs": []
    },
    {
      "cell_type": "code",
      "metadata": {
        "id": "PR9K3H7ufN2H",
        "colab_type": "code",
        "colab": {}
      },
      "source": [
        "pigmented = np.hstack([pigmented[0:3], pigmented[4:8], pigmented[9], pigmented[12:16], pigmented[17:27]])"
      ],
      "execution_count": 0,
      "outputs": []
    },
    {
      "cell_type": "code",
      "metadata": {
        "id": "3xtRhAlQfN2I",
        "colab_type": "code",
        "colab": {}
      },
      "source": [
        "new_files_names = np.hstack([filenames[0:3], filenames[4:8], filenames[9], filenames[12:16], filenames[17:27]])"
      ],
      "execution_count": 0,
      "outputs": []
    },
    {
      "cell_type": "code",
      "metadata": {
        "id": "4Bn2MCC6fN2I",
        "colab_type": "code",
        "colab": {}
      },
      "source": [
        "plt.plot(normal-pigmented)"
      ],
      "execution_count": 0,
      "outputs": []
    },
    {
      "cell_type": "code",
      "metadata": {
        "id": "RGsF6DPXfN2L",
        "colab_type": "code",
        "colab": {}
      },
      "source": [
        "plt.plot(pigmented)"
      ],
      "execution_count": 0,
      "outputs": []
    },
    {
      "cell_type": "code",
      "metadata": {
        "id": "edq64hVRfN2M",
        "colab_type": "code",
        "colab": {}
      },
      "source": [
        "plt.plot(normal)"
      ],
      "execution_count": 0,
      "outputs": []
    },
    {
      "cell_type": "code",
      "metadata": {
        "id": "mKzE4nHQfN2N",
        "colab_type": "code",
        "colab": {}
      },
      "source": [
        "plt.plot(pigmented/normal)"
      ],
      "execution_count": 0,
      "outputs": []
    },
    {
      "cell_type": "code",
      "metadata": {
        "id": "AlBabwzifN2N",
        "colab_type": "code",
        "colab": {}
      },
      "source": [
        "plt.plot((normal - pigmented)/normal)"
      ],
      "execution_count": 0,
      "outputs": []
    },
    {
      "cell_type": "code",
      "metadata": {
        "id": "QgYrZGrXfN2O",
        "colab_type": "code",
        "colab": {}
      },
      "source": [
        "new_files_names"
      ],
      "execution_count": 0,
      "outputs": []
    },
    {
      "cell_type": "code",
      "metadata": {
        "id": "KTrCVmMOfN2P",
        "colab_type": "code",
        "colab": {}
      },
      "source": [
        "plt.imshow(imagesp[12])"
      ],
      "execution_count": 0,
      "outputs": []
    },
    {
      "cell_type": "code",
      "metadata": {
        "id": "ZtyHpfeIfN2Q",
        "colab_type": "code",
        "colab": {}
      },
      "source": [
        ""
      ],
      "execution_count": 0,
      "outputs": []
    },
    {
      "cell_type": "code",
      "metadata": {
        "id": "0-fgJ663fN2U",
        "colab_type": "code",
        "colab": {}
      },
      "source": [
        ""
      ],
      "execution_count": 0,
      "outputs": []
    },
    {
      "cell_type": "markdown",
      "metadata": {
        "id": "AT9oUH6HujIw",
        "colab_type": "text"
      },
      "source": [
        ""
      ]
    }
  ]
}