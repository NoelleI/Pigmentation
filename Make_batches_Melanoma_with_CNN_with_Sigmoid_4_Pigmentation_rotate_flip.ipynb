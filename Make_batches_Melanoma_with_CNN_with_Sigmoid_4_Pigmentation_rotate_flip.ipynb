{
  "nbformat": 4,
  "nbformat_minor": 0,
  "metadata": {
    "colab": {
      "name": "Make_batches_Melanoma_with_CNN_with_Sigmoid_4_Pigmentation_rotate_flip.ipynb",
      "version": "0.3.2",
      "provenance": [],
      "toc_visible": true,
      "include_colab_link": true
    },
    "language_info": {
      "codemirror_mode": {
        "name": "ipython",
        "version": 3
      },
      "file_extension": ".py",
      "mimetype": "text/x-python",
      "name": "python",
      "nbconvert_exporter": "python",
      "pygments_lexer": "ipython3",
      "version": "3.6.8"
    },
    "kernelspec": {
      "display_name": "Python 3",
      "language": "python",
      "name": "python3"
    }
  },
  "cells": [
    {
      "cell_type": "markdown",
      "metadata": {
        "id": "view-in-github",
        "colab_type": "text"
      },
      "source": [
        "<a href=\"https://colab.research.google.com/github/NoelleI/Pigmentation/blob/master/Make_batches_Melanoma_with_CNN_with_Sigmoid_4_Pigmentation_rotate_flip.ipynb\" target=\"_parent\"><img src=\"https://colab.research.google.com/assets/colab-badge.svg\" alt=\"Open In Colab\"/></a>"
      ]
    },
    {
      "cell_type": "markdown",
      "metadata": {
        "colab_type": "text",
        "id": "241BvQNpfNyB"
      },
      "source": [
        "# Generate Folders with Batches in them to upload to Google Drive"
      ]
    },
    {
      "cell_type": "markdown",
      "metadata": {
        "id": "z029eo31tdRR",
        "colab_type": "text"
      },
      "source": [
        "This file splits up the melanoma data into multipke folders so that it can be uploaded to Google drive and successfully mounted in Google Colab."
      ]
    },
    {
      "cell_type": "code",
      "metadata": {
        "colab_type": "code",
        "id": "efKvkEMKfNyD",
        "colab": {}
      },
      "source": [
        "import tensorflow as tf\n",
        "import matplotlib.pyplot as plt\n",
        "import matplotlib.image as mpimg\n",
        "import os\n",
        "import numpy as np\n",
        "%matplotlib inline\n",
        "# First, load the image\n"
      ],
      "execution_count": 0,
      "outputs": []
    },
    {
      "cell_type": "code",
      "metadata": {
        "colab_type": "code",
        "id": "o0fuEbnzfNyJ",
        "outputId": "b73b923f-fe85-4986-aa0c-a3f10d649d7c",
        "colab": {
          "base_uri": "https://localhost:8080/",
          "height": 34
        }
      },
      "source": [
        "pwd"
      ],
      "execution_count": 0,
      "outputs": [
        {
          "output_type": "execute_result",
          "data": {
            "text/plain": [
              "'C:\\\\Users\\\\Admin\\\\Documents\\\\Pigmentation\\\\Pigmentation'"
            ]
          },
          "metadata": {
            "tags": []
          },
          "execution_count": 2
        }
      ]
    },
    {
      "cell_type": "code",
      "metadata": {
        "colab_type": "code",
        "id": "CQ48pRh55Xv7",
        "outputId": "5c94be6f-f6cb-49f1-942b-08b232b17bb5",
        "colab": {
          "base_uri": "https://localhost:8080/",
          "height": 34
        }
      },
      "source": [
        "import scipy\n",
        "scipy.__version__"
      ],
      "execution_count": 0,
      "outputs": [
        {
          "output_type": "execute_result",
          "data": {
            "text/plain": [
              "'1.0.0'"
            ]
          },
          "metadata": {
            "tags": []
          },
          "execution_count": 3
        }
      ]
    },
    {
      "cell_type": "markdown",
      "metadata": {
        "id": "BLH1GOL0tdR0",
        "colab_type": "text"
      },
      "source": [
        "The following cell walks though image files from the melanoma training data set as stored on the local computer. It randomly picks images and their respective segmentation labels and sends them to either training or testing batch folders. "
      ]
    },
    {
      "cell_type": "code",
      "metadata": {
        "colab_type": "code",
        "id": "7C9-o1mCfNym",
        "outputId": "441e734c-de7e-45c9-c5be-d9b59215c167",
        "colab": {
          "base_uri": "https://localhost:8080/",
          "height": 170
        }
      },
      "source": [
        "batch_size = 16\n",
        "test_size = 0.3  #a photo will be randomly assigned to either the training batch or the testing batch\n",
        "\n",
        "\n",
        "#create separate root folders for the batch files\n",
        "filename1 = \"C:\\\\Users\\\\Admin\\\\Documents\\\\Pigmentation\\\\ISIC2018_Task1-2_Training_Input_batches\\\\batch\"\n",
        "filename2 = \"C:\\\\Users\\\\Admin\\\\Documents\\\\Pigmentation\\\\ISIC2018_Task1_Training_GroundTruth_batches\\\\batch\"\n",
        "filename3 = \"C:\\\\Users\\\\Admin\\\\Documents\\\\Pigmentation\\\\ISIC2018_Task1-2_Testing_Input_batches\\\\batch\"\n",
        "filename4 = \"C:\\\\Users\\\\Admin\\\\Documents\\\\Pigmentation\\\\ISIC2018_Task1_Testing_GroundTruth_batches\\\\batch\"\n",
        "\n",
        "\n",
        "\n",
        "\n",
        "from PIL import Image\n",
        "\n",
        "import re\n",
        "from scipy import ndimage,misc\n",
        "#there are 2594 photos\n",
        "\n",
        "\n",
        "i_train = 0  #keeps track of the number of photos sent to training set\n",
        "i_test = 0   #keeps track of number of photos sent to testing set\n",
        "\n",
        "for root, dirnames, filenames in os.walk(\"C:\\\\Users\\\\Admin\\\\Documents\\\\Pigmentation\\\\ISIC2018_Task1-2_Training_Input\"): #\"/content/gdrive/My Drive/ISIC2018_Task1-2_Training_Input/ISIC2018_Task1-2_Training_Input\"):\n",
        "    #walk through all of the files in the root folder\n",
        "    for filename in filenames:\n",
        "        #select the filenames that match the melanoma challenge dataset\n",
        "        if re.search(\"ISIC_\\d*.(jpg|jpeg|png|bmp|tiff)$\", filename):  ##This will retrieve all the images, so needs 2b redone\n",
        "            #find the folder in which the labels for the respective feature photos are stored\n",
        "            label_root = \"C:\\\\Users\\\\Admin\\\\Documents\\\\Pigmentation\\\\ISIC2018_Task1_Training_GroundTruth\"\n",
        "            \n",
        "            #find the path for the feature photo\n",
        "            filepath = os.path.join(root, filename)\n",
        "            #find the filepath and name for the corresponding label\n",
        "            filename_label = filename[:-4] + \"_segmentation.png\"\n",
        "            filepath_label = os.path.join(label_root, filename_label)\n",
        "            \n",
        "            #create the names to save the flipped and rotated pictures and segmentation labels\n",
        "            filename_flip = filename[:-4] + \"f.jpg\"\n",
        "            filename_rot = filename[:-4] + \"r.jpg\"\n",
        "            filename_label_flip = filename[:-4] + \"f_segmentation.png\"\n",
        "            filename_label_rot = filename[:-4] + \"r_segmentation.png\"\n",
        "            \n",
        "            if np.random.random() > 0.3:\n",
        "                j = np.int(i_train/batch_size)\n",
        "                fldrname = filename1 + str(j) + \"\\\\\" \n",
        "                fldrname_label = filename2 + str(j) + \"\\\\\"\n",
        "                i_train += 1\n",
        "            else:\n",
        "                j = np.int(i_test/batch_size)\n",
        "                fldrname = filename3 + str(j) + \"\\\\\" \n",
        "                fldrname_label = filename4 + str(j) + \"\\\\\"\n",
        "                i_test +=1\n",
        "            \n",
        "            #read the image and label\n",
        "            fname = fldrname + filename\n",
        "            fname_label = fldrname_label + filename_label\n",
        "            image = ndimage.imread(filepath, mode=\"RGB\")\n",
        "            seg = ndimage.imread(filepath_label, mode=\"L\")\n",
        "            \n",
        "            \n",
        "            #create the filenames for storing the rotated and flipped files\n",
        "            fnamef = fldrname + filename_flip\n",
        "            fname_labelf = fldrname_label + filename_label_flip\n",
        "            fnamer = fldrname + filename_rot\n",
        "            fname_labelr = fldrname_label + filename_label_rot\n",
        "        \n",
        "            \n",
        "            #resize the image and label\n",
        "            image_resized = misc.imresize(image, (96,128,3))  #redo this size or re-size later in Tensorflow ->STORE resized images later\n",
        "            seg_resized = misc.imresize(seg, (96,128,1))  #redo this size or re-size later in Tensorflow\n",
        "            \n",
        "            #save the image \n",
        "            image_resized = Image.fromarray(image_resized)\n",
        "            os.makedirs(os.path.dirname(fldrname), exist_ok=True)\n",
        "            image_resized.save(fname)\n",
        "            \n",
        "            #save the label\n",
        "            seg_resized = Image.fromarray(seg_resized)\n",
        "            os.makedirs(os.path.dirname(fldrname_label), exist_ok=True)\n",
        "            seg_resized.save(fname_label)\n",
        "           \n",
        "            #flip the image and save\n",
        "            flip_ud_image = np.flipud(image_resized)\n",
        "            flip_ud_image = Image.fromarray(flip_ud_image)\n",
        "            flip_ud_image.save(fnamef)\n",
        "            \n",
        "           \n",
        "            #rotate the image and save\n",
        "            rotate_image = ndimage.rotate(image, 45)\n",
        "            rotate_image = misc.imresize(rotate_image, (96,128,3))  #the rotated image needs to be resized to stay consistent\n",
        "            rotate_image = Image.fromarray(rotate_image)\n",
        "            rotate_image.save(fnamer)\n",
        "            \n",
        "            #flip the label and save\n",
        "            flip_ud_seg = np.flipud(seg_resized)\n",
        "            flip_ud_seg = Image.fromarray(flip_ud_seg)\n",
        "            flip_ud_seg.save(fname_labelf)\n",
        "            \n",
        "           \n",
        "            #rotate the label and save\n",
        "            rotate_seg = ndimage.rotate(seg, 45)\n",
        "            rotate_seg = misc.imresize(rotate_seg, (96,128,3))  #the rotated image needs to be resized to stay consistent\n",
        "            rotate_seg = Image.fromarray(rotate_seg)\n",
        "            rotate_seg.save(fname_labelr)\n",
        "           \n",
        "           "
      ],
      "execution_count": 0,
      "outputs": [
        {
          "output_type": "stream",
          "text": [
            "C:\\Users\\Admin\\Anaconda2\\lib\\site-packages\\ipykernel_launcher.py:58: DeprecationWarning: `imread` is deprecated!\n",
            "`imread` is deprecated in SciPy 1.0.0.\n",
            "Use ``matplotlib.pyplot.imread`` instead.\n",
            "C:\\Users\\Admin\\Anaconda2\\lib\\site-packages\\ipykernel_launcher.py:59: DeprecationWarning: `imread` is deprecated!\n",
            "`imread` is deprecated in SciPy 1.0.0.\n",
            "Use ``matplotlib.pyplot.imread`` instead.\n",
            "C:\\Users\\Admin\\Anaconda2\\lib\\site-packages\\ipykernel_launcher.py:70: DeprecationWarning: `imresize` is deprecated!\n",
            "`imresize` is deprecated in SciPy 1.0.0, and will be removed in 1.2.0.\n",
            "Use ``skimage.transform.resize`` instead.\n",
            "C:\\Users\\Admin\\Anaconda2\\lib\\site-packages\\ipykernel_launcher.py:71: DeprecationWarning: `imresize` is deprecated!\n",
            "`imresize` is deprecated in SciPy 1.0.0, and will be removed in 1.2.0.\n",
            "Use ``skimage.transform.resize`` instead.\n",
            "C:\\Users\\Admin\\Anaconda2\\lib\\site-packages\\ipykernel_launcher.py:91: DeprecationWarning: `imresize` is deprecated!\n",
            "`imresize` is deprecated in SciPy 1.0.0, and will be removed in 1.2.0.\n",
            "Use ``skimage.transform.resize`` instead.\n",
            "C:\\Users\\Admin\\Anaconda2\\lib\\site-packages\\ipykernel_launcher.py:103: DeprecationWarning: `imresize` is deprecated!\n",
            "`imresize` is deprecated in SciPy 1.0.0, and will be removed in 1.2.0.\n",
            "Use ``skimage.transform.resize`` instead.\n"
          ],
          "name": "stderr"
        }
      ]
    },
    {
      "cell_type": "code",
      "metadata": {
        "id": "lbOpEroCtdR5",
        "colab_type": "code",
        "colab": {}
      },
      "source": [
        ""
      ],
      "execution_count": 0,
      "outputs": []
    },
    {
      "cell_type": "code",
      "metadata": {
        "id": "ijTCgBi_tdR8",
        "colab_type": "code",
        "colab": {}
      },
      "source": [
        "\n",
        "\n",
        "\n",
        "\n",
        "\n",
        "\n",
        "\n",
        "\n",
        "\n",
        "\n",
        "\n",
        "\n",
        "\n",
        "\n",
        "\n",
        "\n",
        "\n",
        "\n",
        "\n",
        "\n",
        "\n",
        "\n",
        "\n",
        "\n",
        "\n",
        "\n",
        "\n",
        "\n",
        "\n",
        "\n",
        "\n",
        "\n",
        "\n",
        "\n",
        "\n",
        "\n",
        "\n"
      ],
      "execution_count": 0,
      "outputs": []
    }
  ]
}