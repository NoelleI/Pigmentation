{
  "nbformat": 4,
  "nbformat_minor": 0,
  "metadata": {
    "colab": {
      "name": "01-Melanoma-with-CNN-with-Sigmoid-4-Pigmentation-rotate-flip.ipynb",
      "version": "0.3.2",
      "provenance": []
    },
    "language_info": {
      "codemirror_mode": {
        "name": "ipython",
        "version": 3
      },
      "file_extension": ".py",
      "mimetype": "text/x-python",
      "name": "python",
      "nbconvert_exporter": "python",
      "pygments_lexer": "ipython3",
      "version": "3.5.4"
    },
    "kernelspec": {
      "display_name": "Python 3",
      "language": "python",
      "name": "python3"
    }
  },
  "cells": [
    {
      "cell_type": "markdown",
      "metadata": {
        "id": "241BvQNpfNyB",
        "colab_type": "text"
      },
      "source": [
        "# Melanoma with CNN"
      ]
    },
    {
      "cell_type": "markdown",
      "metadata": {
        "id": "HPubA4t4fNyC",
        "colab_type": "text"
      },
      "source": [
        "This includes the segmentation results with augmentation of the dataset"
      ]
    },
    {
      "cell_type": "code",
      "metadata": {
        "id": "efKvkEMKfNyD",
        "colab_type": "code",
        "colab": {
          "base_uri": "https://localhost:8080/",
          "height": 350
        },
        "outputId": "89c67760-29bb-4c93-8f8d-9b2476f2f22e"
      },
      "source": [
        "import tensorflow as tf\n",
        "import matplotlib\n",
        "import matplotlib.image as mpimg\n",
        "import os\n",
        "%matplotlib inline\n",
        "# First, load the image\n",
        "#dir_path = os.path.dirname(os.path.realpath(__file__))\n",
        "filename = \"./pigmentation.png\"\n",
        "\n",
        "# Load the image\n",
        "pigment_image = mpimg.imread(filename)\n",
        "\n",
        "# Print out its shape\n",
        "print(pigment_image.shape)\n"
      ],
      "execution_count": 1,
      "outputs": [
        {
          "output_type": "error",
          "ename": "FileNotFoundError",
          "evalue": "ignored",
          "traceback": [
            "\u001b[0;31m---------------------------------------------------------------------------\u001b[0m",
            "\u001b[0;31mFileNotFoundError\u001b[0m                         Traceback (most recent call last)",
            "\u001b[0;32m<ipython-input-1-bc13fe77b625>\u001b[0m in \u001b[0;36m<module>\u001b[0;34m()\u001b[0m\n\u001b[1;32m      9\u001b[0m \u001b[0;34m\u001b[0m\u001b[0m\n\u001b[1;32m     10\u001b[0m \u001b[0;31m# Load the image\u001b[0m\u001b[0;34m\u001b[0m\u001b[0;34m\u001b[0m\u001b[0;34m\u001b[0m\u001b[0m\n\u001b[0;32m---> 11\u001b[0;31m \u001b[0mpigment_image\u001b[0m \u001b[0;34m=\u001b[0m \u001b[0mmpimg\u001b[0m\u001b[0;34m.\u001b[0m\u001b[0mimread\u001b[0m\u001b[0;34m(\u001b[0m\u001b[0mfilename\u001b[0m\u001b[0;34m)\u001b[0m\u001b[0;34m\u001b[0m\u001b[0;34m\u001b[0m\u001b[0m\n\u001b[0m\u001b[1;32m     12\u001b[0m \u001b[0;34m\u001b[0m\u001b[0m\n\u001b[1;32m     13\u001b[0m \u001b[0;31m# Print out its shape\u001b[0m\u001b[0;34m\u001b[0m\u001b[0;34m\u001b[0m\u001b[0;34m\u001b[0m\u001b[0m\n",
            "\u001b[0;32m/usr/local/lib/python3.6/dist-packages/matplotlib/image.py\u001b[0m in \u001b[0;36mimread\u001b[0;34m(fname, format)\u001b[0m\n\u001b[1;32m   1364\u001b[0m             \u001b[0;32mreturn\u001b[0m \u001b[0mhandler\u001b[0m\u001b[0;34m(\u001b[0m\u001b[0mfd\u001b[0m\u001b[0;34m)\u001b[0m\u001b[0;34m\u001b[0m\u001b[0;34m\u001b[0m\u001b[0m\n\u001b[1;32m   1365\u001b[0m         \u001b[0;32melse\u001b[0m\u001b[0;34m:\u001b[0m\u001b[0;34m\u001b[0m\u001b[0;34m\u001b[0m\u001b[0m\n\u001b[0;32m-> 1366\u001b[0;31m             \u001b[0;32mwith\u001b[0m \u001b[0mopen\u001b[0m\u001b[0;34m(\u001b[0m\u001b[0mfname\u001b[0m\u001b[0;34m,\u001b[0m \u001b[0;34m'rb'\u001b[0m\u001b[0;34m)\u001b[0m \u001b[0;32mas\u001b[0m \u001b[0mfd\u001b[0m\u001b[0;34m:\u001b[0m\u001b[0;34m\u001b[0m\u001b[0;34m\u001b[0m\u001b[0m\n\u001b[0m\u001b[1;32m   1367\u001b[0m                 \u001b[0;32mreturn\u001b[0m \u001b[0mhandler\u001b[0m\u001b[0;34m(\u001b[0m\u001b[0mfd\u001b[0m\u001b[0;34m)\u001b[0m\u001b[0;34m\u001b[0m\u001b[0;34m\u001b[0m\u001b[0m\n\u001b[1;32m   1368\u001b[0m     \u001b[0;32melse\u001b[0m\u001b[0;34m:\u001b[0m\u001b[0;34m\u001b[0m\u001b[0;34m\u001b[0m\u001b[0m\n",
            "\u001b[0;31mFileNotFoundError\u001b[0m: [Errno 2] No such file or directory: './pigmentation.png'"
          ]
        }
      ]
    },
    {
      "cell_type": "code",
      "metadata": {
        "id": "o0fuEbnzfNyJ",
        "colab_type": "code",
        "colab": {
          "base_uri": "https://localhost:8080/",
          "height": 34
        },
        "outputId": "5bb29cf6-cc99-44b4-cc63-f62b2211c660"
      },
      "source": [
        "pwd"
      ],
      "execution_count": 2,
      "outputs": [
        {
          "output_type": "execute_result",
          "data": {
            "text/plain": [
              "'/content'"
            ]
          },
          "metadata": {
            "tags": []
          },
          "execution_count": 2
        }
      ]
    },
    {
      "cell_type": "code",
      "metadata": {
        "id": "8r-Pb0MCfNyM",
        "colab_type": "code",
        "colab": {},
        "outputId": "94c813fa-60b9-4c8f-a5bd-16abf985824e"
      },
      "source": [
        "import matplotlib.pyplot as plt\n",
        "plt.imshow(pigment_image)\n",
        "plt.show()"
      ],
      "execution_count": 0,
      "outputs": [
        {
          "output_type": "display_data",
          "data": {
            "image/png": "[encoded data removed]",
            "text/plain": [
              "<matplotlib.figure.Figure at 0x20e70aa97b8>"
            ]
          },
          "metadata": {
            "tags": []
          }
        }
      ]
    },
    {
      "cell_type": "code",
      "metadata": {
        "id": "XRiNFY6gfNyP",
        "colab_type": "code",
        "colab": {},
        "outputId": "e85ac152-bfa8-453e-a8da-e2d7570fd2e6"
      },
      "source": [
        "pigment_image.shape"
      ],
      "execution_count": 0,
      "outputs": [
        {
          "output_type": "execute_result",
          "data": {
            "text/plain": [
              "(689, 898, 3)"
            ]
          },
          "metadata": {
            "tags": []
          },
          "execution_count": 4
        }
      ]
    },
    {
      "cell_type": "code",
      "metadata": {
        "id": "V1ccZ5owfNyR",
        "colab_type": "code",
        "colab": {}
      },
      "source": [
        "from scipy import ndimage, misc\n",
        "pigment_image_resized = misc.imresize(pigment_image, (96,128,3))"
      ],
      "execution_count": 0,
      "outputs": []
    },
    {
      "cell_type": "code",
      "metadata": {
        "id": "MqpbxiAQfNyT",
        "colab_type": "code",
        "colab": {}
      },
      "source": [
        "##note: in order to discern the melanin content, it will be necessary to understand how this resizing algorithm works: does it take a maximum value? What does it use?"
      ],
      "execution_count": 0,
      "outputs": []
    },
    {
      "cell_type": "code",
      "metadata": {
        "id": "vDWN9Rp5fNyV",
        "colab_type": "code",
        "colab": {},
        "outputId": "6fd34bf9-f0f5-4918-85b9-3857059b8b4f"
      },
      "source": [
        "plt.imshow(pigment_image_resized)\n",
        "plt.show()"
      ],
      "execution_count": 0,
      "outputs": [
        {
          "output_type": "display_data",
          "data": {
            "image/png": "[encoded data removed]",
            "text/plain": [
              "<matplotlib.figure.Figure at 0x20e70aa9828>"
            ]
          },
          "metadata": {
            "tags": []
          }
        }
      ]
    },
    {
      "cell_type": "code",
      "metadata": {
        "id": "u8c0wI8hfNyX",
        "colab_type": "code",
        "colab": {},
        "outputId": "53bb37bc-9798-4e1d-cf77-3b3424228786"
      },
      "source": [
        "type(pigment_image)"
      ],
      "execution_count": 0,
      "outputs": [
        {
          "output_type": "execute_result",
          "data": {
            "text/plain": [
              "numpy.ndarray"
            ]
          },
          "metadata": {
            "tags": []
          },
          "execution_count": 8
        }
      ]
    },
    {
      "cell_type": "code",
      "metadata": {
        "id": "_gV5JVt3fNya",
        "colab_type": "code",
        "colab": {}
      },
      "source": [
        "import numpy as np\n",
        "pigment_image_show = pigment_image_resized\n",
        "pigment_image_resized = np.reshape(pigment_image_resized, [1,96,128,3])"
      ],
      "execution_count": 0,
      "outputs": []
    },
    {
      "cell_type": "code",
      "metadata": {
        "id": "CLb2SmFqfNyc",
        "colab_type": "code",
        "colab": {}
      },
      "source": [
        "from scipy import ndimage, misc\n",
        "import re\n",
        "#get pigmentation photos\n",
        "pigs = []\n",
        "for root, dirnames, filenames in os.walk(\"C:/Users/Admin/Documents/Skin Depth/Tensorflow-Bootcamp-master/03-Convolutional-Neural-Networks/Pigmentation_photos\"): \n",
        "    for filename in filenames:\n",
        "        if re.search('d*.PNG', filename):\n",
        "            filepath = os.path.join(root, filename)\n",
        "            pig = ndimage.imread(filepath)\n",
        "            pig_resized = misc.imresize(pig, (96,128,3))  #redo this size or re-size later in Tensorflow\n",
        "            pigs.append(pig_resized)\n",
        "            #filename = filename.split(\".\")\n",
        "            #name = filename[0] + \"2.\" + filename[1]\n",
        "            #print(name)\n",
        "            \n",
        "            #new_path = os.path.join(root, name)\n",
        "            #f = open(new_path, 'w+b')\n",
        "            #misc.imsave(new_path, seg_resized)\n",
        "            #os.remove(filepath)\n",
        "            #f.close()\n",
        "pigs = np.array(pigs)"
      ],
      "execution_count": 0,
      "outputs": []
    },
    {
      "cell_type": "code",
      "metadata": {
        "id": "16YjyKn5fNye",
        "colab_type": "code",
        "colab": {},
        "outputId": "84ea15d2-726b-456b-8165-64f734251613"
      },
      "source": [
        "filenames"
      ],
      "execution_count": 0,
      "outputs": [
        {
          "output_type": "execute_result",
          "data": {
            "text/plain": [
              "['0-0--09-22-pm.PNG',\n",
              " '1-1--09-23-am.PNG',\n",
              " '10--09-30-pm.PNG',\n",
              " '11--10-02-pm.PNG',\n",
              " '12--10-04-pm.PNG',\n",
              " '13--10-06-am.PNG',\n",
              " '14--10-10-am.PNG',\n",
              " '15--10-11-pm.PNG',\n",
              " '16--10-12-pm.PNG',\n",
              " '17--10-13-am.PNG',\n",
              " '18--10-14-am.PNG',\n",
              " '19--10-16-pm.PNG',\n",
              " '2--09-23-pm.PNG',\n",
              " '20--10-18-pm.PNG',\n",
              " '21--10-120-pm.PNG',\n",
              " '22--10-25-am.PNG',\n",
              " '23--10-28-pm.PNG',\n",
              " '24--11-04-am.PNG',\n",
              " '25--11-06-pm.PNG',\n",
              " '26--11-10-am.PNG',\n",
              " '27--11-11-pm.PNG',\n",
              " '3--09-25-am.PNG',\n",
              " '4--09-25-pm.PNG',\n",
              " '5--09-27-pm.PNG',\n",
              " '6--09-28-am.PNG',\n",
              " '7--09-28-pm.PNG',\n",
              " '8--09-29-am.PNG',\n",
              " '9--09-29-pm.PNG',\n",
              " 'Poohbert2.pem']"
            ]
          },
          "metadata": {
            "tags": []
          },
          "execution_count": 11
        }
      ]
    },
    {
      "cell_type": "code",
      "metadata": {
        "id": "jtuGqdGLfNyh",
        "colab_type": "code",
        "colab": {},
        "outputId": "4da47b45-cc57-480a-c0b2-4c7bfdd4883b"
      },
      "source": [
        "plt.imshow(pigs[0])\n"
      ],
      "execution_count": 0,
      "outputs": [
        {
          "output_type": "execute_result",
          "data": {
            "text/plain": [
              "<matplotlib.image.AxesImage at 0x20e71de9b38>"
            ]
          },
          "metadata": {
            "tags": []
          },
          "execution_count": 12
        },
        {
          "output_type": "display_data",
          "data": {
            "image/png": "[encoded data removed]",
            "text/plain": [
              "<matplotlib.figure.Figure at 0x20e71c6dd30>"
            ]
          },
          "metadata": {
            "tags": []
          }
        }
      ]
    },
    {
      "cell_type": "code",
      "metadata": {
        "id": "Pw0kvHibfNyk",
        "colab_type": "code",
        "colab": {}
      },
      "source": [
        ""
      ],
      "execution_count": 0,
      "outputs": []
    },
    {
      "cell_type": "code",
      "metadata": {
        "id": "7C9-o1mCfNym",
        "colab_type": "code",
        "colab": {}
      },
      "source": [
        "\n",
        "images = []\n",
        "for root, dirnames, filenames in os.walk(\"C:/Users/Admin/Documents/Skin Depth/Leads and Projects/Melanoma Challenge/2018/ISIC2018_Task1-2_Training_Input/ISIC2018_Task1-2_Training_Input\"):\n",
        "    #print(root)\n",
        "    for filename in filenames:\n",
        "        if re.search(\"ISIC_\\d*final_size2.(jpg|jpeg|png|bmp|tiff)$\", filename):  ##This will retrieve all the images, so needs 2b redone\n",
        "            filepath = os.path.join(root, filename)\n",
        "            image = ndimage.imread(filepath, mode=\"RGB\")\n",
        "            #image_resized = misc.imresize(image, (96,128,3))  #redo this size or re-size later in Tensorflow ->STORE resized images later\n",
        "            images.append(image)\n",
        "            flip_ud_image = np.flipud(image)\n",
        "            images.append(flip_ud_image)\n",
        "            rotate_image = ndimage.rotate(image, 45)\n",
        "            rotate_image = misc.imresize(rotate_image, (96,128,3))\n",
        "            images.append(rotate_image)\n",
        "            #filename = filename.split(\".\")\n",
        "            #name = filename[0] + \"2.\" + filename[1]\n",
        "            #print(name)\n",
        "            \n",
        "            #new_path = os.path.join(root, name)\n",
        "            #f = open(new_path, 'w+b')\n",
        "            #misc.imsave(new_path, image_resized)\n",
        "            #f.close()\n",
        "images = np.array(images)"
      ],
      "execution_count": 0,
      "outputs": []
    },
    {
      "cell_type": "code",
      "metadata": {
        "id": "YHX6zN6QfNyp",
        "colab_type": "code",
        "colab": {},
        "outputId": "2aae3507-3b72-4bcc-f7b7-33dcff20c10e"
      },
      "source": [
        "image = images[2593,:,:,:]\n",
        "rotate_image = ndimage.rotate(image, 45)\n",
        "rotate_image = misc.imresize(rotate_image, (96,128,3))\n",
        "plt.imshow(rotate_image)\n",
        "plt.show()"
      ],
      "execution_count": 0,
      "outputs": [
        {
          "output_type": "display_data",
          "data": {
            "image/png": "[encoded data removed]",
            "text/plain": [
              "<matplotlib.figure.Figure at 0x20e71e04f28>"
            ]
          },
          "metadata": {
            "tags": []
          }
        }
      ]
    },
    {
      "cell_type": "code",
      "metadata": {
        "id": "uYzSsGfJfNyr",
        "colab_type": "code",
        "colab": {},
        "outputId": "128ac544-2390-4eb4-9b36-6ebba6bc5c7d"
      },
      "source": [
        "images.shape\n",
        "                       \n"
      ],
      "execution_count": 0,
      "outputs": [
        {
          "output_type": "execute_result",
          "data": {
            "text/plain": [
              "(7782, 96, 128, 3)"
            ]
          },
          "metadata": {
            "tags": []
          },
          "execution_count": 15
        }
      ]
    },
    {
      "cell_type": "code",
      "metadata": {
        "scrolled": true,
        "id": "L4oVdioPfNyu",
        "colab_type": "code",
        "colab": {},
        "outputId": "5157b41f-e659-4488-c979-9e2f69bedfcb"
      },
      "source": [
        "image = images[2593,:,:,:]\n",
        "plt.imshow(image)\n",
        "plt.show()"
      ],
      "execution_count": 0,
      "outputs": [
        {
          "output_type": "display_data",
          "data": {
            "image/png": "[encoded data removed]",
            "text/plain": [
              "<matplotlib.figure.Figure at 0x20e71e66d30>"
            ]
          },
          "metadata": {
            "tags": []
          }
        }
      ]
    },
    {
      "cell_type": "code",
      "metadata": {
        "id": "ua4HcGj1fNyx",
        "colab_type": "code",
        "colab": {},
        "outputId": "de6646de-0ff7-4cfe-aa45-8a5007aba74e"
      },
      "source": [
        "filepath"
      ],
      "execution_count": 0,
      "outputs": [
        {
          "output_type": "execute_result",
          "data": {
            "text/plain": [
              "'C:/Users/Admin/Documents/Skin Depth/Leads and Projects/Melanoma Challenge/2018/ISIC2018_Task1-2_Training_Input/ISIC2018_Task1-2_Training_Input\\\\ISIC_0016072final_size2.jpg'"
            ]
          },
          "metadata": {
            "tags": []
          },
          "execution_count": 17
        }
      ]
    },
    {
      "cell_type": "code",
      "metadata": {
        "id": "1TzfHJAQfNy3",
        "colab_type": "code",
        "colab": {},
        "outputId": "daeb4da3-d9a0-4c67-edf5-8dd0c91b9ac9"
      },
      "source": [
        "image.shape"
      ],
      "execution_count": 0,
      "outputs": [
        {
          "output_type": "execute_result",
          "data": {
            "text/plain": [
              "(96, 128, 3)"
            ]
          },
          "metadata": {
            "tags": []
          },
          "execution_count": 18
        }
      ]
    },
    {
      "cell_type": "code",
      "metadata": {
        "id": "gVkIYE05fNy6",
        "colab_type": "code",
        "colab": {},
        "outputId": "646c88f7-7d10-4853-f9c0-de38b5e9e13b"
      },
      "source": [
        "image = image = ndimage.imread(filepath, mode=\"RGB\")\n",
        "plt.imshow(image)\n",
        "plt.show()"
      ],
      "execution_count": 0,
      "outputs": [
        {
          "output_type": "display_data",
          "data": {
            "image/png": "[encoded data removed]",
            "text/plain": [
              "<matplotlib.figure.Figure at 0x20e71e7d2e8>"
            ]
          },
          "metadata": {
            "tags": []
          }
        }
      ]
    },
    {
      "cell_type": "code",
      "metadata": {
        "id": "-U-RUbxEfNy9",
        "colab_type": "code",
        "colab": {}
      },
      "source": [
        "#C:/Users\\Admin\\Documents\\Skin Depth\\Leads and Projects\\Melanoma Challenge\\2018\\ISIC2018_Task1_Training_GroundTruth\\ISIC2018_Task1_Training_GroundTruth\n",
        "segs = []\n",
        "for root, dirnames, filenames in os.walk(\"C:/Users/Admin/Documents/Skin Depth/Leads and Projects/Melanoma Challenge/2018/ISIC2018_Task1_Training_GroundTruth/ISIC2018_Task1_Training_GroundTruth\"): \n",
        "    for filename in filenames:\n",
        "        if re.search(\"\\w*final_size2.(jpg|jpeg|png|bmp|tiff)$\", filename):\n",
        "            filepath = os.path.join(root, filename)\n",
        "            seg = ndimage.imread(filepath, mode=\"L\")\n",
        "            seg_resized = misc.imresize(seg, (96,128,1))  #redo this size or re-size later in Tensorflow\n",
        "            segs.append(seg)\n",
        "            flip_ud_seg = np.flipud(seg)\n",
        "            segs.append(flip_ud_seg)\n",
        "            rotate_seg = ndimage.rotate(seg, 45)\n",
        "            rotate_seg = misc.imresize(rotate_seg, (96,128,3))\n",
        "            segs.append(rotate_seg)\n",
        "            #filename = filename.split(\".\")\n",
        "            #name = filename[0] + \"2.\" + filename[1]\n",
        "            #print(name)\n",
        "            \n",
        "            #new_path = os.path.join(root, name)\n",
        "            #f = open(new_path, 'w+b')\n",
        "            #misc.imsave(new_path, seg_resized)\n",
        "            #os.remove(filepath)\n",
        "            #f.close()\n",
        "segs = np.array(segs)\n"
      ],
      "execution_count": 0,
      "outputs": []
    },
    {
      "cell_type": "code",
      "metadata": {
        "id": "Yam-tyDLfNy_",
        "colab_type": "code",
        "colab": {},
        "outputId": "a72a1333-29aa-476d-ac98-dce0e8c0beb0"
      },
      "source": [
        "filenames\n"
      ],
      "execution_count": 0,
      "outputs": [
        {
          "output_type": "execute_result",
          "data": {
            "text/plain": [
              "['ATTRIBUTION.txt',\n",
              " 'ISIC_0000000_segmentation.png',\n",
              " 'ISIC_0000000_segmentationfinal_size.png',\n",
              " 'ISIC_0000000_segmentationreduced.png',\n",
              " 'ISIC_0000000_segmentation_final_size.png',\n",
              " 'ISIC_0000000_segmentation_final_size2.png',\n",
              " 'ISIC_0000001_segmentation.png',\n",
              " 'ISIC_0000001_segmentationfinal_size.png',\n",
              " 'ISIC_0000001_segmentationreduced.png',\n",
              " 'ISIC_0000001_segmentation_final_size.png',\n",
              " 'ISIC_0000001_segmentation_final_size2.png',\n",
              " 'ISIC_0000003_segmentation.png',\n",
              " 'ISIC_0000003_segmentationfinal_size.png',\n",
              " 'ISIC_0000003_segmentationreduced.png',\n",
              " 'ISIC_0000003_segmentation_final_size.png',\n",
              " 'ISIC_0000003_segmentation_final_size2.png',\n",
              " 'ISIC_0000004_segmentation.png',\n",
              " 'ISIC_0000004_segmentationfinal_size.png',\n",
              " 'ISIC_0000004_segmentationreduced.png',\n",
              " 'ISIC_0000004_segmentation_final_size.png',\n",
              " 'ISIC_0000004_segmentation_final_size2.png',\n",
              " 'ISIC_0000006_segmentation.png',\n",
              " 'ISIC_0000006_segmentationfinal_size.png',\n",
              " 'ISIC_0000006_segmentationreduced.png',\n",
              " 'ISIC_0000006_segmentation_final_size.png',\n",
              " 'ISIC_0000006_segmentation_final_size2.png',\n",
              " 'ISIC_0000007_segmentation.png',\n",
              " 'ISIC_0000007_segmentationfinal_size.png',\n",
              " 'ISIC_0000007_segmentationreduced.png',\n",
              " 'ISIC_0000007_segmentation_final_size.png',\n",
              " 'ISIC_0000007_segmentation_final_size2.png',\n",
              " 'ISIC_0000008_segmentation.png',\n",
              " 'ISIC_0000008_segmentationfinal_size.png',\n",
              " 'ISIC_0000008_segmentationreduced.png',\n",
              " 'ISIC_0000008_segmentation_final_size.png',\n",
              " 'ISIC_0000008_segmentation_final_size2.png',\n",
              " 'ISIC_0000009_segmentation.png',\n",
              " 'ISIC_0000009_segmentationfinal_size.png',\n",
              " 'ISIC_0000009_segmentationreduced.png',\n",
              " 'ISIC_0000009_segmentation_final_size.png',\n",
              " 'ISIC_0000009_segmentation_final_size2.png',\n",
              " 'ISIC_0000011_segmentation.png',\n",
              " 'ISIC_0000011_segmentationfinal_size.png',\n",
              " 'ISIC_0000011_segmentationreduced.png',\n",
              " 'ISIC_0000011_segmentation_final_size.png',\n",
              " 'ISIC_0000011_segmentation_final_size2.png',\n",
              " 'ISIC_0000012_segmentation.png',\n",
              " 'ISIC_0000012_segmentationfinal_size.png',\n",
              " 'ISIC_0000012_segmentationreduced.png',\n",
              " 'ISIC_0000012_segmentation_final_size.png',\n",
              " 'ISIC_0000012_segmentation_final_size2.png',\n",
              " 'ISIC_0000013_segmentation.png',\n",
              " 'ISIC_0000013_segmentationfinal_size.png',\n",
              " 'ISIC_0000013_segmentationreduced.png',\n",
              " 'ISIC_0000013_segmentation_final_size.png',\n",
              " 'ISIC_0000013_segmentation_final_size2.png',\n",
              " 'ISIC_0000014_segmentation.png',\n",
              " 'ISIC_0000014_segmentationfinal_size.png',\n",
              " 'ISIC_0000014_segmentationreduced.png',\n",
              " 'ISIC_0000014_segmentation_final_size.png',\n",
              " 'ISIC_0000014_segmentation_final_size2.png',\n",
              " 'ISIC_0000015_segmentation.png',\n",
              " 'ISIC_0000015_segmentationfinal_size.png',\n",
              " 'ISIC_0000015_segmentationreduced.png',\n",
              " 'ISIC_0000015_segmentation_final_size.png',\n",
              " 'ISIC_0000015_segmentation_final_size2.png',\n",
              " 'ISIC_0000016_segmentation.png',\n",
              " 'ISIC_0000016_segmentationfinal_size.png',\n",
              " 'ISIC_0000016_segmentationreduced.png',\n",
              " 'ISIC_0000016_segmentation_final_size.png',\n",
              " 'ISIC_0000016_segmentation_final_size2.png',\n",
              " 'ISIC_0000017_segmentation.png',\n",
              " 'ISIC_0000017_segmentationfinal_size.png',\n",
              " 'ISIC_0000017_segmentationreduced.png',\n",
              " 'ISIC_0000017_segmentation_final_size.png',\n",
              " 'ISIC_0000017_segmentation_final_size2.png',\n",
              " 'ISIC_0000018_segmentation.png',\n",
              " 'ISIC_0000018_segmentationfinal_size.png',\n",
              " 'ISIC_0000018_segmentationreduced.png',\n",
              " 'ISIC_0000018_segmentation_final_size.png',\n",
              " 'ISIC_0000018_segmentation_final_size2.png',\n",
              " 'ISIC_0000019_segmentation.png',\n",
              " 'ISIC_0000019_segmentationfinal_size.png',\n",
              " 'ISIC_0000019_segmentationreduced.png',\n",
              " 'ISIC_0000019_segmentation_final_size.png',\n",
              " 'ISIC_0000019_segmentation_final_size2.png',\n",
              " 'ISIC_0000020_segmentation.png',\n",
              " 'ISIC_0000020_segmentationfinal_size.png',\n",
              " 'ISIC_0000020_segmentationreduced.png',\n",
              " 'ISIC_0000020_segmentation_final_size.png',\n",
              " 'ISIC_0000020_segmentation_final_size2.png',\n",
              " 'ISIC_0000021_segmentation.png',\n",
              " 'ISIC_0000021_segmentationfinal_size.png',\n",
              " 'ISIC_0000021_segmentationreduced.png',\n",
              " 'ISIC_0000021_segmentation_final_size.png',\n",
              " 'ISIC_0000021_segmentation_final_size2.png',\n",
              " 'ISIC_0000022_segmentation.png',\n",
              " 'ISIC_0000022_segmentationfinal_size.png',\n",
              " 'ISIC_0000022_segmentationreduced.png',\n",
              " 'ISIC_0000022_segmentation_final_size.png',\n",
              " 'ISIC_0000022_segmentation_final_size2.png',\n",
              " 'ISIC_0000023_segmentation.png',\n",
              " 'ISIC_0000023_segmentationfinal_size.png',\n",
              " 'ISIC_0000023_segmentationreduced.png',\n",
              " 'ISIC_0000023_segmentation_final_size.png',\n",
              " 'ISIC_0000023_segmentation_final_size2.png',\n",
              " 'ISIC_0000024_segmentation.png',\n",
              " 'ISIC_0000024_segmentationfinal_size.png',\n",
              " 'ISIC_0000024_segmentationreduced.png',\n",
              " 'ISIC_0000024_segmentation_final_size.png',\n",
              " 'ISIC_0000024_segmentation_final_size2.png',\n",
              " 'ISIC_0000025_segmentation.png',\n",
              " 'ISIC_0000025_segmentationfinal_size.png',\n",
              " 'ISIC_0000025_segmentationreduced.png',\n",
              " 'ISIC_0000025_segmentation_final_size.png',\n",
              " 'ISIC_0000025_segmentation_final_size2.png',\n",
              " 'ISIC_0000026_segmentation.png',\n",
              " 'ISIC_0000026_segmentationfinal_size.png',\n",
              " 'ISIC_0000026_segmentationreduced.png',\n",
              " 'ISIC_0000026_segmentation_final_size.png',\n",
              " 'ISIC_0000026_segmentation_final_size2.png',\n",
              " 'ISIC_0000027_segmentation.png',\n",
              " 'ISIC_0000027_segmentationfinal_size.png',\n",
              " 'ISIC_0000027_segmentationreduced.png',\n",
              " 'ISIC_0000027_segmentation_final_size.png',\n",
              " 'ISIC_0000027_segmentation_final_size2.png',\n",
              " 'ISIC_0000028_segmentation.png',\n",
              " 'ISIC_0000028_segmentationfinal_size.png',\n",
              " 'ISIC_0000028_segmentationreduced.png',\n",
              " 'ISIC_0000028_segmentation_final_size.png',\n",
              " 'ISIC_0000028_segmentation_final_size2.png',\n",
              " 'ISIC_0000029_segmentation.png',\n",
              " 'ISIC_0000029_segmentationfinal_size.png',\n",
              " 'ISIC_0000029_segmentationreduced.png',\n",
              " 'ISIC_0000029_segmentation_final_size.png',\n",
              " 'ISIC_0000029_segmentation_final_size2.png',\n",
              " 'ISIC_0000030_segmentation.png',\n",
              " 'ISIC_0000030_segmentationfinal_size.png',\n",
              " 'ISIC_0000030_segmentationreduced.png',\n",
              " 'ISIC_0000030_segmentation_final_size.png',\n",
              " 'ISIC_0000030_segmentation_final_size2.png',\n",
              " 'ISIC_0000031_segmentation.png',\n",
              " 'ISIC_0000031_segmentationfinal_size.png',\n",
              " 'ISIC_0000031_segmentationreduced.png',\n",
              " 'ISIC_0000031_segmentation_final_size.png',\n",
              " 'ISIC_0000031_segmentation_final_size2.png',\n",
              " 'ISIC_0000032_segmentation.png',\n",
              " 'ISIC_0000032_segmentationfinal_size.png',\n",
              " 'ISIC_0000032_segmentationreduced.png',\n",
              " 'ISIC_0000032_segmentation_final_size.png',\n",
              " 'ISIC_0000032_segmentation_final_size2.png',\n",
              " 'ISIC_0000034_segmentation.png',\n",
              " 'ISIC_0000034_segmentationfinal_size.png',\n",
              " 'ISIC_0000034_segmentationreduced.png',\n",
              " 'ISIC_0000034_segmentation_final_size.png',\n",
              " 'ISIC_0000034_segmentation_final_size2.png',\n",
              " 'ISIC_0000035_segmentation.png',\n",
              " 'ISIC_0000035_segmentationfinal_size.png',\n",
              " 'ISIC_0000035_segmentationreduced.png',\n",
              " 'ISIC_0000035_segmentation_final_size.png',\n",
              " 'ISIC_0000035_segmentation_final_size2.png',\n",
              " 'ISIC_0000036_segmentation.png',\n",
              " 'ISIC_0000036_segmentationfinal_size.png',\n",
              " 'ISIC_0000036_segmentationreduced.png',\n",
              " 'ISIC_0000036_segmentation_final_size.png',\n",
              " 'ISIC_0000036_segmentation_final_size2.png',\n",
              " 'ISIC_0000037_segmentation.png',\n",
              " 'ISIC_0000037_segmentationfinal_size.png',\n",
              " 'ISIC_0000037_segmentationreduced.png',\n",
              " 'ISIC_0000037_segmentation_final_size.png',\n",
              " 'ISIC_0000037_segmentation_final_size2.png',\n",
              " 'ISIC_0000038_segmentation.png',\n",
              " 'ISIC_0000038_segmentationfinal_size.png',\n",
              " 'ISIC_0000038_segmentationreduced.png',\n",
              " 'ISIC_0000038_segmentation_final_size.png',\n",
              " 'ISIC_0000038_segmentation_final_size2.png',\n",
              " 'ISIC_0000039_segmentation.png',\n",
              " 'ISIC_0000039_segmentationfinal_size.png',\n",
              " 'ISIC_0000039_segmentationreduced.png',\n",
              " 'ISIC_0000039_segmentation_final_size.png',\n",
              " 'ISIC_0000039_segmentation_final_size2.png',\n",
              " 'ISIC_0000040_segmentation.png',\n",
              " 'ISIC_0000040_segmentationfinal_size.png',\n",
              " 'ISIC_0000040_segmentationreduced.png',\n",
              " 'ISIC_0000040_segmentation_final_size.png',\n",
              " 'ISIC_0000040_segmentation_final_size2.png',\n",
              " 'ISIC_0000041_segmentation.png',\n",
              " 'ISIC_0000041_segmentationfinal_size.png',\n",
              " 'ISIC_0000041_segmentationreduced.png',\n",
              " 'ISIC_0000041_segmentation_final_size.png',\n",
              " 'ISIC_0000041_segmentation_final_size2.png',\n",
              " 'ISIC_0000042_segmentation.png',\n",
              " 'ISIC_0000042_segmentationfinal_size.png',\n",
              " 'ISIC_0000042_segmentationreduced.png',\n",
              " 'ISIC_0000042_segmentation_final_size.png',\n",
              " 'ISIC_0000042_segmentation_final_size2.png',\n",
              " 'ISIC_0000043_segmentation.png',\n",
              " 'ISIC_0000043_segmentationfinal_size.png',\n",
              " 'ISIC_0000043_segmentationreduced.png',\n",
              " 'ISIC_0000043_segmentation_final_size.png',\n",
              " 'ISIC_0000043_segmentation_final_size2.png',\n",
              " 'ISIC_0000044_segmentation.png',\n",
              " 'ISIC_0000044_segmentationfinal_size.png',\n",
              " 'ISIC_0000044_segmentationreduced.png',\n",
              " 'ISIC_0000044_segmentation_final_size.png',\n",
              " 'ISIC_0000044_segmentation_final_size2.png',\n",
              " 'ISIC_0000045_segmentation.png',\n",
              " 'ISIC_0000045_segmentationfinal_size.png',\n",
              " 'ISIC_0000045_segmentationreduced.png',\n",
              " 'ISIC_0000045_segmentation_final_size.png',\n",
              " 'ISIC_0000045_segmentation_final_size2.png',\n",
              " 'ISIC_0000046_segmentation.png',\n",
              " 'ISIC_0000046_segmentationfinal_size.png',\n",
              " 'ISIC_0000046_segmentationreduced.png',\n",
              " 'ISIC_0000046_segmentation_final_size.png',\n",
              " 'ISIC_0000046_segmentation_final_size2.png',\n",
              " 'ISIC_0000047_segmentation.png',\n",
              " 'ISIC_0000047_segmentationfinal_size.png',\n",
              " 'ISIC_0000047_segmentationreduced.png',\n",
              " 'ISIC_0000047_segmentation_final_size.png',\n",
              " 'ISIC_0000047_segmentation_final_size2.png',\n",
              " 'ISIC_0000048_segmentation.png',\n",
              " 'ISIC_0000048_segmentationfinal_size.png',\n",
              " 'ISIC_0000048_segmentationreduced.png',\n",
              " 'ISIC_0000048_segmentation_final_size.png',\n",
              " 'ISIC_0000048_segmentation_final_size2.png',\n",
              " 'ISIC_0000049_segmentation.png',\n",
              " 'ISIC_0000049_segmentationfinal_size.png',\n",
              " 'ISIC_0000049_segmentationreduced.png',\n",
              " 'ISIC_0000049_segmentation_final_size.png',\n",
              " 'ISIC_0000049_segmentation_final_size2.png',\n",
              " 'ISIC_0000050_segmentation.png',\n",
              " 'ISIC_0000050_segmentationfinal_size.png',\n",
              " 'ISIC_0000050_segmentationreduced.png',\n",
              " 'ISIC_0000050_segmentation_final_size.png',\n",
              " 'ISIC_0000050_segmentation_final_size2.png',\n",
              " 'ISIC_0000051_segmentation.png',\n",
              " 'ISIC_0000051_segmentationfinal_size.png',\n",
              " 'ISIC_0000051_segmentationreduced.png',\n",
              " 'ISIC_0000051_segmentation_final_size.png',\n",
              " 'ISIC_0000051_segmentation_final_size2.png',\n",
              " 'ISIC_0000052_segmentation.png',\n",
              " 'ISIC_0000052_segmentationfinal_size.png',\n",
              " 'ISIC_0000052_segmentationreduced.png',\n",
              " 'ISIC_0000052_segmentation_final_size.png',\n",
              " 'ISIC_0000052_segmentation_final_size2.png',\n",
              " 'ISIC_0000053_segmentation.png',\n",
              " 'ISIC_0000053_segmentationfinal_size.png',\n",
              " 'ISIC_0000053_segmentationreduced.png',\n",
              " 'ISIC_0000053_segmentation_final_size.png',\n",
              " 'ISIC_0000053_segmentation_final_size2.png',\n",
              " 'ISIC_0000054_segmentation.png',\n",
              " 'ISIC_0000054_segmentationfinal_size.png',\n",
              " 'ISIC_0000054_segmentationreduced.png',\n",
              " 'ISIC_0000054_segmentation_final_size.png',\n",
              " 'ISIC_0000054_segmentation_final_size2.png',\n",
              " 'ISIC_0000055_segmentation.png',\n",
              " 'ISIC_0000055_segmentationfinal_size.png',\n",
              " 'ISIC_0000055_segmentationreduced.png',\n",
              " 'ISIC_0000055_segmentation_final_size.png',\n",
              " 'ISIC_0000055_segmentation_final_size2.png',\n",
              " 'ISIC_0000056_segmentation.png',\n",
              " 'ISIC_0000056_segmentationfinal_size.png',\n",
              " 'ISIC_0000056_segmentationreduced.png',\n",
              " 'ISIC_0000056_segmentation_final_size.png',\n",
              " 'ISIC_0000056_segmentation_final_size2.png',\n",
              " 'ISIC_0000057_segmentation.png',\n",
              " 'ISIC_0000057_segmentationfinal_size.png',\n",
              " 'ISIC_0000057_segmentationreduced.png',\n",
              " 'ISIC_0000057_segmentation_final_size.png',\n",
              " 'ISIC_0000057_segmentation_final_size2.png',\n",
              " 'ISIC_0000058_segmentation.png',\n",
              " 'ISIC_0000058_segmentationfinal_size.png',\n",
              " 'ISIC_0000058_segmentationreduced.png',\n",
              " 'ISIC_0000058_segmentation_final_size.png',\n",
              " 'ISIC_0000058_segmentation_final_size2.png',\n",
              " 'ISIC_0000059_segmentation.png',\n",
              " 'ISIC_0000059_segmentationfinal_size.png',\n",
              " 'ISIC_0000059_segmentationreduced.png',\n",
              " 'ISIC_0000059_segmentation_final_size.png',\n",
              " 'ISIC_0000059_segmentation_final_size2.png',\n",
              " 'ISIC_0000060_segmentation.png',\n",
              " 'ISIC_0000060_segmentationfinal_size.png',\n",
              " 'ISIC_0000060_segmentationreduced.png',\n",
              " 'ISIC_0000060_segmentation_final_size.png',\n",
              " 'ISIC_0000060_segmentation_final_size2.png',\n",
              " 'ISIC_0000061_segmentation.png',\n",
              " 'ISIC_0000061_segmentationfinal_size.png',\n",
              " 'ISIC_0000061_segmentationreduced.png',\n",
              " 'ISIC_0000061_segmentation_final_size.png',\n",
              " 'ISIC_0000061_segmentation_final_size2.png',\n",
              " 'ISIC_0000062_segmentation.png',\n",
              " 'ISIC_0000062_segmentationfinal_size.png',\n",
              " 'ISIC_0000062_segmentationreduced.png',\n",
              " 'ISIC_0000062_segmentation_final_size.png',\n",
              " 'ISIC_0000062_segmentation_final_size2.png',\n",
              " 'ISIC_0000063_segmentation.png',\n",
              " 'ISIC_0000063_segmentationfinal_size.png',\n",
              " 'ISIC_0000063_segmentationreduced.png',\n",
              " 'ISIC_0000063_segmentation_final_size.png',\n",
              " 'ISIC_0000063_segmentation_final_size2.png',\n",
              " 'ISIC_0000064_segmentation.png',\n",
              " 'ISIC_0000064_segmentationfinal_size.png',\n",
              " 'ISIC_0000064_segmentationreduced.png',\n",
              " 'ISIC_0000064_segmentation_final_size.png',\n",
              " 'ISIC_0000064_segmentation_final_size2.png',\n",
              " 'ISIC_0000065_segmentation.png',\n",
              " 'ISIC_0000065_segmentationfinal_size.png',\n",
              " 'ISIC_0000065_segmentationreduced.png',\n",
              " 'ISIC_0000065_segmentation_final_size.png',\n",
              " 'ISIC_0000065_segmentation_final_size2.png',\n",
              " 'ISIC_0000066_segmentation.png',\n",
              " 'ISIC_0000066_segmentationfinal_size.png',\n",
              " 'ISIC_0000066_segmentationreduced.png',\n",
              " 'ISIC_0000066_segmentation_final_size.png',\n",
              " 'ISIC_0000066_segmentation_final_size2.png',\n",
              " 'ISIC_0000067_segmentation.png',\n",
              " 'ISIC_0000067_segmentationfinal_size.png',\n",
              " 'ISIC_0000067_segmentationreduced.png',\n",
              " 'ISIC_0000067_segmentation_final_size.png',\n",
              " 'ISIC_0000067_segmentation_final_size2.png',\n",
              " 'ISIC_0000068_segmentation.png',\n",
              " 'ISIC_0000068_segmentationfinal_size.png',\n",
              " 'ISIC_0000068_segmentationreduced.png',\n",
              " 'ISIC_0000068_segmentation_final_size.png',\n",
              " 'ISIC_0000068_segmentation_final_size2.png',\n",
              " 'ISIC_0000069_segmentation.png',\n",
              " 'ISIC_0000069_segmentationfinal_size.png',\n",
              " 'ISIC_0000069_segmentationreduced.png',\n",
              " 'ISIC_0000069_segmentation_final_size.png',\n",
              " 'ISIC_0000069_segmentation_final_size2.png',\n",
              " 'ISIC_0000071_segmentation.png',\n",
              " 'ISIC_0000071_segmentationfinal_size.png',\n",
              " 'ISIC_0000071_segmentationreduced.png',\n",
              " 'ISIC_0000071_segmentation_final_size.png',\n",
              " 'ISIC_0000071_segmentation_final_size2.png',\n",
              " 'ISIC_0000072_segmentation.png',\n",
              " 'ISIC_0000072_segmentationfinal_size.png',\n",
              " 'ISIC_0000072_segmentationreduced.png',\n",
              " 'ISIC_0000072_segmentation_final_size.png',\n",
              " 'ISIC_0000072_segmentation_final_size2.png',\n",
              " 'ISIC_0000073_segmentation.png',\n",
              " 'ISIC_0000073_segmentationfinal_size.png',\n",
              " 'ISIC_0000073_segmentationreduced.png',\n",
              " 'ISIC_0000073_segmentation_final_size.png',\n",
              " 'ISIC_0000073_segmentation_final_size2.png',\n",
              " 'ISIC_0000074_segmentation.png',\n",
              " 'ISIC_0000074_segmentationfinal_size.png',\n",
              " 'ISIC_0000074_segmentationreduced.png',\n",
              " 'ISIC_0000074_segmentation_final_size.png',\n",
              " 'ISIC_0000074_segmentation_final_size2.png',\n",
              " 'ISIC_0000075_segmentation.png',\n",
              " 'ISIC_0000075_segmentationfinal_size.png',\n",
              " 'ISIC_0000075_segmentationreduced.png',\n",
              " 'ISIC_0000075_segmentation_final_size.png',\n",
              " 'ISIC_0000075_segmentation_final_size2.png',\n",
              " 'ISIC_0000077_segmentation.png',\n",
              " 'ISIC_0000077_segmentationfinal_size.png',\n",
              " 'ISIC_0000077_segmentationreduced.png',\n",
              " 'ISIC_0000077_segmentation_final_size.png',\n",
              " 'ISIC_0000077_segmentation_final_size2.png',\n",
              " 'ISIC_0000078_segmentation.png',\n",
              " 'ISIC_0000078_segmentationfinal_size.png',\n",
              " 'ISIC_0000078_segmentationreduced.png',\n",
              " 'ISIC_0000078_segmentation_final_size.png',\n",
              " 'ISIC_0000078_segmentation_final_size2.png',\n",
              " 'ISIC_0000079_segmentation.png',\n",
              " 'ISIC_0000079_segmentationfinal_size.png',\n",
              " 'ISIC_0000079_segmentationreduced.png',\n",
              " 'ISIC_0000079_segmentation_final_size.png',\n",
              " 'ISIC_0000079_segmentation_final_size2.png',\n",
              " 'ISIC_0000080_segmentation.png',\n",
              " 'ISIC_0000080_segmentationfinal_size.png',\n",
              " 'ISIC_0000080_segmentationreduced.png',\n",
              " 'ISIC_0000080_segmentation_final_size.png',\n",
              " 'ISIC_0000080_segmentation_final_size2.png',\n",
              " 'ISIC_0000081_segmentation.png',\n",
              " 'ISIC_0000081_segmentationfinal_size.png',\n",
              " 'ISIC_0000081_segmentationreduced.png',\n",
              " 'ISIC_0000081_segmentation_final_size.png',\n",
              " 'ISIC_0000081_segmentation_final_size2.png',\n",
              " 'ISIC_0000082_segmentation.png',\n",
              " 'ISIC_0000082_segmentationfinal_size.png',\n",
              " 'ISIC_0000082_segmentationreduced.png',\n",
              " 'ISIC_0000082_segmentation_final_size.png',\n",
              " 'ISIC_0000082_segmentation_final_size2.png',\n",
              " 'ISIC_0000085_segmentation.png',\n",
              " 'ISIC_0000085_segmentationfinal_size.png',\n",
              " 'ISIC_0000085_segmentationreduced.png',\n",
              " 'ISIC_0000085_segmentation_final_size.png',\n",
              " 'ISIC_0000085_segmentation_final_size2.png',\n",
              " 'ISIC_0000086_segmentation.png',\n",
              " 'ISIC_0000086_segmentationfinal_size.png',\n",
              " 'ISIC_0000086_segmentationreduced.png',\n",
              " 'ISIC_0000086_segmentation_final_size.png',\n",
              " 'ISIC_0000086_segmentation_final_size2.png',\n",
              " 'ISIC_0000087_segmentation.png',\n",
              " 'ISIC_0000087_segmentationfinal_size.png',\n",
              " 'ISIC_0000087_segmentationreduced.png',\n",
              " 'ISIC_0000087_segmentation_final_size.png',\n",
              " 'ISIC_0000087_segmentation_final_size2.png',\n",
              " 'ISIC_0000088_segmentation.png',\n",
              " 'ISIC_0000088_segmentationfinal_size.png',\n",
              " 'ISIC_0000088_segmentationreduced.png',\n",
              " 'ISIC_0000088_segmentation_final_size.png',\n",
              " 'ISIC_0000088_segmentation_final_size2.png',\n",
              " 'ISIC_0000089_segmentation.png',\n",
              " 'ISIC_0000089_segmentationfinal_size.png',\n",
              " 'ISIC_0000089_segmentationreduced.png',\n",
              " 'ISIC_0000089_segmentation_final_size.png',\n",
              " 'ISIC_0000089_segmentation_final_size2.png',\n",
              " 'ISIC_0000091_segmentation.png',\n",
              " 'ISIC_0000091_segmentationfinal_size.png',\n",
              " 'ISIC_0000091_segmentationreduced.png',\n",
              " 'ISIC_0000091_segmentation_final_size.png',\n",
              " 'ISIC_0000091_segmentation_final_size2.png',\n",
              " 'ISIC_0000092_segmentation.png',\n",
              " 'ISIC_0000092_segmentationfinal_size.png',\n",
              " 'ISIC_0000092_segmentationreduced.png',\n",
              " 'ISIC_0000092_segmentation_final_size.png',\n",
              " 'ISIC_0000092_segmentation_final_size2.png',\n",
              " 'ISIC_0000093_segmentation.png',\n",
              " 'ISIC_0000093_segmentationfinal_size.png',\n",
              " 'ISIC_0000093_segmentationreduced.png',\n",
              " 'ISIC_0000093_segmentation_final_size.png',\n",
              " 'ISIC_0000093_segmentation_final_size2.png',\n",
              " 'ISIC_0000094_segmentation.png',\n",
              " 'ISIC_0000094_segmentationfinal_size.png',\n",
              " 'ISIC_0000094_segmentationreduced.png',\n",
              " 'ISIC_0000094_segmentation_final_size.png',\n",
              " 'ISIC_0000094_segmentation_final_size2.png',\n",
              " 'ISIC_0000095_segmentation.png',\n",
              " 'ISIC_0000095_segmentationfinal_size.png',\n",
              " 'ISIC_0000095_segmentationreduced.png',\n",
              " 'ISIC_0000095_segmentation_final_size.png',\n",
              " 'ISIC_0000095_segmentation_final_size2.png',\n",
              " 'ISIC_0000096_segmentation.png',\n",
              " 'ISIC_0000096_segmentationfinal_size.png',\n",
              " 'ISIC_0000096_segmentationreduced.png',\n",
              " 'ISIC_0000096_segmentation_final_size.png',\n",
              " 'ISIC_0000096_segmentation_final_size2.png',\n",
              " 'ISIC_0000097_segmentation.png',\n",
              " 'ISIC_0000097_segmentationfinal_size.png',\n",
              " 'ISIC_0000097_segmentationreduced.png',\n",
              " 'ISIC_0000097_segmentation_final_size.png',\n",
              " 'ISIC_0000097_segmentation_final_size2.png',\n",
              " 'ISIC_0000098_segmentation.png',\n",
              " 'ISIC_0000098_segmentationfinal_size.png',\n",
              " 'ISIC_0000098_segmentationreduced.png',\n",
              " 'ISIC_0000098_segmentation_final_size.png',\n",
              " 'ISIC_0000098_segmentation_final_size2.png',\n",
              " 'ISIC_0000099_segmentation.png',\n",
              " 'ISIC_0000099_segmentationfinal_size.png',\n",
              " 'ISIC_0000099_segmentationreduced.png',\n",
              " 'ISIC_0000099_segmentation_final_size.png',\n",
              " 'ISIC_0000099_segmentation_final_size2.png',\n",
              " 'ISIC_0000100_segmentation.png',\n",
              " 'ISIC_0000100_segmentationfinal_size.png',\n",
              " 'ISIC_0000100_segmentationreduced.png',\n",
              " 'ISIC_0000100_segmentation_final_size.png',\n",
              " 'ISIC_0000100_segmentation_final_size2.png',\n",
              " 'ISIC_0000101_segmentation.png',\n",
              " 'ISIC_0000101_segmentationfinal_size.png',\n",
              " 'ISIC_0000101_segmentationreduced.png',\n",
              " 'ISIC_0000101_segmentation_final_size.png',\n",
              " 'ISIC_0000101_segmentation_final_size2.png',\n",
              " 'ISIC_0000102_segmentation.png',\n",
              " 'ISIC_0000102_segmentationfinal_size.png',\n",
              " 'ISIC_0000102_segmentationreduced.png',\n",
              " 'ISIC_0000102_segmentation_final_size.png',\n",
              " 'ISIC_0000102_segmentation_final_size2.png',\n",
              " 'ISIC_0000103_segmentation.png',\n",
              " 'ISIC_0000103_segmentationfinal_size.png',\n",
              " 'ISIC_0000103_segmentationreduced.png',\n",
              " 'ISIC_0000103_segmentation_final_size.png',\n",
              " 'ISIC_0000103_segmentation_final_size2.png',\n",
              " 'ISIC_0000104_segmentation.png',\n",
              " 'ISIC_0000104_segmentationfinal_size.png',\n",
              " 'ISIC_0000104_segmentationreduced.png',\n",
              " 'ISIC_0000104_segmentation_final_size.png',\n",
              " 'ISIC_0000104_segmentation_final_size2.png',\n",
              " 'ISIC_0000105_segmentation.png',\n",
              " 'ISIC_0000105_segmentationfinal_size.png',\n",
              " 'ISIC_0000105_segmentationreduced.png',\n",
              " 'ISIC_0000105_segmentation_final_size.png',\n",
              " 'ISIC_0000105_segmentation_final_size2.png',\n",
              " 'ISIC_0000107_segmentation.png',\n",
              " 'ISIC_0000107_segmentationfinal_size.png',\n",
              " 'ISIC_0000107_segmentationreduced.png',\n",
              " 'ISIC_0000107_segmentation_final_size.png',\n",
              " 'ISIC_0000107_segmentation_final_size2.png',\n",
              " 'ISIC_0000108_segmentation.png',\n",
              " 'ISIC_0000108_segmentationfinal_size.png',\n",
              " 'ISIC_0000108_segmentationreduced.png',\n",
              " 'ISIC_0000108_segmentation_final_size.png',\n",
              " 'ISIC_0000108_segmentation_final_size2.png',\n",
              " 'ISIC_0000109_segmentation.png',\n",
              " 'ISIC_0000109_segmentationfinal_size.png',\n",
              " 'ISIC_0000109_segmentationreduced.png',\n",
              " 'ISIC_0000109_segmentation_final_size.png',\n",
              " 'ISIC_0000109_segmentation_final_size2.png',\n",
              " 'ISIC_0000110_segmentation.png',\n",
              " 'ISIC_0000110_segmentationfinal_size.png',\n",
              " 'ISIC_0000110_segmentationreduced.png',\n",
              " 'ISIC_0000110_segmentation_final_size.png',\n",
              " 'ISIC_0000110_segmentation_final_size2.png',\n",
              " 'ISIC_0000111_segmentation.png',\n",
              " 'ISIC_0000111_segmentationfinal_size.png',\n",
              " 'ISIC_0000111_segmentationreduced.png',\n",
              " 'ISIC_0000111_segmentation_final_size.png',\n",
              " 'ISIC_0000111_segmentation_final_size2.png',\n",
              " 'ISIC_0000112_segmentation.png',\n",
              " 'ISIC_0000112_segmentationfinal_size.png',\n",
              " 'ISIC_0000112_segmentationreduced.png',\n",
              " 'ISIC_0000112_segmentation_final_size.png',\n",
              " 'ISIC_0000112_segmentation_final_size2.png',\n",
              " 'ISIC_0000113_segmentation.png',\n",
              " 'ISIC_0000113_segmentationfinal_size.png',\n",
              " 'ISIC_0000113_segmentationreduced.png',\n",
              " 'ISIC_0000113_segmentation_final_size.png',\n",
              " 'ISIC_0000113_segmentation_final_size2.png',\n",
              " 'ISIC_0000115_segmentation.png',\n",
              " 'ISIC_0000115_segmentationfinal_size.png',\n",
              " 'ISIC_0000115_segmentationreduced.png',\n",
              " 'ISIC_0000115_segmentation_final_size.png',\n",
              " 'ISIC_0000115_segmentation_final_size2.png',\n",
              " 'ISIC_0000116_segmentation.png',\n",
              " 'ISIC_0000116_segmentationfinal_size.png',\n",
              " 'ISIC_0000116_segmentationreduced.png',\n",
              " 'ISIC_0000116_segmentation_final_size.png',\n",
              " 'ISIC_0000116_segmentation_final_size2.png',\n",
              " 'ISIC_0000117_segmentation.png',\n",
              " 'ISIC_0000117_segmentationfinal_size.png',\n",
              " 'ISIC_0000117_segmentationreduced.png',\n",
              " 'ISIC_0000117_segmentation_final_size.png',\n",
              " 'ISIC_0000117_segmentation_final_size2.png',\n",
              " 'ISIC_0000119_segmentation.png',\n",
              " 'ISIC_0000119_segmentationfinal_size.png',\n",
              " 'ISIC_0000119_segmentationreduced.png',\n",
              " 'ISIC_0000119_segmentation_final_size.png',\n",
              " 'ISIC_0000119_segmentation_final_size2.png',\n",
              " 'ISIC_0000120_segmentation.png',\n",
              " 'ISIC_0000120_segmentationfinal_size.png',\n",
              " 'ISIC_0000120_segmentationreduced.png',\n",
              " 'ISIC_0000120_segmentation_final_size.png',\n",
              " 'ISIC_0000120_segmentation_final_size2.png',\n",
              " 'ISIC_0000121_segmentation.png',\n",
              " 'ISIC_0000121_segmentationfinal_size.png',\n",
              " 'ISIC_0000121_segmentationreduced.png',\n",
              " 'ISIC_0000121_segmentation_final_size.png',\n",
              " 'ISIC_0000121_segmentation_final_size2.png',\n",
              " 'ISIC_0000122_segmentation.png',\n",
              " 'ISIC_0000122_segmentationfinal_size.png',\n",
              " 'ISIC_0000122_segmentationreduced.png',\n",
              " 'ISIC_0000122_segmentation_final_size.png',\n",
              " 'ISIC_0000122_segmentation_final_size2.png',\n",
              " 'ISIC_0000123_segmentation.png',\n",
              " 'ISIC_0000123_segmentationfinal_size.png',\n",
              " 'ISIC_0000123_segmentationreduced.png',\n",
              " 'ISIC_0000123_segmentation_final_size.png',\n",
              " 'ISIC_0000123_segmentation_final_size2.png',\n",
              " 'ISIC_0000124_segmentation.png',\n",
              " 'ISIC_0000124_segmentationfinal_size.png',\n",
              " 'ISIC_0000124_segmentationreduced.png',\n",
              " 'ISIC_0000124_segmentation_final_size.png',\n",
              " 'ISIC_0000124_segmentation_final_size2.png',\n",
              " 'ISIC_0000125_segmentation.png',\n",
              " 'ISIC_0000125_segmentationfinal_size.png',\n",
              " 'ISIC_0000125_segmentationreduced.png',\n",
              " 'ISIC_0000125_segmentation_final_size.png',\n",
              " 'ISIC_0000125_segmentation_final_size2.png',\n",
              " 'ISIC_0000126_segmentation.png',\n",
              " 'ISIC_0000126_segmentationfinal_size.png',\n",
              " 'ISIC_0000126_segmentationreduced.png',\n",
              " 'ISIC_0000126_segmentation_final_size.png',\n",
              " 'ISIC_0000126_segmentation_final_size2.png',\n",
              " 'ISIC_0000127_segmentation.png',\n",
              " 'ISIC_0000127_segmentationfinal_size.png',\n",
              " 'ISIC_0000127_segmentationreduced.png',\n",
              " 'ISIC_0000127_segmentation_final_size.png',\n",
              " 'ISIC_0000127_segmentation_final_size2.png',\n",
              " 'ISIC_0000128_segmentation.png',\n",
              " 'ISIC_0000128_segmentationfinal_size.png',\n",
              " 'ISIC_0000128_segmentationreduced.png',\n",
              " 'ISIC_0000128_segmentation_final_size.png',\n",
              " 'ISIC_0000128_segmentation_final_size2.png',\n",
              " 'ISIC_0000129_segmentation.png',\n",
              " 'ISIC_0000129_segmentationfinal_size.png',\n",
              " 'ISIC_0000129_segmentationreduced.png',\n",
              " 'ISIC_0000129_segmentation_final_size.png',\n",
              " 'ISIC_0000129_segmentation_final_size2.png',\n",
              " 'ISIC_0000131_segmentation.png',\n",
              " 'ISIC_0000131_segmentationfinal_size.png',\n",
              " 'ISIC_0000131_segmentationreduced.png',\n",
              " 'ISIC_0000131_segmentation_final_size.png',\n",
              " 'ISIC_0000131_segmentation_final_size2.png',\n",
              " 'ISIC_0000132_segmentation.png',\n",
              " 'ISIC_0000132_segmentationfinal_size.png',\n",
              " 'ISIC_0000132_segmentationreduced.png',\n",
              " 'ISIC_0000132_segmentation_final_size.png',\n",
              " 'ISIC_0000132_segmentation_final_size2.png',\n",
              " 'ISIC_0000133_segmentation.png',\n",
              " 'ISIC_0000133_segmentationfinal_size.png',\n",
              " 'ISIC_0000133_segmentationreduced.png',\n",
              " 'ISIC_0000133_segmentation_final_size.png',\n",
              " 'ISIC_0000133_segmentation_final_size2.png',\n",
              " 'ISIC_0000134_segmentation.png',\n",
              " 'ISIC_0000134_segmentationfinal_size.png',\n",
              " 'ISIC_0000134_segmentationreduced.png',\n",
              " 'ISIC_0000134_segmentation_final_size.png',\n",
              " 'ISIC_0000134_segmentation_final_size2.png',\n",
              " 'ISIC_0000135_segmentation.png',\n",
              " 'ISIC_0000135_segmentationfinal_size.png',\n",
              " 'ISIC_0000135_segmentationreduced.png',\n",
              " 'ISIC_0000135_segmentation_final_size.png',\n",
              " 'ISIC_0000135_segmentation_final_size2.png',\n",
              " 'ISIC_0000136_segmentation.png',\n",
              " 'ISIC_0000136_segmentationfinal_size.png',\n",
              " 'ISIC_0000136_segmentationreduced.png',\n",
              " 'ISIC_0000136_segmentation_final_size.png',\n",
              " 'ISIC_0000136_segmentation_final_size2.png',\n",
              " 'ISIC_0000137_segmentation.png',\n",
              " 'ISIC_0000137_segmentationfinal_size.png',\n",
              " 'ISIC_0000137_segmentationreduced.png',\n",
              " 'ISIC_0000137_segmentation_final_size.png',\n",
              " 'ISIC_0000137_segmentation_final_size2.png',\n",
              " 'ISIC_0000138_segmentation.png',\n",
              " 'ISIC_0000138_segmentationfinal_size.png',\n",
              " 'ISIC_0000138_segmentationreduced.png',\n",
              " 'ISIC_0000138_segmentation_final_size.png',\n",
              " 'ISIC_0000138_segmentation_final_size2.png',\n",
              " 'ISIC_0000139_segmentation.png',\n",
              " 'ISIC_0000139_segmentationfinal_size.png',\n",
              " 'ISIC_0000139_segmentationreduced.png',\n",
              " 'ISIC_0000139_segmentation_final_size.png',\n",
              " 'ISIC_0000139_segmentation_final_size2.png',\n",
              " 'ISIC_0000140_segmentation.png',\n",
              " 'ISIC_0000140_segmentationfinal_size.png',\n",
              " 'ISIC_0000140_segmentationreduced.png',\n",
              " 'ISIC_0000140_segmentation_final_size.png',\n",
              " 'ISIC_0000140_segmentation_final_size2.png',\n",
              " 'ISIC_0000141_segmentation.png',\n",
              " 'ISIC_0000141_segmentationfinal_size.png',\n",
              " 'ISIC_0000141_segmentationreduced.png',\n",
              " 'ISIC_0000141_segmentation_final_size.png',\n",
              " 'ISIC_0000141_segmentation_final_size2.png',\n",
              " 'ISIC_0000142_segmentation.png',\n",
              " 'ISIC_0000142_segmentationfinal_size.png',\n",
              " 'ISIC_0000142_segmentationreduced.png',\n",
              " 'ISIC_0000142_segmentation_final_size.png',\n",
              " 'ISIC_0000142_segmentation_final_size2.png',\n",
              " 'ISIC_0000143_segmentation.png',\n",
              " 'ISIC_0000143_segmentationfinal_size.png',\n",
              " 'ISIC_0000143_segmentationreduced.png',\n",
              " 'ISIC_0000143_segmentation_final_size.png',\n",
              " 'ISIC_0000143_segmentation_final_size2.png',\n",
              " 'ISIC_0000145_segmentation.png',\n",
              " 'ISIC_0000145_segmentationfinal_size.png',\n",
              " 'ISIC_0000145_segmentationreduced.png',\n",
              " 'ISIC_0000145_segmentation_final_size.png',\n",
              " 'ISIC_0000145_segmentation_final_size2.png',\n",
              " 'ISIC_0000146_segmentation.png',\n",
              " 'ISIC_0000146_segmentationfinal_size.png',\n",
              " 'ISIC_0000146_segmentationreduced.png',\n",
              " 'ISIC_0000146_segmentation_final_size.png',\n",
              " 'ISIC_0000146_segmentation_final_size2.png',\n",
              " 'ISIC_0000147_segmentation.png',\n",
              " 'ISIC_0000147_segmentationfinal_size.png',\n",
              " 'ISIC_0000147_segmentationreduced.png',\n",
              " 'ISIC_0000147_segmentation_final_size.png',\n",
              " 'ISIC_0000147_segmentation_final_size2.png',\n",
              " 'ISIC_0000148_segmentation.png',\n",
              " 'ISIC_0000148_segmentationfinal_size.png',\n",
              " 'ISIC_0000148_segmentationreduced.png',\n",
              " 'ISIC_0000148_segmentation_final_size.png',\n",
              " 'ISIC_0000148_segmentation_final_size2.png',\n",
              " 'ISIC_0000149_segmentation.png',\n",
              " 'ISIC_0000149_segmentationfinal_size.png',\n",
              " 'ISIC_0000149_segmentationreduced.png',\n",
              " 'ISIC_0000149_segmentation_final_size.png',\n",
              " 'ISIC_0000149_segmentation_final_size2.png',\n",
              " 'ISIC_0000150_segmentation.png',\n",
              " 'ISIC_0000150_segmentationfinal_size.png',\n",
              " 'ISIC_0000150_segmentationreduced.png',\n",
              " 'ISIC_0000150_segmentation_final_size.png',\n",
              " 'ISIC_0000150_segmentation_final_size2.png',\n",
              " 'ISIC_0000151_segmentation.png',\n",
              " 'ISIC_0000151_segmentationfinal_size.png',\n",
              " 'ISIC_0000151_segmentationreduced.png',\n",
              " 'ISIC_0000151_segmentation_final_size.png',\n",
              " 'ISIC_0000151_segmentation_final_size2.png',\n",
              " 'ISIC_0000152_segmentation.png',\n",
              " 'ISIC_0000152_segmentationfinal_size.png',\n",
              " 'ISIC_0000152_segmentationreduced.png',\n",
              " 'ISIC_0000152_segmentation_final_size.png',\n",
              " 'ISIC_0000152_segmentation_final_size2.png',\n",
              " 'ISIC_0000153_segmentation.png',\n",
              " 'ISIC_0000153_segmentationfinal_size.png',\n",
              " 'ISIC_0000153_segmentationreduced.png',\n",
              " 'ISIC_0000153_segmentation_final_size.png',\n",
              " 'ISIC_0000153_segmentation_final_size2.png',\n",
              " 'ISIC_0000154_segmentation.png',\n",
              " 'ISIC_0000154_segmentationfinal_size.png',\n",
              " 'ISIC_0000154_segmentationreduced.png',\n",
              " 'ISIC_0000154_segmentation_final_size.png',\n",
              " 'ISIC_0000154_segmentation_final_size2.png',\n",
              " 'ISIC_0000155_segmentation.png',\n",
              " 'ISIC_0000155_segmentationfinal_size.png',\n",
              " 'ISIC_0000155_segmentationreduced.png',\n",
              " 'ISIC_0000155_segmentation_final_size.png',\n",
              " 'ISIC_0000155_segmentation_final_size2.png',\n",
              " 'ISIC_0000156_segmentation.png',\n",
              " 'ISIC_0000156_segmentationfinal_size.png',\n",
              " 'ISIC_0000156_segmentationreduced.png',\n",
              " 'ISIC_0000156_segmentation_final_size.png',\n",
              " 'ISIC_0000156_segmentation_final_size2.png',\n",
              " 'ISIC_0000157_segmentation.png',\n",
              " 'ISIC_0000157_segmentationfinal_size.png',\n",
              " 'ISIC_0000157_segmentationreduced.png',\n",
              " 'ISIC_0000157_segmentation_final_size.png',\n",
              " 'ISIC_0000157_segmentation_final_size2.png',\n",
              " 'ISIC_0000159_segmentation.png',\n",
              " 'ISIC_0000159_segmentationfinal_size.png',\n",
              " 'ISIC_0000159_segmentationreduced.png',\n",
              " 'ISIC_0000159_segmentation_final_size.png',\n",
              " 'ISIC_0000159_segmentation_final_size2.png',\n",
              " 'ISIC_0000160_segmentation.png',\n",
              " 'ISIC_0000160_segmentationfinal_size.png',\n",
              " 'ISIC_0000160_segmentationreduced.png',\n",
              " 'ISIC_0000160_segmentation_final_size.png',\n",
              " 'ISIC_0000160_segmentation_final_size2.png',\n",
              " 'ISIC_0000161_segmentation.png',\n",
              " 'ISIC_0000161_segmentationfinal_size.png',\n",
              " 'ISIC_0000161_segmentationreduced.png',\n",
              " 'ISIC_0000161_segmentation_final_size.png',\n",
              " 'ISIC_0000161_segmentation_final_size2.png',\n",
              " 'ISIC_0000162_segmentation.png',\n",
              " 'ISIC_0000162_segmentationfinal_size.png',\n",
              " 'ISIC_0000162_segmentationreduced.png',\n",
              " 'ISIC_0000162_segmentation_final_size.png',\n",
              " 'ISIC_0000162_segmentation_final_size2.png',\n",
              " 'ISIC_0000163_segmentation.png',\n",
              " 'ISIC_0000163_segmentationfinal_size.png',\n",
              " 'ISIC_0000163_segmentationreduced.png',\n",
              " 'ISIC_0000163_segmentation_final_size.png',\n",
              " 'ISIC_0000163_segmentation_final_size2.png',\n",
              " 'ISIC_0000164_segmentation.png',\n",
              " 'ISIC_0000164_segmentationfinal_size.png',\n",
              " 'ISIC_0000164_segmentationreduced.png',\n",
              " 'ISIC_0000164_segmentation_final_size.png',\n",
              " 'ISIC_0000164_segmentation_final_size2.png',\n",
              " 'ISIC_0000165_segmentation.png',\n",
              " 'ISIC_0000165_segmentationfinal_size.png',\n",
              " 'ISIC_0000165_segmentationreduced.png',\n",
              " 'ISIC_0000165_segmentation_final_size.png',\n",
              " 'ISIC_0000165_segmentation_final_size2.png',\n",
              " 'ISIC_0000166_segmentation.png',\n",
              " 'ISIC_0000166_segmentationfinal_size.png',\n",
              " 'ISIC_0000166_segmentationreduced.png',\n",
              " 'ISIC_0000166_segmentation_final_size.png',\n",
              " 'ISIC_0000166_segmentation_final_size2.png',\n",
              " 'ISIC_0000167_segmentation.png',\n",
              " 'ISIC_0000167_segmentationfinal_size.png',\n",
              " 'ISIC_0000167_segmentationreduced.png',\n",
              " 'ISIC_0000167_segmentation_final_size.png',\n",
              " 'ISIC_0000167_segmentation_final_size2.png',\n",
              " 'ISIC_0000169_segmentation.png',\n",
              " 'ISIC_0000169_segmentationfinal_size.png',\n",
              " 'ISIC_0000169_segmentationreduced.png',\n",
              " 'ISIC_0000169_segmentation_final_size.png',\n",
              " 'ISIC_0000169_segmentation_final_size2.png',\n",
              " 'ISIC_0000170_segmentation.png',\n",
              " 'ISIC_0000170_segmentationfinal_size.png',\n",
              " 'ISIC_0000170_segmentationreduced.png',\n",
              " 'ISIC_0000170_segmentation_final_size.png',\n",
              " 'ISIC_0000170_segmentation_final_size2.png',\n",
              " 'ISIC_0000171_segmentation.png',\n",
              " 'ISIC_0000171_segmentationfinal_size.png',\n",
              " 'ISIC_0000171_segmentationreduced.png',\n",
              " 'ISIC_0000171_segmentation_final_size.png',\n",
              " 'ISIC_0000171_segmentation_final_size2.png',\n",
              " 'ISIC_0000172_segmentation.png',\n",
              " 'ISIC_0000172_segmentationfinal_size.png',\n",
              " 'ISIC_0000172_segmentationreduced.png',\n",
              " 'ISIC_0000172_segmentation_final_size.png',\n",
              " 'ISIC_0000172_segmentation_final_size2.png',\n",
              " 'ISIC_0000173_segmentation.png',\n",
              " 'ISIC_0000173_segmentationfinal_size.png',\n",
              " 'ISIC_0000173_segmentationreduced.png',\n",
              " 'ISIC_0000173_segmentation_final_size.png',\n",
              " 'ISIC_0000173_segmentation_final_size2.png',\n",
              " 'ISIC_0000175_segmentation.png',\n",
              " 'ISIC_0000175_segmentationfinal_size.png',\n",
              " 'ISIC_0000175_segmentationreduced.png',\n",
              " 'ISIC_0000175_segmentation_final_size.png',\n",
              " 'ISIC_0000175_segmentation_final_size2.png',\n",
              " 'ISIC_0000176_segmentation.png',\n",
              " 'ISIC_0000176_segmentationfinal_size.png',\n",
              " 'ISIC_0000176_segmentationreduced.png',\n",
              " 'ISIC_0000176_segmentation_final_size.png',\n",
              " 'ISIC_0000176_segmentation_final_size2.png',\n",
              " 'ISIC_0000177_segmentation.png',\n",
              " 'ISIC_0000177_segmentationfinal_size.png',\n",
              " 'ISIC_0000177_segmentationreduced.png',\n",
              " 'ISIC_0000177_segmentation_final_size.png',\n",
              " 'ISIC_0000177_segmentation_final_size2.png',\n",
              " 'ISIC_0000179_segmentation.png',\n",
              " 'ISIC_0000179_segmentationfinal_size.png',\n",
              " 'ISIC_0000179_segmentationreduced.png',\n",
              " 'ISIC_0000179_segmentation_final_size.png',\n",
              " 'ISIC_0000179_segmentation_final_size2.png',\n",
              " 'ISIC_0000181_segmentation.png',\n",
              " 'ISIC_0000181_segmentationfinal_size.png',\n",
              " 'ISIC_0000181_segmentationreduced.png',\n",
              " 'ISIC_0000181_segmentation_final_size.png',\n",
              " 'ISIC_0000181_segmentation_final_size2.png',\n",
              " 'ISIC_0000182_segmentation.png',\n",
              " 'ISIC_0000182_segmentationfinal_size.png',\n",
              " 'ISIC_0000182_segmentationreduced.png',\n",
              " 'ISIC_0000182_segmentation_final_size.png',\n",
              " 'ISIC_0000182_segmentation_final_size2.png',\n",
              " 'ISIC_0000183_segmentation.png',\n",
              " 'ISIC_0000183_segmentationfinal_size.png',\n",
              " 'ISIC_0000183_segmentationreduced.png',\n",
              " 'ISIC_0000183_segmentation_final_size.png',\n",
              " 'ISIC_0000183_segmentation_final_size2.png',\n",
              " 'ISIC_0000184_segmentation.png',\n",
              " 'ISIC_0000184_segmentationfinal_size.png',\n",
              " 'ISIC_0000184_segmentationreduced.png',\n",
              " 'ISIC_0000184_segmentation_final_size.png',\n",
              " 'ISIC_0000184_segmentation_final_size2.png',\n",
              " 'ISIC_0000185_segmentation.png',\n",
              " 'ISIC_0000185_segmentationfinal_size.png',\n",
              " 'ISIC_0000185_segmentationreduced.png',\n",
              " 'ISIC_0000185_segmentation_final_size.png',\n",
              " 'ISIC_0000185_segmentation_final_size2.png',\n",
              " 'ISIC_0000186_segmentation.png',\n",
              " 'ISIC_0000186_segmentationfinal_size.png',\n",
              " 'ISIC_0000186_segmentationreduced.png',\n",
              " 'ISIC_0000186_segmentation_final_size.png',\n",
              " 'ISIC_0000186_segmentation_final_size2.png',\n",
              " 'ISIC_0000187_segmentation.png',\n",
              " 'ISIC_0000187_segmentationfinal_size.png',\n",
              " 'ISIC_0000187_segmentationreduced.png',\n",
              " 'ISIC_0000187_segmentation_final_size.png',\n",
              " 'ISIC_0000187_segmentation_final_size2.png',\n",
              " 'ISIC_0000188_segmentation.png',\n",
              " 'ISIC_0000188_segmentationfinal_size.png',\n",
              " 'ISIC_0000188_segmentationreduced.png',\n",
              " 'ISIC_0000188_segmentation_final_size.png',\n",
              " 'ISIC_0000188_segmentation_final_size2.png',\n",
              " 'ISIC_0000189_segmentation.png',\n",
              " 'ISIC_0000189_segmentationfinal_size.png',\n",
              " 'ISIC_0000189_segmentationreduced.png',\n",
              " 'ISIC_0000189_segmentation_final_size.png',\n",
              " 'ISIC_0000189_segmentation_final_size2.png',\n",
              " 'ISIC_0000190_segmentation.png',\n",
              " 'ISIC_0000190_segmentationfinal_size.png',\n",
              " 'ISIC_0000190_segmentationreduced.png',\n",
              " 'ISIC_0000190_segmentation_final_size.png',\n",
              " 'ISIC_0000190_segmentation_final_size2.png',\n",
              " 'ISIC_0000191_segmentation.png',\n",
              " 'ISIC_0000191_segmentationfinal_size.png',\n",
              " 'ISIC_0000191_segmentationreduced.png',\n",
              " 'ISIC_0000191_segmentation_final_size.png',\n",
              " 'ISIC_0000191_segmentation_final_size2.png',\n",
              " 'ISIC_0000192_segmentation.png',\n",
              " 'ISIC_0000192_segmentationfinal_size.png',\n",
              " 'ISIC_0000192_segmentationreduced.png',\n",
              " 'ISIC_0000192_segmentation_final_size.png',\n",
              " 'ISIC_0000192_segmentation_final_size2.png',\n",
              " 'ISIC_0000193_segmentation.png',\n",
              " 'ISIC_0000193_segmentationfinal_size.png',\n",
              " 'ISIC_0000193_segmentationreduced.png',\n",
              " 'ISIC_0000193_segmentation_final_size.png',\n",
              " 'ISIC_0000193_segmentation_final_size2.png',\n",
              " 'ISIC_0000196_segmentation.png',\n",
              " 'ISIC_0000196_segmentationfinal_size.png',\n",
              " 'ISIC_0000196_segmentationreduced.png',\n",
              " 'ISIC_0000196_segmentation_final_size.png',\n",
              " 'ISIC_0000196_segmentation_final_size2.png',\n",
              " 'ISIC_0000197_segmentation.png',\n",
              " 'ISIC_0000197_segmentationfinal_size.png',\n",
              " 'ISIC_0000197_segmentationreduced.png',\n",
              " 'ISIC_0000197_segmentation_final_size.png',\n",
              " 'ISIC_0000197_segmentation_final_size2.png',\n",
              " 'ISIC_0000198_segmentation.png',\n",
              " 'ISIC_0000198_segmentationfinal_size.png',\n",
              " 'ISIC_0000198_segmentationreduced.png',\n",
              " 'ISIC_0000198_segmentation_final_size.png',\n",
              " 'ISIC_0000198_segmentation_final_size2.png',\n",
              " 'ISIC_0000199_segmentation.png',\n",
              " 'ISIC_0000199_segmentationfinal_size.png',\n",
              " 'ISIC_0000199_segmentationreduced.png',\n",
              " 'ISIC_0000199_segmentation_final_size.png',\n",
              " 'ISIC_0000199_segmentation_final_size2.png',\n",
              " 'ISIC_0000200_segmentation.png',\n",
              " 'ISIC_0000200_segmentationfinal_size.png',\n",
              " 'ISIC_0000200_segmentationreduced.png',\n",
              " 'ISIC_0000200_segmentation_final_size.png',\n",
              " 'ISIC_0000200_segmentation_final_size2.png',\n",
              " 'ISIC_0000201_segmentation.png',\n",
              " 'ISIC_0000201_segmentationfinal_size.png',\n",
              " 'ISIC_0000201_segmentationreduced.png',\n",
              " 'ISIC_0000201_segmentation_final_size.png',\n",
              " 'ISIC_0000201_segmentation_final_size2.png',\n",
              " 'ISIC_0000202_segmentation.png',\n",
              " 'ISIC_0000202_segmentationfinal_size.png',\n",
              " 'ISIC_0000202_segmentationreduced.png',\n",
              " 'ISIC_0000202_segmentation_final_size.png',\n",
              " 'ISIC_0000202_segmentation_final_size2.png',\n",
              " 'ISIC_0000203_segmentation.png',\n",
              " 'ISIC_0000203_segmentationfinal_size.png',\n",
              " 'ISIC_0000203_segmentationreduced.png',\n",
              " 'ISIC_0000203_segmentation_final_size.png',\n",
              " 'ISIC_0000203_segmentation_final_size2.png',\n",
              " 'ISIC_0000204_segmentation.png',\n",
              " 'ISIC_0000204_segmentationfinal_size.png',\n",
              " 'ISIC_0000204_segmentationreduced.png',\n",
              " 'ISIC_0000204_segmentation_final_size.png',\n",
              " 'ISIC_0000204_segmentation_final_size2.png',\n",
              " 'ISIC_0000205_segmentation.png',\n",
              " 'ISIC_0000205_segmentationfinal_size.png',\n",
              " 'ISIC_0000205_segmentationreduced.png',\n",
              " 'ISIC_0000205_segmentation_final_size.png',\n",
              " 'ISIC_0000205_segmentation_final_size2.png',\n",
              " 'ISIC_0000206_segmentation.png',\n",
              " 'ISIC_0000206_segmentationfinal_size.png',\n",
              " 'ISIC_0000206_segmentationreduced.png',\n",
              " 'ISIC_0000206_segmentation_final_size.png',\n",
              " 'ISIC_0000206_segmentation_final_size2.png',\n",
              " 'ISIC_0000207_segmentation.png',\n",
              " 'ISIC_0000207_segmentationfinal_size.png',\n",
              " 'ISIC_0000207_segmentationreduced.png',\n",
              " 'ISIC_0000207_segmentation_final_size.png',\n",
              " 'ISIC_0000207_segmentation_final_size2.png',\n",
              " 'ISIC_0000208_segmentation.png',\n",
              " 'ISIC_0000208_segmentationfinal_size.png',\n",
              " 'ISIC_0000208_segmentationreduced.png',\n",
              " 'ISIC_0000208_segmentation_final_size.png',\n",
              " 'ISIC_0000208_segmentation_final_size2.png',\n",
              " 'ISIC_0000209_segmentation.png',\n",
              " 'ISIC_0000209_segmentationfinal_size.png',\n",
              " 'ISIC_0000209_segmentationreduced.png',\n",
              " 'ISIC_0000209_segmentation_final_size.png',\n",
              " 'ISIC_0000209_segmentation_final_size2.png',\n",
              " 'ISIC_0000210_segmentation.png',\n",
              " 'ISIC_0000210_segmentationfinal_size.png',\n",
              " 'ISIC_0000210_segmentationreduced.png',\n",
              " 'ISIC_0000210_segmentation_final_size.png',\n",
              " 'ISIC_0000210_segmentation_final_size2.png',\n",
              " 'ISIC_0000211_segmentation.png',\n",
              " 'ISIC_0000211_segmentationfinal_size.png',\n",
              " 'ISIC_0000211_segmentationreduced.png',\n",
              " 'ISIC_0000211_segmentation_final_size.png',\n",
              " 'ISIC_0000211_segmentation_final_size2.png',\n",
              " 'ISIC_0000212_segmentation.png',\n",
              " 'ISIC_0000212_segmentationfinal_size.png',\n",
              " 'ISIC_0000212_segmentationreduced.png',\n",
              " 'ISIC_0000212_segmentation_final_size.png',\n",
              " 'ISIC_0000212_segmentation_final_size2.png',\n",
              " 'ISIC_0000213_segmentation.png',\n",
              " 'ISIC_0000213_segmentationfinal_size.png',\n",
              " 'ISIC_0000213_segmentationreduced.png',\n",
              " 'ISIC_0000213_segmentation_final_size.png',\n",
              " 'ISIC_0000213_segmentation_final_size2.png',\n",
              " 'ISIC_0000214_segmentation.png',\n",
              " 'ISIC_0000214_segmentationfinal_size.png',\n",
              " 'ISIC_0000214_segmentationreduced.png',\n",
              " 'ISIC_0000214_segmentation_final_size.png',\n",
              " 'ISIC_0000214_segmentation_final_size2.png',\n",
              " 'ISIC_0000215_segmentation.png',\n",
              " 'ISIC_0000215_segmentationfinal_size.png',\n",
              " 'ISIC_0000215_segmentationreduced.png',\n",
              " 'ISIC_0000215_segmentation_final_size.png',\n",
              " 'ISIC_0000215_segmentation_final_size2.png',\n",
              " 'ISIC_0000216_segmentation.png',\n",
              " 'ISIC_0000216_segmentationfinal_size.png',\n",
              " 'ISIC_0000216_segmentationreduced.png',\n",
              " 'ISIC_0000216_segmentation_final_size.png',\n",
              " 'ISIC_0000216_segmentation_final_size2.png',\n",
              " 'ISIC_0000217_segmentation.png',\n",
              " 'ISIC_0000217_segmentationfinal_size.png',\n",
              " 'ISIC_0000217_segmentationreduced.png',\n",
              " 'ISIC_0000217_segmentation_final_size.png',\n",
              " 'ISIC_0000217_segmentation_final_size2.png',\n",
              " 'ISIC_0000218_segmentation.png',\n",
              " 'ISIC_0000218_segmentationfinal_size.png',\n",
              " 'ISIC_0000218_segmentationreduced.png',\n",
              " 'ISIC_0000218_segmentation_final_size.png',\n",
              " 'ISIC_0000218_segmentation_final_size2.png',\n",
              " 'ISIC_0000219_segmentation.png',\n",
              " 'ISIC_0000219_segmentationfinal_size.png',\n",
              " 'ISIC_0000219_segmentationreduced.png',\n",
              " 'ISIC_0000219_segmentation_final_size.png',\n",
              " 'ISIC_0000219_segmentation_final_size2.png',\n",
              " 'ISIC_0000220_segmentation.png',\n",
              " 'ISIC_0000220_segmentationfinal_size.png',\n",
              " 'ISIC_0000220_segmentationreduced.png',\n",
              " 'ISIC_0000220_segmentation_final_size.png',\n",
              " ...]"
            ]
          },
          "metadata": {
            "tags": []
          },
          "execution_count": 21
        }
      ]
    },
    {
      "cell_type": "code",
      "metadata": {
        "id": "hK4yqeJafNzD",
        "colab_type": "code",
        "colab": {}
      },
      "source": [
        "filename = filenames[3]\n",
        "filepath = os.path.join(root, filename)\n",
        "seg = ndimage.imread(filepath, mode=\"L\")"
      ],
      "execution_count": 0,
      "outputs": []
    },
    {
      "cell_type": "code",
      "metadata": {
        "id": "ywAIbXWifNzF",
        "colab_type": "code",
        "colab": {},
        "outputId": "7d09497f-c29d-4372-b06b-2ecfe11d289b"
      },
      "source": [
        "seg.shape"
      ],
      "execution_count": 0,
      "outputs": [
        {
          "output_type": "execute_result",
          "data": {
            "text/plain": [
              "(21, 28)"
            ]
          },
          "metadata": {
            "tags": []
          },
          "execution_count": 23
        }
      ]
    },
    {
      "cell_type": "code",
      "metadata": {
        "id": "WNLxVopWfNzI",
        "colab_type": "code",
        "colab": {},
        "outputId": "1c167649-1c67-4f50-94ba-33341092df7e"
      },
      "source": [
        "image = segs[2593,:,:]\n",
        "plt.imshow(image)\n",
        "plt.show()"
      ],
      "execution_count": 0,
      "outputs": [
        {
          "output_type": "display_data",
          "data": {
            "image/png": "[encoded data removed]",
            "text/plain": [
              "<matplotlib.figure.Figure at 0x20e7207bda0>"
            ]
          },
          "metadata": {
            "tags": []
          }
        }
      ]
    },
    {
      "cell_type": "code",
      "metadata": {
        "id": "mR6OM_mcfNzK",
        "colab_type": "code",
        "colab": {},
        "outputId": "ee34bccd-f74f-478e-d46a-0858c109972c"
      },
      "source": [
        "image = image = ndimage.imread(filepath, mode=\"RGB\")\n",
        "plt.imshow(image)\n",
        "plt.show()"
      ],
      "execution_count": 0,
      "outputs": [
        {
          "output_type": "display_data",
          "data": {
            "image/png": "[encoded data removed]",
            "text/plain": [
              "<matplotlib.figure.Figure at 0x20e720ffdd8>"
            ]
          },
          "metadata": {
            "tags": []
          }
        }
      ]
    },
    {
      "cell_type": "markdown",
      "metadata": {
        "id": "J8N4Xlk9fNzN",
        "colab_type": "text"
      },
      "source": [
        "### Helper Functions"
      ]
    },
    {
      "cell_type": "markdown",
      "metadata": {
        "id": "IS6Tms7_fNzN",
        "colab_type": "text"
      },
      "source": [
        "Function to help intialize random weights for fully connected or convolutional layers, we leave the shape attribute as a parameter for this."
      ]
    },
    {
      "cell_type": "code",
      "metadata": {
        "collapsed": true,
        "id": "nwxTUCjRfNzO",
        "colab_type": "code",
        "colab": {}
      },
      "source": [
        "from sklearn.model_selection import train_test_split\n",
        "trainim, testim, trainlab, testlab = train_test_split(images, segs, test_size = 0.3) #this is randomized each time the program is started and run from scratch"
      ],
      "execution_count": 0,
      "outputs": []
    },
    {
      "cell_type": "code",
      "metadata": {
        "id": "gIxY01G3fNzQ",
        "colab_type": "code",
        "colab": {},
        "outputId": "1cfe37ec-38ba-49bc-c6d3-e3737cc332b7"
      },
      "source": [
        "trainim.shape"
      ],
      "execution_count": 0,
      "outputs": [
        {
          "output_type": "execute_result",
          "data": {
            "text/plain": [
              "(5447, 96, 128, 3)"
            ]
          },
          "metadata": {
            "tags": []
          },
          "execution_count": 27
        }
      ]
    },
    {
      "cell_type": "code",
      "metadata": {
        "id": "G-zXpjhkfNzS",
        "colab_type": "code",
        "colab": {},
        "outputId": "552cc049-10c0-4ef0-f8e9-c58e63ebc3dc"
      },
      "source": [
        "np.max(testlab)"
      ],
      "execution_count": 0,
      "outputs": [
        {
          "output_type": "execute_result",
          "data": {
            "text/plain": [
              "255"
            ]
          },
          "metadata": {
            "tags": []
          },
          "execution_count": 28
        }
      ]
    },
    {
      "cell_type": "code",
      "metadata": {
        "id": "ndDyqlFhfNzU",
        "colab_type": "code",
        "colab": {},
        "outputId": "b37c937d-a936-4e52-c612-a868f14bcc54"
      },
      "source": [
        "testlab.shape"
      ],
      "execution_count": 0,
      "outputs": [
        {
          "output_type": "execute_result",
          "data": {
            "text/plain": [
              "(2335, 96, 128)"
            ]
          },
          "metadata": {
            "tags": []
          },
          "execution_count": 29
        }
      ]
    },
    {
      "cell_type": "code",
      "metadata": {
        "collapsed": true,
        "id": "x0Kb2P4tfNzX",
        "colab_type": "code",
        "colab": {}
      },
      "source": [
        "training_labels = np.around(trainlab/255)"
      ],
      "execution_count": 0,
      "outputs": []
    },
    {
      "cell_type": "code",
      "metadata": {
        "id": "4C4pwHf7fNza",
        "colab_type": "code",
        "colab": {},
        "outputId": "c0f04eb4-23ad-4ff2-8b66-b6753516a1d3"
      },
      "source": [
        "image = training_labels[5,:,:]\n",
        "plt.imshow(image)\n",
        "plt.show()"
      ],
      "execution_count": 0,
      "outputs": [
        {
          "output_type": "display_data",
          "data": {
            "image/png": "[encoded data removed]",
            "text/plain": [
              "<matplotlib.figure.Figure at 0x20e71fecf28>"
            ]
          },
          "metadata": {
            "tags": []
          }
        }
      ]
    },
    {
      "cell_type": "code",
      "metadata": {
        "collapsed": true,
        "id": "8_8a19MbfNzd",
        "colab_type": "code",
        "colab": {}
      },
      "source": [
        "class MelHelper():\n",
        "    \n",
        "    def __init__(self):\n",
        "        self.i = 0\n",
        "        \n",
        "        ####Can probably eliminate this part ####\n",
        "        \n",
        "        # Grabs a list of all the data batches for training\n",
        "        #self.all_train_batches = [data_batch1,data_batch2,data_batch3,data_batch4,data_batch5]\n",
        "        # Grabs a list of all the test batches (really just one batch)\n",
        "        #self.test_batch = [test_batch]\n",
        "        \n",
        "        ###eliminate####\n",
        "        \n",
        "        # Intialize some empty variables for later on\n",
        "        self.training_images = None\n",
        "        self.training_labels = None\n",
        "        \n",
        "        self.test_images = None\n",
        "        self.test_labels = None\n",
        "    \n",
        "    def set_up_images(self):\n",
        "        \n",
        "        print(\"Setting Up Training Images and Labels\")\n",
        "        \n",
        "        ###Not Needed####\n",
        "        # Vertically stacks the training images\n",
        "        #self.training_images = np.vstack([d[b\"data\"] for d in self.all_train_batches])  #insert images here, make sure they are \n",
        "        #vetically stacked##\n",
        "        #train_len = len(self.training_images)\n",
        "        \n",
        "        # Reshapes and normalizes training images\n",
        "        self.training_images = trainim/255   #normalize only ->replace with images with training set later\n",
        "                                #self.training_images.reshape(train_len,3,32,32).transpose(0,2,3,1)/255\n",
        "        # One hot Encodes the training labels (e.g. [0,0,0,1,0,0,0,0,0,0])\n",
        "        \n",
        "        ##May need to replace this with code that rounds a humber to 0 or 1 for the mask ##\n",
        "        self.training_labels = np.around(trainlab/255) #one_hot_encode(np.hstack([d[b\"labels\"] for d in self.all_train_batches]), 10)\n",
        "        \n",
        "        print(\"Setting Up Test Images and Labels\")\n",
        "        \n",
        "        # Vertically stacks the test images\n",
        "        #self.test_images = np.vstack([d[b\"data\"] for d in self.test_batch])\n",
        "        #test_len = len(self.test_images)\n",
        "        \n",
        "        # Reshapes and normalizes test images\n",
        "        self.test_images = testim/255 #self.test_images.reshape(test_len,3,32,32).transpose(0,2,3,1)/255\n",
        "        # One hot Encodes the test labels (e.g. [0,0,0,1,0,0,0,0,0,0])\n",
        "        self.test_labels = np.around(testlab/255).reshape(-1,96*128) #one_hot_encode(np.hstack([d[b\"labels\"] for d in self.test_batch]), 10)\n",
        "        \n",
        "    def next_batch(self, batch_size):\n",
        "        # Note that the 100 dimension in the reshape call is set by an assumed batch size of 100 - this is now a mistake\n",
        "        xtra = (self.i + batch_size) % len(self.training_images)\n",
        "        if xtra<batch_size and xtra != 0:\n",
        "            x = np.vstack((self.training_images[self.i:self.i+batch_size], self.training_images[0:xtra])) #.reshape(100,32,32,3)  #why is this necessary?\n",
        "            y = np.vstack((self.training_labels[self.i:self.i+batch_size].reshape(-1,21*28), self.training_labels[0:xtra].reshape(-1,21*28)))\n",
        "        else:\n",
        "            x = self.training_images[self.i:self.i+batch_size] #.reshape(100,32,32,3)  #why is this necessary?\n",
        "            y = self.training_labels[self.i:self.i+batch_size].reshape(-1,96*128)\n",
        "        \n",
        "        self.i = xtra \n",
        "        return x, y"
      ],
      "execution_count": 0,
      "outputs": []
    },
    {
      "cell_type": "code",
      "metadata": {
        "collapsed": true,
        "id": "LTmLVENAfNze",
        "colab_type": "code",
        "colab": {}
      },
      "source": [
        "def init_weights(shape):\n",
        "    init_random_dist = tf.truncated_normal(shape, stddev=0.1)\n",
        "    return tf.Variable(init_random_dist)"
      ],
      "execution_count": 0,
      "outputs": []
    },
    {
      "cell_type": "markdown",
      "metadata": {
        "id": "83Yh6X2mfNzg",
        "colab_type": "text"
      },
      "source": [
        "Same as init_weights, but for the biases"
      ]
    },
    {
      "cell_type": "code",
      "metadata": {
        "collapsed": true,
        "id": "Dd3vlocsfNzg",
        "colab_type": "code",
        "colab": {}
      },
      "source": [
        "def init_bias(shape):\n",
        "    init_bias_vals = tf.constant(0.1, shape=shape)\n",
        "    return tf.Variable(init_bias_vals)"
      ],
      "execution_count": 0,
      "outputs": []
    },
    {
      "cell_type": "markdown",
      "metadata": {
        "id": "EyF20ufBfNzi",
        "colab_type": "text"
      },
      "source": [
        "Create a 2D convolution using builtin conv2d from TF. From those docs:\n",
        "\n",
        "Computes a 2-D convolution given 4-D `input` and `filter` tensors.\n",
        "\n",
        "Given an input tensor of shape `[batch, in_height, in_width, in_channels]`\n",
        "and a filter / kernel tensor of shape\n",
        "`[filter_height, filter_width, in_channels, out_channels]`, this op\n",
        "performs the following:\n",
        "\n",
        "1. Flattens the filter to a 2-D matrix with shape\n",
        "   `[filter_height * filter_width * in_channels, output_channels]`.\n",
        "2. Extracts image patches from the input tensor to form a *virtual*\n",
        "   tensor of shape `[batch, out_height, out_width,\n",
        "   filter_height * filter_width * in_channels]`.\n",
        "3. For each patch, right-multiplies the filter matrix and the image patch\n",
        "   vector.\n"
      ]
    },
    {
      "cell_type": "code",
      "metadata": {
        "collapsed": true,
        "id": "fvrLH9wufNzj",
        "colab_type": "code",
        "colab": {}
      },
      "source": [
        "def conv2d(x, W):\n",
        "    return tf.nn.conv2d(x, W, strides=[1, 1, 1, 1], padding='SAME')"
      ],
      "execution_count": 0,
      "outputs": []
    },
    {
      "cell_type": "code",
      "metadata": {
        "collapsed": true,
        "id": "dofb-mrtfNzm",
        "colab_type": "code",
        "colab": {}
      },
      "source": [
        "def deconv2d(x, shape):\n",
        "    return tf.layers.conv2d_transpose(x, shape[3], shape[0:2])"
      ],
      "execution_count": 0,
      "outputs": []
    },
    {
      "cell_type": "markdown",
      "metadata": {
        "id": "MXGFwjkxfNzn",
        "colab_type": "text"
      },
      "source": [
        "Create a max pooling layer, again using built in TF functions:\n",
        "\n",
        "Performs the max pooling on the input.\n",
        "\n",
        "    Args:\n",
        "      value: A 4-D `Tensor` with shape `[batch, height, width, channels]` and\n",
        "        type `tf.float32`.\n",
        "      ksize: A list of ints that has length >= 4.  The size of the window for\n",
        "        each dimension of the input tensor.\n",
        "      strides: A list of ints that has length >= 4.  The stride of the sliding\n",
        "        window for each dimension of the input tensor.\n",
        "      padding: A string, either `'VALID'` or `'SAME'`. "
      ]
    },
    {
      "cell_type": "code",
      "metadata": {
        "collapsed": true,
        "id": "BIO9pWjXfNzp",
        "colab_type": "code",
        "colab": {}
      },
      "source": [
        "def max_pool_2by2(x):\n",
        "    return tf.nn.max_pool(x, ksize=[1, 2, 2, 1], \n",
        "                          strides=[1, 2, 2, 1], padding='SAME')"
      ],
      "execution_count": 0,
      "outputs": []
    },
    {
      "cell_type": "markdown",
      "metadata": {
        "id": "9VqEnybqfNzs",
        "colab_type": "text"
      },
      "source": [
        "Using the conv2d function, we'll return an actual convolutional layer here that uses an ReLu activation."
      ]
    },
    {
      "cell_type": "code",
      "metadata": {
        "collapsed": true,
        "id": "OS9b-naGfNzt",
        "colab_type": "code",
        "colab": {}
      },
      "source": [
        "def convolutional_layer(input_x, shape):\n",
        "    W = init_weights(shape)\n",
        "    b = init_bias([shape[3]])\n",
        "    return tf.nn.relu(conv2d(input_x, W) + b)"
      ],
      "execution_count": 0,
      "outputs": []
    },
    {
      "cell_type": "markdown",
      "metadata": {
        "id": "_0-cGJDsfNzu",
        "colab_type": "text"
      },
      "source": [
        "This is a normal fully connected layer"
      ]
    },
    {
      "cell_type": "code",
      "metadata": {
        "collapsed": true,
        "id": "w9tiw8fKfNzv",
        "colab_type": "code",
        "colab": {}
      },
      "source": [
        "def normal_full_layer(input_layer, size):\n",
        "    input_size = int(input_layer.get_shape()[1])\n",
        "    W = init_weights([input_size, size])\n",
        "    b = init_bias([size])\n",
        "    return tf.matmul(input_layer, W) + b"
      ],
      "execution_count": 0,
      "outputs": []
    },
    {
      "cell_type": "code",
      "metadata": {
        "collapsed": true,
        "id": "RoKldfkxfNzy",
        "colab_type": "code",
        "colab": {}
      },
      "source": [
        "def deconvolutional_layer(input_x, shape):\n",
        "    #W = init_weights(shape)\n",
        "    b = init_bias([shape[3]])  #draw this out to see if it makes sense\n",
        "    return tf.nn.relu(deconv2d(input_x, shape) +b)"
      ],
      "execution_count": 0,
      "outputs": []
    },
    {
      "cell_type": "markdown",
      "metadata": {
        "id": "p2rwibDxfNzz",
        "colab_type": "text"
      },
      "source": [
        "### Placeholders"
      ]
    },
    {
      "cell_type": "code",
      "metadata": {
        "collapsed": true,
        "id": "8E82SWUmfNz0",
        "colab_type": "code",
        "colab": {}
      },
      "source": [
        "x = tf.placeholder(tf.float32,shape=[None,96,128,3])  #trace the shaping of these through the code...\n"
      ],
      "execution_count": 0,
      "outputs": []
    },
    {
      "cell_type": "code",
      "metadata": {
        "collapsed": true,
        "id": "U2djuEyMfNz1",
        "colab_type": "code",
        "colab": {}
      },
      "source": [
        "y_true = tf.placeholder(tf.float32,shape=[None,96*128])  #this now has every pixel in the ground truth segmentation"
      ],
      "execution_count": 0,
      "outputs": []
    },
    {
      "cell_type": "markdown",
      "metadata": {
        "id": "IzopPGJyfNz5",
        "colab_type": "text"
      },
      "source": [
        "### Layers"
      ]
    },
    {
      "cell_type": "code",
      "metadata": {
        "collapsed": true,
        "id": "6YyKmti2fNz5",
        "colab_type": "code",
        "colab": {}
      },
      "source": [
        "x_image = tf.reshape(x,[-1,96,128,3])  #-1 infers the shape of the first dimension (here, the batch size)"
      ],
      "execution_count": 0,
      "outputs": []
    },
    {
      "cell_type": "code",
      "metadata": {
        "collapsed": true,
        "id": "B2zOibybfNz7",
        "colab_type": "code",
        "colab": {}
      },
      "source": [
        "# Using a 6by6 filter here, used 5by5 in video, you can play around with the filter size\n",
        "# You can change the 32 output, that essentially represents the amount of filters used\n",
        "# You need to pass in 32 to the next input though, the 1 comes from the original input of \n",
        "# a single image.\n",
        "convo_1 = convolutional_layer(x_image,shape=[3,3,3,16])\n",
        "convo_1_pooling = max_pool_2by2(convo_1)"
      ],
      "execution_count": 0,
      "outputs": []
    },
    {
      "cell_type": "code",
      "metadata": {
        "collapsed": true,
        "id": "Tjs326AsfNz9",
        "colab_type": "code",
        "colab": {}
      },
      "source": [
        "# Using a 6by6 filter here, used 5by5 in video, you can play around with the filter size\n",
        "# You can actually change the 64 output if you want, you can think of that as a representation\n",
        "# of the amount of 6by6 filters used.\n",
        "convo_2 = convolutional_layer(convo_1_pooling,shape=[3,3,16,16])\n",
        "convo_2_pooling = max_pool_2by2(convo_2)"
      ],
      "execution_count": 0,
      "outputs": []
    },
    {
      "cell_type": "code",
      "metadata": {
        "collapsed": true,
        "id": "ZSeZobE1fNz_",
        "colab_type": "code",
        "colab": {}
      },
      "source": [
        "#print(convo_2_pooling.shape)"
      ],
      "execution_count": 0,
      "outputs": []
    },
    {
      "cell_type": "code",
      "metadata": {
        "collapsed": true,
        "id": "g0yF11JTfN0B",
        "colab_type": "code",
        "colab": {}
      },
      "source": [
        "# Using a 6by6 filter here, used 5by5 in video, you can play around with the filter size\n",
        "## You can actually change the 64 output if you want, you can think of that as a representation\n",
        "# of the amount of 6by6 filters used.\n",
        "convo_3 = convolutional_layer(convo_2,shape=[3,3,16,32])\n",
        "convo_3_pooling = max_pool_2by2(convo_3)"
      ],
      "execution_count": 0,
      "outputs": []
    },
    {
      "cell_type": "code",
      "metadata": {
        "collapsed": true,
        "id": "kW50R3CKfN0C",
        "colab_type": "code",
        "colab": {}
      },
      "source": [
        ""
      ],
      "execution_count": 0,
      "outputs": []
    },
    {
      "cell_type": "code",
      "metadata": {
        "id": "F1OFvnKJfN0F",
        "colab_type": "code",
        "colab": {},
        "outputId": "0ccfc448-d71b-4059-eee4-d6ef98fff71a"
      },
      "source": [
        "print(convo_3_pooling.shape)"
      ],
      "execution_count": 0,
      "outputs": [
        {
          "output_type": "stream",
          "text": [
            "(?, 24, 32, 32)\n"
          ],
          "name": "stdout"
        }
      ]
    },
    {
      "cell_type": "code",
      "metadata": {
        "collapsed": true,
        "id": "lK5Ch1YKfN0I",
        "colab_type": "code",
        "colab": {}
      },
      "source": [
        "# Using a 6by6 filter here, used 5by5 in video, you can play around with the filter size\n",
        "# You can actually change the 64 output if you want, you can think of that as a representation\n",
        "# of the amount of 6by6 filters used.\n",
        "convo_4 = convolutional_layer(convo_3_pooling,shape=[3,3,32,64])\n",
        "convo_4_pooling = max_pool_2by2(convo_4)"
      ],
      "execution_count": 0,
      "outputs": []
    },
    {
      "cell_type": "code",
      "metadata": {
        "id": "XLw9sqc3fN0J",
        "colab_type": "code",
        "colab": {},
        "outputId": "a0708029-9655-48a9-d8a4-5cb7535713b1"
      },
      "source": [
        "print(convo_4_pooling.shape)"
      ],
      "execution_count": 0,
      "outputs": [
        {
          "output_type": "stream",
          "text": [
            "(?, 12, 16, 64)\n"
          ],
          "name": "stdout"
        }
      ]
    },
    {
      "cell_type": "code",
      "metadata": {
        "collapsed": true,
        "id": "mrjbYcoHfN0L",
        "colab_type": "code",
        "colab": {}
      },
      "source": [
        "convo_5 = convolutional_layer(convo_4,shape=[3,3,64,128])\n",
        "#convo_5_pooling = max_pool_2by2(convo_5)"
      ],
      "execution_count": 0,
      "outputs": []
    },
    {
      "cell_type": "code",
      "metadata": {
        "id": "AUhatLBVfN0M",
        "colab_type": "code",
        "colab": {},
        "outputId": "7cb743a7-0acc-49e4-c095-d4b9ddaa3ef7"
      },
      "source": [
        "print(convo_5.shape)"
      ],
      "execution_count": 0,
      "outputs": [
        {
          "output_type": "stream",
          "text": [
            "(?, 24, 32, 128)\n"
          ],
          "name": "stdout"
        }
      ]
    },
    {
      "cell_type": "code",
      "metadata": {
        "collapsed": true,
        "id": "2umt_QNxfN0O",
        "colab_type": "code",
        "colab": {}
      },
      "source": [
        "convo_6 = convolutional_layer(convo_5,shape=[3,3,128,256])\n",
        "#convo_6_pooling = max_pool_2by2(convo_6)"
      ],
      "execution_count": 0,
      "outputs": []
    },
    {
      "cell_type": "code",
      "metadata": {
        "id": "q1RQ1ZCcfN0Q",
        "colab_type": "code",
        "colab": {},
        "outputId": "42be2bac-3787-4d11-9030-093dd15720cf"
      },
      "source": [
        "print(convo_6.shape)"
      ],
      "execution_count": 0,
      "outputs": [
        {
          "output_type": "stream",
          "text": [
            "(?, 24, 32, 256)\n"
          ],
          "name": "stdout"
        }
      ]
    },
    {
      "cell_type": "code",
      "metadata": {
        "collapsed": true,
        "id": "lnPU1krEfN0S",
        "colab_type": "code",
        "colab": {}
      },
      "source": [
        "deconv_6 = deconvolutional_layer(convo_6, shape = [3,3,256,128])"
      ],
      "execution_count": 0,
      "outputs": []
    },
    {
      "cell_type": "code",
      "metadata": {
        "id": "OA6GQlpwfN0U",
        "colab_type": "code",
        "colab": {},
        "outputId": "cc33fdd3-5efd-4554-e609-8113b3228e23"
      },
      "source": [
        "deconv_6.shape"
      ],
      "execution_count": 0,
      "outputs": [
        {
          "output_type": "execute_result",
          "data": {
            "text/plain": [
              "TensorShape([Dimension(None), Dimension(26), Dimension(34), Dimension(128)])"
            ]
          },
          "metadata": {
            "tags": []
          },
          "execution_count": 56
        }
      ]
    },
    {
      "cell_type": "code",
      "metadata": {
        "collapsed": true,
        "id": "KIx6JFX7fN0X",
        "colab_type": "code",
        "colab": {}
      },
      "source": [
        "# Why 7 by 7 image? Because we did 2 pooling layers, so (28/2)/2 = 7\n",
        "# 64 then just comes from the output of the previous Convolution\n",
        "deconvo_6_flat = tf.reshape(deconv_6,[-1,26*34*128])\n",
        "full_layer_one = tf.nn.relu(normal_full_layer(deconvo_6_flat,96*128))"
      ],
      "execution_count": 0,
      "outputs": []
    },
    {
      "cell_type": "code",
      "metadata": {
        "id": "_RJR5cksfN0Z",
        "colab_type": "code",
        "colab": {},
        "outputId": "d1e2edca-ee64-4084-dcd9-aa2b95c6e34f"
      },
      "source": [
        "print(full_layer_one.shape)\n"
      ],
      "execution_count": 0,
      "outputs": [
        {
          "output_type": "stream",
          "text": [
            "(?, 12288)\n"
          ],
          "name": "stdout"
        }
      ]
    },
    {
      "cell_type": "code",
      "metadata": {
        "collapsed": true,
        "id": "BUOuhsoqfN0a",
        "colab_type": "code",
        "colab": {}
      },
      "source": [
        "# NOTE THE PLACEHOLDER HERE!\n",
        "hold_prob = tf.placeholder(tf.float32)\n",
        "\n",
        "full_one_dropout = tf.nn.dropout(full_layer_one,keep_prob=hold_prob)"
      ],
      "execution_count": 0,
      "outputs": []
    },
    {
      "cell_type": "code",
      "metadata": {
        "collapsed": true,
        "id": "iEiMBW0bfN0c",
        "colab_type": "code",
        "colab": {}
      },
      "source": [
        "#full_layer_two = tf.nn.relu(normal_full_layer(full_one_dropout,96*128))\n"
      ],
      "execution_count": 0,
      "outputs": []
    },
    {
      "cell_type": "code",
      "metadata": {
        "collapsed": true,
        "id": "0gv4a5-ffN0d",
        "colab_type": "code",
        "colab": {}
      },
      "source": [
        "#full_layer_three = tf.nn.relu(normal_full_layer(full_layer_two,192*256))\n"
      ],
      "execution_count": 0,
      "outputs": []
    },
    {
      "cell_type": "markdown",
      "metadata": {
        "id": "EEAI_bK3fN0e",
        "colab_type": "text"
      },
      "source": [
        "deconv_layer_one = "
      ]
    },
    {
      "cell_type": "markdown",
      "metadata": {
        "id": "MvXbU049fN0e",
        "colab_type": "text"
      },
      "source": [
        "## Augment the output with a direct connection to the input photo"
      ]
    },
    {
      "cell_type": "markdown",
      "metadata": {
        "id": "2EuKsLJ0fN0f",
        "colab_type": "text"
      },
      "source": [
        "#do not use for now\n",
        "\n",
        "flat_in = tf.reshape(x,[-1,1764])\n",
        "aug = tf.concat([flat_in, full_one_dropout], axis = 1)\n",
        "print(flat_in.shape)\n",
        "print(full_one_dropout.shape)\n",
        "print(aug.shape)\n",
        "##need to think about how to concatenate these"
      ]
    },
    {
      "cell_type": "markdown",
      "metadata": {
        "id": "uI1iPuAlfN0f",
        "colab_type": "text"
      },
      "source": [
        "\n",
        "full_one_plus_in = tf.convert_to_tensor(aug, dtype=tf.float32)"
      ]
    },
    {
      "cell_type": "markdown",
      "metadata": {
        "id": "OMWgjB_8fN0g",
        "colab_type": "text"
      },
      "source": [
        "type(full_one_dropout)"
      ]
    },
    {
      "cell_type": "code",
      "metadata": {
        "id": "Zk0vZ8CofN0g",
        "colab_type": "code",
        "colab": {}
      },
      "source": [
        "y_pred = normal_full_layer(full_one_dropout, 96*128)"
      ],
      "execution_count": 0,
      "outputs": []
    },
    {
      "cell_type": "markdown",
      "metadata": {
        "id": "kzfSiPBifN0i",
        "colab_type": "text"
      },
      "source": [
        "### Loss Function"
      ]
    },
    {
      "cell_type": "code",
      "metadata": {
        "id": "gGxLHevsfN0i",
        "colab_type": "code",
        "colab": {}
      },
      "source": [
        "cross_entropy = tf.reduce_mean(tf.nn.sigmoid_cross_entropy_with_logits(labels=y_true,logits=y_pred))"
      ],
      "execution_count": 0,
      "outputs": []
    },
    {
      "cell_type": "code",
      "metadata": {
        "collapsed": true,
        "id": "OwrgZr8WfN0k",
        "colab_type": "code",
        "colab": {}
      },
      "source": [
        ""
      ],
      "execution_count": 0,
      "outputs": []
    },
    {
      "cell_type": "markdown",
      "metadata": {
        "id": "Vd8V8rTafN0l",
        "colab_type": "text"
      },
      "source": [
        "### Optimizer"
      ]
    },
    {
      "cell_type": "code",
      "metadata": {
        "collapsed": true,
        "id": "ShpM5aWifN0m",
        "colab_type": "code",
        "colab": {}
      },
      "source": [
        "optimizer = tf.train.AdamOptimizer(learning_rate=0.003)\n",
        "train = optimizer.minimize(cross_entropy)   #can this be done for each pixel?"
      ],
      "execution_count": 0,
      "outputs": []
    },
    {
      "cell_type": "markdown",
      "metadata": {
        "id": "2pgeA03VfN0o",
        "colab_type": "text"
      },
      "source": [
        "### Intialize Variables"
      ]
    },
    {
      "cell_type": "code",
      "metadata": {
        "collapsed": true,
        "id": "b6p_q-h8fN0p",
        "colab_type": "code",
        "colab": {}
      },
      "source": [
        "init = tf.global_variables_initializer()"
      ],
      "execution_count": 0,
      "outputs": []
    },
    {
      "cell_type": "code",
      "metadata": {
        "collapsed": true,
        "id": "IJBnGN8bfN0r",
        "colab_type": "code",
        "colab": {}
      },
      "source": [
        "saver = tf.train.Saver()"
      ],
      "execution_count": 0,
      "outputs": []
    },
    {
      "cell_type": "markdown",
      "metadata": {
        "id": "uJSc-_gtfN0s",
        "colab_type": "text"
      },
      "source": [
        "### Session"
      ]
    },
    {
      "cell_type": "code",
      "metadata": {
        "id": "sCgyHGU9fN0s",
        "colab_type": "code",
        "colab": {},
        "outputId": "2b3737ec-9f1d-42a6-bd82-e15309a0ddfc"
      },
      "source": [
        "mel = MelHelper()\n",
        "mel.set_up_images()"
      ],
      "execution_count": 0,
      "outputs": [
        {
          "output_type": "stream",
          "text": [
            "Setting Up Training Images and Labels\n",
            "Setting Up Test Images and Labels\n"
          ],
          "name": "stdout"
        }
      ]
    },
    {
      "cell_type": "code",
      "metadata": {
        "scrolled": false,
        "id": "LvFchSc7fN0v",
        "colab_type": "code",
        "colab": {},
        "outputId": "df3f4a0f-3ffc-4b3e-b85a-234c6cb3ebca"
      },
      "source": [
        "steps = 10001\n",
        "import time\n",
        "batch_size = 1\n",
        "\n",
        "#use Cifar_helper to set up next batch\n",
        "with tf.Session() as sess:\n",
        "    sess.run(init)\n",
        "    print(\"done init\")\n",
        "    \n",
        "    start_time = time.clock()\n",
        "    \n",
        "    for i in range(steps): \n",
        "        batch_x, batch_y = mel.next_batch(batch_size)\n",
        "        #print(i)\n",
        "        #print(\"\\n\")\n",
        "        \n",
        "        #print(\"batch training labels shape is \", batch_y.shape)\n",
        "        #print(\"batch training labels type is \", batch_y.dtype)\n",
        "        #print(\"batch training labels are \", batch_y)\n",
        "        #print(\"batch training data are \", batch_x)\n",
        "        #image = batch_y.reshape(-1,21,28)[5,:,:]\n",
        "        sess.run(train,feed_dict={x:batch_x,y_true:batch_y,hold_prob:0.5})\n",
        "        #print(\"batch training prediction are \", batch_y)\n",
        "        #image_pred = sess.run(y_pred,feed_dict={x:batch_x,y_true:batch_y,hold_prob:1.0} ).reshape(-1,21,28)[5,:,:]\n",
        "        #image_pred = np.round(1/(1 + np.exp(-image_pred)))\n",
        "        \n",
        "        if i%100 == 0:\n",
        "            print('Currently on step {}'.format(i))\n",
        "            print(\"the time is \", time.clock() - start_time, \"\\n\")\n",
        "             #print(\"mel i is \", mel.i)\n",
        "             #plt.imshow(image)\n",
        "             #plt.show()\n",
        "             #plt.imshow(image_pred)\n",
        "             #plt.show()\n",
        "            \n",
        "            #print('Currently on step {}'.format(i))\n",
        "            #print('Accuracy is:')\n",
        "            # Test the Train Model\n",
        "            #matches = tf.equal(tf.argmax(y_pred,1),tf.argmax(y_true,1))\n",
        "\n",
        "            #acc = tf.reduce_mean(tf.cast(matches,tf.float32))\n",
        "\n",
        "            pred = tf.round(1/(1 + tf.exp(-tf.reshape(y_pred, [-1,21,28]))))\n",
        "            true = tf.reshape(y_true, [-1,21,28])\n",
        "          \n",
        "            # Test the Train Model\n",
        "            #matches = tf.equal(tf.argmax(y_pred,1),tf.argmax(y_true,1))  ###REPLACE THIS LINE TO INCLUDE JACARD INDEX####\n",
        "            #y_pred = tf.round(y_pred)\n",
        "            #y_true = tf.round(y_true)\n",
        "            \n",
        "            intersect = tf.reduce_sum(tf.cast(true*pred, tf.float32), axis = [1,2])\n",
        "            union = tf.reduce_sum(tf.cast(pred, tf.float32), axis = [1,2]) + tf.reduce_sum(tf.cast(true, tf.float32), axis = [1,2]) - intersect  #think this has an error\n",
        "            jacc = intersect/union\n",
        "            #acc = tf.reduce_mean(tf.cast(intersect,tf.float32))\n",
        "            #print(\"test labels shape is \", mel.test_labels.shape)\n",
        "            #print(\"\\n\")\n",
        "            \n",
        "            print('Avg Jacc is:')\n",
        "            J_out = sess.run([jacc, pred],feed_dict={x:mel.test_images,y_true:mel.test_labels,hold_prob:1.0})\n",
        "            print(np.sum(J_out[0])/J_out[0].shape[0], \" step number is \",  i, \" batch_size is \", batch_size)\n",
        "            #if i == 500:\n",
        "                #batch_size = 20\n",
        "            #if i == 25000:\n",
        "                #batch_size = 200\n",
        "            \n",
        "            #print out Jacc for training set and test set, Save Jacc and entropy to variable,\n",
        "            #print out step number\n",
        "            \n",
        "            #use larger pics\n",
        "            #print out and analyse cross entropy\n",
        "            #run with full training batch for several iterations\n",
        "            #pred = sess.run(pred,feed_dict={x:mel.test_images,y_true:mel.test_labels,hold_prob:1.0})\n",
        "            \n",
        "        if i == steps - 1:\n",
        "            \n",
        "            pred_pigment = sess.run([pred],feed_dict={x:pigs,hold_prob:1.0})\n",
        "            \n",
        "        #save_path = saver.save(sess, \"./model.ckpt\")"
      ],
      "execution_count": 0,
      "outputs": [
        {
          "output_type": "stream",
          "text": [
            "done init\n",
            "Currently on step 0\n",
            "the time is  171.70469281774717 \n",
            "\n",
            "Avg Jacc is:\n"
          ],
          "name": "stdout"
        }
      ]
    },
    {
      "cell_type": "markdown",
      "metadata": {
        "id": "ozKxJoKafN0x",
        "colab_type": "text"
      },
      "source": [
        "## Great Job!"
      ]
    },
    {
      "cell_type": "code",
      "metadata": {
        "collapsed": true,
        "id": "aPBW3tGrfN0x",
        "colab_type": "code",
        "colab": {}
      },
      "source": [
        "plt.imshow(pred_pigment[0][5,:,:])\n",
        "plt.show()"
      ],
      "execution_count": 0,
      "outputs": []
    },
    {
      "cell_type": "code",
      "metadata": {
        "collapsed": true,
        "id": "F065GTgDfN0y",
        "colab_type": "code",
        "colab": {}
      },
      "source": [
        "pigs.shape"
      ],
      "execution_count": 0,
      "outputs": []
    },
    {
      "cell_type": "code",
      "metadata": {
        "collapsed": true,
        "id": "hpT_cK9NfN01",
        "colab_type": "code",
        "colab": {}
      },
      "source": [
        "pred_pigment[0].shape"
      ],
      "execution_count": 0,
      "outputs": []
    },
    {
      "cell_type": "code",
      "metadata": {
        "collapsed": true,
        "id": "Zxfv9B0wfN03",
        "colab_type": "code",
        "colab": {}
      },
      "source": [
        "plt.imshow(pigment_image_show)\n",
        "plt.show()"
      ],
      "execution_count": 0,
      "outputs": []
    },
    {
      "cell_type": "code",
      "metadata": {
        "collapsed": true,
        "id": "JAPOpkOnfN05",
        "colab_type": "code",
        "colab": {}
      },
      "source": [
        "mask = np.zeros([21,28,3])#np.vstack([pred_pigment[0],pred_pigment[0],pred_pigment[0]])\n",
        "mask[:,:,0] = pred_pigment[0][0,:,:]\n",
        "mask[:,:,1] = pred_pigment[0][0,:,:]\n",
        "mask[:,:,2] = pred_pigment[0][0,:,:]\n",
        "#mask = 1-mask\n",
        "#mask = mask.astype(int)\n",
        "\n",
        "image = pigment_image_show\n",
        "#image[mask] = 0\n",
        "image2 = image*mask*255\n",
        "image1 = image*(1- mask)*255\n"
      ],
      "execution_count": 0,
      "outputs": []
    },
    {
      "cell_type": "code",
      "metadata": {
        "collapsed": true,
        "id": "sUdEkyQDfN06",
        "colab_type": "code",
        "colab": {}
      },
      "source": [
        "plt.imshow(image2)\n",
        "plt.show()"
      ],
      "execution_count": 0,
      "outputs": []
    },
    {
      "cell_type": "code",
      "metadata": {
        "collapsed": true,
        "id": "UOT68oxRfN08",
        "colab_type": "code",
        "colab": {}
      },
      "source": [
        "plt.imshow(image1)\n",
        "plt.show()"
      ],
      "execution_count": 0,
      "outputs": []
    },
    {
      "cell_type": "code",
      "metadata": {
        "collapsed": true,
        "id": "ajywFtjAfN09",
        "colab_type": "code",
        "colab": {}
      },
      "source": [
        "image2[:,:,0].shape"
      ],
      "execution_count": 0,
      "outputs": []
    },
    {
      "cell_type": "code",
      "metadata": {
        "collapsed": true,
        "id": "K24a-3W1fN0_",
        "colab_type": "code",
        "colab": {}
      },
      "source": [
        "red = image2[:,:,0].reshape(-1)"
      ],
      "execution_count": 0,
      "outputs": []
    },
    {
      "cell_type": "code",
      "metadata": {
        "collapsed": true,
        "id": "ONqRmNbgfN1A",
        "colab_type": "code",
        "colab": {}
      },
      "source": [
        "plt.hist(red, bins = 500, range = (0.1, red.max()))"
      ],
      "execution_count": 0,
      "outputs": []
    },
    {
      "cell_type": "code",
      "metadata": {
        "collapsed": true,
        "id": "Dx1I2TsyfN1B",
        "colab_type": "code",
        "colab": {}
      },
      "source": [
        "plt.show()"
      ],
      "execution_count": 0,
      "outputs": []
    },
    {
      "cell_type": "code",
      "metadata": {
        "collapsed": true,
        "id": "sr2dpX_dfN1C",
        "colab_type": "code",
        "colab": {}
      },
      "source": [
        "a2 = np.average(red, weights = mask[:,:,0].reshape(-1))"
      ],
      "execution_count": 0,
      "outputs": []
    },
    {
      "cell_type": "code",
      "metadata": {
        "collapsed": true,
        "id": "Jevzwut9fN1E",
        "colab_type": "code",
        "colab": {}
      },
      "source": [
        "a2"
      ],
      "execution_count": 0,
      "outputs": []
    },
    {
      "cell_type": "code",
      "metadata": {
        "collapsed": true,
        "id": "7BHV-xfHfN1F",
        "colab_type": "code",
        "colab": {}
      },
      "source": [
        "mask[0].shape"
      ],
      "execution_count": 0,
      "outputs": []
    },
    {
      "cell_type": "code",
      "metadata": {
        "collapsed": true,
        "id": "qs855rM1fN1G",
        "colab_type": "code",
        "colab": {}
      },
      "source": [
        "red_norm = image1[:,:,0].reshape(-1)"
      ],
      "execution_count": 0,
      "outputs": []
    },
    {
      "cell_type": "code",
      "metadata": {
        "collapsed": true,
        "id": "ea9StQEufN1H",
        "colab_type": "code",
        "colab": {}
      },
      "source": [
        "plt.hist(red_norm, bins = 500, range = (0.1, red_norm.max()))"
      ],
      "execution_count": 0,
      "outputs": []
    },
    {
      "cell_type": "code",
      "metadata": {
        "collapsed": true,
        "id": "l3Q9PxaWfN1I",
        "colab_type": "code",
        "colab": {}
      },
      "source": [
        "plt.show()"
      ],
      "execution_count": 0,
      "outputs": []
    },
    {
      "cell_type": "code",
      "metadata": {
        "collapsed": true,
        "id": "u2KHoacjfN1J",
        "colab_type": "code",
        "colab": {}
      },
      "source": [
        "mask_inv = 1-mask"
      ],
      "execution_count": 0,
      "outputs": []
    },
    {
      "cell_type": "code",
      "metadata": {
        "collapsed": true,
        "id": "rHWWM8OpfN1K",
        "colab_type": "code",
        "colab": {}
      },
      "source": [
        "a1 = np.average(red_norm, weights =mask_inv[:,:,0].reshape(-1))"
      ],
      "execution_count": 0,
      "outputs": []
    },
    {
      "cell_type": "code",
      "metadata": {
        "collapsed": true,
        "id": "erjg3_0VfN1L",
        "colab_type": "code",
        "colab": {}
      },
      "source": [
        "mask_inv.shape"
      ],
      "execution_count": 0,
      "outputs": []
    },
    {
      "cell_type": "code",
      "metadata": {
        "collapsed": true,
        "id": "EBVZiGiAfN1L",
        "colab_type": "code",
        "colab": {}
      },
      "source": [
        "a1"
      ],
      "execution_count": 0,
      "outputs": []
    },
    {
      "cell_type": "code",
      "metadata": {
        "collapsed": true,
        "id": "npZUBCrTfN1M",
        "colab_type": "code",
        "colab": {}
      },
      "source": [
        "a1 - a2"
      ],
      "execution_count": 0,
      "outputs": []
    },
    {
      "cell_type": "code",
      "metadata": {
        "collapsed": true,
        "id": "m6Tn1RcofN1N",
        "colab_type": "code",
        "colab": {}
      },
      "source": [
        "blue = image2[:,:,2].reshape(-1)"
      ],
      "execution_count": 0,
      "outputs": []
    },
    {
      "cell_type": "code",
      "metadata": {
        "collapsed": true,
        "id": "8uc36qqjfN1O",
        "colab_type": "code",
        "colab": {}
      },
      "source": [
        "blue_norm = image1[:,:,2].reshape(-1)"
      ],
      "execution_count": 0,
      "outputs": []
    },
    {
      "cell_type": "code",
      "metadata": {
        "collapsed": true,
        "id": "pYlWlxbXfN1Q",
        "colab_type": "code",
        "colab": {}
      },
      "source": [
        "plt.hist(blue, bins = 500, range = (0.1, blue.max()))\n",
        "plt.show()"
      ],
      "execution_count": 0,
      "outputs": []
    },
    {
      "cell_type": "code",
      "metadata": {
        "collapsed": true,
        "id": "Z_tMSOZzfN1R",
        "colab_type": "code",
        "colab": {}
      },
      "source": [
        "plt.hist(blue_norm, bins = 500, range = (0.1, blue_norm.max()))\n",
        "plt.figure()\n",
        "plt.show()"
      ],
      "execution_count": 0,
      "outputs": []
    },
    {
      "cell_type": "code",
      "metadata": {
        "collapsed": true,
        "id": "I5dc6TdTfN1S",
        "colab_type": "code",
        "colab": {}
      },
      "source": [
        "def measure_progress(pigs,masks):\n",
        "    blue_pigs = []\n",
        "    blue_norms = []\n",
        "    imagesp = []\n",
        "    imagesn = []\n",
        "    i = 0\n",
        "    for pig in pigs:\n",
        "        mask = np.zeros([21,28,3])#np.vstack([pred_pigment[0],pred_pigment[0],pred_pigment[0]])\n",
        "        mask[:,:,0] = pred_pigment[0][i,:,:]\n",
        "        mask[:,:,1] = pred_pigment[0][i,:,:]\n",
        "        mask[:,:,2] = pred_pigment[0][i,:,:]\n",
        "        mask_inv = 1- mask\n",
        "        imagep = pig*mask*255\n",
        "        imagen = pig*(1- mask)*255\n",
        "        imagesp += [imagep]\n",
        "        imagesn += [imagen]\n",
        "        blue_norm = imagen[:,:,2].reshape(-1)\n",
        "        blue_pig = imagep[:,:,2].reshape(-1)\n",
        "        an = np.average(blue_norm, weights =mask_inv[:,:,2].reshape(-1))\n",
        "        ap = np.average(blue_pig, weights =mask[:,:,2].reshape(-1))\n",
        "        blue_pigs += [ap]\n",
        "        blue_norms += [an]\n",
        "        i+=1\n",
        "    blue_pigs = np.array(blue_pigs)\n",
        "    blue_norms = np.array(blue_norms)\n",
        "    return(blue_pigs, blue_norms, imagesp, imagesn)"
      ],
      "execution_count": 0,
      "outputs": []
    },
    {
      "cell_type": "code",
      "metadata": {
        "collapsed": true,
        "id": "0Gl1CurMfN1T",
        "colab_type": "code",
        "colab": {}
      },
      "source": [
        "pigmented, normal, imagesp, imagesn = measure_progress(pigs,pred_pigment)"
      ],
      "execution_count": 0,
      "outputs": []
    },
    {
      "cell_type": "code",
      "metadata": {
        "collapsed": true,
        "id": "hIybHR8HfN1U",
        "colab_type": "code",
        "colab": {}
      },
      "source": [
        "J_out[1].shape"
      ],
      "execution_count": 0,
      "outputs": []
    },
    {
      "cell_type": "code",
      "metadata": {
        "collapsed": true,
        "id": "SFU1gqlwfN1V",
        "colab_type": "code",
        "colab": {}
      },
      "source": [
        "pigmented"
      ],
      "execution_count": 0,
      "outputs": []
    },
    {
      "cell_type": "code",
      "metadata": {
        "collapsed": true,
        "id": "OGl5P8_DfN1W",
        "colab_type": "code",
        "colab": {}
      },
      "source": [
        "normal"
      ],
      "execution_count": 0,
      "outputs": []
    },
    {
      "cell_type": "code",
      "metadata": {
        "collapsed": true,
        "id": "SI0Ug5XQfN1X",
        "colab_type": "code",
        "colab": {}
      },
      "source": [
        "plt.plot(normal - pigmented)"
      ],
      "execution_count": 0,
      "outputs": []
    },
    {
      "cell_type": "code",
      "metadata": {
        "collapsed": true,
        "id": "2Y-HM_QTfN1X",
        "colab_type": "code",
        "colab": {}
      },
      "source": [
        "plt.plot(normal)"
      ],
      "execution_count": 0,
      "outputs": []
    },
    {
      "cell_type": "code",
      "metadata": {
        "collapsed": true,
        "id": "hPauIGdCfN1Y",
        "colab_type": "code",
        "colab": {}
      },
      "source": [
        "plt.plot(pigmented)"
      ],
      "execution_count": 0,
      "outputs": []
    },
    {
      "cell_type": "code",
      "metadata": {
        "collapsed": true,
        "id": "EKYExBeMfN1Z",
        "colab_type": "code",
        "colab": {}
      },
      "source": [
        "plt.imshow(imagesp[0])"
      ],
      "execution_count": 0,
      "outputs": []
    },
    {
      "cell_type": "code",
      "metadata": {
        "collapsed": true,
        "id": "RGbveiABfN1a",
        "colab_type": "code",
        "colab": {}
      },
      "source": [
        "plt.imshow(imagesp[1])"
      ],
      "execution_count": 0,
      "outputs": []
    },
    {
      "cell_type": "code",
      "metadata": {
        "collapsed": true,
        "id": "QLx2lHwtfN1b",
        "colab_type": "code",
        "colab": {}
      },
      "source": [
        "plt.imshow(imagesp[2])"
      ],
      "execution_count": 0,
      "outputs": []
    },
    {
      "cell_type": "code",
      "metadata": {
        "collapsed": true,
        "id": "X5_39MM-fN1d",
        "colab_type": "code",
        "colab": {}
      },
      "source": [
        "plt.imshow(imagesp[3])"
      ],
      "execution_count": 0,
      "outputs": []
    },
    {
      "cell_type": "code",
      "metadata": {
        "collapsed": true,
        "id": "p3d7xIRpfN1e",
        "colab_type": "code",
        "colab": {}
      },
      "source": [
        "plt.imshow(imagesp[4])"
      ],
      "execution_count": 0,
      "outputs": []
    },
    {
      "cell_type": "code",
      "metadata": {
        "collapsed": true,
        "id": "lVuabyyffN1f",
        "colab_type": "code",
        "colab": {}
      },
      "source": [
        "plt.imshow(imagesp[5])"
      ],
      "execution_count": 0,
      "outputs": []
    },
    {
      "cell_type": "code",
      "metadata": {
        "collapsed": true,
        "id": "ecXz5Qg2fN1g",
        "colab_type": "code",
        "colab": {}
      },
      "source": [
        "plt.imshow(imagesp[6])"
      ],
      "execution_count": 0,
      "outputs": []
    },
    {
      "cell_type": "code",
      "metadata": {
        "collapsed": true,
        "id": "vljOjV8AfN1g",
        "colab_type": "code",
        "colab": {}
      },
      "source": [
        "plt.imshow(imagesp[7])"
      ],
      "execution_count": 0,
      "outputs": []
    },
    {
      "cell_type": "code",
      "metadata": {
        "collapsed": true,
        "id": "20qm-GS0fN1h",
        "colab_type": "code",
        "colab": {}
      },
      "source": [
        "plt.imshow(imagesp[8])"
      ],
      "execution_count": 0,
      "outputs": []
    },
    {
      "cell_type": "code",
      "metadata": {
        "collapsed": true,
        "id": "_raVEmR1fN1j",
        "colab_type": "code",
        "colab": {}
      },
      "source": [
        "plt.imshow(imagesp[9])"
      ],
      "execution_count": 0,
      "outputs": []
    },
    {
      "cell_type": "code",
      "metadata": {
        "collapsed": true,
        "id": "jLG0X9zwfN1l",
        "colab_type": "code",
        "colab": {}
      },
      "source": [
        "plt.imshow(imagesp[10])"
      ],
      "execution_count": 0,
      "outputs": []
    },
    {
      "cell_type": "code",
      "metadata": {
        "collapsed": true,
        "id": "551fWebzfN1m",
        "colab_type": "code",
        "colab": {}
      },
      "source": [
        "pigmented[0]"
      ],
      "execution_count": 0,
      "outputs": []
    },
    {
      "cell_type": "code",
      "metadata": {
        "collapsed": true,
        "id": "mD9EF_yxfN1m",
        "colab_type": "code",
        "colab": {}
      },
      "source": [
        "pigmented[10]"
      ],
      "execution_count": 0,
      "outputs": []
    },
    {
      "cell_type": "code",
      "metadata": {
        "collapsed": true,
        "id": "ks9ZDXfWfN1n",
        "colab_type": "code",
        "colab": {}
      },
      "source": [
        "plt.imshow(imagesp[0])"
      ],
      "execution_count": 0,
      "outputs": []
    },
    {
      "cell_type": "code",
      "metadata": {
        "collapsed": true,
        "id": "lqMFsSngfN1o",
        "colab_type": "code",
        "colab": {}
      },
      "source": [
        "plt.imshow(imagesp[11])"
      ],
      "execution_count": 0,
      "outputs": []
    },
    {
      "cell_type": "code",
      "metadata": {
        "collapsed": true,
        "id": "FHHB-0G2fN1p",
        "colab_type": "code",
        "colab": {}
      },
      "source": [
        "plt.imshow(imagesp[12])"
      ],
      "execution_count": 0,
      "outputs": []
    },
    {
      "cell_type": "code",
      "metadata": {
        "collapsed": true,
        "id": "ZgSGsY2YfN1q",
        "colab_type": "code",
        "colab": {}
      },
      "source": [
        "plt.imshow(imagesp[13])"
      ],
      "execution_count": 0,
      "outputs": []
    },
    {
      "cell_type": "code",
      "metadata": {
        "collapsed": true,
        "id": "s4TjKPuQfN1s",
        "colab_type": "code",
        "colab": {}
      },
      "source": [
        "plt.imshow(imagesp[14])"
      ],
      "execution_count": 0,
      "outputs": []
    },
    {
      "cell_type": "code",
      "metadata": {
        "collapsed": true,
        "id": "5yDzxusDfN1t",
        "colab_type": "code",
        "colab": {}
      },
      "source": [
        "plt.imshow(imagesp[15])"
      ],
      "execution_count": 0,
      "outputs": []
    },
    {
      "cell_type": "code",
      "metadata": {
        "collapsed": true,
        "id": "px8uG7stfN1t",
        "colab_type": "code",
        "colab": {}
      },
      "source": [
        "plt.imshow(imagesp[16])"
      ],
      "execution_count": 0,
      "outputs": []
    },
    {
      "cell_type": "code",
      "metadata": {
        "collapsed": true,
        "id": "WCVqCLpcfN1u",
        "colab_type": "code",
        "colab": {}
      },
      "source": [
        "plt.imshow(imagesp[17])"
      ],
      "execution_count": 0,
      "outputs": []
    },
    {
      "cell_type": "code",
      "metadata": {
        "collapsed": true,
        "id": "1UXuk8sxfN1x",
        "colab_type": "code",
        "colab": {}
      },
      "source": [
        "plt.imshow(imagesp[18])"
      ],
      "execution_count": 0,
      "outputs": []
    },
    {
      "cell_type": "code",
      "metadata": {
        "collapsed": true,
        "id": "hbx4K_-9fN1y",
        "colab_type": "code",
        "colab": {}
      },
      "source": [
        "plt.imshow(imagesp[19])"
      ],
      "execution_count": 0,
      "outputs": []
    },
    {
      "cell_type": "code",
      "metadata": {
        "collapsed": true,
        "id": "e6MwZhmyfN1y",
        "colab_type": "code",
        "colab": {}
      },
      "source": [
        "plt.imshow(imagesp[20])"
      ],
      "execution_count": 0,
      "outputs": []
    },
    {
      "cell_type": "code",
      "metadata": {
        "collapsed": true,
        "id": "L2t3dY8EfN11",
        "colab_type": "code",
        "colab": {}
      },
      "source": [
        "plt.imshow(imagesp[21])"
      ],
      "execution_count": 0,
      "outputs": []
    },
    {
      "cell_type": "code",
      "metadata": {
        "collapsed": true,
        "id": "DuGQCCKnfN11",
        "colab_type": "code",
        "colab": {}
      },
      "source": [
        "plt.imshow(imagesp[22])"
      ],
      "execution_count": 0,
      "outputs": []
    },
    {
      "cell_type": "code",
      "metadata": {
        "collapsed": true,
        "id": "ust1UM-LfN15",
        "colab_type": "code",
        "colab": {}
      },
      "source": [
        "plt.imshow(imagesp[23])"
      ],
      "execution_count": 0,
      "outputs": []
    },
    {
      "cell_type": "code",
      "metadata": {
        "collapsed": true,
        "id": "hrAjXfnUfN16",
        "colab_type": "code",
        "colab": {}
      },
      "source": [
        "plt.imshow(imagesp[24])"
      ],
      "execution_count": 0,
      "outputs": []
    },
    {
      "cell_type": "code",
      "metadata": {
        "collapsed": true,
        "id": "Nig__U98fN16",
        "colab_type": "code",
        "colab": {}
      },
      "source": [
        "plt.imshow(imagesp[25])"
      ],
      "execution_count": 0,
      "outputs": []
    },
    {
      "cell_type": "code",
      "metadata": {
        "collapsed": true,
        "id": "i7tRlK70fN17",
        "colab_type": "code",
        "colab": {}
      },
      "source": [
        "plt.imshow(imagesp[26])"
      ],
      "execution_count": 0,
      "outputs": []
    },
    {
      "cell_type": "code",
      "metadata": {
        "collapsed": true,
        "id": "xhAjKp-FfN18",
        "colab_type": "code",
        "colab": {}
      },
      "source": [
        "plt.imshow(imagesp[27])"
      ],
      "execution_count": 0,
      "outputs": []
    },
    {
      "cell_type": "code",
      "metadata": {
        "collapsed": true,
        "id": "ONZHGxYgfN19",
        "colab_type": "code",
        "colab": {}
      },
      "source": [
        "plt.imshow(imagesp[0])"
      ],
      "execution_count": 0,
      "outputs": []
    },
    {
      "cell_type": "code",
      "metadata": {
        "collapsed": true,
        "id": "WBoXOjU6fN1-",
        "colab_type": "code",
        "colab": {}
      },
      "source": [
        "test = normal - pigmented"
      ],
      "execution_count": 0,
      "outputs": []
    },
    {
      "cell_type": "code",
      "metadata": {
        "collapsed": true,
        "id": "_3vR3FEkfN1_",
        "colab_type": "code",
        "colab": {}
      },
      "source": [
        "test = np.hstack([test[0:2], test[4:8], test[9:21], test[22:26], test[27]])"
      ],
      "execution_count": 0,
      "outputs": []
    },
    {
      "cell_type": "code",
      "metadata": {
        "collapsed": true,
        "id": "eBWPYJQqfN2A",
        "colab_type": "code",
        "colab": {}
      },
      "source": [
        "plt.plot(test)"
      ],
      "execution_count": 0,
      "outputs": []
    },
    {
      "cell_type": "code",
      "metadata": {
        "collapsed": true,
        "id": "tUhETHmvfN2B",
        "colab_type": "code",
        "colab": {}
      },
      "source": [
        "filenames"
      ],
      "execution_count": 0,
      "outputs": []
    },
    {
      "cell_type": "code",
      "metadata": {
        "collapsed": true,
        "id": "cXZzpi6CfN2C",
        "colab_type": "code",
        "colab": {}
      },
      "source": [
        "normal = np.hstack([normal[0:2], normal[12], normal[21:28], normal[2:12], normal[13:20]])"
      ],
      "execution_count": 0,
      "outputs": []
    },
    {
      "cell_type": "code",
      "metadata": {
        "collapsed": true,
        "id": "xCGAAJMafN2D",
        "colab_type": "code",
        "colab": {}
      },
      "source": [
        "pigmented = np.hstack([pigmented[0:2], pigmented[12], pigmented[21:28], pigmented[2:12], pigmented[13:20]])"
      ],
      "execution_count": 0,
      "outputs": []
    },
    {
      "cell_type": "code",
      "metadata": {
        "collapsed": true,
        "id": "8oUhRhYvfN2E",
        "colab_type": "code",
        "colab": {}
      },
      "source": [
        "plt.plot(normal-pigmented)"
      ],
      "execution_count": 0,
      "outputs": []
    },
    {
      "cell_type": "code",
      "metadata": {
        "collapsed": true,
        "id": "RQzHMxI8fN2F",
        "colab_type": "code",
        "colab": {}
      },
      "source": [
        "## 26, 21, 2, 3, 8 -> 8,3,10,11,16"
      ],
      "execution_count": 0,
      "outputs": []
    },
    {
      "cell_type": "code",
      "metadata": {
        "collapsed": true,
        "id": "DSo5OEV8fN2F",
        "colab_type": "code",
        "colab": {}
      },
      "source": [
        "normal.shape"
      ],
      "execution_count": 0,
      "outputs": []
    },
    {
      "cell_type": "code",
      "metadata": {
        "collapsed": true,
        "id": "kuY1yTNrfN2G",
        "colab_type": "code",
        "colab": {}
      },
      "source": [
        "normal = np.hstack([normal[0:3], normal[4:8], normal[9], normal[12:16], normal[17:27]])"
      ],
      "execution_count": 0,
      "outputs": []
    },
    {
      "cell_type": "code",
      "metadata": {
        "collapsed": true,
        "id": "PR9K3H7ufN2H",
        "colab_type": "code",
        "colab": {}
      },
      "source": [
        "pigmented = np.hstack([pigmented[0:3], pigmented[4:8], pigmented[9], pigmented[12:16], pigmented[17:27]])"
      ],
      "execution_count": 0,
      "outputs": []
    },
    {
      "cell_type": "code",
      "metadata": {
        "collapsed": true,
        "id": "3xtRhAlQfN2I",
        "colab_type": "code",
        "colab": {}
      },
      "source": [
        "new_files_names = np.hstack([filenames[0:3], filenames[4:8], filenames[9], filenames[12:16], filenames[17:27]])"
      ],
      "execution_count": 0,
      "outputs": []
    },
    {
      "cell_type": "code",
      "metadata": {
        "collapsed": true,
        "id": "4Bn2MCC6fN2I",
        "colab_type": "code",
        "colab": {}
      },
      "source": [
        "plt.plot(normal-pigmented)"
      ],
      "execution_count": 0,
      "outputs": []
    },
    {
      "cell_type": "code",
      "metadata": {
        "collapsed": true,
        "id": "RGsF6DPXfN2L",
        "colab_type": "code",
        "colab": {}
      },
      "source": [
        "plt.plot(pigmented)"
      ],
      "execution_count": 0,
      "outputs": []
    },
    {
      "cell_type": "code",
      "metadata": {
        "collapsed": true,
        "id": "edq64hVRfN2M",
        "colab_type": "code",
        "colab": {}
      },
      "source": [
        "plt.plot(normal)"
      ],
      "execution_count": 0,
      "outputs": []
    },
    {
      "cell_type": "code",
      "metadata": {
        "collapsed": true,
        "id": "mKzE4nHQfN2N",
        "colab_type": "code",
        "colab": {}
      },
      "source": [
        "plt.plot(pigmented/normal)"
      ],
      "execution_count": 0,
      "outputs": []
    },
    {
      "cell_type": "code",
      "metadata": {
        "collapsed": true,
        "id": "AlBabwzifN2N",
        "colab_type": "code",
        "colab": {}
      },
      "source": [
        "plt.plot((normal - pigmented)/normal)"
      ],
      "execution_count": 0,
      "outputs": []
    },
    {
      "cell_type": "code",
      "metadata": {
        "collapsed": true,
        "id": "QgYrZGrXfN2O",
        "colab_type": "code",
        "colab": {}
      },
      "source": [
        "new_files_names"
      ],
      "execution_count": 0,
      "outputs": []
    },
    {
      "cell_type": "code",
      "metadata": {
        "collapsed": true,
        "id": "KTrCVmMOfN2P",
        "colab_type": "code",
        "colab": {}
      },
      "source": [
        "plt.imshow(imagesp[12])"
      ],
      "execution_count": 0,
      "outputs": []
    },
    {
      "cell_type": "code",
      "metadata": {
        "collapsed": true,
        "id": "ZtyHpfeIfN2Q",
        "colab_type": "code",
        "colab": {}
      },
      "source": [
        ""
      ],
      "execution_count": 0,
      "outputs": []
    },
    {
      "cell_type": "code",
      "metadata": {
        "collapsed": true,
        "id": "0-fgJ663fN2U",
        "colab_type": "code",
        "colab": {}
      },
      "source": [
        ""
      ],
      "execution_count": 0,
      "outputs": []
    }
  ]
}