{
  "nbformat": 4,
  "nbformat_minor": 0,
  "metadata": {
    "colab": {
      "name": "Melanoma-with-CNN-with-Sigmoid-4-Pigmentation-rotate-flip.ipynb",
      "version": "0.3.2",
      "provenance": [],
      "toc_visible": true,
      "include_colab_link": true
    },
    "language_info": {
      "codemirror_mode": {
        "name": "ipython",
        "version": 3
      },
      "file_extension": ".py",
      "mimetype": "text/x-python",
      "name": "python",
      "nbconvert_exporter": "python",
      "pygments_lexer": "ipython3",
      "version": "3.5.4"
    },
    "kernelspec": {
      "name": "python3",
      "display_name": "Python 3"
    },
    "accelerator": "GPU"
  },
  "cells": [
    {
      "cell_type": "markdown",
      "metadata": {
        "id": "view-in-github",
        "colab_type": "text"
      },
      "source": [
        "<a href=\"https://colab.research.google.com/github/NoelleI/Pigmentation/blob/master/Melanoma_with_CNN_with_Sigmoid_4_Pigmentation_rotate_flip.ipynb\" target=\"_parent\"><img src=\"https://colab.research.google.com/assets/colab-badge.svg\" alt=\"Open In Colab\"/></a>"
      ]
    },
    {
      "cell_type": "markdown",
      "metadata": {
        "id": "241BvQNpfNyB",
        "colab_type": "text"
      },
      "source": [
        "# Melanoma with CNN"
      ]
    },
    {
      "cell_type": "markdown",
      "metadata": {
        "id": "HPubA4t4fNyC",
        "colab_type": "text"
      },
      "source": [
        "This analysis trains a neural network to perform segmentation on melanoma data and then applies the algorithm to segment a pigmentation lesion"
      ]
    },
    {
      "cell_type": "markdown",
      "metadata": {
        "id": "A0VaxmP22GVM",
        "colab_type": "text"
      },
      "source": [
        "This line clones the github repository so that data may be accessed and the file can be saved there"
      ]
    },
    {
      "cell_type": "code",
      "metadata": {
        "id": "ddSl392jIi_w",
        "colab_type": "code",
        "outputId": "6487eb2e-dc41-4c02-bf8e-661a784fc390",
        "colab": {
          "base_uri": "https://localhost:8080/",
          "height": 34
        }
      },
      "source": [
        "!git clone https://github.com/NoelleI/Pigmentation.git"
      ],
      "execution_count": 1,
      "outputs": [
        {
          "output_type": "stream",
          "text": [
            "fatal: destination path 'Pigmentation' already exists and is not an empty directory.\n"
          ],
          "name": "stdout"
        }
      ]
    },
    {
      "cell_type": "markdown",
      "metadata": {
        "id": "3cswYjth4ck7",
        "colab_type": "text"
      },
      "source": [
        "This mounts Google Drive to access the ~10G melanoma photo data sets\n",
        "\n",
        "1.   List item\n",
        "2.   List item\n",
        "\n"
      ]
    },
    {
      "cell_type": "code",
      "metadata": {
        "id": "8ReR4v01td3m",
        "colab_type": "code",
        "outputId": "0bf05f62-bebf-4e77-edac-733a570e8ad1",
        "colab": {
          "base_uri": "https://localhost:8080/",
          "height": 34
        }
      },
      "source": [
        "from google.colab import drive\n",
        "drive.mount('/content/gdrive', force_remount=True) "
      ],
      "execution_count": 2,
      "outputs": [
        {
          "output_type": "stream",
          "text": [
            "Mounted at /content/gdrive\n"
          ],
          "name": "stdout"
        }
      ]
    },
    {
      "cell_type": "code",
      "metadata": {
        "id": "efKvkEMKfNyD",
        "colab_type": "code",
        "outputId": "3350e729-d6b9-4cb6-ad08-1657f876b717",
        "colab": {
          "base_uri": "https://localhost:8080/",
          "height": 34
        }
      },
      "source": [
        "import tensorflow as tf\n",
        "import matplotlib\n",
        "import matplotlib.image as mpimg\n",
        "import os\n",
        "%matplotlib inline\n",
        "# First, load the image\n",
        "#dir_path = os.path.dirname(os.path.realpath(__file__))\n",
        "filename = \"./Pigmentation/pigmentation.png\"\n",
        "\n",
        "# Load the image\n",
        "pigment_image = mpimg.imread(filename)\n",
        "\n",
        "# Print out its shape\n",
        "print(pigment_image.shape)\n"
      ],
      "execution_count": 3,
      "outputs": [
        {
          "output_type": "stream",
          "text": [
            "(689, 898, 3)\n"
          ],
          "name": "stdout"
        }
      ]
    },
    {
      "cell_type": "code",
      "metadata": {
        "id": "o0fuEbnzfNyJ",
        "colab_type": "code",
        "outputId": "007c24d7-1793-42e7-fbd4-761cac2c7a85",
        "colab": {
          "base_uri": "https://localhost:8080/",
          "height": 34
        }
      },
      "source": [
        "pwd"
      ],
      "execution_count": 4,
      "outputs": [
        {
          "output_type": "execute_result",
          "data": {
            "text/plain": [
              "'/content'"
            ]
          },
          "metadata": {
            "tags": []
          },
          "execution_count": 4
        }
      ]
    },
    {
      "cell_type": "code",
      "metadata": {
        "id": "8r-Pb0MCfNyM",
        "colab_type": "code",
        "outputId": "2e1e7d2f-aaab-4767-acde-43589c736c42",
        "colab": {
          "base_uri": "https://localhost:8080/",
          "height": 269
        }
      },
      "source": [
        "import matplotlib.pyplot as plt\n",
        "plt.imshow(pigment_image)\n",
        "plt.show()"
      ],
      "execution_count": 5,
      "outputs": [
        {
          "output_type": "display_data",
          "data": {
            "image/png": "[encoded data removed]",
            "text/plain": [
              "<Figure size 432x288 with 1 Axes>"
            ]
          },
          "metadata": {
            "tags": []
          }
        }
      ]
    },
    {
      "cell_type": "code",
      "metadata": {
        "id": "XRiNFY6gfNyP",
        "colab_type": "code",
        "outputId": "b16389a3-60a7-4638-dd45-eb2838270a36",
        "colab": {
          "base_uri": "https://localhost:8080/",
          "height": 34
        }
      },
      "source": [
        "pigment_image.shape"
      ],
      "execution_count": 6,
      "outputs": [
        {
          "output_type": "execute_result",
          "data": {
            "text/plain": [
              "(689, 898, 3)"
            ]
          },
          "metadata": {
            "tags": []
          },
          "execution_count": 6
        }
      ]
    },
    {
      "cell_type": "code",
      "metadata": {
        "id": "V1ccZ5owfNyR",
        "colab_type": "code",
        "colab": {}
      },
      "source": [
        "import skimage\n",
        "pigment_image_resized = skimage.transform.resize(pigment_image, (192,256,3))\n"
      ],
      "execution_count": 0,
      "outputs": []
    },
    {
      "cell_type": "code",
      "metadata": {
        "id": "MqpbxiAQfNyT",
        "colab_type": "code",
        "colab": {}
      },
      "source": [
        "##note: in order to discern the melanin content, it will be necessary to understand how this resizing algorithm works: does it take a maximum value? What does it use?"
      ],
      "execution_count": 0,
      "outputs": []
    },
    {
      "cell_type": "code",
      "metadata": {
        "id": "vDWN9Rp5fNyV",
        "colab_type": "code",
        "outputId": "e87ff9dc-b0e4-4edd-dc38-a2b657e2f298",
        "colab": {
          "base_uri": "https://localhost:8080/",
          "height": 269
        }
      },
      "source": [
        "plt.imshow(pigment_image_resized)\n",
        "plt.show()"
      ],
      "execution_count": 9,
      "outputs": [
        {
          "output_type": "display_data",
          "data": {
            "image/png": "[encoded data removed]",
            "text/plain": [
              "<Figure size 432x288 with 1 Axes>"
            ]
          },
          "metadata": {
            "tags": []
          }
        }
      ]
    },
    {
      "cell_type": "code",
      "metadata": {
        "id": "u8c0wI8hfNyX",
        "colab_type": "code",
        "outputId": "19ae792f-9fc0-4495-ac3b-a18602b7964c",
        "colab": {
          "base_uri": "https://localhost:8080/",
          "height": 34
        }
      },
      "source": [
        "type(pigment_image)"
      ],
      "execution_count": 10,
      "outputs": [
        {
          "output_type": "execute_result",
          "data": {
            "text/plain": [
              "numpy.ndarray"
            ]
          },
          "metadata": {
            "tags": []
          },
          "execution_count": 10
        }
      ]
    },
    {
      "cell_type": "code",
      "metadata": {
        "id": "_gV5JVt3fNya",
        "colab_type": "code",
        "colab": {}
      },
      "source": [
        "import numpy as np\n",
        "pigment_image_show = pigment_image_resized\n",
        "pigment_image_resized = np.reshape(pigment_image_resized, [1,192,256,3])"
      ],
      "execution_count": 0,
      "outputs": []
    },
    {
      "cell_type": "code",
      "metadata": {
        "id": "CQ48pRh55Xv7",
        "colab_type": "code",
        "outputId": "4e357fc1-db66-4280-c4bd-03956738a778",
        "colab": {
          "base_uri": "https://localhost:8080/",
          "height": 34
        }
      },
      "source": [
        "import scipy\n",
        "scipy.__version__"
      ],
      "execution_count": 12,
      "outputs": [
        {
          "output_type": "execute_result",
          "data": {
            "text/plain": [
              "'1.0.0'"
            ]
          },
          "metadata": {
            "tags": []
          },
          "execution_count": 12
        }
      ]
    },
    {
      "cell_type": "code",
      "metadata": {
        "colab_type": "code",
        "id": "tBqV9RTtmYOX",
        "colab": {}
      },
      "source": [
        "#!pip uninstall scipy==1.3.0\n",
        "#!pip install scipy==1.0.0"
      ],
      "execution_count": 0,
      "outputs": []
    },
    {
      "cell_type": "code",
      "metadata": {
        "colab_type": "code",
        "id": "8XHIF5mdmW1X",
        "outputId": "5de4b320-6fd3-4519-f414-0cf5b1136ab4",
        "colab": {
          "base_uri": "https://localhost:8080/",
          "height": 51
        }
      },
      "source": [
        "!pip install pillow"
      ],
      "execution_count": 14,
      "outputs": [
        {
          "output_type": "stream",
          "text": [
            "Requirement already satisfied: pillow in /usr/local/lib/python3.6/dist-packages (4.3.0)\n",
            "Requirement already satisfied: olefile in /usr/local/lib/python3.6/dist-packages (from pillow) (0.46)\n"
          ],
          "name": "stdout"
        }
      ]
    },
    {
      "cell_type": "code",
      "metadata": {
        "id": "CLb2SmFqfNyc",
        "colab_type": "code",
        "outputId": "aed9f841-892d-4e47-ed7e-0e22d4e4f699",
        "colab": {
          "base_uri": "https://localhost:8080/",
          "height": 85
        }
      },
      "source": [
        "from scipy import ndimage, misc\n",
        "import re\n",
        "import os\n",
        "#get pigmentation photos\n",
        "pigs = []\n",
        "for root, dirnames, filenames in os.walk(\"./Pigmentation/Pigmentation_photos/Experiment 1/Spot 4\"): \n",
        "    for filename in filenames:\n",
        "        if re.search('d*.PNG', filename):\n",
        "            filepath = os.path.join(root, filename)\n",
        "            pig = ndimage.imread(filepath)\n",
        "            pig_resized = skimage.transform.resize(pig, (192,256,3))  #redo this size or re-size later in Tensorflow\n",
        "            pigs.append(pig_resized)\n",
        "            #filename = filename.split(\".\")\n",
        "            #name = filename[0] + \"2.\" + filename[1]\n",
        "            #print(name)\n",
        "            \n",
        "            #new_path = os.path.join(root, name)\n",
        "            #f = open(new_path, 'w+b')\n",
        "            #misc.imsave(new_path, _seg_resized)\n",
        "            #os.remove(filepath)\n",
        "            #f.close()\n",
        "pigs = np.array(pigs)"
      ],
      "execution_count": 15,
      "outputs": [
        {
          "output_type": "stream",
          "text": [
            "/usr/local/lib/python3.6/dist-packages/ipykernel_launcher.py:10: DeprecationWarning: `imread` is deprecated!\n",
            "`imread` is deprecated in SciPy 1.0.0.\n",
            "Use ``matplotlib.pyplot.imread`` instead.\n",
            "  # Remove the CWD from sys.path while we load stuff.\n"
          ],
          "name": "stderr"
        }
      ]
    },
    {
      "cell_type": "code",
      "metadata": {
        "id": "16YjyKn5fNye",
        "colab_type": "code",
        "outputId": "c2cd41a2-8756-4b54-cdf7-c8a334b12dcc",
        "colab": {
          "base_uri": "https://localhost:8080/",
          "height": 493
        }
      },
      "source": [
        "filenames "
      ],
      "execution_count": 16,
      "outputs": [
        {
          "output_type": "execute_result",
          "data": {
            "text/plain": [
              "['14--10-10-am.PNG',\n",
              " '12--10-04-pm.PNG',\n",
              " '21--10-120-pm.PNG',\n",
              " '17--10-13-am.PNG',\n",
              " '5--09-27-pm.PNG',\n",
              " '9--09-29-pm.PNG',\n",
              " '6--09-28-am.PNG',\n",
              " '15--10-11-pm.PNG',\n",
              " '2--09-23-pm.PNG',\n",
              " '8--09-29-am.PNG',\n",
              " '26--11-10-am.PNG',\n",
              " '7--09-28-pm.PNG',\n",
              " '11--10-02-pm.PNG',\n",
              " '22--10-25-am.PNG',\n",
              " '23--10-28-pm.PNG',\n",
              " '3--09-25-am.PNG',\n",
              " '25--11-06-pm.PNG',\n",
              " '16--10-12-pm.PNG',\n",
              " '27--11-11-pm.PNG',\n",
              " '4--09-25-pm.PNG',\n",
              " '10--09-30-pm.PNG',\n",
              " '1-1--09-23-am.PNG',\n",
              " '20--10-18-pm.PNG',\n",
              " '0-0--09-22-pm.PNG',\n",
              " '18--10-14-am.PNG',\n",
              " '24--11-04-am.PNG',\n",
              " '13--10-06-am.PNG',\n",
              " '19--10-16-pm.PNG']"
            ]
          },
          "metadata": {
            "tags": []
          },
          "execution_count": 16
        }
      ]
    },
    {
      "cell_type": "code",
      "metadata": {
        "id": "jtuGqdGLfNyh",
        "colab_type": "code",
        "outputId": "918c1b2a-4e9f-442a-8df3-200dadb42f1f",
        "colab": {
          "base_uri": "https://localhost:8080/",
          "height": 286
        }
      },
      "source": [
        "plt.imshow(pigs[0])\n"
      ],
      "execution_count": 17,
      "outputs": [
        {
          "output_type": "execute_result",
          "data": {
            "text/plain": [
              "<matplotlib.image.AxesImage at 0x7ff601360c88>"
            ]
          },
          "metadata": {
            "tags": []
          },
          "execution_count": 17
        },
        {
          "output_type": "display_data",
          "data": {
            "image/png": "[encoded data removed]",
            "text/plain": [
              "<Figure size 432x288 with 1 Axes>"
            ]
          },
          "metadata": {
            "tags": []
          }
        }
      ]
    },
    {
      "cell_type": "code",
      "metadata": {
        "id": "Pw0kvHibfNyk",
        "colab_type": "code",
        "colab": {}
      },
      "source": [
        "## I created a train-test split in the original upload of files to Google Docs, but I will merge these because I've realized that I can still use train-test split below and it will \n",
        "## randomize the photos each time"
      ],
      "execution_count": 0,
      "outputs": []
    },
    {
      "cell_type": "code",
      "metadata": {
        "id": "7C9-o1mCfNym",
        "colab_type": "code",
        "outputId": "02f84c08-ae40-4f64-c796-343b45e16846",
        "colab": {
          "base_uri": "https://localhost:8080/",
          "height": 136
        }
      },
      "source": [
        "from scipy import ndimage, misc\n",
        "import re\n",
        "import os\n",
        "#there are 2594 photos\n",
        "images = []\n",
        "for root, dirnames, filenames in os.walk(\"/content/gdrive/My Drive/Batches/ISIC2018_Task1-2_Training_Input_batches\"): #/content/gdrive/My Drive/ISIC2018_Task1-2_Training_Input/ISIC2018_Task1-2_Training_Input\"):\n",
        "    for filename in filenames:\n",
        "      if re.search('d*[^{r|f}].jpg', filename):\n",
        "            #print(filename)\n",
        "            filepath = os.path.join(root, filename)\n",
        "            image = ndimage.imread(filepath, mode=\"RGB\")\n",
        "            # = misc.imresize(image, (192,256,3))  #redo this size or re-size later in Tensorflow ->STORE resized images later\n",
        "            images.append(image)\n",
        "for root, dirnames, filenames in os.walk(\"/content/gdrive/My Drive/Batches/ISIC2018_Task1-2_Testing_Input_batches\"): #/content/gdrive/My Drive/ISIC2018_Task1-2_Training_Input/ISIC2018_Task1-2_Training_Input\"):\n",
        "    for filename in filenames:\n",
        "      if re.search('d*[^{r|f}].jpg', filename):\n",
        "            filepath = os.path.join(root, filename)\n",
        "            image = ndimage.imread(filepath, mode=\"RGB\")\n",
        "            #image_resized = misc.imresize(image, (192,256,3))  #redo this size or re-size later in Tensorflow ->STORE resized images later\n",
        "            images.append(image)            \n",
        "            \n",
        "            \n",
        "            \n",
        "images = np.array(images)"
      ],
      "execution_count": 19,
      "outputs": [
        {
          "output_type": "stream",
          "text": [
            "/usr/local/lib/python3.6/dist-packages/ipykernel_launcher.py:11: DeprecationWarning: `imread` is deprecated!\n",
            "`imread` is deprecated in SciPy 1.0.0.\n",
            "Use ``matplotlib.pyplot.imread`` instead.\n",
            "  # This is added back by InteractiveShellApp.init_path()\n",
            "/usr/local/lib/python3.6/dist-packages/ipykernel_launcher.py:18: DeprecationWarning: `imread` is deprecated!\n",
            "`imread` is deprecated in SciPy 1.0.0.\n",
            "Use ``matplotlib.pyplot.imread`` instead.\n"
          ],
          "name": "stderr"
        }
      ]
    },
    {
      "cell_type": "code",
      "metadata": {
        "id": "Cah1pgUJ5M3r",
        "colab_type": "code",
        "colab": {
          "base_uri": "https://localhost:8080/",
          "height": 34
        },
        "outputId": "e67a8476-6536-4276-fc7d-900e1cff5aa4"
      },
      "source": [
        "images.shape"
      ],
      "execution_count": 20,
      "outputs": [
        {
          "output_type": "execute_result",
          "data": {
            "text/plain": [
              "(2594, 192, 256, 3)"
            ]
          },
          "metadata": {
            "tags": []
          },
          "execution_count": 20
        }
      ]
    },
    {
      "cell_type": "code",
      "metadata": {
        "id": "BbNeSGUt7yxW",
        "colab_type": "code",
        "colab": {
          "base_uri": "https://localhost:8080/",
          "height": 833
        },
        "outputId": "c5fdfec3-f29a-467d-d414-2cf8dab7db37"
      },
      "source": [
        "filenames"
      ],
      "execution_count": 21,
      "outputs": [
        {
          "output_type": "execute_result",
          "data": {
            "text/plain": [
              "['ISIC_0000000f.jpg',\n",
              " 'ISIC_0000000.jpg',\n",
              " 'ISIC_0000007r.jpg',\n",
              " 'ISIC_0000007f.jpg',\n",
              " 'ISIC_0000008.jpg',\n",
              " 'ISIC_0000008r.jpg',\n",
              " 'ISIC_0000001f.jpg',\n",
              " 'ISIC_0000007.jpg',\n",
              " 'ISIC_0000001.jpg',\n",
              " 'ISIC_0000000r.jpg',\n",
              " 'ISIC_0000001r.jpg',\n",
              " 'ISIC_0000008f.jpg',\n",
              " 'ISIC_0000016.jpg',\n",
              " 'ISIC_0000016f.jpg',\n",
              " 'ISIC_0000024.jpg',\n",
              " 'ISIC_0000028f.jpg',\n",
              " 'ISIC_0000016r.jpg',\n",
              " 'ISIC_0000028.jpg',\n",
              " 'ISIC_0000028r.jpg',\n",
              " 'ISIC_0000029f.jpg',\n",
              " 'ISIC_0000025.jpg',\n",
              " 'ISIC_0000025r.jpg',\n",
              " 'ISIC_0000025f.jpg',\n",
              " 'ISIC_0000024f.jpg',\n",
              " 'ISIC_0000024r.jpg',\n",
              " 'ISIC_0000029r.jpg',\n",
              " 'ISIC_0000029.jpg',\n",
              " 'ISIC_0000031.jpg',\n",
              " 'ISIC_0000031f.jpg',\n",
              " 'ISIC_0000031r.jpg',\n",
              " 'ISIC_0000038.jpg',\n",
              " 'ISIC_0000044f.jpg',\n",
              " 'ISIC_0000041.jpg',\n",
              " 'ISIC_0000041r.jpg',\n",
              " 'ISIC_0000041f.jpg',\n",
              " 'ISIC_0000044.jpg',\n",
              " 'ISIC_0000038f.jpg',\n",
              " 'ISIC_0000038r.jpg',\n",
              " 'ISIC_0000044r.jpg',\n",
              " 'ISIC_0000051f.jpg',\n",
              " 'ISIC_0000051.jpg',\n",
              " 'ISIC_0000051r.jpg',\n",
              " 'ISIC_0000053.jpg',\n",
              " 'ISIC_0000059f.jpg',\n",
              " 'ISIC_0000059r.jpg',\n",
              " 'ISIC_0000059.jpg',\n",
              " 'ISIC_0000053r.jpg',\n",
              " 'ISIC_0000053f.jpg']"
            ]
          },
          "metadata": {
            "tags": []
          },
          "execution_count": 21
        }
      ]
    },
    {
      "cell_type": "code",
      "metadata": {
        "id": "uXpTgX2I1-2b",
        "colab_type": "code",
        "colab": {
          "base_uri": "https://localhost:8080/",
          "height": 34
        },
        "outputId": "b6e27ded-79bd-4924-a6a9-6a848cbb2729"
      },
      "source": [
        "len(images)"
      ],
      "execution_count": 22,
      "outputs": [
        {
          "output_type": "execute_result",
          "data": {
            "text/plain": [
              "2594"
            ]
          },
          "metadata": {
            "tags": []
          },
          "execution_count": 22
        }
      ]
    },
    {
      "cell_type": "code",
      "metadata": {
        "id": "YHX6zN6QfNyp",
        "colab_type": "code",
        "colab": {
          "base_uri": "https://localhost:8080/",
          "height": 337
        },
        "outputId": "b41a10f3-3c84-4986-86c6-04a08cc11c95"
      },
      "source": [
        "image = images[2580,:,:,:]\n",
        "rotate_image = ndimage.rotate(image, 45)\n",
        "rotate_image = misc.imresize(rotate_image, (192,256,3))\n",
        "plt.imshow(rotate_image)\n",
        "plt.show()"
      ],
      "execution_count": 23,
      "outputs": [
        {
          "output_type": "stream",
          "text": [
            "/usr/local/lib/python3.6/dist-packages/ipykernel_launcher.py:3: DeprecationWarning: `imresize` is deprecated!\n",
            "`imresize` is deprecated in SciPy 1.0.0, and will be removed in 1.2.0.\n",
            "Use ``skimage.transform.resize`` instead.\n",
            "  This is separate from the ipykernel package so we can avoid doing imports until\n"
          ],
          "name": "stderr"
        },
        {
          "output_type": "display_data",
          "data": {
            "image/png": "[encoded data removed]",
            "text/plain": [
              "<Figure size 432x288 with 1 Axes>"
            ]
          },
          "metadata": {
            "tags": []
          }
        }
      ]
    },
    {
      "cell_type": "code",
      "metadata": {
        "id": "ZXWnSaquyMWD",
        "colab_type": "code",
        "colab": {}
      },
      "source": [
        ""
      ],
      "execution_count": 0,
      "outputs": []
    },
    {
      "cell_type": "markdown",
      "metadata": {
        "id": "65gwtHvIyPKN",
        "colab_type": "text"
      },
      "source": [
        "***The images look blurry***"
      ]
    },
    {
      "cell_type": "code",
      "metadata": {
        "scrolled": true,
        "id": "L4oVdioPfNyu",
        "colab_type": "code",
        "colab": {
          "base_uri": "https://localhost:8080/",
          "height": 269
        },
        "outputId": "de93e0f6-74ea-4057-f236-cf437926f358"
      },
      "source": [
        "image = images[0,:,:,:]\n",
        "plt.imshow(image)\n",
        "plt.show()"
      ],
      "execution_count": 24,
      "outputs": [
        {
          "output_type": "display_data",
          "data": {
            "image/png": "[encoded data removed]",
            "text/plain": [
              "<Figure size 432x288 with 1 Axes>"
            ]
          },
          "metadata": {
            "tags": []
          }
        }
      ]
    },
    {
      "cell_type": "code",
      "metadata": {
        "id": "ua4HcGj1fNyx",
        "colab_type": "code",
        "colab": {
          "base_uri": "https://localhost:8080/",
          "height": 34
        },
        "outputId": "dc57c675-d7a9-4662-fcae-7568e3dbba0b"
      },
      "source": [
        "filepath"
      ],
      "execution_count": 25,
      "outputs": [
        {
          "output_type": "execute_result",
          "data": {
            "text/plain": [
              "'/content/gdrive/My Drive/Batches/ISIC2018_Task1-2_Testing_Input_batches/batch0/ISIC_0000059.jpg'"
            ]
          },
          "metadata": {
            "tags": []
          },
          "execution_count": 25
        }
      ]
    },
    {
      "cell_type": "code",
      "metadata": {
        "id": "1TzfHJAQfNy3",
        "colab_type": "code",
        "colab": {
          "base_uri": "https://localhost:8080/",
          "height": 34
        },
        "outputId": "28df65e8-43f3-48d9-f425-8292d84e1f44"
      },
      "source": [
        "image.shape"
      ],
      "execution_count": 26,
      "outputs": [
        {
          "output_type": "execute_result",
          "data": {
            "text/plain": [
              "(192, 256, 3)"
            ]
          },
          "metadata": {
            "tags": []
          },
          "execution_count": 26
        }
      ]
    },
    {
      "cell_type": "code",
      "metadata": {
        "id": "gVkIYE05fNy6",
        "colab_type": "code",
        "colab": {
          "base_uri": "https://localhost:8080/",
          "height": 337
        },
        "outputId": "8392d529-f2d3-42e0-d9a8-385d4bee5815"
      },
      "source": [
        "image = ndimage.imread(filepath, mode=\"RGB\")\n",
        "plt.imshow(image)\n",
        "plt.show()"
      ],
      "execution_count": 27,
      "outputs": [
        {
          "output_type": "stream",
          "text": [
            "/usr/local/lib/python3.6/dist-packages/ipykernel_launcher.py:1: DeprecationWarning: `imread` is deprecated!\n",
            "`imread` is deprecated in SciPy 1.0.0.\n",
            "Use ``matplotlib.pyplot.imread`` instead.\n",
            "  \"\"\"Entry point for launching an IPython kernel.\n"
          ],
          "name": "stderr"
        },
        {
          "output_type": "display_data",
          "data": {
            "image/png": "[encoded data removed]",
            "text/plain": [
              "<Figure size 432x288 with 1 Axes>"
            ]
          },
          "metadata": {
            "tags": []
          }
        }
      ]
    },
    {
      "cell_type": "code",
      "metadata": {
        "id": "-U-RUbxEfNy9",
        "colab_type": "code",
        "colab": {
          "base_uri": "https://localhost:8080/",
          "height": 30600
        },
        "outputId": "252310a6-7f74-4c56-b08a-55a294c12016"
      },
      "source": [
        "#C:/Users\\Admin\\Documents\\Skin Depth\\Leads and Projects\\Melanoma Challenge\\2018\\ISIC2018_Task1_Training_GroundTruth\\ISIC2018_Task1_Training_GroundTruth\n",
        "segs = []\n",
        "files = []\n",
        "for root, dirnames, filenames in os.walk(\"/content/gdrive/My Drive/Batches/ISIC2018_Task1_Training_GroundTruth_batches\"):  #\"/content/gdrive/My Drive/ISIC2018_Task1_Training_GroundTruth (1).zip (Unzipped Files)/ISIC2018_Task1_Training_GroundTruth\"): #/content/gdrive/My Drive/ISIC2018_Task1_Training_GroundTruth (1).zip (Unzipped Files)/ISIC2018_Task1_Training_GroundTruth\"): #C:/Users/Admin/Documents/Skin Depth/Leads and Projects/Melanoma Challenge/2018/ISIC2018_Task1_Training_GroundTruth/ISIC2018_Task1_Training_GroundTruth\"): \n",
        "    for filename in filenames:\n",
        "      if re.search('d*[^{r|f}]_segmentation.png', filename):\n",
        "            print(filename)\n",
        "            files.append(filename)\n",
        "            filepath = os.path.join(root, filename)\n",
        "            seg = ndimage.imread(filepath, mode=\"L\")\n",
        "            #seg_resized = misc.imresize(seg, (192,256,3))\n",
        "            segs.append(seg)\n",
        "for root, dirnames, filenames in os.walk(\"/content/gdrive/My Drive/Batches/ISIC2018_Task1_Testing_GroundTruth_batches\"):  #\"/content/gdrive/My Drive/ISIC2018_Task1_Training_GroundTruth (1).zip (Unzipped Files)/ISIC2018_Task1_Training_GroundTruth\"): #/content/gdrive/My Drive/ISIC2018_Task1_Training_GroundTruth (1).zip (Unzipped Files)/ISIC2018_Task1_Training_GroundTruth\"): #C:/Users/Admin/Documents/Skin Depth/Leads and Projects/Melanoma Challenge/2018/ISIC2018_Task1_Training_GroundTruth/ISIC2018_Task1_Training_GroundTruth\"): \n",
        "    for filename in filenames:\n",
        "       if re.search('d*[^{r|f}]_segmentation.png', filename):\n",
        "            files.append(filename)\n",
        "            filepath = os.path.join(root, filename)\n",
        "            seg = ndimage.imread(filepath, mode=\"L\")\n",
        "            #seg_resized = misc.imresize(seg, (192,256,3))\n",
        "            segs.append(seg)   \n",
        "segs = np.array(segs)\n"
      ],
      "execution_count": 28,
      "outputs": [
        {
          "output_type": "stream",
          "text": [
            "ISIC_0014897_segmentation.png\n",
            "ISIC_0014903_segmentation.png\n",
            "ISIC_0014901_segmentation.png\n",
            "ISIC_0014898_segmentation.png\n",
            "ISIC_0014907_segmentation.png\n",
            "ISIC_0014910_segmentation.png\n",
            "ISIC_0014915_segmentation.png\n",
            "ISIC_0014911_segmentation.png\n",
            "ISIC_0014912_segmentation.png\n",
            "ISIC_0014919_segmentation.png\n",
            "ISIC_0014920_segmentation.png\n",
            "ISIC_0014926_segmentation.png\n",
            "ISIC_0014922_segmentation.png\n",
            "ISIC_0014925_segmentation.png\n",
            "ISIC_0014927_segmentation.png\n",
            "ISIC_0014928_segmentation.png\n",
            "ISIC_0014929_segmentation.png\n",
            "ISIC_0014930_segmentation.png\n",
            "ISIC_0014931_segmentation.png\n",
            "ISIC_0014936_segmentation.png\n",
            "ISIC_0014933_segmentation.png\n",
            "ISIC_0014937_segmentation.png\n",
            "ISIC_0014938_segmentation.png\n",
            "ISIC_0014940_segmentation.png\n",
            "ISIC_0014942_segmentation.png\n",
            "ISIC_0014943_segmentation.png\n",
            "ISIC_0014945_segmentation.png\n",
            "ISIC_0014944_segmentation.png\n",
            "ISIC_0014947_segmentation.png\n",
            "ISIC_0014955_segmentation.png\n",
            "ISIC_0014948_segmentation.png\n",
            "ISIC_0014951_segmentation.png\n",
            "ISIC_0014838_segmentation.png\n",
            "ISIC_0014836_segmentation.png\n",
            "ISIC_0014839_segmentation.png\n",
            "ISIC_0014843_segmentation.png\n",
            "ISIC_0014846_segmentation.png\n",
            "ISIC_0014853_segmentation.png\n",
            "ISIC_0014850_segmentation.png\n",
            "ISIC_0014854_segmentation.png\n",
            "ISIC_0014857_segmentation.png\n",
            "ISIC_0014860_segmentation.png\n",
            "ISIC_0014863_segmentation.png\n",
            "ISIC_0014868_segmentation.png\n",
            "ISIC_0014872_segmentation.png\n",
            "ISIC_0014876_segmentation.png\n",
            "ISIC_0014890_segmentation.png\n",
            "ISIC_0014891_segmentation.png\n",
            "ISIC_0014957_segmentation.png\n",
            "ISIC_0014962_segmentation.png\n",
            "ISIC_0014961_segmentation.png\n",
            "ISIC_0014958_segmentation.png\n",
            "ISIC_0014963_segmentation.png\n",
            "ISIC_0014964_segmentation.png\n",
            "ISIC_0014966_segmentation.png\n",
            "ISIC_0014968_segmentation.png\n",
            "ISIC_0014974_segmentation.png\n",
            "ISIC_0014979_segmentation.png\n",
            "ISIC_0014982_segmentation.png\n",
            "ISIC_0014989_segmentation.png\n",
            "ISIC_0014987_segmentation.png\n",
            "ISIC_0014992_segmentation.png\n",
            "ISIC_0014998_segmentation.png\n",
            "ISIC_0014994_segmentation.png\n",
            "ISIC_0014724_segmentation.png\n",
            "ISIC_0014728_segmentation.png\n",
            "ISIC_0014725_segmentation.png\n",
            "ISIC_0014726_segmentation.png\n",
            "ISIC_0014730_segmentation.png\n",
            "ISIC_0014740_segmentation.png\n",
            "ISIC_0014739_segmentation.png\n",
            "ISIC_0014731_segmentation.png\n",
            "ISIC_0014743_segmentation.png\n",
            "ISIC_0014745_segmentation.png\n",
            "ISIC_0014746_segmentation.png\n",
            "ISIC_0014749_segmentation.png\n",
            "ISIC_0014753_segmentation.png\n",
            "ISIC_0014754_segmentation.png\n",
            "ISIC_0014755_segmentation.png\n",
            "ISIC_0014760_segmentation.png\n",
            "ISIC_0015002_segmentation.png\n",
            "ISIC_0015003_segmentation.png\n",
            "ISIC_0015007_segmentation.png\n",
            "ISIC_0015011_segmentation.png\n",
            "ISIC_0015008_segmentation.png\n",
            "ISIC_0015013_segmentation.png\n",
            "ISIC_0015018_segmentation.png\n",
            "ISIC_0015020_segmentation.png\n",
            "ISIC_0015030_segmentation.png\n",
            "ISIC_0015021_segmentation.png\n",
            "ISIC_0015023_segmentation.png\n",
            "ISIC_0015031_segmentation.png\n",
            "ISIC_0015040_segmentation.png\n",
            "ISIC_0015035_segmentation.png\n",
            "ISIC_0015032_segmentation.png\n",
            "ISIC_0015041_segmentation.png\n",
            "ISIC_0014763_segmentation.png\n",
            "ISIC_0014762_segmentation.png\n",
            "ISIC_0014765_segmentation.png\n",
            "ISIC_0014769_segmentation.png\n",
            "ISIC_0014771_segmentation.png\n",
            "ISIC_0014770_segmentation.png\n",
            "ISIC_0014772_segmentation.png\n",
            "ISIC_0014773_segmentation.png\n",
            "ISIC_0014779_segmentation.png\n",
            "ISIC_0014775_segmentation.png\n",
            "ISIC_0014778_segmentation.png\n",
            "ISIC_0014780_segmentation.png\n",
            "ISIC_0014783_segmentation.png\n",
            "ISIC_0014786_segmentation.png\n",
            "ISIC_0014784_segmentation.png\n",
            "ISIC_0014787_segmentation.png\n",
            "ISIC_0014792_segmentation.png\n",
            "ISIC_0014794_segmentation.png\n",
            "ISIC_0014802_segmentation.png\n",
            "ISIC_0014806_segmentation.png\n",
            "ISIC_0014803_segmentation.png\n",
            "ISIC_0014804_segmentation.png\n",
            "ISIC_0014807_segmentation.png\n",
            "ISIC_0014818_segmentation.png\n",
            "ISIC_0014809_segmentation.png\n",
            "ISIC_0014814_segmentation.png\n",
            "ISIC_0014820_segmentation.png\n",
            "ISIC_0014823_segmentation.png\n"
          ],
          "name": "stdout"
        },
        {
          "output_type": "stream",
          "text": [
            "/usr/local/lib/python3.6/dist-packages/ipykernel_launcher.py:9: DeprecationWarning: `imread` is deprecated!\n",
            "`imread` is deprecated in SciPy 1.0.0.\n",
            "Use ``matplotlib.pyplot.imread`` instead.\n",
            "  if __name__ == '__main__':\n"
          ],
          "name": "stderr"
        },
        {
          "output_type": "stream",
          "text": [
            "ISIC_0014825_segmentation.png\n",
            "ISIC_0014826_segmentation.png\n",
            "ISIC_0014831_segmentation.png\n",
            "ISIC_0014832_segmentation.png\n",
            "ISIC_0014677_segmentation.png\n",
            "ISIC_0014682_segmentation.png\n",
            "ISIC_0014684_segmentation.png\n",
            "ISIC_0014687_segmentation.png\n",
            "ISIC_0014698_segmentation.png\n",
            "ISIC_0014694_segmentation.png\n",
            "ISIC_0014697_segmentation.png\n",
            "ISIC_0014696_segmentation.png\n",
            "ISIC_0014702_segmentation.png\n",
            "ISIC_0014707_segmentation.png\n",
            "ISIC_0014715_segmentation.png\n",
            "ISIC_0014713_segmentation.png\n",
            "ISIC_0014708_segmentation.png\n",
            "ISIC_0014720_segmentation.png\n",
            "ISIC_0014723_segmentation.png\n",
            "ISIC_0014722_segmentation.png\n",
            "ISIC_0014605_segmentation.png\n",
            "ISIC_0014601_segmentation.png\n",
            "ISIC_0014617_segmentation.png\n",
            "ISIC_0014610_segmentation.png\n",
            "ISIC_0014624_segmentation.png\n",
            "ISIC_0014640_segmentation.png\n",
            "ISIC_0014625_segmentation.png\n",
            "ISIC_0014632_segmentation.png\n",
            "ISIC_0014642_segmentation.png\n",
            "ISIC_0014657_segmentation.png\n",
            "ISIC_0014643_segmentation.png\n",
            "ISIC_0014651_segmentation.png\n",
            "ISIC_0014658_segmentation.png\n",
            "ISIC_0014663_segmentation.png\n",
            "ISIC_0014667_segmentation.png\n",
            "ISIC_0014675_segmentation.png\n",
            "ISIC_0000225_segmentation.png\n",
            "ISIC_0000226_segmentation.png\n",
            "ISIC_0000227_segmentation.png\n",
            "ISIC_0000231_segmentation.png\n",
            "ISIC_0000233_segmentation.png\n",
            "ISIC_0000229_segmentation.png\n",
            "ISIC_0000228_segmentation.png\n",
            "ISIC_0000235_segmentation.png\n",
            "ISIC_0000240_segmentation.png\n",
            "ISIC_0000247_segmentation.png\n",
            "ISIC_0000242_segmentation.png\n",
            "ISIC_0000245_segmentation.png\n",
            "ISIC_0000250_segmentation.png\n",
            "ISIC_0000252_segmentation.png\n",
            "ISIC_0000253_segmentation.png\n",
            "ISIC_0000254_segmentation.png\n",
            "ISIC_0014543_segmentation.png\n",
            "ISIC_0014545_segmentation.png\n",
            "ISIC_0014547_segmentation.png\n",
            "ISIC_0014558_segmentation.png\n",
            "ISIC_0014548_segmentation.png\n",
            "ISIC_0014554_segmentation.png\n",
            "ISIC_0014559_segmentation.png\n",
            "ISIC_0014567_segmentation.png\n",
            "ISIC_0014572_segmentation.png\n",
            "ISIC_0014576_segmentation.png\n",
            "ISIC_0014580_segmentation.png\n",
            "ISIC_0014585_segmentation.png\n",
            "ISIC_0014583_segmentation.png\n",
            "ISIC_0014581_segmentation.png\n",
            "ISIC_0014586_segmentation.png\n",
            "ISIC_0014599_segmentation.png\n",
            "ISIC_0014219_segmentation.png\n",
            "ISIC_0014221_segmentation.png\n",
            "ISIC_0014225_segmentation.png\n",
            "ISIC_0014233_segmentation.png\n",
            "ISIC_0014238_segmentation.png\n",
            "ISIC_0014255_segmentation.png\n",
            "ISIC_0014270_segmentation.png\n",
            "ISIC_0014284_segmentation.png\n",
            "ISIC_0014289_segmentation.png\n",
            "ISIC_0014286_segmentation.png\n",
            "ISIC_0014290_segmentation.png\n",
            "ISIC_0014291_segmentation.png\n",
            "ISIC_0014308_segmentation.png\n",
            "ISIC_0014302_segmentation.png\n",
            "ISIC_0014299_segmentation.png\n",
            "ISIC_0014311_segmentation.png\n",
            "ISIC_0014089_segmentation.png\n",
            "ISIC_0014081_segmentation.png\n",
            "ISIC_0014090_segmentation.png\n",
            "ISIC_0014092_segmentation.png\n",
            "ISIC_0014108_segmentation.png\n",
            "ISIC_0014099_segmentation.png\n",
            "ISIC_0014110_segmentation.png\n",
            "ISIC_0014114_segmentation.png\n",
            "ISIC_0014127_segmentation.png\n",
            "ISIC_0014131_segmentation.png\n",
            "ISIC_0014129_segmentation.png\n",
            "ISIC_0014133_segmentation.png\n",
            "ISIC_0014149_segmentation.png\n",
            "ISIC_0014157_segmentation.png\n",
            "ISIC_0014156_segmentation.png\n",
            "ISIC_0014151_segmentation.png\n",
            "ISIC_0013961_segmentation.png\n",
            "ISIC_0013972_segmentation.png\n",
            "ISIC_0013967_segmentation.png\n",
            "ISIC_0013969_segmentation.png\n",
            "ISIC_0013975_segmentation.png\n",
            "ISIC_0013977_segmentation.png\n",
            "ISIC_0013984_segmentation.png\n",
            "ISIC_0013982_segmentation.png\n",
            "ISIC_0013981_segmentation.png\n",
            "ISIC_0013986_segmentation.png\n",
            "ISIC_0013987_segmentation.png\n",
            "ISIC_0013998_segmentation.png\n",
            "ISIC_0013995_segmentation.png\n",
            "ISIC_0013997_segmentation.png\n",
            "ISIC_0014001_segmentation.png\n",
            "ISIC_0014013_segmentation.png\n",
            "ISIC_0014397_segmentation.png\n",
            "ISIC_0014410_segmentation.png\n",
            "ISIC_0014428_segmentation.png\n",
            "ISIC_0014419_segmentation.png\n",
            "ISIC_0014422_segmentation.png\n",
            "ISIC_0014431_segmentation.png\n",
            "ISIC_0014433_segmentation.png\n",
            "ISIC_0014438_segmentation.png\n",
            "ISIC_0014441_segmentation.png\n",
            "ISIC_0014453_segmentation.png\n",
            "ISIC_0014454_segmentation.png\n",
            "ISIC_0014469_segmentation.png\n",
            "ISIC_0014457_segmentation.png\n",
            "ISIC_0014458_segmentation.png\n",
            "ISIC_0014470_segmentation.png\n",
            "ISIC_0014473_segmentation.png\n",
            "ISIC_0014158_segmentation.png\n",
            "ISIC_0014164_segmentation.png\n",
            "ISIC_0014163_segmentation.png\n",
            "ISIC_0014162_segmentation.png\n",
            "ISIC_0014169_segmentation.png\n",
            "ISIC_0014181_segmentation.png\n",
            "ISIC_0014178_segmentation.png\n",
            "ISIC_0014173_segmentation.png\n",
            "ISIC_0014183_segmentation.png\n",
            "ISIC_0014185_segmentation.png\n",
            "ISIC_0014190_segmentation.png\n",
            "ISIC_0014186_segmentation.png\n",
            "ISIC_0014189_segmentation.png\n",
            "ISIC_0014195_segmentation.png\n",
            "ISIC_0014197_segmentation.png\n",
            "ISIC_0014217_segmentation.png\n",
            "ISIC_0014317_segmentation.png\n",
            "ISIC_0014325_segmentation.png\n",
            "ISIC_0014327_segmentation.png\n",
            "ISIC_0014331_segmentation.png\n",
            "ISIC_0014336_segmentation.png\n",
            "ISIC_0014349_segmentation.png\n",
            "ISIC_0014347_segmentation.png\n",
            "ISIC_0014357_segmentation.png\n",
            "ISIC_0014360_segmentation.png\n",
            "ISIC_0014372_segmentation.png\n",
            "ISIC_0014361_segmentation.png\n",
            "ISIC_0014366_segmentation.png\n",
            "ISIC_0014382_segmentation.png\n",
            "ISIC_0014386_segmentation.png\n",
            "ISIC_0014394_segmentation.png\n",
            "ISIC_0014393_segmentation.png\n",
            "ISIC_0014026_segmentation.png\n",
            "ISIC_0014027_segmentation.png\n",
            "ISIC_0014037_segmentation.png\n",
            "ISIC_0014028_segmentation.png\n",
            "ISIC_0014032_segmentation.png\n",
            "ISIC_0014044_segmentation.png\n",
            "ISIC_0014046_segmentation.png\n",
            "ISIC_0014062_segmentation.png\n",
            "ISIC_0014049_segmentation.png\n",
            "ISIC_0014059_segmentation.png\n",
            "ISIC_0014066_segmentation.png\n",
            "ISIC_0014069_segmentation.png\n",
            "ISIC_0014076_segmentation.png\n",
            "ISIC_0014073_segmentation.png\n",
            "ISIC_0014072_segmentation.png\n",
            "ISIC_0014080_segmentation.png\n",
            "ISIC_0014480_segmentation.png\n",
            "ISIC_0014475_segmentation.png\n",
            "ISIC_0014478_segmentation.png\n",
            "ISIC_0014486_segmentation.png\n",
            "ISIC_0014501_segmentation.png\n",
            "ISIC_0014506_segmentation.png\n",
            "ISIC_0014503_segmentation.png\n",
            "ISIC_0014502_segmentation.png\n",
            "ISIC_0014507_segmentation.png\n",
            "ISIC_0014511_segmentation.png\n",
            "ISIC_0014518_segmentation.png\n",
            "ISIC_0014513_segmentation.png\n",
            "ISIC_0014526_segmentation.png\n",
            "ISIC_0014529_segmentation.png\n",
            "ISIC_0014542_segmentation.png\n",
            "ISIC_0014537_segmentation.png\n",
            "ISIC_0013897_segmentation.png\n",
            "ISIC_0013896_segmentation.png\n",
            "ISIC_0013898_segmentation.png\n",
            "ISIC_0013908_segmentation.png\n",
            "ISIC_0013911_segmentation.png\n",
            "ISIC_0013917_segmentation.png\n",
            "ISIC_0013918_segmentation.png\n",
            "ISIC_0013921_segmentation.png\n",
            "ISIC_0013922_segmentation.png\n",
            "ISIC_0013929_segmentation.png\n",
            "ISIC_0013925_segmentation.png\n",
            "ISIC_0013935_segmentation.png\n",
            "ISIC_0013936_segmentation.png\n",
            "ISIC_0013953_segmentation.png\n",
            "ISIC_0013948_segmentation.png\n",
            "ISIC_0013946_segmentation.png\n",
            "ISIC_0000206_segmentation.png\n",
            "ISIC_0000207_segmentation.png\n",
            "ISIC_0000208_segmentation.png\n",
            "ISIC_0000210_segmentation.png\n",
            "ISIC_0000211_segmentation.png\n",
            "ISIC_0000213_segmentation.png\n",
            "ISIC_0000212_segmentation.png\n",
            "ISIC_0000214_segmentation.png\n",
            "ISIC_0000215_segmentation.png\n",
            "ISIC_0000216_segmentation.png\n",
            "ISIC_0000219_segmentation.png\n",
            "ISIC_0000218_segmentation.png\n",
            "ISIC_0000220_segmentation.png\n",
            "ISIC_0000224_segmentation.png\n",
            "ISIC_0000223_segmentation.png\n",
            "ISIC_0000221_segmentation.png\n",
            "ISIC_0013733_segmentation.png\n",
            "ISIC_0013736_segmentation.png\n",
            "ISIC_0013737_segmentation.png\n",
            "ISIC_0013748_segmentation.png\n",
            "ISIC_0013740_segmentation.png\n",
            "ISIC_0013747_segmentation.png\n",
            "ISIC_0013762_segmentation.png\n",
            "ISIC_0013765_segmentation.png\n",
            "ISIC_0013772_segmentation.png\n",
            "ISIC_0013766_segmentation.png\n",
            "ISIC_0013775_segmentation.png\n",
            "ISIC_0013777_segmentation.png\n",
            "ISIC_0013782_segmentation.png\n",
            "ISIC_0013792_segmentation.png\n",
            "ISIC_0013783_segmentation.png\n",
            "ISIC_0013793_segmentation.png\n",
            "ISIC_0013594_segmentation.png\n",
            "ISIC_0013597_segmentation.png\n",
            "ISIC_0013596_segmentation.png\n",
            "ISIC_0013595_segmentation.png\n",
            "ISIC_0013599_segmentation.png\n",
            "ISIC_0013601_segmentation.png\n",
            "ISIC_0013602_segmentation.png\n",
            "ISIC_0013615_segmentation.png\n",
            "ISIC_0013603_segmentation.png\n",
            "ISIC_0013617_segmentation.png\n",
            "ISIC_0013618_segmentation.png\n",
            "ISIC_0013621_segmentation.png\n",
            "ISIC_0013634_segmentation.png\n",
            "ISIC_0013635_segmentation.png\n",
            "ISIC_0013636_segmentation.png\n",
            "ISIC_0013643_segmentation.png\n",
            "ISIC_0013832_segmentation.png\n",
            "ISIC_0013837_segmentation.png\n",
            "ISIC_0013836_segmentation.png\n",
            "ISIC_0013833_segmentation.png\n",
            "ISIC_0013839_segmentation.png\n",
            "ISIC_0013840_segmentation.png\n",
            "ISIC_0013842_segmentation.png\n",
            "ISIC_0013861_segmentation.png\n",
            "ISIC_0013862_segmentation.png\n",
            "ISIC_0013863_segmentation.png\n",
            "ISIC_0013867_segmentation.png\n",
            "ISIC_0013886_segmentation.png\n",
            "ISIC_0013874_segmentation.png\n",
            "ISIC_0013879_segmentation.png\n",
            "ISIC_0013888_segmentation.png\n",
            "ISIC_0013891_segmentation.png\n",
            "ISIC_0013430_segmentation.png\n",
            "ISIC_0013428_segmentation.png\n",
            "ISIC_0013432_segmentation.png\n",
            "ISIC_0013434_segmentation.png\n",
            "ISIC_0013456_segmentation.png\n",
            "ISIC_0013443_segmentation.png\n",
            "ISIC_0013438_segmentation.png\n",
            "ISIC_0013457_segmentation.png\n",
            "ISIC_0013461_segmentation.png\n",
            "ISIC_0013458_segmentation.png\n",
            "ISIC_0013459_segmentation.png\n",
            "ISIC_0013465_segmentation.png\n",
            "ISIC_0013472_segmentation.png\n",
            "ISIC_0013474_segmentation.png\n",
            "ISIC_0013473_segmentation.png\n",
            "ISIC_0013480_segmentation.png\n",
            "ISIC_0013795_segmentation.png\n",
            "ISIC_0013799_segmentation.png\n",
            "ISIC_0013798_segmentation.png\n",
            "ISIC_0013796_segmentation.png\n",
            "ISIC_0013803_segmentation.png\n",
            "ISIC_0013800_segmentation.png\n",
            "ISIC_0013801_segmentation.png\n",
            "ISIC_0013802_segmentation.png\n",
            "ISIC_0013806_segmentation.png\n",
            "ISIC_0013808_segmentation.png\n",
            "ISIC_0013817_segmentation.png\n",
            "ISIC_0013816_segmentation.png\n",
            "ISIC_0013815_segmentation.png\n",
            "ISIC_0013828_segmentation.png\n",
            "ISIC_0013830_segmentation.png\n",
            "ISIC_0013831_segmentation.png\n",
            "ISIC_0013644_segmentation.png\n",
            "ISIC_0013670_segmentation.png\n",
            "ISIC_0013663_segmentation.png\n",
            "ISIC_0013667_segmentation.png\n",
            "ISIC_0013671_segmentation.png\n",
            "ISIC_0013675_segmentation.png\n",
            "ISIC_0013680_segmentation.png\n",
            "ISIC_0013684_segmentation.png\n",
            "ISIC_0013685_segmentation.png\n",
            "ISIC_0013695_segmentation.png\n",
            "ISIC_0013696_segmentation.png\n",
            "ISIC_0013702_segmentation.png\n",
            "ISIC_0013708_segmentation.png\n",
            "ISIC_0013721_segmentation.png\n",
            "ISIC_0013719_segmentation.png\n",
            "ISIC_0013709_segmentation.png\n",
            "ISIC_0013487_segmentation.png\n",
            "ISIC_0013488_segmentation.png\n",
            "ISIC_0013495_segmentation.png\n",
            "ISIC_0013489_segmentation.png\n",
            "ISIC_0013493_segmentation.png\n",
            "ISIC_0013498_segmentation.png\n",
            "ISIC_0013499_segmentation.png\n",
            "ISIC_0013511_segmentation.png\n",
            "ISIC_0013501_segmentation.png\n",
            "ISIC_0013516_segmentation.png\n",
            "ISIC_0013517_segmentation.png\n",
            "ISIC_0013523_segmentation.png\n",
            "ISIC_0013525_segmentation.png\n",
            "ISIC_0013526_segmentation.png\n",
            "ISIC_0013527_segmentation.png\n",
            "ISIC_0013549_segmentation.png\n",
            "ISIC_0013552_segmentation.png\n",
            "ISIC_0013559_segmentation.png\n",
            "ISIC_0013553_segmentation.png\n",
            "ISIC_0013554_segmentation.png\n",
            "ISIC_0013562_segmentation.png\n",
            "ISIC_0013572_segmentation.png\n",
            "ISIC_0013565_segmentation.png\n",
            "ISIC_0013568_segmentation.png\n",
            "ISIC_0013573_segmentation.png\n",
            "ISIC_0013577_segmentation.png\n",
            "ISIC_0013581_segmentation.png\n",
            "ISIC_0013579_segmentation.png\n",
            "ISIC_0013580_segmentation.png\n",
            "ISIC_0013585_segmentation.png\n",
            "ISIC_0013588_segmentation.png\n",
            "ISIC_0013592_segmentation.png\n",
            "ISIC_0013334_segmentation.png\n",
            "ISIC_0013335_segmentation.png\n",
            "ISIC_0013340_segmentation.png\n",
            "ISIC_0013342_segmentation.png\n",
            "ISIC_0013341_segmentation.png\n",
            "ISIC_0013346_segmentation.png\n",
            "ISIC_0013355_segmentation.png\n",
            "ISIC_0013356_segmentation.png\n",
            "ISIC_0013359_segmentation.png\n",
            "ISIC_0013360_segmentation.png\n",
            "ISIC_0013364_segmentation.png\n",
            "ISIC_0013365_segmentation.png\n",
            "ISIC_0013371_segmentation.png\n",
            "ISIC_0013383_segmentation.png\n",
            "ISIC_0013374_segmentation.png\n",
            "ISIC_0013385_segmentation.png\n",
            "ISIC_0013393_segmentation.png\n",
            "ISIC_0013394_segmentation.png\n",
            "ISIC_0013395_segmentation.png\n",
            "ISIC_0013397_segmentation.png\n",
            "ISIC_0013398_segmentation.png\n",
            "ISIC_0013403_segmentation.png\n",
            "ISIC_0013400_segmentation.png\n",
            "ISIC_0013399_segmentation.png\n",
            "ISIC_0013405_segmentation.png\n",
            "ISIC_0013416_segmentation.png\n",
            "ISIC_0013414_segmentation.png\n",
            "ISIC_0013411_segmentation.png\n",
            "ISIC_0013417_segmentation.png\n",
            "ISIC_0013424_segmentation.png\n",
            "ISIC_0013425_segmentation.png\n",
            "ISIC_0013427_segmentation.png\n",
            "ISIC_0012940_segmentation.png\n",
            "ISIC_0012945_segmentation.png\n",
            "ISIC_0012941_segmentation.png\n",
            "ISIC_0012944_segmentation.png\n",
            "ISIC_0012949_segmentation.png\n",
            "ISIC_0012950_segmentation.png\n",
            "ISIC_0012961_segmentation.png\n",
            "ISIC_0012957_segmentation.png\n",
            "ISIC_0012956_segmentation.png\n",
            "ISIC_0012965_segmentation.png\n",
            "ISIC_0012976_segmentation.png\n",
            "ISIC_0012987_segmentation.png\n",
            "ISIC_0012986_segmentation.png\n",
            "ISIC_0012981_segmentation.png\n",
            "ISIC_0012989_segmentation.png\n",
            "ISIC_0012990_segmentation.png\n",
            "ISIC_0013089_segmentation.png\n",
            "ISIC_0013090_segmentation.png\n",
            "ISIC_0013094_segmentation.png\n",
            "ISIC_0013104_segmentation.png\n",
            "ISIC_0013112_segmentation.png\n",
            "ISIC_0013106_segmentation.png\n",
            "ISIC_0013109_segmentation.png\n",
            "ISIC_0013120_segmentation.png\n",
            "ISIC_0013121_segmentation.png\n",
            "ISIC_0013126_segmentation.png\n",
            "ISIC_0013129_segmentation.png\n",
            "ISIC_0013136_segmentation.png\n",
            "ISIC_0013140_segmentation.png\n",
            "ISIC_0013141_segmentation.png\n",
            "ISIC_0013147_segmentation.png\n",
            "ISIC_0013160_segmentation.png\n",
            "ISIC_0013200_segmentation.png\n",
            "ISIC_0013205_segmentation.png\n",
            "ISIC_0013201_segmentation.png\n",
            "ISIC_0013203_segmentation.png\n",
            "ISIC_0013208_segmentation.png\n",
            "ISIC_0013219_segmentation.png\n",
            "ISIC_0013212_segmentation.png\n",
            "ISIC_0013213_segmentation.png\n",
            "ISIC_0013223_segmentation.png\n",
            "ISIC_0013230_segmentation.png\n",
            "ISIC_0013233_segmentation.png\n",
            "ISIC_0013235_segmentation.png\n",
            "ISIC_0013242_segmentation.png\n",
            "ISIC_0013244_segmentation.png\n",
            "ISIC_0013258_segmentation.png\n",
            "ISIC_0013257_segmentation.png\n",
            "ISIC_0013271_segmentation.png\n",
            "ISIC_0013269_segmentation.png\n",
            "ISIC_0013275_segmentation.png\n",
            "ISIC_0013288_segmentation.png\n",
            "ISIC_0013277_segmentation.png\n",
            "ISIC_0013287_segmentation.png\n",
            "ISIC_0013291_segmentation.png\n",
            "ISIC_0013302_segmentation.png\n",
            "ISIC_0013314_segmentation.png\n",
            "ISIC_0013304_segmentation.png\n",
            "ISIC_0013311_segmentation.png\n",
            "ISIC_0013326_segmentation.png\n",
            "ISIC_0013315_segmentation.png\n",
            "ISIC_0013319_segmentation.png\n",
            "ISIC_0013325_segmentation.png\n",
            "ISIC_0013330_segmentation.png\n",
            "ISIC_0013039_segmentation.png\n",
            "ISIC_0013044_segmentation.png\n",
            "ISIC_0013045_segmentation.png\n",
            "ISIC_0013048_segmentation.png\n",
            "ISIC_0013047_segmentation.png\n",
            "ISIC_0013052_segmentation.png\n",
            "ISIC_0013053_segmentation.png\n",
            "ISIC_0013055_segmentation.png\n",
            "ISIC_0013063_segmentation.png\n",
            "ISIC_0013065_segmentation.png\n",
            "ISIC_0013070_segmentation.png\n",
            "ISIC_0013072_segmentation.png\n",
            "ISIC_0013073_segmentation.png\n",
            "ISIC_0013079_segmentation.png\n",
            "ISIC_0013082_segmentation.png\n",
            "ISIC_0013086_segmentation.png\n",
            "ISIC_0000167_segmentation.png\n",
            "ISIC_0000169_segmentation.png\n",
            "ISIC_0000175_segmentation.png\n",
            "ISIC_0000170_segmentation.png\n",
            "ISIC_0000176_segmentation.png\n",
            "ISIC_0000182_segmentation.png\n",
            "ISIC_0000177_segmentation.png\n",
            "ISIC_0000179_segmentation.png\n",
            "ISIC_0000183_segmentation.png\n",
            "ISIC_0000184_segmentation.png\n",
            "ISIC_0000193_segmentation.png\n",
            "ISIC_0000189_segmentation.png\n",
            "ISIC_0000190_segmentation.png\n",
            "ISIC_0000198_segmentation.png\n",
            "ISIC_0000200_segmentation.png\n",
            "ISIC_0000203_segmentation.png\n",
            "ISIC_0013001_segmentation.png\n",
            "ISIC_0012999_segmentation.png\n",
            "ISIC_0013000_segmentation.png\n",
            "ISIC_0013007_segmentation.png\n",
            "ISIC_0013010_segmentation.png\n",
            "ISIC_0013012_segmentation.png\n",
            "ISIC_0013015_segmentation.png\n",
            "ISIC_0013023_segmentation.png\n",
            "ISIC_0013025_segmentation.png\n",
            "ISIC_0013026_segmentation.png\n",
            "ISIC_0013027_segmentation.png\n",
            "ISIC_0013031_segmentation.png\n",
            "ISIC_0013032_segmentation.png\n",
            "ISIC_0013037_segmentation.png\n",
            "ISIC_0013034_segmentation.png\n",
            "ISIC_0013035_segmentation.png\n",
            "ISIC_0013164_segmentation.png\n",
            "ISIC_0013165_segmentation.png\n",
            "ISIC_0013173_segmentation.png\n",
            "ISIC_0013167_segmentation.png\n",
            "ISIC_0013166_segmentation.png\n",
            "ISIC_0013178_segmentation.png\n",
            "ISIC_0013181_segmentation.png\n",
            "ISIC_0013187_segmentation.png\n",
            "ISIC_0013184_segmentation.png\n",
            "ISIC_0013190_segmentation.png\n",
            "ISIC_0013191_segmentation.png\n",
            "ISIC_0013196_segmentation.png\n",
            "ISIC_0013192_segmentation.png\n",
            "ISIC_0013193_segmentation.png\n",
            "ISIC_0013197_segmentation.png\n",
            "ISIC_0013198_segmentation.png\n",
            "ISIC_0012877_segmentation.png\n",
            "ISIC_0012878_segmentation.png\n",
            "ISIC_0012879_segmentation.png\n",
            "ISIC_0012880_segmentation.png\n",
            "ISIC_0012883_segmentation.png\n",
            "ISIC_0012887_segmentation.png\n",
            "ISIC_0012884_segmentation.png\n",
            "ISIC_0012888_segmentation.png\n",
            "ISIC_0012891_segmentation.png\n",
            "ISIC_0012897_segmentation.png\n",
            "ISIC_0012903_segmentation.png\n",
            "ISIC_0012898_segmentation.png\n",
            "ISIC_0012904_segmentation.png\n",
            "ISIC_0012905_segmentation.png\n",
            "ISIC_0012930_segmentation.png\n",
            "ISIC_0012932_segmentation.png\n",
            "ISIC_0012792_segmentation.png\n",
            "ISIC_0012803_segmentation.png\n",
            "ISIC_0012806_segmentation.png\n",
            "ISIC_0012804_segmentation.png\n",
            "ISIC_0012810_segmentation.png\n",
            "ISIC_0012813_segmentation.png\n",
            "ISIC_0012826_segmentation.png\n",
            "ISIC_0012836_segmentation.png\n",
            "ISIC_0012837_segmentation.png\n",
            "ISIC_0012840_segmentation.png\n",
            "ISIC_0012865_segmentation.png\n",
            "ISIC_0012855_segmentation.png\n",
            "ISIC_0012852_segmentation.png\n",
            "ISIC_0012876_segmentation.png\n",
            "ISIC_0012873_segmentation.png\n",
            "ISIC_0012871_segmentation.png\n",
            "ISIC_0012303_segmentation.png\n",
            "ISIC_0012298_segmentation.png\n",
            "ISIC_0012306_segmentation.png\n",
            "ISIC_0012309_segmentation.png\n",
            "ISIC_0012314_segmentation.png\n",
            "ISIC_0012316_segmentation.png\n",
            "ISIC_0012318_segmentation.png\n",
            "ISIC_0012320_segmentation.png\n",
            "ISIC_0012325_segmentation.png\n",
            "ISIC_0012323_segmentation.png\n",
            "ISIC_0012324_segmentation.png\n",
            "ISIC_0012330_segmentation.png\n",
            "ISIC_0012338_segmentation.png\n",
            "ISIC_0012334_segmentation.png\n",
            "ISIC_0012333_segmentation.png\n",
            "ISIC_0012348_segmentation.png\n",
            "ISIC_0012442_segmentation.png\n",
            "ISIC_0012435_segmentation.png\n",
            "ISIC_0012445_segmentation.png\n",
            "ISIC_0012450_segmentation.png\n",
            "ISIC_0012455_segmentation.png\n",
            "ISIC_0012453_segmentation.png\n",
            "ISIC_0012464_segmentation.png\n",
            "ISIC_0012469_segmentation.png\n",
            "ISIC_0012484_segmentation.png\n",
            "ISIC_0012473_segmentation.png\n",
            "ISIC_0012475_segmentation.png\n",
            "ISIC_0012487_segmentation.png\n",
            "ISIC_0012496_segmentation.png\n",
            "ISIC_0012489_segmentation.png\n",
            "ISIC_0012495_segmentation.png\n",
            "ISIC_0012506_segmentation.png\n",
            "ISIC_0012658_segmentation.png\n",
            "ISIC_0012659_segmentation.png\n",
            "ISIC_0012660_segmentation.png\n",
            "ISIC_0012661_segmentation.png\n",
            "ISIC_0012664_segmentation.png\n",
            "ISIC_0012663_segmentation.png\n",
            "ISIC_0012662_segmentation.png\n",
            "ISIC_0012665_segmentation.png\n",
            "ISIC_0012670_segmentation.png\n",
            "ISIC_0012671_segmentation.png\n",
            "ISIC_0012672_segmentation.png\n",
            "ISIC_0012673_segmentation.png\n",
            "ISIC_0012674_segmentation.png\n",
            "ISIC_0012678_segmentation.png\n",
            "ISIC_0012676_segmentation.png\n",
            "ISIC_0012677_segmentation.png\n",
            "ISIC_0012363_segmentation.png\n",
            "ISIC_0012356_segmentation.png\n",
            "ISIC_0012360_segmentation.png\n",
            "ISIC_0012358_segmentation.png\n",
            "ISIC_0012369_segmentation.png\n",
            "ISIC_0012372_segmentation.png\n",
            "ISIC_0012374_segmentation.png\n",
            "ISIC_0012379_segmentation.png\n",
            "ISIC_0012390_segmentation.png\n",
            "ISIC_0012391_segmentation.png\n",
            "ISIC_0012395_segmentation.png\n",
            "ISIC_0012413_segmentation.png\n",
            "ISIC_0012400_segmentation.png\n",
            "ISIC_0012415_segmentation.png\n",
            "ISIC_0012417_segmentation.png\n",
            "ISIC_0012434_segmentation.png\n",
            "ISIC_0000145_segmentation.png\n",
            "ISIC_0000146_segmentation.png\n",
            "ISIC_0000148_segmentation.png\n",
            "ISIC_0000149_segmentation.png\n",
            "ISIC_0000151_segmentation.png\n",
            "ISIC_0000150_segmentation.png\n",
            "ISIC_0000152_segmentation.png\n",
            "ISIC_0000153_segmentation.png\n",
            "ISIC_0000154_segmentation.png\n",
            "ISIC_0000155_segmentation.png\n",
            "ISIC_0000156_segmentation.png\n",
            "ISIC_0000159_segmentation.png\n",
            "ISIC_0000161_segmentation.png\n",
            "ISIC_0000164_segmentation.png\n",
            "ISIC_0000165_segmentation.png\n",
            "ISIC_0000166_segmentation.png\n",
            "ISIC_0012511_segmentation.png\n",
            "ISIC_0012518_segmentation.png\n",
            "ISIC_0012517_segmentation.png\n",
            "ISIC_0012516_segmentation.png\n",
            "ISIC_0012521_segmentation.png\n",
            "ISIC_0012523_segmentation.png\n",
            "ISIC_0012526_segmentation.png\n",
            "ISIC_0012538_segmentation.png\n",
            "ISIC_0012539_segmentation.png\n",
            "ISIC_0012544_segmentation.png\n",
            "ISIC_0012549_segmentation.png\n",
            "ISIC_0012653_segmentation.png\n",
            "ISIC_0012551_segmentation.png\n",
            "ISIC_0012550_segmentation.png\n",
            "ISIC_0012656_segmentation.png\n",
            "ISIC_0012657_segmentation.png\n",
            "ISIC_0012679_segmentation.png\n",
            "ISIC_0012683_segmentation.png\n",
            "ISIC_0012681_segmentation.png\n",
            "ISIC_0012680_segmentation.png\n",
            "ISIC_0012684_segmentation.png\n",
            "ISIC_0012699_segmentation.png\n",
            "ISIC_0012685_segmentation.png\n",
            "ISIC_0012693_segmentation.png\n",
            "ISIC_0012697_segmentation.png\n",
            "ISIC_0012700_segmentation.png\n",
            "ISIC_0012701_segmentation.png\n",
            "ISIC_0012704_segmentation.png\n",
            "ISIC_0012706_segmentation.png\n",
            "ISIC_0012708_segmentation.png\n",
            "ISIC_0012710_segmentation.png\n",
            "ISIC_0012711_segmentation.png\n",
            "ISIC_0012713_segmentation.png\n",
            "ISIC_0012715_segmentation.png\n",
            "ISIC_0012726_segmentation.png\n",
            "ISIC_0012719_segmentation.png\n",
            "ISIC_0012725_segmentation.png\n",
            "ISIC_0012735_segmentation.png\n",
            "ISIC_0012737_segmentation.png\n",
            "ISIC_0012740_segmentation.png\n",
            "ISIC_0012739_segmentation.png\n",
            "ISIC_0012741_segmentation.png\n",
            "ISIC_0012744_segmentation.png\n",
            "ISIC_0012756_segmentation.png\n",
            "ISIC_0012746_segmentation.png\n",
            "ISIC_0012758_segmentation.png\n",
            "ISIC_0012768_segmentation.png\n",
            "ISIC_0012777_segmentation.png\n",
            "ISIC_0012246_segmentation.png\n",
            "ISIC_0012256_segmentation.png\n",
            "ISIC_0012250_segmentation.png\n",
            "ISIC_0012248_segmentation.png\n",
            "ISIC_0012259_segmentation.png\n",
            "ISIC_0012260_segmentation.png\n",
            "ISIC_0012261_segmentation.png\n",
            "ISIC_0012263_segmentation.png\n",
            "ISIC_0012273_segmentation.png\n",
            "ISIC_0012271_segmentation.png\n",
            "ISIC_0012272_segmentation.png\n",
            "ISIC_0012278_segmentation.png\n",
            "ISIC_0012284_segmentation.png\n",
            "ISIC_0012281_segmentation.png\n",
            "ISIC_0012282_segmentation.png\n",
            "ISIC_0012288_segmentation.png\n",
            "ISIC_0012201_segmentation.png\n",
            "ISIC_0012203_segmentation.png\n",
            "ISIC_0012204_segmentation.png\n",
            "ISIC_0012205_segmentation.png\n",
            "ISIC_0012206_segmentation.png\n",
            "ISIC_0012208_segmentation.png\n",
            "ISIC_0012207_segmentation.png\n",
            "ISIC_0012211_segmentation.png\n",
            "ISIC_0012216_segmentation.png\n",
            "ISIC_0012223_segmentation.png\n",
            "ISIC_0012213_segmentation.png\n",
            "ISIC_0012212_segmentation.png\n",
            "ISIC_0012227_segmentation.png\n",
            "ISIC_0012232_segmentation.png\n",
            "ISIC_0012233_segmentation.png\n",
            "ISIC_0012238_segmentation.png\n",
            "ISIC_0011390_segmentation.png\n",
            "ISIC_0011398_segmentation.png\n",
            "ISIC_0011397_segmentation.png\n",
            "ISIC_0011393_segmentation.png\n",
            "ISIC_0011402_segmentation.png\n",
            "ISIC_0012089_segmentation.png\n",
            "ISIC_0012094_segmentation.png\n",
            "ISIC_0012090_segmentation.png\n",
            "ISIC_0012102_segmentation.png\n",
            "ISIC_0012095_segmentation.png\n",
            "ISIC_0012097_segmentation.png\n",
            "ISIC_0012099_segmentation.png\n",
            "ISIC_0012107_segmentation.png\n",
            "ISIC_0012109_segmentation.png\n",
            "ISIC_0012118_segmentation.png\n",
            "ISIC_0012126_segmentation.png\n",
            "ISIC_0012127_segmentation.png\n",
            "ISIC_0012134_segmentation.png\n",
            "ISIC_0012136_segmentation.png\n",
            "ISIC_0012151_segmentation.png\n",
            "ISIC_0012147_segmentation.png\n",
            "ISIC_0012149_segmentation.png\n",
            "ISIC_0012156_segmentation.png\n",
            "ISIC_0012159_segmentation.png\n",
            "ISIC_0012173_segmentation.png\n",
            "ISIC_0012164_segmentation.png\n",
            "ISIC_0012177_segmentation.png\n",
            "ISIC_0012178_segmentation.png\n",
            "ISIC_0012179_segmentation.png\n",
            "ISIC_0012187_segmentation.png\n",
            "ISIC_0012191_segmentation.png\n",
            "ISIC_0012182_segmentation.png\n",
            "ISIC_0010844_segmentation.png\n",
            "ISIC_0010849_segmentation.png\n",
            "ISIC_0010847_segmentation.png\n",
            "ISIC_0010850_segmentation.png\n",
            "ISIC_0010851_segmentation.png\n",
            "ISIC_0010854_segmentation.png\n",
            "ISIC_0010853_segmentation.png\n",
            "ISIC_0010857_segmentation.png\n",
            "ISIC_0010858_segmentation.png\n",
            "ISIC_0010860_segmentation.png\n",
            "ISIC_0010861_segmentation.png\n",
            "ISIC_0010862_segmentation.png\n",
            "ISIC_0010864_segmentation.png\n",
            "ISIC_0011079_segmentation.png\n",
            "ISIC_0011082_segmentation.png\n",
            "ISIC_0011081_segmentation.png\n",
            "ISIC_0011158_segmentation.png\n",
            "ISIC_0011155_segmentation.png\n",
            "ISIC_0011159_segmentation.png\n",
            "ISIC_0011163_segmentation.png\n",
            "ISIC_0011168_segmentation.png\n",
            "ISIC_0011166_segmentation.png\n",
            "ISIC_0011164_segmentation.png\n",
            "ISIC_0011170_segmentation.png\n",
            "ISIC_0011171_segmentation.png\n",
            "ISIC_0011199_segmentation.png\n",
            "ISIC_0011177_segmentation.png\n",
            "ISIC_0011176_segmentation.png\n",
            "ISIC_0011202_segmentation.png\n",
            "ISIC_0011203_segmentation.png\n",
            "ISIC_0011204_segmentation.png\n",
            "ISIC_0011208_segmentation.png\n",
            "ISIC_0011210_segmentation.png\n",
            "ISIC_0011212_segmentation.png\n",
            "ISIC_0011219_segmentation.png\n",
            "ISIC_0011213_segmentation.png\n",
            "ISIC_0011214_segmentation.png\n",
            "ISIC_0011220_segmentation.png\n",
            "ISIC_0011224_segmentation.png\n",
            "ISIC_0011229_segmentation.png\n",
            "ISIC_0011225_segmentation.png\n",
            "ISIC_0011230_segmentation.png\n",
            "ISIC_0011292_segmentation.png\n",
            "ISIC_0011296_segmentation.png\n",
            "ISIC_0011294_segmentation.png\n",
            "ISIC_0011295_segmentation.png\n",
            "ISIC_0011300_segmentation.png\n",
            "ISIC_0011303_segmentation.png\n",
            "ISIC_0011304_segmentation.png\n",
            "ISIC_0011305_segmentation.png\n",
            "ISIC_0011306_segmentation.png\n",
            "ISIC_0011315_segmentation.png\n",
            "ISIC_0011317_segmentation.png\n",
            "ISIC_0011323_segmentation.png\n",
            "ISIC_0011322_segmentation.png\n",
            "ISIC_0011326_segmentation.png\n",
            "ISIC_0011328_segmentation.png\n",
            "ISIC_0011333_segmentation.png\n",
            "ISIC_0011329_segmentation.png\n",
            "ISIC_0011330_segmentation.png\n",
            "ISIC_0011334_segmentation.png\n",
            "ISIC_0011336_segmentation.png\n",
            "ISIC_0011339_segmentation.png\n",
            "ISIC_0011338_segmentation.png\n",
            "ISIC_0011341_segmentation.png\n",
            "ISIC_0011345_segmentation.png\n",
            "ISIC_0011347_segmentation.png\n",
            "ISIC_0011348_segmentation.png\n",
            "ISIC_0011349_segmentation.png\n",
            "ISIC_0011356_segmentation.png\n",
            "ISIC_0011358_segmentation.png\n",
            "ISIC_0011366_segmentation.png\n",
            "ISIC_0011359_segmentation.png\n",
            "ISIC_0011372_segmentation.png\n",
            "ISIC_0011373_segmentation.png\n",
            "ISIC_0011382_segmentation.png\n",
            "ISIC_0011378_segmentation.png\n",
            "ISIC_0011374_segmentation.png\n",
            "ISIC_0011384_segmentation.png\n",
            "ISIC_0011385_segmentation.png\n",
            "ISIC_0011118_segmentation.png\n",
            "ISIC_0011120_segmentation.png\n",
            "ISIC_0011124_segmentation.png\n",
            "ISIC_0011129_segmentation.png\n",
            "ISIC_0011128_segmentation.png\n",
            "ISIC_0011127_segmentation.png\n",
            "ISIC_0011131_segmentation.png\n",
            "ISIC_0011140_segmentation.png\n",
            "ISIC_0011137_segmentation.png\n",
            "ISIC_0011139_segmentation.png\n",
            "ISIC_0011143_segmentation.png\n",
            "ISIC_0011149_segmentation.png\n",
            "ISIC_0011146_segmentation.png\n",
            "ISIC_0011144_segmentation.png\n",
            "ISIC_0011150_segmentation.png\n",
            "ISIC_0011151_segmentation.png\n",
            "ISIC_0000119_segmentation.png\n",
            "ISIC_0000120_segmentation.png\n",
            "ISIC_0000121_segmentation.png\n",
            "ISIC_0000122_segmentation.png\n",
            "ISIC_0000123_segmentation.png\n",
            "ISIC_0000124_segmentation.png\n",
            "ISIC_0000128_segmentation.png\n",
            "ISIC_0000126_segmentation.png\n",
            "ISIC_0000129_segmentation.png\n",
            "ISIC_0000132_segmentation.png\n",
            "ISIC_0000138_segmentation.png\n",
            "ISIC_0000136_segmentation.png\n",
            "ISIC_0000134_segmentation.png\n",
            "ISIC_0000139_segmentation.png\n",
            "ISIC_0000143_segmentation.png\n",
            "ISIC_0000141_segmentation.png\n",
            "ISIC_0011085_segmentation.png\n",
            "ISIC_0011084_segmentation.png\n",
            "ISIC_0011088_segmentation.png\n",
            "ISIC_0011092_segmentation.png\n",
            "ISIC_0011089_segmentation.png\n",
            "ISIC_0011090_segmentation.png\n",
            "ISIC_0011095_segmentation.png\n",
            "ISIC_0011098_segmentation.png\n",
            "ISIC_0011099_segmentation.png\n",
            "ISIC_0011105_segmentation.png\n",
            "ISIC_0011109_segmentation.png\n",
            "ISIC_0011110_segmentation.png\n",
            "ISIC_0011115_segmentation.png\n",
            "ISIC_0011114_segmentation.png\n",
            "ISIC_0011112_segmentation.png\n",
            "ISIC_0011117_segmentation.png\n",
            "ISIC_0010323_segmentation.png\n",
            "ISIC_0010326_segmentation.png\n",
            "ISIC_0010329_segmentation.png\n",
            "ISIC_0010327_segmentation.png\n",
            "ISIC_0010330_segmentation.png\n",
            "ISIC_0010334_segmentation.png\n",
            "ISIC_0010333_segmentation.png\n",
            "ISIC_0010332_segmentation.png\n",
            "ISIC_0010335_segmentation.png\n",
            "ISIC_0010339_segmentation.png\n",
            "ISIC_0010340_segmentation.png\n",
            "ISIC_0010342_segmentation.png\n",
            "ISIC_0010344_segmentation.png\n",
            "ISIC_0010346_segmentation.png\n",
            "ISIC_0010347_segmentation.png\n",
            "ISIC_0010348_segmentation.png\n",
            "ISIC_0010349_segmentation.png\n",
            "ISIC_0010356_segmentation.png\n",
            "ISIC_0010358_segmentation.png\n",
            "ISIC_0010362_segmentation.png\n",
            "ISIC_0010368_segmentation.png\n",
            "ISIC_0010364_segmentation.png\n",
            "ISIC_0010367_segmentation.png\n",
            "ISIC_0010372_segmentation.png\n",
            "ISIC_0010374_segmentation.png\n",
            "ISIC_0010441_segmentation.png\n",
            "ISIC_0010380_segmentation.png\n",
            "ISIC_0010379_segmentation.png\n",
            "ISIC_0010442_segmentation.png\n",
            "ISIC_0010444_segmentation.png\n",
            "ISIC_0010445_segmentation.png\n",
            "ISIC_0010448_segmentation.png\n",
            "ISIC_0010483_segmentation.png\n",
            "ISIC_0010492_segmentation.png\n",
            "ISIC_0010494_segmentation.png\n",
            "ISIC_0010487_segmentation.png\n",
            "ISIC_0010488_segmentation.png\n",
            "ISIC_0010496_segmentation.png\n",
            "ISIC_0010497_segmentation.png\n",
            "ISIC_0010553_segmentation.png\n",
            "ISIC_0010552_segmentation.png\n",
            "ISIC_0010554_segmentation.png\n",
            "ISIC_0010558_segmentation.png\n",
            "ISIC_0010566_segmentation.png\n",
            "ISIC_0010567_segmentation.png\n",
            "ISIC_0010569_segmentation.png\n",
            "ISIC_0010571_segmentation.png\n",
            "ISIC_0010572_segmentation.png\n",
            "ISIC_0010573_segmentation.png\n",
            "ISIC_0010574_segmentation.png\n",
            "ISIC_0010584_segmentation.png\n",
            "ISIC_0010581_segmentation.png\n",
            "ISIC_0010576_segmentation.png\n",
            "ISIC_0010585_segmentation.png\n",
            "ISIC_0010588_segmentation.png\n",
            "ISIC_0010587_segmentation.png\n",
            "ISIC_0010589_segmentation.png\n",
            "ISIC_0010593_segmentation.png\n",
            "ISIC_0010597_segmentation.png\n",
            "ISIC_0010595_segmentation.png\n",
            "ISIC_0010598_segmentation.png\n",
            "ISIC_0010603_segmentation.png\n",
            "ISIC_0010604_segmentation.png\n",
            "ISIC_0010606_segmentation.png\n",
            "ISIC_0010236_segmentation.png\n",
            "ISIC_0010237_segmentation.png\n",
            "ISIC_0010241_segmentation.png\n",
            "ISIC_0010238_segmentation.png\n",
            "ISIC_0010244_segmentation.png\n",
            "ISIC_0010247_segmentation.png\n",
            "ISIC_0010257_segmentation.png\n",
            "ISIC_0010263_segmentation.png\n",
            "ISIC_0010251_segmentation.png\n",
            "ISIC_0010252_segmentation.png\n",
            "ISIC_0010264_segmentation.png\n",
            "ISIC_0010319_segmentation.png\n",
            "ISIC_0010265_segmentation.png\n",
            "ISIC_0010267_segmentation.png\n",
            "ISIC_0010320_segmentation.png\n",
            "ISIC_0010321_segmentation.png\n",
            "ISIC_0010202_segmentation.png\n",
            "ISIC_0010201_segmentation.png\n",
            "ISIC_0010205_segmentation.png\n",
            "ISIC_0010206_segmentation.png\n",
            "ISIC_0010213_segmentation.png\n",
            "ISIC_0010207_segmentation.png\n",
            "ISIC_0010215_segmentation.png\n",
            "ISIC_0010219_segmentation.png\n",
            "ISIC_0010227_segmentation.png\n",
            "ISIC_0010220_segmentation.png\n",
            "ISIC_0010222_segmentation.png\n",
            "ISIC_0010228_segmentation.png\n",
            "ISIC_0010234_segmentation.png\n",
            "ISIC_0010229_segmentation.png\n",
            "ISIC_0010232_segmentation.png\n",
            "ISIC_0010235_segmentation.png\n",
            "ISIC_0010456_segmentation.png\n",
            "ISIC_0010452_segmentation.png\n",
            "ISIC_0010457_segmentation.png\n",
            "ISIC_0010461_segmentation.png\n",
            "ISIC_0010462_segmentation.png\n",
            "ISIC_0010466_segmentation.png\n",
            "ISIC_0010463_segmentation.png\n",
            "ISIC_0010468_segmentation.png\n",
            "ISIC_0010475_segmentation.png\n",
            "ISIC_0010474_segmentation.png\n",
            "ISIC_0010473_segmentation.png\n",
            "ISIC_0010476_segmentation.png\n",
            "ISIC_0010480_segmentation.png\n",
            "ISIC_0010477_segmentation.png\n",
            "ISIC_0010479_segmentation.png\n",
            "ISIC_0010481_segmentation.png\n",
            "ISIC_0000098_segmentation.png\n",
            "ISIC_0000099_segmentation.png\n",
            "ISIC_0000100_segmentation.png\n",
            "ISIC_0000101_segmentation.png\n",
            "ISIC_0000102_segmentation.png\n",
            "ISIC_0000103_segmentation.png\n",
            "ISIC_0000107_segmentation.png\n",
            "ISIC_0000105_segmentation.png\n",
            "ISIC_0000104_segmentation.png\n",
            "ISIC_0000108_segmentation.png\n",
            "ISIC_0000109_segmentation.png\n",
            "ISIC_0000112_segmentation.png\n",
            "ISIC_0000111_segmentation.png\n",
            "ISIC_0000110_segmentation.png\n",
            "ISIC_0000115_segmentation.png\n",
            "ISIC_0000113_segmentation.png\n",
            "ISIC_0010173_segmentation.png\n",
            "ISIC_0010169_segmentation.png\n",
            "ISIC_0010171_segmentation.png\n",
            "ISIC_0010174_segmentation.png\n",
            "ISIC_0010175_segmentation.png\n",
            "ISIC_0010180_segmentation.png\n",
            "ISIC_0010178_segmentation.png\n",
            "ISIC_0010176_segmentation.png\n",
            "ISIC_0010183_segmentation.png\n",
            "ISIC_0010187_segmentation.png\n",
            "ISIC_0010186_segmentation.png\n",
            "ISIC_0010184_segmentation.png\n",
            "ISIC_0010189_segmentation.png\n",
            "ISIC_0010191_segmentation.png\n",
            "ISIC_0010194_segmentation.png\n",
            "ISIC_0010192_segmentation.png\n",
            "ISIC_0010066_segmentation.png\n",
            "ISIC_0010069_segmentation.png\n",
            "ISIC_0010070_segmentation.png\n",
            "ISIC_0010073_segmentation.png\n",
            "ISIC_0010071_segmentation.png\n",
            "ISIC_0010074_segmentation.png\n",
            "ISIC_0010075_segmentation.png\n",
            "ISIC_0010078_segmentation.png\n",
            "ISIC_0010081_segmentation.png\n",
            "ISIC_0010086_segmentation.png\n",
            "ISIC_0010089_segmentation.png\n",
            "ISIC_0010093_segmentation.png\n",
            "ISIC_0010090_segmentation.png\n",
            "ISIC_0010092_segmentation.png\n",
            "ISIC_0010104_segmentation.png\n",
            "ISIC_0010168_segmentation.png\n",
            "ISIC_0008879_segmentation.png\n",
            "ISIC_0008913_segmentation.png\n",
            "ISIC_0008992_segmentation.png\n",
            "ISIC_0008998_segmentation.png\n",
            "ISIC_0008993_segmentation.png\n",
            "ISIC_0009035_segmentation.png\n",
            "ISIC_0009078_segmentation.png\n",
            "ISIC_0009165_segmentation.png\n",
            "ISIC_0009297_segmentation.png\n",
            "ISIC_0009160_segmentation.png\n",
            "ISIC_0009083_segmentation.png\n",
            "ISIC_0009344_segmentation.png\n",
            "ISIC_0009430_segmentation.png\n",
            "ISIC_0009504_segmentation.png\n",
            "ISIC_0009564_segmentation.png\n",
            "ISIC_0009860_segmentation.png\n",
            "ISIC_0009939_segmentation.png\n",
            "ISIC_0009937_segmentation.png\n",
            "ISIC_0009940_segmentation.png\n",
            "ISIC_0009944_segmentation.png\n",
            "ISIC_0009941_segmentation.png\n",
            "ISIC_0009942_segmentation.png\n",
            "ISIC_0009950_segmentation.png\n",
            "ISIC_0009946_segmentation.png\n",
            "ISIC_0009947_segmentation.png\n",
            "ISIC_0009948_segmentation.png\n",
            "ISIC_0009953_segmentation.png\n",
            "ISIC_0009958_segmentation.png\n",
            "ISIC_0009954_segmentation.png\n",
            "ISIC_0009955_segmentation.png\n",
            "ISIC_0009961_segmentation.png\n",
            "ISIC_0009962_segmentation.png\n",
            "ISIC_0009906_segmentation.png\n",
            "ISIC_0009904_segmentation.png\n",
            "ISIC_0009909_segmentation.png\n",
            "ISIC_0009910_segmentation.png\n",
            "ISIC_0009917_segmentation.png\n",
            "ISIC_0009919_segmentation.png\n",
            "ISIC_0009918_segmentation.png\n",
            "ISIC_0009920_segmentation.png\n",
            "ISIC_0009921_segmentation.png\n",
            "ISIC_0009928_segmentation.png\n",
            "ISIC_0009931_segmentation.png\n",
            "ISIC_0009930_segmentation.png\n",
            "ISIC_0009929_segmentation.png\n",
            "ISIC_0009933_segmentation.png\n",
            "ISIC_0009935_segmentation.png\n",
            "ISIC_0009934_segmentation.png\n",
            "ISIC_0010000_segmentation.png\n",
            "ISIC_0010002_segmentation.png\n",
            "ISIC_0010003_segmentation.png\n",
            "ISIC_0010006_segmentation.png\n",
            "ISIC_0010010_segmentation.png\n",
            "ISIC_0010015_segmentation.png\n",
            "ISIC_0010014_segmentation.png\n",
            "ISIC_0010013_segmentation.png\n",
            "ISIC_0010017_segmentation.png\n",
            "ISIC_0010022_segmentation.png\n",
            "ISIC_0010018_segmentation.png\n",
            "ISIC_0010021_segmentation.png\n",
            "ISIC_0010025_segmentation.png\n",
            "ISIC_0010029_segmentation.png\n",
            "ISIC_0010028_segmentation.png\n",
            "ISIC_0010032_segmentation.png\n",
            "ISIC_0009964_segmentation.png\n",
            "ISIC_0009967_segmentation.png\n",
            "ISIC_0009970_segmentation.png\n",
            "ISIC_0009971_segmentation.png\n",
            "ISIC_0009972_segmentation.png\n",
            "ISIC_0009978_segmentation.png\n",
            "ISIC_0009977_segmentation.png\n",
            "ISIC_0009975_segmentation.png\n",
            "ISIC_0009979_segmentation.png\n",
            "ISIC_0009980_segmentation.png\n",
            "ISIC_0009988_segmentation.png\n",
            "ISIC_0009982_segmentation.png\n",
            "ISIC_0009987_segmentation.png\n",
            "ISIC_0009991_segmentation.png\n",
            "ISIC_0009992_segmentation.png\n",
            "ISIC_0009993_segmentation.png\n",
            "ISIC_0009868_segmentation.png\n",
            "ISIC_0009869_segmentation.png\n",
            "ISIC_0009875_segmentation.png\n",
            "ISIC_0009877_segmentation.png\n",
            "ISIC_0009879_segmentation.png\n",
            "ISIC_0009884_segmentation.png\n",
            "ISIC_0009888_segmentation.png\n",
            "ISIC_0009889_segmentation.png\n",
            "ISIC_0009891_segmentation.png\n",
            "ISIC_0009895_segmentation.png\n",
            "ISIC_0009898_segmentation.png\n",
            "ISIC_0009897_segmentation.png\n",
            "ISIC_0009896_segmentation.png\n",
            "ISIC_0009899_segmentation.png\n",
            "ISIC_0009902_segmentation.png\n",
            "ISIC_0009901_segmentation.png\n",
            "ISIC_0010034_segmentation.png\n",
            "ISIC_0010036_segmentation.png\n",
            "ISIC_0010038_segmentation.png\n",
            "ISIC_0010043_segmentation.png\n",
            "ISIC_0010044_segmentation.png\n",
            "ISIC_0010047_segmentation.png\n",
            "ISIC_0010053_segmentation.png\n",
            "ISIC_0010055_segmentation.png\n",
            "ISIC_0010056_segmentation.png\n",
            "ISIC_0010057_segmentation.png\n",
            "ISIC_0010058_segmentation.png\n",
            "ISIC_0010059_segmentation.png\n",
            "ISIC_0010061_segmentation.png\n",
            "ISIC_0010064_segmentation.png\n",
            "ISIC_0010063_segmentation.png\n",
            "ISIC_0010062_segmentation.png\n",
            "ISIC_0000071_segmentation.png\n",
            "ISIC_0000072_segmentation.png\n",
            "ISIC_0000074_segmentation.png\n",
            "ISIC_0000077_segmentation.png\n",
            "ISIC_0000079_segmentation.png\n",
            "ISIC_0000080_segmentation.png\n",
            "ISIC_0000081_segmentation.png\n",
            "ISIC_0000082_segmentation.png\n",
            "ISIC_0000085_segmentation.png\n",
            "ISIC_0000086_segmentation.png\n",
            "ISIC_0000087_segmentation.png\n",
            "ISIC_0000091_segmentation.png\n",
            "ISIC_0000096_segmentation.png\n",
            "ISIC_0000095_segmentation.png\n",
            "ISIC_0000092_segmentation.png\n",
            "ISIC_0000097_segmentation.png\n",
            "ISIC_0006815_segmentation.png\n",
            "ISIC_0006914_segmentation.png\n",
            "ISIC_0006940_segmentation.png\n",
            "ISIC_0006982_segmentation.png\n",
            "ISIC_0007141_segmentation.png\n",
            "ISIC_0007241_segmentation.png\n",
            "ISIC_0007322_segmentation.png\n",
            "ISIC_0007332_segmentation.png\n",
            "ISIC_0007475_segmentation.png\n",
            "ISIC_0007344_segmentation.png\n",
            "ISIC_0007528_segmentation.png\n",
            "ISIC_0007557_segmentation.png\n",
            "ISIC_0007693_segmentation.png\n",
            "ISIC_0007760_segmentation.png\n",
            "ISIC_0007796_segmentation.png\n",
            "ISIC_0008029_segmentation.png\n",
            "ISIC_0008207_segmentation.png\n",
            "ISIC_0008145_segmentation.png\n",
            "ISIC_0008116_segmentation.png\n",
            "ISIC_0008280_segmentation.png\n",
            "ISIC_0008294_segmentation.png\n",
            "ISIC_0008403_segmentation.png\n",
            "ISIC_0008396_segmentation.png\n",
            "ISIC_0008347_segmentation.png\n",
            "ISIC_0008406_segmentation.png\n",
            "ISIC_0008507_segmentation.png\n",
            "ISIC_0008524_segmentation.png\n",
            "ISIC_0008541_segmentation.png\n",
            "ISIC_0008600_segmentation.png\n",
            "ISIC_0008659_segmentation.png\n",
            "ISIC_0008785_segmentation.png\n",
            "ISIC_0008807_segmentation.png\n",
            "ISIC_0002836_segmentation.png\n",
            "ISIC_0002871_segmentation.png\n",
            "ISIC_0002879_segmentation.png\n",
            "ISIC_0002885_segmentation.png\n",
            "ISIC_0002948_segmentation.png\n",
            "ISIC_0003005_segmentation.png\n",
            "ISIC_0002976_segmentation.png\n",
            "ISIC_0003056_segmentation.png\n",
            "ISIC_0003308_segmentation.png\n",
            "ISIC_0003559_segmentation.png\n",
            "ISIC_0003346_segmentation.png\n",
            "ISIC_0003582_segmentation.png\n",
            "ISIC_0003657_segmentation.png\n",
            "ISIC_0003728_segmentation.png\n",
            "ISIC_0003805_segmentation.png\n",
            "ISIC_0004110_segmentation.png\n",
            "ISIC_0000049_segmentation.png\n",
            "ISIC_0000052_segmentation.png\n",
            "ISIC_0000050_segmentation.png\n",
            "ISIC_0000054_segmentation.png\n",
            "ISIC_0000055_segmentation.png\n",
            "ISIC_0000058_segmentation.png\n",
            "ISIC_0000056_segmentation.png\n",
            "ISIC_0000057_segmentation.png\n",
            "ISIC_0000060_segmentation.png\n",
            "ISIC_0000061_segmentation.png\n",
            "ISIC_0000062_segmentation.png\n",
            "ISIC_0000063_segmentation.png\n",
            "ISIC_0000066_segmentation.png\n",
            "ISIC_0000064_segmentation.png\n",
            "ISIC_0000069_segmentation.png\n",
            "ISIC_0000067_segmentation.png\n",
            "ISIC_0000543_segmentation.png\n",
            "ISIC_0000547_segmentation.png\n",
            "ISIC_0000544_segmentation.png\n",
            "ISIC_0000545_segmentation.png\n",
            "ISIC_0000548_segmentation.png\n",
            "ISIC_0000549_segmentation.png\n",
            "ISIC_0000552_segmentation.png\n",
            "ISIC_0000550_segmentation.png\n",
            "ISIC_0000554_segmentation.png\n",
            "ISIC_0000555_segmentation.png\n",
            "ISIC_0001102_segmentation.png\n",
            "ISIC_0001103_segmentation.png\n",
            "ISIC_0000999_segmentation.png\n",
            "ISIC_0001106_segmentation.png\n",
            "ISIC_0001118_segmentation.png\n",
            "ISIC_0001119_segmentation.png\n",
            "ISIC_0001131_segmentation.png\n",
            "ISIC_0001133_segmentation.png\n",
            "ISIC_0001142_segmentation.png\n",
            "ISIC_0001163_segmentation.png\n",
            "ISIC_0001148_segmentation.png\n",
            "ISIC_0001152_segmentation.png\n",
            "ISIC_0001181_segmentation.png\n",
            "ISIC_0001186_segmentation.png\n",
            "ISIC_0001185_segmentation.png\n",
            "ISIC_0001184_segmentation.png\n",
            "ISIC_0001188_segmentation.png\n",
            "ISIC_0001190_segmentation.png\n",
            "ISIC_0001212_segmentation.png\n",
            "ISIC_0001204_segmentation.png\n",
            "ISIC_0001191_segmentation.png\n",
            "ISIC_0001216_segmentation.png\n",
            "ISIC_0000524_segmentation.png\n",
            "ISIC_0000525_segmentation.png\n",
            "ISIC_0000528_segmentation.png\n",
            "ISIC_0000527_segmentation.png\n",
            "ISIC_0000529_segmentation.png\n",
            "ISIC_0000530_segmentation.png\n",
            "ISIC_0000533_segmentation.png\n",
            "ISIC_0000532_segmentation.png\n",
            "ISIC_0000531_segmentation.png\n",
            "ISIC_0000534_segmentation.png\n",
            "ISIC_0000535_segmentation.png\n",
            "ISIC_0000538_segmentation.png\n",
            "ISIC_0000537_segmentation.png\n",
            "ISIC_0000539_segmentation.png\n",
            "ISIC_0000540_segmentation.png\n",
            "ISIC_0000542_segmentation.png\n",
            "ISIC_0001242_segmentation.png\n",
            "ISIC_0001262_segmentation.png\n",
            "ISIC_0001247_segmentation.png\n",
            "ISIC_0001254_segmentation.png\n",
            "ISIC_0001267_segmentation.png\n",
            "ISIC_0001292_segmentation.png\n",
            "ISIC_0001275_segmentation.png\n",
            "ISIC_0001286_segmentation.png\n",
            "ISIC_0001296_segmentation.png\n",
            "ISIC_0001299_segmentation.png\n",
            "ISIC_0001372_segmentation.png\n",
            "ISIC_0001367_segmentation.png\n",
            "ISIC_0001374_segmentation.png\n",
            "ISIC_0001427_segmentation.png\n",
            "ISIC_0001852_segmentation.png\n",
            "ISIC_0001442_segmentation.png\n",
            "ISIC_0001960_segmentation.png\n",
            "ISIC_0002251_segmentation.png\n",
            "ISIC_0002287_segmentation.png\n",
            "ISIC_0002353_segmentation.png\n",
            "ISIC_0002459_segmentation.png\n",
            "ISIC_0002453_segmentation.png\n",
            "ISIC_0002438_segmentation.png\n",
            "ISIC_0002469_segmentation.png\n",
            "ISIC_0002616_segmentation.png\n",
            "ISIC_0002489_segmentation.png\n",
            "ISIC_0002488_segmentation.png\n",
            "ISIC_0002647_segmentation.png\n",
            "ISIC_0002673_segmentation.png\n",
            "ISIC_0002829_segmentation.png\n",
            "ISIC_0002806_segmentation.png\n",
            "ISIC_0002780_segmentation.png\n",
            "ISIC_0004115_segmentation.png\n",
            "ISIC_0004309_segmentation.png\n",
            "ISIC_0004346_segmentation.png\n",
            "ISIC_0004715_segmentation.png\n",
            "ISIC_0004985_segmentation.png\n",
            "ISIC_0005000_segmentation.png\n",
            "ISIC_0005187_segmentation.png\n",
            "ISIC_0005247_segmentation.png\n",
            "ISIC_0005787_segmentation.png\n",
            "ISIC_0006021_segmentation.png\n",
            "ISIC_0005666_segmentation.png\n",
            "ISIC_0005555_segmentation.png\n",
            "ISIC_0006350_segmentation.png\n",
            "ISIC_0006800_segmentation.png\n",
            "ISIC_0006711_segmentation.png\n",
            "ISIC_0006795_segmentation.png\n",
            "ISIC_0000500_segmentation.png\n",
            "ISIC_0000501_segmentation.png\n",
            "ISIC_0000504_segmentation.png\n",
            "ISIC_0000503_segmentation.png\n",
            "ISIC_0000505_segmentation.png\n",
            "ISIC_0000506_segmentation.png\n",
            "ISIC_0000511_segmentation.png\n",
            "ISIC_0000508_segmentation.png\n",
            "ISIC_0000507_segmentation.png\n",
            "ISIC_0000513_segmentation.png\n",
            "ISIC_0000514_segmentation.png\n",
            "ISIC_0000515_segmentation.png\n",
            "ISIC_0000517_segmentation.png\n",
            "ISIC_0000519_segmentation.png\n",
            "ISIC_0000521_segmentation.png\n",
            "ISIC_0000523_segmentation.png\n",
            "ISIC_0000479_segmentation.png\n",
            "ISIC_0000477_segmentation.png\n",
            "ISIC_0000480_segmentation.png\n",
            "ISIC_0000483_segmentation.png\n",
            "ISIC_0000482_segmentation.png\n",
            "ISIC_0000481_segmentation.png\n",
            "ISIC_0000484_segmentation.png\n",
            "ISIC_0000485_segmentation.png\n",
            "ISIC_0000487_segmentation.png\n",
            "ISIC_0000486_segmentation.png\n",
            "ISIC_0000489_segmentation.png\n",
            "ISIC_0000496_segmentation.png\n",
            "ISIC_0000491_segmentation.png\n",
            "ISIC_0000490_segmentation.png\n",
            "ISIC_0000498_segmentation.png\n",
            "ISIC_0000499_segmentation.png\n",
            "ISIC_0000391_segmentation.png\n",
            "ISIC_0000395_segmentation.png\n",
            "ISIC_0000397_segmentation.png\n",
            "ISIC_0000407_segmentation.png\n",
            "ISIC_0000403_segmentation.png\n",
            "ISIC_0000408_segmentation.png\n",
            "ISIC_0000409_segmentation.png\n",
            "ISIC_0000412_segmentation.png\n",
            "ISIC_0000410_segmentation.png\n",
            "ISIC_0000415_segmentation.png\n",
            "ISIC_0000416_segmentation.png\n",
            "ISIC_0000418_segmentation.png\n",
            "ISIC_0000420_segmentation.png\n",
            "ISIC_0000425_segmentation.png\n",
            "ISIC_0000423_segmentation.png\n",
            "ISIC_0000431_segmentation.png\n",
            "ISIC_0000436_segmentation.png\n",
            "ISIC_0000434_segmentation.png\n",
            "ISIC_0000444_segmentation.png\n",
            "ISIC_0000447_segmentation.png\n",
            "ISIC_0000451_segmentation.png\n",
            "ISIC_0000448_segmentation.png\n",
            "ISIC_0000449_segmentation.png\n",
            "ISIC_0000453_segmentation.png\n",
            "ISIC_0000457_segmentation.png\n",
            "ISIC_0000456_segmentation.png\n",
            "ISIC_0000455_segmentation.png\n",
            "ISIC_0000460_segmentation.png\n",
            "ISIC_0000463_segmentation.png\n",
            "ISIC_0000470_segmentation.png\n",
            "ISIC_0000466_segmentation.png\n",
            "ISIC_0000474_segmentation.png\n",
            "ISIC_0016022_segmentation.png\n",
            "ISIC_0016019_segmentation.png\n",
            "ISIC_0016023_segmentation.png\n",
            "ISIC_0016025_segmentation.png\n",
            "ISIC_0016027_segmentation.png\n",
            "ISIC_0016030_segmentation.png\n",
            "ISIC_0016034_segmentation.png\n",
            "ISIC_0016035_segmentation.png\n",
            "ISIC_0016036_segmentation.png\n",
            "ISIC_0016041_segmentation.png\n",
            "ISIC_0016038_segmentation.png\n",
            "ISIC_0016040_segmentation.png\n",
            "ISIC_0016042_segmentation.png\n",
            "ISIC_0016044_segmentation.png\n",
            "ISIC_0016043_segmentation.png\n",
            "ISIC_0016045_segmentation.png\n",
            "ISIC_0000324_segmentation.png\n",
            "ISIC_0000322_segmentation.png\n",
            "ISIC_0000326_segmentation.png\n",
            "ISIC_0000327_segmentation.png\n",
            "ISIC_0000336_segmentation.png\n",
            "ISIC_0000330_segmentation.png\n",
            "ISIC_0000329_segmentation.png\n",
            "ISIC_0000339_segmentation.png\n",
            "ISIC_0000340_segmentation.png\n",
            "ISIC_0000341_segmentation.png\n",
            "ISIC_0000343_segmentation.png\n",
            "ISIC_0000349_segmentation.png\n",
            "ISIC_0000351_segmentation.png\n",
            "ISIC_0000360_segmentation.png\n",
            "ISIC_0000358_segmentation.png\n",
            "ISIC_0000352_segmentation.png\n",
            "ISIC_0016048_segmentation.png\n",
            "ISIC_0016050_segmentation.png\n",
            "ISIC_0016053_segmentation.png\n",
            "ISIC_0016052_segmentation.png\n",
            "ISIC_0016057_segmentation.png\n",
            "ISIC_0016054_segmentation.png\n",
            "ISIC_0016055_segmentation.png\n",
            "ISIC_0016056_segmentation.png\n",
            "ISIC_0016059_segmentation.png\n",
            "ISIC_0016061_segmentation.png\n",
            "ISIC_0016069_segmentation.png\n",
            "ISIC_0016068_segmentation.png\n",
            "ISIC_0016066_segmentation.png\n",
            "ISIC_0016070_segmentation.png\n",
            "ISIC_0016071_segmentation.png\n",
            "ISIC_0016072_segmentation.png\n",
            "ISIC_0015993_segmentation.png\n",
            "ISIC_0015991_segmentation.png\n",
            "ISIC_0015995_segmentation.png\n",
            "ISIC_0015996_segmentation.png\n",
            "ISIC_0015998_segmentation.png\n",
            "ISIC_0015997_segmentation.png\n",
            "ISIC_0015999_segmentation.png\n",
            "ISIC_0016004_segmentation.png\n",
            "ISIC_0016005_segmentation.png\n",
            "ISIC_0016009_segmentation.png\n",
            "ISIC_0016008_segmentation.png\n",
            "ISIC_0016006_segmentation.png\n",
            "ISIC_0016012_segmentation.png\n",
            "ISIC_0016013_segmentation.png\n",
            "ISIC_0016015_segmentation.png\n",
            "ISIC_0016014_segmentation.png\n",
            "ISIC_0000363_segmentation.png\n",
            "ISIC_0000364_segmentation.png\n",
            "ISIC_0000365_segmentation.png\n",
            "ISIC_0000366_segmentation.png\n",
            "ISIC_0000367_segmentation.png\n",
            "ISIC_0000368_segmentation.png\n",
            "ISIC_0000370_segmentation.png\n",
            "ISIC_0000376_segmentation.png\n",
            "ISIC_0000377_segmentation.png\n",
            "ISIC_0000380_segmentation.png\n",
            "ISIC_0000384_segmentation.png\n",
            "ISIC_0000381_segmentation.png\n",
            "ISIC_0000385_segmentation.png\n",
            "ISIC_0000382_segmentation.png\n",
            "ISIC_0000386_segmentation.png\n",
            "ISIC_0000390_segmentation.png\n",
            "ISIC_0000287_segmentation.png\n",
            "ISIC_0000295_segmentation.png\n",
            "ISIC_0000290_segmentation.png\n",
            "ISIC_0000294_segmentation.png\n",
            "ISIC_0000297_segmentation.png\n",
            "ISIC_0000298_segmentation.png\n",
            "ISIC_0000303_segmentation.png\n",
            "ISIC_0000301_segmentation.png\n",
            "ISIC_0000300_segmentation.png\n",
            "ISIC_0000306_segmentation.png\n",
            "ISIC_0000307_segmentation.png\n",
            "ISIC_0000316_segmentation.png\n",
            "ISIC_0000315_segmentation.png\n",
            "ISIC_0000311_segmentation.png\n",
            "ISIC_0000320_segmentation.png\n",
            "ISIC_0000321_segmentation.png\n",
            "ISIC_0015939_segmentation.png\n",
            "ISIC_0015937_segmentation.png\n",
            "ISIC_0015940_segmentation.png\n",
            "ISIC_0015944_segmentation.png\n",
            "ISIC_0015949_segmentation.png\n",
            "ISIC_0015945_segmentation.png\n",
            "ISIC_0015947_segmentation.png\n",
            "ISIC_0015950_segmentation.png\n",
            "ISIC_0015955_segmentation.png\n",
            "ISIC_0015952_segmentation.png\n",
            "ISIC_0015953_segmentation.png\n",
            "ISIC_0015956_segmentation.png\n",
            "ISIC_0015961_segmentation.png\n",
            "ISIC_0015958_segmentation.png\n",
            "ISIC_0015957_segmentation.png\n",
            "ISIC_0015963_segmentation.png\n",
            "ISIC_0015964_segmentation.png\n",
            "ISIC_0015965_segmentation.png\n",
            "ISIC_0015968_segmentation.png\n",
            "ISIC_0015966_segmentation.png\n",
            "ISIC_0015967_segmentation.png\n",
            "ISIC_0015969_segmentation.png\n",
            "ISIC_0015978_segmentation.png\n",
            "ISIC_0015983_segmentation.png\n",
            "ISIC_0015982_segmentation.png\n",
            "ISIC_0015980_segmentation.png\n",
            "ISIC_0015984_segmentation.png\n",
            "ISIC_0015985_segmentation.png\n",
            "ISIC_0015986_segmentation.png\n",
            "ISIC_0015987_segmentation.png\n",
            "ISIC_0015989_segmentation.png\n",
            "ISIC_0015990_segmentation.png\n",
            "ISIC_0015481_segmentation.png\n",
            "ISIC_0015496_segmentation.png\n",
            "ISIC_0015544_segmentation.png\n",
            "ISIC_0015559_segmentation.png\n",
            "ISIC_0015566_segmentation.png\n",
            "ISIC_0015568_segmentation.png\n",
            "ISIC_0015563_segmentation.png\n",
            "ISIC_0015582_segmentation.png\n",
            "ISIC_0015593_segmentation.png\n",
            "ISIC_0015607_segmentation.png\n",
            "ISIC_0015614_segmentation.png\n",
            "ISIC_0015617_segmentation.png\n",
            "ISIC_0015625_segmentation.png\n",
            "ISIC_0015636_segmentation.png\n",
            "ISIC_0015936_segmentation.png\n",
            "ISIC_0015645_segmentation.png\n",
            "ISIC_0015368_segmentation.png\n",
            "ISIC_0015369_segmentation.png\n",
            "ISIC_0015403_segmentation.png\n",
            "ISIC_0015401_segmentation.png\n",
            "ISIC_0015383_segmentation.png\n",
            "ISIC_0015404_segmentation.png\n",
            "ISIC_0015417_segmentation.png\n",
            "ISIC_0015418_segmentation.png\n",
            "ISIC_0015416_segmentation.png\n",
            "ISIC_0015411_segmentation.png\n",
            "ISIC_0015436_segmentation.png\n",
            "ISIC_0015464_segmentation.png\n",
            "ISIC_0015443_segmentation.png\n",
            "ISIC_0015440_segmentation.png\n",
            "ISIC_0015466_segmentation.png\n",
            "ISIC_0015476_segmentation.png\n",
            "ISIC_0015161_segmentation.png\n",
            "ISIC_0015175_segmentation.png\n",
            "ISIC_0015166_segmentation.png\n",
            "ISIC_0015174_segmentation.png\n",
            "ISIC_0015176_segmentation.png\n",
            "ISIC_0015179_segmentation.png\n",
            "ISIC_0015180_segmentation.png\n",
            "ISIC_0015184_segmentation.png\n",
            "ISIC_0015185_segmentation.png\n",
            "ISIC_0015193_segmentation.png\n",
            "ISIC_0015200_segmentation.png\n",
            "ISIC_0015201_segmentation.png\n",
            "ISIC_0015204_segmentation.png\n",
            "ISIC_0015216_segmentation.png\n",
            "ISIC_0015206_segmentation.png\n",
            "ISIC_0015208_segmentation.png\n",
            "ISIC_0000003_segmentation.png\n",
            "ISIC_0000004_segmentation.png\n",
            "ISIC_0000009_segmentation.png\n",
            "ISIC_0000006_segmentation.png\n",
            "ISIC_0000011_segmentation.png\n",
            "ISIC_0000012_segmentation.png\n",
            "ISIC_0000013_segmentation.png\n",
            "ISIC_0000014_segmentation.png\n",
            "ISIC_0000015_segmentation.png\n",
            "ISIC_0000017_segmentation.png\n",
            "ISIC_0000018_segmentation.png\n",
            "ISIC_0000019_segmentation.png\n",
            "ISIC_0000020_segmentation.png\n",
            "ISIC_0000021_segmentation.png\n",
            "ISIC_0000022_segmentation.png\n",
            "ISIC_0000023_segmentation.png\n",
            "ISIC_0015218_segmentation.png\n",
            "ISIC_0015220_segmentation.png\n",
            "ISIC_0015224_segmentation.png\n",
            "ISIC_0015229_segmentation.png\n",
            "ISIC_0015233_segmentation.png\n",
            "ISIC_0015237_segmentation.png\n",
            "ISIC_0015243_segmentation.png\n",
            "ISIC_0015251_segmentation.png\n",
            "ISIC_0015244_segmentation.png\n",
            "ISIC_0015250_segmentation.png\n",
            "ISIC_0015254_segmentation.png\n",
            "ISIC_0015255_segmentation.png\n",
            "ISIC_0015264_segmentation.png\n",
            "ISIC_0015260_segmentation.png\n",
            "ISIC_0015258_segmentation.png\n",
            "ISIC_0015270_segmentation.png\n",
            "ISIC_0015125_segmentation.png\n",
            "ISIC_0015133_segmentation.png\n",
            "ISIC_0015132_segmentation.png\n",
            "ISIC_0015129_segmentation.png\n",
            "ISIC_0015136_segmentation.png\n",
            "ISIC_0015139_segmentation.png\n",
            "ISIC_0015140_segmentation.png\n",
            "ISIC_0015142_segmentation.png\n",
            "ISIC_0015144_segmentation.png\n",
            "ISIC_0015146_segmentation.png\n",
            "ISIC_0015149_segmentation.png\n",
            "ISIC_0015152_segmentation.png\n",
            "ISIC_0015153_segmentation.png\n",
            "ISIC_0015155_segmentation.png\n",
            "ISIC_0015157_segmentation.png\n",
            "ISIC_0015160_segmentation.png\n",
            "ISIC_0000259_segmentation.png\n",
            "ISIC_0000255_segmentation.png\n",
            "ISIC_0000256_segmentation.png\n",
            "ISIC_0000260_segmentation.png\n",
            "ISIC_0000263_segmentation.png\n",
            "ISIC_0000262_segmentation.png\n",
            "ISIC_0000261_segmentation.png\n",
            "ISIC_0000264_segmentation.png\n",
            "ISIC_0000274_segmentation.png\n",
            "ISIC_0000271_segmentation.png\n",
            "ISIC_0000265_segmentation.png\n",
            "ISIC_0000275_segmentation.png\n",
            "ISIC_0000276_segmentation.png\n",
            "ISIC_0000278_segmentation.png\n",
            "ISIC_0000279_segmentation.png\n",
            "ISIC_0000283_segmentation.png\n",
            "ISIC_0015043_segmentation.png\n",
            "ISIC_0015044_segmentation.png\n",
            "ISIC_0015050_segmentation.png\n",
            "ISIC_0015060_segmentation.png\n",
            "ISIC_0015062_segmentation.png\n",
            "ISIC_0015057_segmentation.png\n",
            "ISIC_0015051_segmentation.png\n",
            "ISIC_0015064_segmentation.png\n",
            "ISIC_0015079_segmentation.png\n",
            "ISIC_0015078_segmentation.png\n",
            "ISIC_0015082_segmentation.png\n",
            "ISIC_0015089_segmentation.png\n",
            "ISIC_0015109_segmentation.png\n",
            "ISIC_0015108_segmentation.png\n",
            "ISIC_0015113_segmentation.png\n",
            "ISIC_0015115_segmentation.png\n",
            "ISIC_0000027_segmentation.png\n",
            "ISIC_0000026_segmentation.png\n",
            "ISIC_0000030_segmentation.png\n",
            "ISIC_0000032_segmentation.png\n",
            "ISIC_0000034_segmentation.png\n",
            "ISIC_0000035_segmentation.png\n",
            "ISIC_0000036_segmentation.png\n",
            "ISIC_0000037_segmentation.png\n",
            "ISIC_0000039_segmentation.png\n",
            "ISIC_0000043_segmentation.png\n",
            "ISIC_0000040_segmentation.png\n",
            "ISIC_0000042_segmentation.png\n",
            "ISIC_0000045_segmentation.png\n",
            "ISIC_0000047_segmentation.png\n",
            "ISIC_0000048_segmentation.png\n",
            "ISIC_0000046_segmentation.png\n",
            "ISIC_0015274_segmentation.png\n",
            "ISIC_0015273_segmentation.png\n",
            "ISIC_0015283_segmentation.png\n",
            "ISIC_0015284_segmentation.png\n",
            "ISIC_0015291_segmentation.png\n",
            "ISIC_0015298_segmentation.png\n",
            "ISIC_0015295_segmentation.png\n",
            "ISIC_0015293_segmentation.png\n",
            "ISIC_0015309_segmentation.png\n",
            "ISIC_0015310_segmentation.png\n",
            "ISIC_0015330_segmentation.png\n",
            "ISIC_0015313_segmentation.png\n",
            "ISIC_0015311_segmentation.png\n",
            "ISIC_0015331_segmentation.png\n",
            "ISIC_0015363_segmentation.png\n",
            "ISIC_0015355_segmentation.png\n"
          ],
          "name": "stdout"
        },
        {
          "output_type": "stream",
          "text": [
            "/usr/local/lib/python3.6/dist-packages/ipykernel_launcher.py:17: DeprecationWarning: `imread` is deprecated!\n",
            "`imread` is deprecated in SciPy 1.0.0.\n",
            "Use ``matplotlib.pyplot.imread`` instead.\n"
          ],
          "name": "stderr"
        }
      ]
    },
    {
      "cell_type": "markdown",
      "metadata": {
        "id": "5m_rU4ahoECY",
        "colab_type": "text"
      },
      "source": [
        "**Check some features of the data to be sure that it uploaded properly**"
      ]
    },
    {
      "cell_type": "code",
      "metadata": {
        "id": "Yam-tyDLfNy_",
        "colab_type": "code",
        "colab": {
          "base_uri": "https://localhost:8080/",
          "height": 34
        },
        "outputId": "2b3590c3-9590-4a4a-ac1c-52ed8fa2300c"
      },
      "source": [
        "segs.shape\n"
      ],
      "execution_count": 29,
      "outputs": [
        {
          "output_type": "execute_result",
          "data": {
            "text/plain": [
              "(2594, 192, 256)"
            ]
          },
          "metadata": {
            "tags": []
          },
          "execution_count": 29
        }
      ]
    },
    {
      "cell_type": "code",
      "metadata": {
        "id": "RE3eA9UmQbnZ",
        "colab_type": "code",
        "colab": {
          "base_uri": "https://localhost:8080/",
          "height": 34
        },
        "outputId": "3b5a558b-9084-4a0a-e524-72284b02c12f"
      },
      "source": [
        "len(files)"
      ],
      "execution_count": 30,
      "outputs": [
        {
          "output_type": "execute_result",
          "data": {
            "text/plain": [
              "2594"
            ]
          },
          "metadata": {
            "tags": []
          },
          "execution_count": 30
        }
      ]
    },
    {
      "cell_type": "code",
      "metadata": {
        "id": "IjXBktkT8DJZ",
        "colab_type": "code",
        "colab": {
          "base_uri": "https://localhost:8080/",
          "height": 34
        },
        "outputId": "ef38e134-a67d-4a72-945e-fe25acd2c243"
      },
      "source": [
        "segs[-1].shape"
      ],
      "execution_count": 31,
      "outputs": [
        {
          "output_type": "execute_result",
          "data": {
            "text/plain": [
              "(192, 256)"
            ]
          },
          "metadata": {
            "tags": []
          },
          "execution_count": 31
        }
      ]
    },
    {
      "cell_type": "code",
      "metadata": {
        "id": "BOLrZ8LZZe7r",
        "colab_type": "code",
        "colab": {
          "base_uri": "https://localhost:8080/",
          "height": 34
        },
        "outputId": "3718994e-23ea-493c-ee78-56ed560fbb6b"
      },
      "source": [
        "images.shape"
      ],
      "execution_count": 32,
      "outputs": [
        {
          "output_type": "execute_result",
          "data": {
            "text/plain": [
              "(2594, 192, 256, 3)"
            ]
          },
          "metadata": {
            "tags": []
          },
          "execution_count": 32
        }
      ]
    },
    {
      "cell_type": "code",
      "metadata": {
        "id": "hK4yqeJafNzD",
        "colab_type": "code",
        "colab": {
          "base_uri": "https://localhost:8080/",
          "height": 85
        },
        "outputId": "6b6a50b0-9ba0-44cf-df1c-44bce260e121"
      },
      "source": [
        "filename = filenames[3]\n",
        "filepath = os.path.join(root, filename)\n",
        "seg = ndimage.imread(filepath, mode=\"L\")"
      ],
      "execution_count": 33,
      "outputs": [
        {
          "output_type": "stream",
          "text": [
            "/usr/local/lib/python3.6/dist-packages/ipykernel_launcher.py:3: DeprecationWarning: `imread` is deprecated!\n",
            "`imread` is deprecated in SciPy 1.0.0.\n",
            "Use ``matplotlib.pyplot.imread`` instead.\n",
            "  This is separate from the ipykernel package so we can avoid doing imports until\n"
          ],
          "name": "stderr"
        }
      ]
    },
    {
      "cell_type": "code",
      "metadata": {
        "id": "ywAIbXWifNzF",
        "colab_type": "code",
        "colab": {
          "base_uri": "https://localhost:8080/",
          "height": 34
        },
        "outputId": "66f75c87-54da-4506-9545-a7b863b97e84"
      },
      "source": [
        "seg.shape"
      ],
      "execution_count": 34,
      "outputs": [
        {
          "output_type": "execute_result",
          "data": {
            "text/plain": [
              "(192, 256)"
            ]
          },
          "metadata": {
            "tags": []
          },
          "execution_count": 34
        }
      ]
    },
    {
      "cell_type": "code",
      "metadata": {
        "id": "WNLxVopWfNzI",
        "colab_type": "code",
        "colab": {
          "base_uri": "https://localhost:8080/",
          "height": 269
        },
        "outputId": "7a9aa4c4-c2b0-40ea-9162-2316deb02f3b"
      },
      "source": [
        "image = segs[2593,:,:]\n",
        "plt.imshow(image)\n",
        "plt.show()"
      ],
      "execution_count": 35,
      "outputs": [
        {
          "output_type": "display_data",
          "data": {
            "image/png": "[encoded data removed]",
            "text/plain": [
              "<Figure size 432x288 with 1 Axes>"
            ]
          },
          "metadata": {
            "tags": []
          }
        }
      ]
    },
    {
      "cell_type": "code",
      "metadata": {
        "id": "mR6OM_mcfNzK",
        "colab_type": "code",
        "colab": {
          "base_uri": "https://localhost:8080/",
          "height": 337
        },
        "outputId": "eb013890-30f0-45f3-9dbe-a6ac85d744ce"
      },
      "source": [
        "image = image = ndimage.imread(filepath, mode=\"RGB\")\n",
        "plt.imshow(image)\n",
        "plt.show()"
      ],
      "execution_count": 36,
      "outputs": [
        {
          "output_type": "stream",
          "text": [
            "/usr/local/lib/python3.6/dist-packages/ipykernel_launcher.py:1: DeprecationWarning: `imread` is deprecated!\n",
            "`imread` is deprecated in SciPy 1.0.0.\n",
            "Use ``matplotlib.pyplot.imread`` instead.\n",
            "  \"\"\"Entry point for launching an IPython kernel.\n"
          ],
          "name": "stderr"
        },
        {
          "output_type": "display_data",
          "data": {
            "image/png": "[encoded data removed]",
            "text/plain": [
              "<Figure size 432x288 with 1 Axes>"
            ]
          },
          "metadata": {
            "tags": []
          }
        }
      ]
    },
    {
      "cell_type": "markdown",
      "metadata": {
        "id": "J8N4Xlk9fNzN",
        "colab_type": "text"
      },
      "source": [
        "### Helper Functions"
      ]
    },
    {
      "cell_type": "markdown",
      "metadata": {
        "id": "IS6Tms7_fNzN",
        "colab_type": "text"
      },
      "source": [
        "Function to help intialize random weights for fully connected or convolutional layers, we leave the shape attribute as a parameter for this."
      ]
    },
    {
      "cell_type": "code",
      "metadata": {
        "id": "nwxTUCjRfNzO",
        "colab_type": "code",
        "colab": {}
      },
      "source": [
        "from sklearn.model_selection import train_test_split\n",
        "trainim, testim, trainlab, testlab = train_test_split(images, segs, test_size = 0.05) #this is randomized each time the program is started and run from scratch"
      ],
      "execution_count": 0,
      "outputs": []
    },
    {
      "cell_type": "code",
      "metadata": {
        "id": "gIxY01G3fNzQ",
        "colab_type": "code",
        "colab": {
          "base_uri": "https://localhost:8080/",
          "height": 34
        },
        "outputId": "e670635e-3108-4a98-ec5c-a5753509e49c"
      },
      "source": [
        "trainim.shape"
      ],
      "execution_count": 38,
      "outputs": [
        {
          "output_type": "execute_result",
          "data": {
            "text/plain": [
              "(2464, 192, 256, 3)"
            ]
          },
          "metadata": {
            "tags": []
          },
          "execution_count": 38
        }
      ]
    },
    {
      "cell_type": "code",
      "metadata": {
        "id": "G-zXpjhkfNzS",
        "colab_type": "code",
        "colab": {
          "base_uri": "https://localhost:8080/",
          "height": 34
        },
        "outputId": "75350311-e3ce-4ea4-fa10-2c19bd5cb41a"
      },
      "source": [
        "np.max(testlab)"
      ],
      "execution_count": 39,
      "outputs": [
        {
          "output_type": "execute_result",
          "data": {
            "text/plain": [
              "255"
            ]
          },
          "metadata": {
            "tags": []
          },
          "execution_count": 39
        }
      ]
    },
    {
      "cell_type": "code",
      "metadata": {
        "id": "ndDyqlFhfNzU",
        "colab_type": "code",
        "colab": {
          "base_uri": "https://localhost:8080/",
          "height": 34
        },
        "outputId": "bf4f3af6-c709-4caf-d60a-f71c5486e21d"
      },
      "source": [
        "testlab.shape"
      ],
      "execution_count": 40,
      "outputs": [
        {
          "output_type": "execute_result",
          "data": {
            "text/plain": [
              "(130, 192, 256)"
            ]
          },
          "metadata": {
            "tags": []
          },
          "execution_count": 40
        }
      ]
    },
    {
      "cell_type": "code",
      "metadata": {
        "id": "4C4pwHf7fNza",
        "colab_type": "code",
        "colab": {
          "base_uri": "https://localhost:8080/",
          "height": 269
        },
        "outputId": "f7780ccf-9e5e-4426-91be-eb4e9b08b4b1"
      },
      "source": [
        "image = trainlab[5,:,:]\n",
        "plt.imshow(image)\n",
        "plt.show()"
      ],
      "execution_count": 41,
      "outputs": [
        {
          "output_type": "display_data",
          "data": {
            "image/png": "[encoded data removed]",
            "text/plain": [
              "<Figure size 432x288 with 1 Axes>"
            ]
          },
          "metadata": {
            "tags": []
          }
        }
      ]
    },
    {
      "cell_type": "code",
      "metadata": {
        "id": "sj7akIWSM2YT",
        "colab_type": "code",
        "colab": {}
      },
      "source": [
        "class MelHelper():\n",
        "    \n",
        "    def __init__(self):\n",
        "        self.i = 0\n",
        "        \n",
        "        ####Can probably eliminate this part ####\n",
        "        \n",
        "        # Grabs a list of all the data batches for training\n",
        "        #self.all_train_batches = [data_batch1,data_batch2,data_batch3,data_batch4,data_batch5]\n",
        "        # Grabs a list of all the test batches (really just one batch)\n",
        "        #self.test_batch = [test_batch]\n",
        "        \n",
        "        ###eliminate####\n",
        "        \n",
        "        # Intialize some empty variables for later on\n",
        "        self.training_images = None\n",
        "        self.training_labels = None\n",
        "        \n",
        "        self.test_images = None\n",
        "        self.test_labels = None\n",
        "    \n",
        "    def set_up_images(self):\n",
        "        \n",
        "        print(\"Setting Up Training Images and Labels\")\n",
        "        \n",
        "        ###Not Needed####\n",
        "        # Vertically stacks the training images\n",
        "        #self.training_images = np.vstack([d[b\"data\"] for d in self.all_train_batches])  #insert images here, make sure they are \n",
        "        #vetically stacked##\n",
        "        #train_len = len(self.training_images)\n",
        "        \n",
        "        # Reshapes and normalizes training images\n",
        "        self.training_images = trainim/255   #normalize only ->replace with images with training set later\n",
        "                                #self.training_images.reshape(train_len,3,32,32).transpose(0,2,3,1)/255\n",
        "        # One hot Encodes the training labels (e.g. [0,0,0,1,0,0,0,0,0,0])\n",
        "        \n",
        "        ##May need to replace this with code that rounds a humber to 0 or 1 for the mask ##\n",
        "        self.training_labels = np.around(trainlab/255) #one_hot_encode(np.hstack([d[b\"labels\"] for d in self.all_train_batches]), 10)\n",
        "        \n",
        "        print(\"Setting Up Test Images and Labels\")\n",
        "        \n",
        "        # Vertically stacks the test images\n",
        "        #self.test_images = np.vstack([d[b\"data\"] for d in self.test_batch])\n",
        "        #test_len = len(self.test_images)\n",
        "        \n",
        "        # Reshapes and normalizes test images\n",
        "        self.test_images = testim/255 #self.test_images.reshape(test_len,3,32,32).transpose(0,2,3,1)/255\n",
        "        # One hot Encodes the test labels (e.g. [0,0,0,1,0,0,0,0,0,0])\n",
        "        self.test_labels = np.around(testlab/255).reshape(-1,192*256) #one_hot_encode(np.hstack([d[b\"labels\"] for d in self.test_batch]), 10)\n",
        "        \n",
        "    def next_batch(self, batch_size):\n",
        "        # Note that the 100 dimension in the reshape call is set by an assumed batch size of 100 - this is now a mistake\n",
        "        xtra = (self.i + batch_size) % len(self.training_images)\n",
        "        if xtra<batch_size and xtra != 0:\n",
        "            x = np.vstack((self.training_images[self.i:self.i+batch_size], self.training_images[0:xtra])) #.reshape(100,32,32,3)  #why is this necessary?\n",
        "            y = np.vstack((self.training_labels[self.i:self.i+batch_size].reshape(-1,192*256), self.training_labels[0:xtra].reshape(-1,192*256)))\n",
        "        else:\n",
        "            x = self.training_images[self.i:self.i+batch_size] #.reshape(100,32,32,3)  #why is this necessary?\n",
        "            y = self.training_labels[self.i:self.i+batch_size].reshape(-1,192*256)\n",
        "        \n",
        "        self.i = xtra \n",
        "        return x, y"
      ],
      "execution_count": 0,
      "outputs": []
    },
    {
      "cell_type": "code",
      "metadata": {
        "id": "LTmLVENAfNze",
        "colab_type": "code",
        "colab": {}
      },
      "source": [
        "def init_weights(shape):\n",
        "    init_random_dist = tf.truncated_normal(shape, stddev=0.1)\n",
        "    return tf.Variable(init_random_dist)"
      ],
      "execution_count": 0,
      "outputs": []
    },
    {
      "cell_type": "markdown",
      "metadata": {
        "id": "83Yh6X2mfNzg",
        "colab_type": "text"
      },
      "source": [
        "Same as init_weights, but for the biases"
      ]
    },
    {
      "cell_type": "code",
      "metadata": {
        "id": "Dd3vlocsfNzg",
        "colab_type": "code",
        "colab": {}
      },
      "source": [
        "def init_bias(shape):\n",
        "    init_bias_vals = tf.constant(0.1, shape=shape)\n",
        "    return tf.Variable(init_bias_vals)"
      ],
      "execution_count": 0,
      "outputs": []
    },
    {
      "cell_type": "markdown",
      "metadata": {
        "id": "EyF20ufBfNzi",
        "colab_type": "text"
      },
      "source": [
        "Create a 2D convolution using builtin conv2d from TF. From those docs:\n",
        "\n",
        "Computes a 2-D convolution given 4-D `input` and `filter` tensors.\n",
        "\n",
        "Given an input tensor of shape `[batch, in_height, in_width, in_channels]`\n",
        "and a filter / kernel tensor of shape\n",
        "`[filter_height, filter_width, in_channels, out_channels]`, this op\n",
        "performs the following:\n",
        "\n",
        "1. Flattens the filter to a 2-D matrix with shape\n",
        "   `[filter_height * filter_width * in_channels, output_channels]`.\n",
        "2. Extracts image patches from the input tensor to form a *virtual*\n",
        "   tensor of shape `[batch, out_height, out_width,\n",
        "   filter_height * filter_width * in_channels]`.\n",
        "3. For each patch, right-multiplies the filter matrix and the image patch\n",
        "   vector.\n"
      ]
    },
    {
      "cell_type": "code",
      "metadata": {
        "id": "fvrLH9wufNzj",
        "colab_type": "code",
        "colab": {}
      },
      "source": [
        "def conv2d(x, W):\n",
        "    return tf.nn.conv2d(x, W, strides=[1, 1, 1, 1], padding='SAME')"
      ],
      "execution_count": 0,
      "outputs": []
    },
    {
      "cell_type": "code",
      "metadata": {
        "id": "dofb-mrtfNzm",
        "colab_type": "code",
        "colab": {}
      },
      "source": [
        "def deconv2d(x, shape):\n",
        "    return tf.layers.conv2d_transpose(x, shape[3], shape[0:2], padding = 'SAME')"
      ],
      "execution_count": 0,
      "outputs": []
    },
    {
      "cell_type": "code",
      "metadata": {
        "id": "BIO9pWjXfNzp",
        "colab_type": "code",
        "colab": {}
      },
      "source": [
        "def max_pool_2by2(x):\n",
        "    return tf.nn.max_pool(x, ksize=[1, 2, 2, 1], \n",
        "                          strides=[1, 2, 2, 1], padding='SAME')"
      ],
      "execution_count": 0,
      "outputs": []
    },
    {
      "cell_type": "markdown",
      "metadata": {
        "id": "9VqEnybqfNzs",
        "colab_type": "text"
      },
      "source": [
        "Using the conv2d function, we'll return an actual convolutional layer here that uses an ReLu activation."
      ]
    },
    {
      "cell_type": "code",
      "metadata": {
        "id": "OS9b-naGfNzt",
        "colab_type": "code",
        "colab": {}
      },
      "source": [
        "def convolutional_layer(input_x, shape):\n",
        "    W = init_weights(shape)\n",
        "    b = init_bias([shape[3]])\n",
        "    return tf.nn.relu(conv2d(input_x, W) + b)"
      ],
      "execution_count": 0,
      "outputs": []
    },
    {
      "cell_type": "markdown",
      "metadata": {
        "id": "_0-cGJDsfNzu",
        "colab_type": "text"
      },
      "source": [
        "This is a normal fully connected layer"
      ]
    },
    {
      "cell_type": "code",
      "metadata": {
        "id": "w9tiw8fKfNzv",
        "colab_type": "code",
        "colab": {}
      },
      "source": [
        "def normal_full_layer(input_layer, size):\n",
        "    input_size = int(input_layer.get_shape()[1])\n",
        "    W = init_weights([input_size, size])\n",
        "    b = init_bias([size])\n",
        "    return tf.matmul(input_layer, W) + b"
      ],
      "execution_count": 0,
      "outputs": []
    },
    {
      "cell_type": "code",
      "metadata": {
        "id": "RoKldfkxfNzy",
        "colab_type": "code",
        "colab": {}
      },
      "source": [
        "def deconvolutional_layer(input_x, shape):\n",
        "    #W = init_weights(shape)\n",
        "    b = init_bias([shape[3]])  #draw this out to see if it makes sense\n",
        "    return tf.nn.relu(deconv2d(input_x, shape) +b)"
      ],
      "execution_count": 0,
      "outputs": []
    },
    {
      "cell_type": "markdown",
      "metadata": {
        "id": "p2rwibDxfNzz",
        "colab_type": "text"
      },
      "source": [
        "### Placeholders"
      ]
    },
    {
      "cell_type": "code",
      "metadata": {
        "id": "8E82SWUmfNz0",
        "colab_type": "code",
        "colab": {}
      },
      "source": [
        "x = tf.placeholder(tf.float32,shape=[None,192,256,3])  #trace the shaping of these through the code...\n"
      ],
      "execution_count": 0,
      "outputs": []
    },
    {
      "cell_type": "code",
      "metadata": {
        "id": "U2djuEyMfNz1",
        "colab_type": "code",
        "colab": {}
      },
      "source": [
        "\n",
        "y_true = tf.placeholder(tf.float32,shape=[None,192*256])  #this now has every pixel in the ground truth segmentation"
      ],
      "execution_count": 0,
      "outputs": []
    },
    {
      "cell_type": "markdown",
      "metadata": {
        "id": "IzopPGJyfNz5",
        "colab_type": "text"
      },
      "source": [
        "### Layers"
      ]
    },
    {
      "cell_type": "code",
      "metadata": {
        "id": "6YyKmti2fNz5",
        "colab_type": "code",
        "colab": {}
      },
      "source": [
        "x_image = tf.reshape(x,[-1,192,256,3])  #-1 infers the shape of the first dimension (here, the batch size)"
      ],
      "execution_count": 0,
      "outputs": []
    },
    {
      "cell_type": "code",
      "metadata": {
        "id": "B2zOibybfNz7",
        "colab_type": "code",
        "colab": {
          "base_uri": "https://localhost:8080/",
          "height": 88
        },
        "outputId": "2048924b-066f-4b2e-d8f1-56ed201ad211"
      },
      "source": [
        "# Using a 6by6 filter here, used 5by5 in video, you can play around with the filter size\n",
        "# You can change the 32 output, that essentially represents the amount of filters used\n",
        "# You need to pass in 32 to the next input though, the 1 comes from the original input of \n",
        "# a single image.\n",
        "convo_1 = convolutional_layer(x_image,shape=[3,3,3,16])\n",
        "convo_12 = convolutional_layer(convo_1,shape=[3,3,16,32])\n",
        "convo_1_pooling = max_pool_2by2(convo_12)"
      ],
      "execution_count": 54,
      "outputs": [
        {
          "output_type": "stream",
          "text": [
            "WARNING:tensorflow:From /usr/local/lib/python3.6/dist-packages/tensorflow/python/framework/op_def_library.py:263: colocate_with (from tensorflow.python.framework.ops) is deprecated and will be removed in a future version.\n",
            "Instructions for updating:\n",
            "Colocations handled automatically by placer.\n"
          ],
          "name": "stdout"
        }
      ]
    },
    {
      "cell_type": "code",
      "metadata": {
        "id": "V3wMs2SYTVpR",
        "colab_type": "code",
        "colab": {
          "base_uri": "https://localhost:8080/",
          "height": 34
        },
        "outputId": "27e3e00e-ee28-4d93-e154-22d44b8bffa1"
      },
      "source": [
        "print(convo_1_pooling.shape)"
      ],
      "execution_count": 55,
      "outputs": [
        {
          "output_type": "stream",
          "text": [
            "(?, 96, 128, 32)\n"
          ],
          "name": "stdout"
        }
      ]
    },
    {
      "cell_type": "code",
      "metadata": {
        "id": "Tjs326AsfNz9",
        "colab_type": "code",
        "colab": {}
      },
      "source": [
        "# Using a 6by6 filter here, used 5by5 in video, you can play around with the filter size\n",
        "# You can actually change the 64 output if you want, you can think of that as a representation\n",
        "# of the amount of 6by6 filters used.\n",
        "convo_2 = convolutional_layer(convo_1_pooling,shape=[3,3,32,64])\n",
        "convo_22 = convolutional_layer(convo_2,shape=[3,3,64,64])\n",
        "convo_2_pooling = max_pool_2by2(convo_22)"
      ],
      "execution_count": 0,
      "outputs": []
    },
    {
      "cell_type": "code",
      "metadata": {
        "id": "ZSeZobE1fNz_",
        "colab_type": "code",
        "colab": {
          "base_uri": "https://localhost:8080/",
          "height": 34
        },
        "outputId": "5cfd697a-89f0-4592-daa9-77594b6ae157"
      },
      "source": [
        "print(convo_2_pooling.shape)"
      ],
      "execution_count": 57,
      "outputs": [
        {
          "output_type": "stream",
          "text": [
            "(?, 48, 64, 64)\n"
          ],
          "name": "stdout"
        }
      ]
    },
    {
      "cell_type": "code",
      "metadata": {
        "id": "g0yF11JTfN0B",
        "colab_type": "code",
        "colab": {}
      },
      "source": [
        "# Using a 6by6 filter here, used 5by5 in video, you can play around with the filter size\n",
        "## You can actually change the 64 output if you want, you can think of that as a representation\n",
        "# of the amount of 6by6 filters used.\n",
        "convo_3 = convolutional_layer(convo_2_pooling,shape=[3,3,64,128])\n",
        "convo_32 = convolutional_layer(convo_3,shape=[3,3,128,128])\n",
        "convo_3_pooling = max_pool_2by2(convo_32)"
      ],
      "execution_count": 0,
      "outputs": []
    },
    {
      "cell_type": "code",
      "metadata": {
        "id": "F1OFvnKJfN0F",
        "colab_type": "code",
        "colab": {
          "base_uri": "https://localhost:8080/",
          "height": 34
        },
        "outputId": "c38a10a7-d43a-48a6-9c40-915d3180a85f"
      },
      "source": [
        "print(convo_3_pooling.shape)"
      ],
      "execution_count": 59,
      "outputs": [
        {
          "output_type": "stream",
          "text": [
            "(?, 24, 32, 128)\n"
          ],
          "name": "stdout"
        }
      ]
    },
    {
      "cell_type": "code",
      "metadata": {
        "id": "lK5Ch1YKfN0I",
        "colab_type": "code",
        "colab": {
          "base_uri": "https://localhost:8080/",
          "height": 68
        },
        "outputId": "d13f3ee5-5d35-4e1f-a2bc-b4696b6d0e19"
      },
      "source": [
        "# Using a 6by6 filter here, used 5by5 in video, you can play around with the filter size\n",
        "# You can actually change the 64 output if you want, you can think of that as a representation\n",
        "# of the amount of 6by6 filters used.\n",
        "hold_prob = tf.placeholder(tf.float32)\n",
        "\n",
        "convo_3_pooling_d = tf.nn.dropout(convo_3_pooling,keep_prob=hold_prob)\n",
        "\n",
        "\n",
        "convo_4 = convolutional_layer(convo_3_pooling_d,shape=[3,3,128,256])\n",
        "convo_42 = convolutional_layer(convo_4,shape=[3,3,256,256])\n",
        "convo_4_pooling = max_pool_2by2(convo_42)"
      ],
      "execution_count": 60,
      "outputs": [
        {
          "output_type": "stream",
          "text": [
            "WARNING:tensorflow:From <ipython-input-60-106ed5149670>:3: calling dropout (from tensorflow.python.ops.nn_ops) with keep_prob is deprecated and will be removed in a future version.\n",
            "Instructions for updating:\n",
            "Please use `rate` instead of `keep_prob`. Rate should be set to `rate = 1 - keep_prob`.\n"
          ],
          "name": "stdout"
        }
      ]
    },
    {
      "cell_type": "code",
      "metadata": {
        "id": "XLw9sqc3fN0J",
        "colab_type": "code",
        "colab": {
          "base_uri": "https://localhost:8080/",
          "height": 34
        },
        "outputId": "a9a60c4e-d52c-410b-f23b-1e132e524a69"
      },
      "source": [
        "print(convo_4_pooling.shape)"
      ],
      "execution_count": 61,
      "outputs": [
        {
          "output_type": "stream",
          "text": [
            "(?, 12, 16, 256)\n"
          ],
          "name": "stdout"
        }
      ]
    },
    {
      "cell_type": "code",
      "metadata": {
        "id": "mrjbYcoHfN0L",
        "colab_type": "code",
        "colab": {}
      },
      "source": [
        "convo_5 = convolutional_layer(convo_4_pooling,shape=[3,3,256,512])\n",
        "#convo_5_pooling = max_pool_2by2(convo_5)"
      ],
      "execution_count": 0,
      "outputs": []
    },
    {
      "cell_type": "code",
      "metadata": {
        "id": "AUhatLBVfN0M",
        "colab_type": "code",
        "colab": {
          "base_uri": "https://localhost:8080/",
          "height": 34
        },
        "outputId": "58522e50-693f-4b54-f1ec-ea321139449b"
      },
      "source": [
        "print(convo_5.shape)"
      ],
      "execution_count": 63,
      "outputs": [
        {
          "output_type": "stream",
          "text": [
            "(?, 12, 16, 512)\n"
          ],
          "name": "stdout"
        }
      ]
    },
    {
      "cell_type": "code",
      "metadata": {
        "id": "2umt_QNxfN0O",
        "colab_type": "code",
        "colab": {}
      },
      "source": [
        "#convo_6 = convolutional_layer(convo_5,shape=[3,3,128,256])\n",
        "#convo_6_pooling = max_pool_2by2(convo_6)"
      ],
      "execution_count": 0,
      "outputs": []
    },
    {
      "cell_type": "code",
      "metadata": {
        "id": "q1RQ1ZCcfN0Q",
        "colab_type": "code",
        "colab": {}
      },
      "source": [
        "#print(convo_6.shape)"
      ],
      "execution_count": 0,
      "outputs": []
    },
    {
      "cell_type": "markdown",
      "metadata": {
        "id": "Ymjgp2j1RCFe",
        "colab_type": "text"
      },
      "source": [
        "###Need to look at the shapes and sizes of all of these layers###"
      ]
    },
    {
      "cell_type": "code",
      "metadata": {
        "id": "lnPU1krEfN0S",
        "colab_type": "code",
        "colab": {
          "base_uri": "https://localhost:8080/",
          "height": 85
        },
        "outputId": "ec06b362-3740-48b0-ae8e-9e1a59e4d2d0"
      },
      "source": [
        "#import keras\n",
        "deconv_1 = deconvolutional_layer(convo_5, shape = [3,3,512,256])\n",
        "H = deconv_1.shape[1]\n",
        "W = deconv_1.shape[2]\n",
        "ups_1 = tf.image.resize_nearest_neighbor(deconv_1, size = [2*H,2*W])\n",
        "print(ups_1.shape)"
      ],
      "execution_count": 66,
      "outputs": [
        {
          "output_type": "stream",
          "text": [
            "WARNING:tensorflow:From <ipython-input-46-68bfa008f209>:2: conv2d_transpose (from tensorflow.python.layers.convolutional) is deprecated and will be removed in a future version.\n",
            "Instructions for updating:\n",
            "Use keras.layers.conv2d_transpose instead.\n",
            "(?, 24, 32, 256)\n"
          ],
          "name": "stdout"
        }
      ]
    },
    {
      "cell_type": "code",
      "metadata": {
        "id": "Tebp1_E5vDNk",
        "colab_type": "code",
        "colab": {
          "base_uri": "https://localhost:8080/",
          "height": 34
        },
        "outputId": "5dc5fb47-f8d8-4228-a780-0669b35154cd"
      },
      "source": [
        "deconv_2 = deconvolutional_layer(ups_1, shape = [3,3,256,256])\n",
        "deconv_22 = deconvolutional_layer(deconv_2, shape = [3,3,256,128])\n",
        "H = deconv_22.shape[1]\n",
        "W = deconv_22.shape[2]\n",
        "ups_2 = tf.image.resize_nearest_neighbor(deconv_22, size = [2*H,2*W])\n",
        "print(ups_2.shape)"
      ],
      "execution_count": 67,
      "outputs": [
        {
          "output_type": "stream",
          "text": [
            "(?, 48, 64, 128)\n"
          ],
          "name": "stdout"
        }
      ]
    },
    {
      "cell_type": "code",
      "metadata": {
        "id": "hsq6Tw5_wCbW",
        "colab_type": "code",
        "colab": {
          "base_uri": "https://localhost:8080/",
          "height": 34
        },
        "outputId": "0dedef39-088c-43af-a887-1f3e9584a6ca"
      },
      "source": [
        "deconv_3 = deconvolutional_layer(ups_2, shape = [4,4,128,128])\n",
        "deconv_32 = deconvolutional_layer(deconv_3, shape = [3,3,128,128])\n",
        "H = deconv_32.shape[1]\n",
        "W = deconv_32.shape[2]\n",
        "ups_3 = tf.image.resize_nearest_neighbor(deconv_32, size = [2*H,2*W])\n",
        "print(ups_3.shape)"
      ],
      "execution_count": 68,
      "outputs": [
        {
          "output_type": "stream",
          "text": [
            "(?, 96, 128, 128)\n"
          ],
          "name": "stdout"
        }
      ]
    },
    {
      "cell_type": "code",
      "metadata": {
        "id": "qk9mtSG50McP",
        "colab_type": "code",
        "colab": {
          "base_uri": "https://localhost:8080/",
          "height": 34
        },
        "outputId": "40fa6640-ad01-42a5-ee29-3e0e38ca1101"
      },
      "source": [
        "deconv_4 = deconvolutional_layer(ups_3, shape = [3,3,128,64])\n",
        "deconv_42 = deconvolutional_layer(deconv_4, shape = [3,3,64,32])\n",
        "H = deconv_42.shape[1]\n",
        "W = deconv_42.shape[2]\n",
        "ups_4 = tf.image.resize_nearest_neighbor(deconv_42, size = [2*H,2*W])\n",
        "print(ups_4.shape)"
      ],
      "execution_count": 69,
      "outputs": [
        {
          "output_type": "stream",
          "text": [
            "(?, 192, 256, 32)\n"
          ],
          "name": "stdout"
        }
      ]
    },
    {
      "cell_type": "markdown",
      "metadata": {
        "id": "O07s0bzd-xdZ",
        "colab_type": "text"
      },
      "source": [
        ""
      ]
    },
    {
      "cell_type": "code",
      "metadata": {
        "id": "PhVu8DWQ0unq",
        "colab_type": "code",
        "colab": {
          "base_uri": "https://localhost:8080/",
          "height": 34
        },
        "outputId": "2b3d9757-a976-4b49-d260-eec3aa66f947"
      },
      "source": [
        "hold_prob2 = tf.placeholder(tf.float32)\n",
        "\n",
        "ups_4_d = tf.nn.dropout(ups_4,keep_prob=hold_prob2)\n",
        "\n",
        "deconv_5 = deconvolutional_layer(ups_4_d, shape = [3,3,32,16])\n",
        "print(deconv_5.shape)\n",
        "output = deconvolutional_layer(deconv_5, shape = [3,3,16,1])\n",
        "#print(deconv_52.shape)\n",
        "#output = tf.image.resize_nearest_neighbor(deconv_52, size = [192,256])   #not sure what sort of output layer is used in the winning submission"
      ],
      "execution_count": 70,
      "outputs": [
        {
          "output_type": "stream",
          "text": [
            "(?, 192, 256, 16)\n"
          ],
          "name": "stdout"
        }
      ]
    },
    {
      "cell_type": "code",
      "metadata": {
        "id": "s6WCdpU44eEe",
        "colab_type": "code",
        "colab": {
          "base_uri": "https://localhost:8080/",
          "height": 34
        },
        "outputId": "71878475-cb11-41ef-9fbd-7e84043a42fa"
      },
      "source": [
        "deconv_5.shape"
      ],
      "execution_count": 71,
      "outputs": [
        {
          "output_type": "execute_result",
          "data": {
            "text/plain": [
              "TensorShape([Dimension(None), Dimension(192), Dimension(256), Dimension(16)])"
            ]
          },
          "metadata": {
            "tags": []
          },
          "execution_count": 71
        }
      ]
    },
    {
      "cell_type": "code",
      "metadata": {
        "id": "Zk0vZ8CofN0g",
        "colab_type": "code",
        "colab": {}
      },
      "source": [
        "y_pred = tf.math.sigmoid(output)"
      ],
      "execution_count": 0,
      "outputs": []
    },
    {
      "cell_type": "markdown",
      "metadata": {
        "id": "kzfSiPBifN0i",
        "colab_type": "text"
      },
      "source": [
        "### Loss Function"
      ]
    },
    {
      "cell_type": "code",
      "metadata": {
        "id": "gGxLHevsfN0i",
        "colab_type": "code",
        "colab": {}
      },
      "source": [
        "pred = tf.reshape(y_pred, [-1,192,256])\n",
        "true = tf.reshape(y_true, [-1,192,256])\n",
        "          \n",
        "\n",
        "intersect = tf.reduce_sum(tf.cast(true*pred, tf.float32), axis = [1,2])\n",
        "sum_pred = tf.reduce_sum(tf.cast(pred, tf.float32), axis = [1,2])\n",
        "sum_true = tf.reduce_sum(tf.cast(true, tf.float32), axis = [1,2])\n",
        "union = sum_pred + sum_true - intersect  #think this has an error\n",
        "jacc = intersect/union\n",
        "            \n",
        "\n",
        "\n",
        "#cross_entropy = tf.reduce_mean(tf.nn.sigmoid_cross_entropy_with_logits(labels=y_true,logits=y_pred))"
      ],
      "execution_count": 0,
      "outputs": []
    },
    {
      "cell_type": "code",
      "metadata": {
        "id": "OwrgZr8WfN0k",
        "colab_type": "code",
        "colab": {}
      },
      "source": [
        ""
      ],
      "execution_count": 0,
      "outputs": []
    },
    {
      "cell_type": "markdown",
      "metadata": {
        "id": "v7_7P_MxxKvn",
        "colab_type": "text"
      },
      "source": [
        "This will be updated to a loss function based on the jaccard index, as in the related publication"
      ]
    },
    {
      "cell_type": "markdown",
      "metadata": {
        "id": "Vd8V8rTafN0l",
        "colab_type": "text"
      },
      "source": [
        "### Optimizer"
      ]
    },
    {
      "cell_type": "code",
      "metadata": {
        "id": "ShpM5aWifN0m",
        "colab_type": "code",
        "colab": {
          "base_uri": "https://localhost:8080/",
          "height": 88
        },
        "outputId": "dd26a65a-aa76-4b19-df97-188ee797807a"
      },
      "source": [
        "optimizer = tf.train.AdamOptimizer(learning_rate=0.3)\n",
        "cost = 1./(1. + tf.math.exp(jacc - 0.65))\n",
        "train = optimizer.minimize(cost)   #can this be done for each pixel?"
      ],
      "execution_count": 74,
      "outputs": [
        {
          "output_type": "stream",
          "text": [
            "WARNING:tensorflow:From /usr/local/lib/python3.6/dist-packages/tensorflow/python/ops/math_ops.py:3066: to_int32 (from tensorflow.python.ops.math_ops) is deprecated and will be removed in a future version.\n",
            "Instructions for updating:\n",
            "Use tf.cast instead.\n"
          ],
          "name": "stdout"
        }
      ]
    },
    {
      "cell_type": "markdown",
      "metadata": {
        "id": "2pgeA03VfN0o",
        "colab_type": "text"
      },
      "source": [
        "### Intialize Variables"
      ]
    },
    {
      "cell_type": "code",
      "metadata": {
        "id": "b6p_q-h8fN0p",
        "colab_type": "code",
        "colab": {}
      },
      "source": [
        "init = tf.global_variables_initializer()"
      ],
      "execution_count": 0,
      "outputs": []
    },
    {
      "cell_type": "code",
      "metadata": {
        "id": "IJBnGN8bfN0r",
        "colab_type": "code",
        "colab": {}
      },
      "source": [
        "saver = tf.train.Saver()"
      ],
      "execution_count": 0,
      "outputs": []
    },
    {
      "cell_type": "markdown",
      "metadata": {
        "id": "uJSc-_gtfN0s",
        "colab_type": "text"
      },
      "source": [
        "### Session"
      ]
    },
    {
      "cell_type": "code",
      "metadata": {
        "id": "sCgyHGU9fN0s",
        "colab_type": "code",
        "colab": {
          "base_uri": "https://localhost:8080/",
          "height": 51
        },
        "outputId": "a6e03ad8-3968-4f5a-e80a-0d0ead08cc81"
      },
      "source": [
        "mel = MelHelper()\n",
        "mel.set_up_images()"
      ],
      "execution_count": 77,
      "outputs": [
        {
          "output_type": "stream",
          "text": [
            "Setting Up Training Images and Labels\n",
            "Setting Up Test Images and Labels\n"
          ],
          "name": "stdout"
        }
      ]
    },
    {
      "cell_type": "code",
      "metadata": {
        "id": "TquTnDl1vKyb",
        "colab_type": "code",
        "colab": {
          "base_uri": "https://localhost:8080/",
          "height": 34
        },
        "outputId": "60d9d322-1b9a-427d-82b2-37da632e8eca"
      },
      "source": [
        "tf.math.exp(1.)"
      ],
      "execution_count": 78,
      "outputs": [
        {
          "output_type": "execute_result",
          "data": {
            "text/plain": [
              "<tf.Tensor 'Exp_1:0' shape=() dtype=float32>"
            ]
          },
          "metadata": {
            "tags": []
          },
          "execution_count": 78
        }
      ]
    },
    {
      "cell_type": "code",
      "metadata": {
        "scrolled": false,
        "id": "LvFchSc7fN0v",
        "colab_type": "code",
        "colab": {
          "base_uri": "https://localhost:8080/",
          "height": 1343
        },
        "outputId": "adc5076d-7e7e-49c1-f512-2cb8907ba954"
      },
      "source": [
        "steps = 100001\n",
        "import time\n",
        "batch_size = 16\n",
        "\n",
        "#use Cifar_helper to set up next batch\n",
        "with tf.Session() as sess:\n",
        "    print(\"starting init\")\n",
        "    sess.run(init)\n",
        "    print(\"done init\")\n",
        "    \n",
        "    start_time = time.clock()\n",
        "    \n",
        "    for i in range(steps): \n",
        "        batch_x, batch_y = mel.next_batch(batch_size)\n",
        "        #print(i)\n",
        "        #print(\"\\n\")\n",
        "        \n",
        "        #print(\"batch training labels shape is \", batch_y.shape)\n",
        "        #print(\"batch training labels type is \", batch_y.dtype)\n",
        "        #print(\"batch training labels are \", batch_y)\n",
        "        #print(\"batch training data are \", batch_x)\n",
        "        #image = batch_y.reshape(-1,21,28)[5,:,:]\n",
        "        sess.run(train,feed_dict={x:batch_x,y_true:batch_y,hold_prob:0.5,hold_prob2:0.5})\n",
        "        #print(\"batch training prediction are \", batch_y)\n",
        "        #image_pred = sess.run(y_pred,feed_dict={x:batch_x,y_true:batch_y,hold_prob:1.0} ).reshape(-1,21,28)[5,:,:]\n",
        "        #image_pred = np.round(1/(1 + np.exp(-image_pred)))\n",
        "        \n",
        "        if i%100 == 0:\n",
        "            print('Currently on step {}'.format(i))\n",
        "            print(\"the time is \", time.clock() - start_time, \"\\n\")\n",
        "             #print(\"mel i is \", mel.i)\n",
        "             #plt.imshow(image)\n",
        "             #plt.show()\n",
        "             #plt.imshow(image_pred)\n",
        "             #plt.show()\n",
        "            \n",
        "            #print('Currently on step {}'.format(i))\n",
        "            #print('Accuracy is:')\n",
        "            # Test the Train Model\n",
        "            #matches = tf.equal(tf.argmax(y_pred,1),tf.argmax(y_true,1))\n",
        "\n",
        "            #acc = tf.reduce_mean(tf.cast(matches,tf.float32))\n",
        "\n",
        "            \n",
        "            ####use with cross entropy####\n",
        "            #pred = tf.round(1/(1 + tf.exp(-tf.reshape(y_pred, [-1,48,64]))))\n",
        "            #true = tf.reshape(y_true, [-1,48,64])\n",
        "          \n",
        "            # Test the Train Model\n",
        "            #matches = tf.equal(tf.argmax(y_pred,1),tf.argmax(y_true,1))  ###REPLACE THIS LINE TO INCLUDE JACARD INDEX####\n",
        "            #y_pred = tf.round(y_pred):\n",
        "            #y_true = tf.round(y_true)\n",
        "            \n",
        "        \n",
        "\n",
        "\n",
        "            #intersect = tf.reduce_sum(tf.cast(true*pred, tf.float32), axis = [1,2])\n",
        "            #union = tf.reduce_sum(tf.cast(pred, tf.float32), axis = [1,2]) + tf.reduce_sum(tf.cast(true, tf.float32), axis = [1,2]) - intersect  #think this has an error\n",
        "            #jacc = intersect/union\n",
        "            \n",
        "            \n",
        "            \n",
        "            #acc = tf.reduce_mean(tf.cast(intersect,tf.float32))\n",
        "            #print(\"test labels shape is \", mel.test_labels.shape)\n",
        "            #print(\"\\n\")\n",
        "            \n",
        "            print('Avg Jacc is:')\n",
        "            J_out = sess.run([jacc],feed_dict={x:mel.test_images,y_true:mel.test_labels,hold_prob:1.0, hold_prob2:1.0})\n",
        "            \n",
        "            ##it cannot evaluate over the test set, the test set is too large...reduce size of test set\n",
        "            \n",
        "            print(np.sum(J_out[0])/J_out[0].shape[0], \" step number is \",  i, \" batch_size is \", batch_size)\n",
        "            #print(\"intersection is\", J_out[2], \"union is\", J_out[3], \"\\n\", \"y_pred is \", J_out[4], \"true is \", J_out[5], \"sum_pred =\",  J_out[6], \"sum_true\", J_out[7])\n",
        "            #if i == 500:\n",
        "                #batch_size = 20\n",
        "            #if i == 25000:\n",
        "                #batch_size = 200\n",
        "            \n",
        "            #print out Jacc for training set and test set, Save Jacc and entropy to variable,\n",
        "            #print out step number\n",
        "            \n",
        "            #use larger pics\n",
        "            #print out and analyse cross entropy\n",
        "            #run with full training batch for several iterations\n",
        "            #pred = sess.run(pred,feed_dict={x:mel.test_images,y_true:mel.test_labels,hold_prob:1.0})\n",
        "            \n",
        "        if i == steps - 1:\n",
        "            pred_mel = sess.run([pred],feed_dict={x:mel.test_images,y_true:mel.test_labels,hold_prob:1.0, hold_prob2:1.0})\n",
        "            pred_pigment = sess.run([pred],feed_dict={x:pigs,hold_prob:1.0,hold_prob2:1.0})\n",
        "            \n",
        "        #save_path = saver.save(sess, \"./model.ckpt\")"
      ],
      "execution_count": 79,
      "outputs": [
        {
          "output_type": "stream",
          "text": [
            "starting init\n",
            "done init\n",
            "Currently on step 0\n",
            "the time is  4.516376000000001 \n",
            "\n",
            "Avg Jacc is:\n",
            "0.2098034638624925  step number is  0  batch_size is  16\n",
            "Currently on step 100\n",
            "the time is  22.864728999999997 \n",
            "\n",
            "Avg Jacc is:\n",
            "0.20817040663499098  step number is  100  batch_size is  16\n",
            "Currently on step 200\n",
            "the time is  35.934751 \n",
            "\n",
            "Avg Jacc is:\n",
            "0.20817040663499098  step number is  200  batch_size is  16\n",
            "Currently on step 300\n",
            "the time is  49.100767999999995 \n",
            "\n",
            "Avg Jacc is:\n",
            "0.20817040663499098  step number is  300  batch_size is  16\n",
            "Currently on step 400\n",
            "the time is  62.365387000000005 \n",
            "\n",
            "Avg Jacc is:\n",
            "0.20817040663499098  step number is  400  batch_size is  16\n",
            "Currently on step 500\n",
            "the time is  75.72625199999999 \n",
            "\n",
            "Avg Jacc is:\n",
            "0.20817040663499098  step number is  500  batch_size is  16\n",
            "Currently on step 600\n",
            "the time is  89.098807 \n",
            "\n",
            "Avg Jacc is:\n",
            "0.20817040663499098  step number is  600  batch_size is  16\n",
            "Currently on step 700\n",
            "the time is  102.492246 \n",
            "\n",
            "Avg Jacc is:\n",
            "0.20817040663499098  step number is  700  batch_size is  16\n",
            "Currently on step 800\n",
            "the time is  115.897875 \n",
            "\n",
            "Avg Jacc is:\n",
            "0.20817040663499098  step number is  800  batch_size is  16\n",
            "Currently on step 900\n",
            "the time is  129.375259 \n",
            "\n",
            "Avg Jacc is:\n",
            "0.20817040663499098  step number is  900  batch_size is  16\n",
            "Currently on step 1000\n",
            "the time is  142.891625 \n",
            "\n",
            "Avg Jacc is:\n",
            "0.20817040663499098  step number is  1000  batch_size is  16\n"
          ],
          "name": "stdout"
        },
        {
          "output_type": "error",
          "ename": "KeyboardInterrupt",
          "evalue": "ignored",
          "traceback": [
            "\u001b[0;31m---------------------------------------------------------------------------\u001b[0m",
            "\u001b[0;31mKeyboardInterrupt\u001b[0m                         Traceback (most recent call last)",
            "\u001b[0;32m<ipython-input-79-c2ce09fc2dfc>\u001b[0m in \u001b[0;36m<module>\u001b[0;34m()\u001b[0m\n\u001b[1;32m     21\u001b[0m         \u001b[0;31m#print(\"batch training data are \", batch_x)\u001b[0m\u001b[0;34m\u001b[0m\u001b[0;34m\u001b[0m\u001b[0;34m\u001b[0m\u001b[0m\n\u001b[1;32m     22\u001b[0m         \u001b[0;31m#image = batch_y.reshape(-1,21,28)[5,:,:]\u001b[0m\u001b[0;34m\u001b[0m\u001b[0;34m\u001b[0m\u001b[0;34m\u001b[0m\u001b[0m\n\u001b[0;32m---> 23\u001b[0;31m         \u001b[0msess\u001b[0m\u001b[0;34m.\u001b[0m\u001b[0mrun\u001b[0m\u001b[0;34m(\u001b[0m\u001b[0mtrain\u001b[0m\u001b[0;34m,\u001b[0m\u001b[0mfeed_dict\u001b[0m\u001b[0;34m=\u001b[0m\u001b[0;34m{\u001b[0m\u001b[0mx\u001b[0m\u001b[0;34m:\u001b[0m\u001b[0mbatch_x\u001b[0m\u001b[0;34m,\u001b[0m\u001b[0my_true\u001b[0m\u001b[0;34m:\u001b[0m\u001b[0mbatch_y\u001b[0m\u001b[0;34m,\u001b[0m\u001b[0mhold_prob\u001b[0m\u001b[0;34m:\u001b[0m\u001b[0;36m0.5\u001b[0m\u001b[0;34m,\u001b[0m\u001b[0mhold_prob2\u001b[0m\u001b[0;34m:\u001b[0m\u001b[0;36m0.5\u001b[0m\u001b[0;34m}\u001b[0m\u001b[0;34m)\u001b[0m\u001b[0;34m\u001b[0m\u001b[0;34m\u001b[0m\u001b[0m\n\u001b[0m\u001b[1;32m     24\u001b[0m         \u001b[0;31m#print(\"batch training prediction are \", batch_y)\u001b[0m\u001b[0;34m\u001b[0m\u001b[0;34m\u001b[0m\u001b[0;34m\u001b[0m\u001b[0m\n\u001b[1;32m     25\u001b[0m         \u001b[0;31m#image_pred = sess.run(y_pred,feed_dict={x:batch_x,y_true:batch_y,hold_prob:1.0} ).reshape(-1,21,28)[5,:,:]\u001b[0m\u001b[0;34m\u001b[0m\u001b[0;34m\u001b[0m\u001b[0;34m\u001b[0m\u001b[0m\n",
            "\u001b[0;32m/usr/local/lib/python3.6/dist-packages/tensorflow/python/client/session.py\u001b[0m in \u001b[0;36mrun\u001b[0;34m(self, fetches, feed_dict, options, run_metadata)\u001b[0m\n\u001b[1;32m    927\u001b[0m     \u001b[0;32mtry\u001b[0m\u001b[0;34m:\u001b[0m\u001b[0;34m\u001b[0m\u001b[0;34m\u001b[0m\u001b[0m\n\u001b[1;32m    928\u001b[0m       result = self._run(None, fetches, feed_dict, options_ptr,\n\u001b[0;32m--> 929\u001b[0;31m                          run_metadata_ptr)\n\u001b[0m\u001b[1;32m    930\u001b[0m       \u001b[0;32mif\u001b[0m \u001b[0mrun_metadata\u001b[0m\u001b[0;34m:\u001b[0m\u001b[0;34m\u001b[0m\u001b[0;34m\u001b[0m\u001b[0m\n\u001b[1;32m    931\u001b[0m         \u001b[0mproto_data\u001b[0m \u001b[0;34m=\u001b[0m \u001b[0mtf_session\u001b[0m\u001b[0;34m.\u001b[0m\u001b[0mTF_GetBuffer\u001b[0m\u001b[0;34m(\u001b[0m\u001b[0mrun_metadata_ptr\u001b[0m\u001b[0;34m)\u001b[0m\u001b[0;34m\u001b[0m\u001b[0;34m\u001b[0m\u001b[0m\n",
            "\u001b[0;32m/usr/local/lib/python3.6/dist-packages/tensorflow/python/client/session.py\u001b[0m in \u001b[0;36m_run\u001b[0;34m(self, handle, fetches, feed_dict, options, run_metadata)\u001b[0m\n\u001b[1;32m   1150\u001b[0m     \u001b[0;32mif\u001b[0m \u001b[0mfinal_fetches\u001b[0m \u001b[0;32mor\u001b[0m \u001b[0mfinal_targets\u001b[0m \u001b[0;32mor\u001b[0m \u001b[0;34m(\u001b[0m\u001b[0mhandle\u001b[0m \u001b[0;32mand\u001b[0m \u001b[0mfeed_dict_tensor\u001b[0m\u001b[0;34m)\u001b[0m\u001b[0;34m:\u001b[0m\u001b[0;34m\u001b[0m\u001b[0;34m\u001b[0m\u001b[0m\n\u001b[1;32m   1151\u001b[0m       results = self._do_run(handle, final_targets, final_fetches,\n\u001b[0;32m-> 1152\u001b[0;31m                              feed_dict_tensor, options, run_metadata)\n\u001b[0m\u001b[1;32m   1153\u001b[0m     \u001b[0;32melse\u001b[0m\u001b[0;34m:\u001b[0m\u001b[0;34m\u001b[0m\u001b[0;34m\u001b[0m\u001b[0m\n\u001b[1;32m   1154\u001b[0m       \u001b[0mresults\u001b[0m \u001b[0;34m=\u001b[0m \u001b[0;34m[\u001b[0m\u001b[0;34m]\u001b[0m\u001b[0;34m\u001b[0m\u001b[0;34m\u001b[0m\u001b[0m\n",
            "\u001b[0;32m/usr/local/lib/python3.6/dist-packages/tensorflow/python/client/session.py\u001b[0m in \u001b[0;36m_do_run\u001b[0;34m(self, handle, target_list, fetch_list, feed_dict, options, run_metadata)\u001b[0m\n\u001b[1;32m   1326\u001b[0m     \u001b[0;32mif\u001b[0m \u001b[0mhandle\u001b[0m \u001b[0;32mis\u001b[0m \u001b[0;32mNone\u001b[0m\u001b[0;34m:\u001b[0m\u001b[0;34m\u001b[0m\u001b[0;34m\u001b[0m\u001b[0m\n\u001b[1;32m   1327\u001b[0m       return self._do_call(_run_fn, feeds, fetches, targets, options,\n\u001b[0;32m-> 1328\u001b[0;31m                            run_metadata)\n\u001b[0m\u001b[1;32m   1329\u001b[0m     \u001b[0;32melse\u001b[0m\u001b[0;34m:\u001b[0m\u001b[0;34m\u001b[0m\u001b[0;34m\u001b[0m\u001b[0m\n\u001b[1;32m   1330\u001b[0m       \u001b[0;32mreturn\u001b[0m \u001b[0mself\u001b[0m\u001b[0;34m.\u001b[0m\u001b[0m_do_call\u001b[0m\u001b[0;34m(\u001b[0m\u001b[0m_prun_fn\u001b[0m\u001b[0;34m,\u001b[0m \u001b[0mhandle\u001b[0m\u001b[0;34m,\u001b[0m \u001b[0mfeeds\u001b[0m\u001b[0;34m,\u001b[0m \u001b[0mfetches\u001b[0m\u001b[0;34m)\u001b[0m\u001b[0;34m\u001b[0m\u001b[0;34m\u001b[0m\u001b[0m\n",
            "\u001b[0;32m/usr/local/lib/python3.6/dist-packages/tensorflow/python/client/session.py\u001b[0m in \u001b[0;36m_do_call\u001b[0;34m(self, fn, *args)\u001b[0m\n\u001b[1;32m   1332\u001b[0m   \u001b[0;32mdef\u001b[0m \u001b[0m_do_call\u001b[0m\u001b[0;34m(\u001b[0m\u001b[0mself\u001b[0m\u001b[0;34m,\u001b[0m \u001b[0mfn\u001b[0m\u001b[0;34m,\u001b[0m \u001b[0;34m*\u001b[0m\u001b[0margs\u001b[0m\u001b[0;34m)\u001b[0m\u001b[0;34m:\u001b[0m\u001b[0;34m\u001b[0m\u001b[0;34m\u001b[0m\u001b[0m\n\u001b[1;32m   1333\u001b[0m     \u001b[0;32mtry\u001b[0m\u001b[0;34m:\u001b[0m\u001b[0;34m\u001b[0m\u001b[0;34m\u001b[0m\u001b[0m\n\u001b[0;32m-> 1334\u001b[0;31m       \u001b[0;32mreturn\u001b[0m \u001b[0mfn\u001b[0m\u001b[0;34m(\u001b[0m\u001b[0;34m*\u001b[0m\u001b[0margs\u001b[0m\u001b[0;34m)\u001b[0m\u001b[0;34m\u001b[0m\u001b[0;34m\u001b[0m\u001b[0m\n\u001b[0m\u001b[1;32m   1335\u001b[0m     \u001b[0;32mexcept\u001b[0m \u001b[0merrors\u001b[0m\u001b[0;34m.\u001b[0m\u001b[0mOpError\u001b[0m \u001b[0;32mas\u001b[0m \u001b[0me\u001b[0m\u001b[0;34m:\u001b[0m\u001b[0;34m\u001b[0m\u001b[0;34m\u001b[0m\u001b[0m\n\u001b[1;32m   1336\u001b[0m       \u001b[0mmessage\u001b[0m \u001b[0;34m=\u001b[0m \u001b[0mcompat\u001b[0m\u001b[0;34m.\u001b[0m\u001b[0mas_text\u001b[0m\u001b[0;34m(\u001b[0m\u001b[0me\u001b[0m\u001b[0;34m.\u001b[0m\u001b[0mmessage\u001b[0m\u001b[0;34m)\u001b[0m\u001b[0;34m\u001b[0m\u001b[0;34m\u001b[0m\u001b[0m\n",
            "\u001b[0;32m/usr/local/lib/python3.6/dist-packages/tensorflow/python/client/session.py\u001b[0m in \u001b[0;36m_run_fn\u001b[0;34m(feed_dict, fetch_list, target_list, options, run_metadata)\u001b[0m\n\u001b[1;32m   1317\u001b[0m       \u001b[0mself\u001b[0m\u001b[0;34m.\u001b[0m\u001b[0m_extend_graph\u001b[0m\u001b[0;34m(\u001b[0m\u001b[0;34m)\u001b[0m\u001b[0;34m\u001b[0m\u001b[0;34m\u001b[0m\u001b[0m\n\u001b[1;32m   1318\u001b[0m       return self._call_tf_sessionrun(\n\u001b[0;32m-> 1319\u001b[0;31m           options, feed_dict, fetch_list, target_list, run_metadata)\n\u001b[0m\u001b[1;32m   1320\u001b[0m \u001b[0;34m\u001b[0m\u001b[0m\n\u001b[1;32m   1321\u001b[0m     \u001b[0;32mdef\u001b[0m \u001b[0m_prun_fn\u001b[0m\u001b[0;34m(\u001b[0m\u001b[0mhandle\u001b[0m\u001b[0;34m,\u001b[0m \u001b[0mfeed_dict\u001b[0m\u001b[0;34m,\u001b[0m \u001b[0mfetch_list\u001b[0m\u001b[0;34m)\u001b[0m\u001b[0;34m:\u001b[0m\u001b[0;34m\u001b[0m\u001b[0;34m\u001b[0m\u001b[0m\n",
            "\u001b[0;32m/usr/local/lib/python3.6/dist-packages/tensorflow/python/client/session.py\u001b[0m in \u001b[0;36m_call_tf_sessionrun\u001b[0;34m(self, options, feed_dict, fetch_list, target_list, run_metadata)\u001b[0m\n\u001b[1;32m   1405\u001b[0m     return tf_session.TF_SessionRun_wrapper(\n\u001b[1;32m   1406\u001b[0m         \u001b[0mself\u001b[0m\u001b[0;34m.\u001b[0m\u001b[0m_session\u001b[0m\u001b[0;34m,\u001b[0m \u001b[0moptions\u001b[0m\u001b[0;34m,\u001b[0m \u001b[0mfeed_dict\u001b[0m\u001b[0;34m,\u001b[0m \u001b[0mfetch_list\u001b[0m\u001b[0;34m,\u001b[0m \u001b[0mtarget_list\u001b[0m\u001b[0;34m,\u001b[0m\u001b[0;34m\u001b[0m\u001b[0;34m\u001b[0m\u001b[0m\n\u001b[0;32m-> 1407\u001b[0;31m         run_metadata)\n\u001b[0m\u001b[1;32m   1408\u001b[0m \u001b[0;34m\u001b[0m\u001b[0m\n\u001b[1;32m   1409\u001b[0m   \u001b[0;32mdef\u001b[0m \u001b[0m_call_tf_sessionprun\u001b[0m\u001b[0;34m(\u001b[0m\u001b[0mself\u001b[0m\u001b[0;34m,\u001b[0m \u001b[0mhandle\u001b[0m\u001b[0;34m,\u001b[0m \u001b[0mfeed_dict\u001b[0m\u001b[0;34m,\u001b[0m \u001b[0mfetch_list\u001b[0m\u001b[0;34m)\u001b[0m\u001b[0;34m:\u001b[0m\u001b[0;34m\u001b[0m\u001b[0;34m\u001b[0m\u001b[0m\n",
            "\u001b[0;31mKeyboardInterrupt\u001b[0m: "
          ]
        }
      ]
    },
    {
      "cell_type": "code",
      "metadata": {
        "id": "OgBtoXllqHTu",
        "colab_type": "code",
        "colab": {}
      },
      "source": [
        "J_out[1][1].shape"
      ],
      "execution_count": 0,
      "outputs": []
    },
    {
      "cell_type": "markdown",
      "metadata": {
        "id": "ozKxJoKafN0x",
        "colab_type": "text"
      },
      "source": [
        "## Great Job!"
      ]
    },
    {
      "cell_type": "code",
      "metadata": {
        "id": "aPBW3tGrfN0x",
        "colab_type": "code",
        "colab": {}
      },
      "source": [
        "plt.imshow(pred_pigment[0][5,:,:])\n",
        "plt.show()"
      ],
      "execution_count": 0,
      "outputs": []
    },
    {
      "cell_type": "code",
      "metadata": {
        "id": "F065GTgDfN0y",
        "colab_type": "code",
        "colab": {}
      },
      "source": [
        "pigs.shape"
      ],
      "execution_count": 0,
      "outputs": []
    },
    {
      "cell_type": "code",
      "metadata": {
        "id": "hpT_cK9NfN01",
        "colab_type": "code",
        "colab": {}
      },
      "source": [
        "pred_pigment[0].shape"
      ],
      "execution_count": 0,
      "outputs": []
    },
    {
      "cell_type": "code",
      "metadata": {
        "id": "Zxfv9B0wfN03",
        "colab_type": "code",
        "colab": {}
      },
      "source": [
        "plt.imshow(pigment_image_show)\n",
        "plt.show()"
      ],
      "execution_count": 0,
      "outputs": []
    },
    {
      "cell_type": "code",
      "metadata": {
        "id": "JAPOpkOnfN05",
        "colab_type": "code",
        "colab": {}
      },
      "source": [
        "mask = np.zeros([21,28,3])#np.vstack([pred_pigment[0],pred_pigment[0],pred_pigment[0]])\n",
        "mask[:,:,0] = pred_pigment[0][0,:,:]\n",
        "mask[:,:,1] = pred_pigment[0][0,:,:]\n",
        "mask[:,:,2] = pred_pigment[0][0,:,:]\n",
        "#mask = 1-mask\n",
        "#mask = mask.astype(int)\n",
        "\n",
        "image = pigment_image_show\n",
        "#image[mask] = 0\n",
        "image2 = image*mask*255\n",
        "image1 = image*(1- mask)*255\n"
      ],
      "execution_count": 0,
      "outputs": []
    },
    {
      "cell_type": "code",
      "metadata": {
        "id": "sUdEkyQDfN06",
        "colab_type": "code",
        "colab": {}
      },
      "source": [
        "plt.imshow(image2)\n",
        "plt.show()"
      ],
      "execution_count": 0,
      "outputs": []
    },
    {
      "cell_type": "code",
      "metadata": {
        "id": "UOT68oxRfN08",
        "colab_type": "code",
        "colab": {}
      },
      "source": [
        "plt.imshow(image1)\n",
        "plt.show()"
      ],
      "execution_count": 0,
      "outputs": []
    },
    {
      "cell_type": "code",
      "metadata": {
        "id": "ajywFtjAfN09",
        "colab_type": "code",
        "colab": {}
      },
      "source": [
        "image2[:,:,0].shape"
      ],
      "execution_count": 0,
      "outputs": []
    },
    {
      "cell_type": "code",
      "metadata": {
        "id": "K24a-3W1fN0_",
        "colab_type": "code",
        "colab": {}
      },
      "source": [
        "red = image2[:,:,0].reshape(-1)"
      ],
      "execution_count": 0,
      "outputs": []
    },
    {
      "cell_type": "code",
      "metadata": {
        "id": "ONqRmNbgfN1A",
        "colab_type": "code",
        "colab": {}
      },
      "source": [
        "plt.hist(red, bins = 500, range = (0.1, red.max()))"
      ],
      "execution_count": 0,
      "outputs": []
    },
    {
      "cell_type": "code",
      "metadata": {
        "id": "Dx1I2TsyfN1B",
        "colab_type": "code",
        "colab": {}
      },
      "source": [
        "plt.show()"
      ],
      "execution_count": 0,
      "outputs": []
    },
    {
      "cell_type": "code",
      "metadata": {
        "id": "sr2dpX_dfN1C",
        "colab_type": "code",
        "colab": {}
      },
      "source": [
        "a2 = np.average(red, weights = mask[:,:,0].reshape(-1))"
      ],
      "execution_count": 0,
      "outputs": []
    },
    {
      "cell_type": "code",
      "metadata": {
        "id": "Jevzwut9fN1E",
        "colab_type": "code",
        "colab": {}
      },
      "source": [
        "a2"
      ],
      "execution_count": 0,
      "outputs": []
    },
    {
      "cell_type": "code",
      "metadata": {
        "id": "7BHV-xfHfN1F",
        "colab_type": "code",
        "colab": {}
      },
      "source": [
        "mask[0].shape"
      ],
      "execution_count": 0,
      "outputs": []
    },
    {
      "cell_type": "code",
      "metadata": {
        "id": "qs855rM1fN1G",
        "colab_type": "code",
        "colab": {}
      },
      "source": [
        "red_norm = image1[:,:,0].reshape(-1)"
      ],
      "execution_count": 0,
      "outputs": []
    },
    {
      "cell_type": "code",
      "metadata": {
        "id": "ea9StQEufN1H",
        "colab_type": "code",
        "colab": {}
      },
      "source": [
        "plt.hist(red_norm, bins = 500, range = (0.1, red_norm.max()))"
      ],
      "execution_count": 0,
      "outputs": []
    },
    {
      "cell_type": "code",
      "metadata": {
        "id": "l3Q9PxaWfN1I",
        "colab_type": "code",
        "colab": {}
      },
      "source": [
        "plt.show()"
      ],
      "execution_count": 0,
      "outputs": []
    },
    {
      "cell_type": "code",
      "metadata": {
        "id": "u2KHoacjfN1J",
        "colab_type": "code",
        "colab": {}
      },
      "source": [
        "mask_inv = 1-mask"
      ],
      "execution_count": 0,
      "outputs": []
    },
    {
      "cell_type": "code",
      "metadata": {
        "id": "rHWWM8OpfN1K",
        "colab_type": "code",
        "colab": {}
      },
      "source": [
        "a1 = np.average(red_norm, weights =mask_inv[:,:,0].reshape(-1))"
      ],
      "execution_count": 0,
      "outputs": []
    },
    {
      "cell_type": "code",
      "metadata": {
        "id": "erjg3_0VfN1L",
        "colab_type": "code",
        "colab": {}
      },
      "source": [
        "mask_inv.shape"
      ],
      "execution_count": 0,
      "outputs": []
    },
    {
      "cell_type": "code",
      "metadata": {
        "id": "EBVZiGiAfN1L",
        "colab_type": "code",
        "colab": {}
      },
      "source": [
        "a1"
      ],
      "execution_count": 0,
      "outputs": []
    },
    {
      "cell_type": "code",
      "metadata": {
        "id": "npZUBCrTfN1M",
        "colab_type": "code",
        "colab": {}
      },
      "source": [
        "a1 - a2"
      ],
      "execution_count": 0,
      "outputs": []
    },
    {
      "cell_type": "code",
      "metadata": {
        "id": "m6Tn1RcofN1N",
        "colab_type": "code",
        "colab": {}
      },
      "source": [
        "blue = image2[:,:,2].reshape(-1)"
      ],
      "execution_count": 0,
      "outputs": []
    },
    {
      "cell_type": "code",
      "metadata": {
        "id": "8uc36qqjfN1O",
        "colab_type": "code",
        "colab": {}
      },
      "source": [
        "blue_norm = image1[:,:,2].reshape(-1)"
      ],
      "execution_count": 0,
      "outputs": []
    },
    {
      "cell_type": "code",
      "metadata": {
        "id": "pYlWlxbXfN1Q",
        "colab_type": "code",
        "colab": {}
      },
      "source": [
        "plt.hist(blue, bins = 500, range = (0.1, blue.max()))\n",
        "plt.show()"
      ],
      "execution_count": 0,
      "outputs": []
    },
    {
      "cell_type": "code",
      "metadata": {
        "id": "Z_tMSOZzfN1R",
        "colab_type": "code",
        "colab": {}
      },
      "source": [
        "plt.hist(blue_norm, bins = 500, range = (0.1, blue_norm.max()))\n",
        "plt.figure()\n",
        "plt.show()"
      ],
      "execution_count": 0,
      "outputs": []
    },
    {
      "cell_type": "code",
      "metadata": {
        "id": "I5dc6TdTfN1S",
        "colab_type": "code",
        "colab": {}
      },
      "source": [
        "def measure_progress(pigs,masks):\n",
        "    blue_pigs = []\n",
        "    blue_norms = []\n",
        "    imagesp = []\n",
        "    imagesn = []\n",
        "    i = 0\n",
        "    for pig in pigs:\n",
        "        mask = np.zeros([21,28,3])#np.vstack([pred_pigment[0],pred_pigment[0],pred_pigment[0]])\n",
        "        mask[:,:,0] = pred_pigment[0][i,:,:]\n",
        "        mask[:,:,1] = pred_pigment[0][i,:,:]\n",
        "        mask[:,:,2] = pred_pigment[0][i,:,:]\n",
        "        mask_inv = 1- mask\n",
        "        imagep = pig*mask*255\n",
        "        imagen = pig*(1- mask)*255\n",
        "        imagesp += [imagep]\n",
        "        imagesn += [imagen]\n",
        "        blue_norm = imagen[:,:,2].reshape(-1)\n",
        "        blue_pig = imagep[:,:,2].reshape(-1)\n",
        "        an = np.average(blue_norm, weights =mask_inv[:,:,2].reshape(-1))\n",
        "        ap = np.average(blue_pig, weights =mask[:,:,2].reshape(-1))\n",
        "        blue_pigs += [ap]\n",
        "        blue_norms += [an]\n",
        "        i+=1\n",
        "    blue_pigs = np.array(blue_pigs)\n",
        "    blue_norms = np.array(blue_norms)\n",
        "    return(blue_pigs, blue_norms, imagesp, imagesn)"
      ],
      "execution_count": 0,
      "outputs": []
    },
    {
      "cell_type": "code",
      "metadata": {
        "id": "0Gl1CurMfN1T",
        "colab_type": "code",
        "colab": {}
      },
      "source": [
        "pigmented, normal, imagesp, imagesn = measure_progress(pigs,pred_pigment)"
      ],
      "execution_count": 0,
      "outputs": []
    },
    {
      "cell_type": "code",
      "metadata": {
        "id": "hIybHR8HfN1U",
        "colab_type": "code",
        "colab": {}
      },
      "source": [
        "J_out[1].shape"
      ],
      "execution_count": 0,
      "outputs": []
    },
    {
      "cell_type": "code",
      "metadata": {
        "id": "SFU1gqlwfN1V",
        "colab_type": "code",
        "colab": {}
      },
      "source": [
        "pigmented"
      ],
      "execution_count": 0,
      "outputs": []
    },
    {
      "cell_type": "code",
      "metadata": {
        "id": "OGl5P8_DfN1W",
        "colab_type": "code",
        "colab": {}
      },
      "source": [
        "normal"
      ],
      "execution_count": 0,
      "outputs": []
    },
    {
      "cell_type": "code",
      "metadata": {
        "id": "SI0Ug5XQfN1X",
        "colab_type": "code",
        "colab": {}
      },
      "source": [
        "plt.plot(normal - pigmented)"
      ],
      "execution_count": 0,
      "outputs": []
    },
    {
      "cell_type": "code",
      "metadata": {
        "id": "2Y-HM_QTfN1X",
        "colab_type": "code",
        "colab": {}
      },
      "source": [
        "plt.plot(normal)"
      ],
      "execution_count": 0,
      "outputs": []
    },
    {
      "cell_type": "code",
      "metadata": {
        "id": "hPauIGdCfN1Y",
        "colab_type": "code",
        "colab": {}
      },
      "source": [
        "plt.plot(pigmented)"
      ],
      "execution_count": 0,
      "outputs": []
    },
    {
      "cell_type": "code",
      "metadata": {
        "id": "EKYExBeMfN1Z",
        "colab_type": "code",
        "colab": {}
      },
      "source": [
        "plt.imshow(imagesp[0])"
      ],
      "execution_count": 0,
      "outputs": []
    },
    {
      "cell_type": "code",
      "metadata": {
        "id": "RGbveiABfN1a",
        "colab_type": "code",
        "colab": {}
      },
      "source": [
        "plt.imshow(imagesp[1])"
      ],
      "execution_count": 0,
      "outputs": []
    },
    {
      "cell_type": "code",
      "metadata": {
        "id": "QLx2lHwtfN1b",
        "colab_type": "code",
        "colab": {}
      },
      "source": [
        "plt.imshow(imagesp[2])"
      ],
      "execution_count": 0,
      "outputs": []
    },
    {
      "cell_type": "code",
      "metadata": {
        "id": "X5_39MM-fN1d",
        "colab_type": "code",
        "colab": {}
      },
      "source": [
        "plt.imshow(imagesp[3])"
      ],
      "execution_count": 0,
      "outputs": []
    },
    {
      "cell_type": "code",
      "metadata": {
        "id": "p3d7xIRpfN1e",
        "colab_type": "code",
        "colab": {}
      },
      "source": [
        "plt.imshow(imagesp[4])"
      ],
      "execution_count": 0,
      "outputs": []
    },
    {
      "cell_type": "code",
      "metadata": {
        "id": "lVuabyyffN1f",
        "colab_type": "code",
        "colab": {}
      },
      "source": [
        "plt.imshow(imagesp[5])"
      ],
      "execution_count": 0,
      "outputs": []
    },
    {
      "cell_type": "code",
      "metadata": {
        "id": "ecXz5Qg2fN1g",
        "colab_type": "code",
        "colab": {}
      },
      "source": [
        "plt.imshow(imagesp[6])"
      ],
      "execution_count": 0,
      "outputs": []
    },
    {
      "cell_type": "code",
      "metadata": {
        "id": "vljOjV8AfN1g",
        "colab_type": "code",
        "colab": {}
      },
      "source": [
        "plt.imshow(imagesp[7])"
      ],
      "execution_count": 0,
      "outputs": []
    },
    {
      "cell_type": "code",
      "metadata": {
        "id": "20qm-GS0fN1h",
        "colab_type": "code",
        "colab": {}
      },
      "source": [
        "plt.imshow(imagesp[8])"
      ],
      "execution_count": 0,
      "outputs": []
    },
    {
      "cell_type": "code",
      "metadata": {
        "id": "_raVEmR1fN1j",
        "colab_type": "code",
        "colab": {}
      },
      "source": [
        "plt.imshow(imagesp[9])"
      ],
      "execution_count": 0,
      "outputs": []
    },
    {
      "cell_type": "code",
      "metadata": {
        "id": "jLG0X9zwfN1l",
        "colab_type": "code",
        "colab": {}
      },
      "source": [
        "plt.imshow(imagesp[10])"
      ],
      "execution_count": 0,
      "outputs": []
    },
    {
      "cell_type": "code",
      "metadata": {
        "id": "551fWebzfN1m",
        "colab_type": "code",
        "colab": {}
      },
      "source": [
        "pigmented[0]"
      ],
      "execution_count": 0,
      "outputs": []
    },
    {
      "cell_type": "code",
      "metadata": {
        "id": "mD9EF_yxfN1m",
        "colab_type": "code",
        "colab": {}
      },
      "source": [
        "pigmented[10]"
      ],
      "execution_count": 0,
      "outputs": []
    },
    {
      "cell_type": "code",
      "metadata": {
        "id": "ks9ZDXfWfN1n",
        "colab_type": "code",
        "colab": {}
      },
      "source": [
        "plt.imshow(imagesp[0])"
      ],
      "execution_count": 0,
      "outputs": []
    },
    {
      "cell_type": "code",
      "metadata": {
        "id": "lqMFsSngfN1o",
        "colab_type": "code",
        "colab": {}
      },
      "source": [
        "plt.imshow(imagesp[11])"
      ],
      "execution_count": 0,
      "outputs": []
    },
    {
      "cell_type": "code",
      "metadata": {
        "id": "FHHB-0G2fN1p",
        "colab_type": "code",
        "colab": {}
      },
      "source": [
        "plt.imshow(imagesp[12])"
      ],
      "execution_count": 0,
      "outputs": []
    },
    {
      "cell_type": "code",
      "metadata": {
        "id": "ZgSGsY2YfN1q",
        "colab_type": "code",
        "colab": {}
      },
      "source": [
        "plt.imshow(imagesp[13])"
      ],
      "execution_count": 0,
      "outputs": []
    },
    {
      "cell_type": "code",
      "metadata": {
        "id": "s4TjKPuQfN1s",
        "colab_type": "code",
        "colab": {}
      },
      "source": [
        "plt.imshow(imagesp[14])"
      ],
      "execution_count": 0,
      "outputs": []
    },
    {
      "cell_type": "code",
      "metadata": {
        "id": "5yDzxusDfN1t",
        "colab_type": "code",
        "colab": {}
      },
      "source": [
        "plt.imshow(imagesp[15])"
      ],
      "execution_count": 0,
      "outputs": []
    },
    {
      "cell_type": "code",
      "metadata": {
        "id": "px8uG7stfN1t",
        "colab_type": "code",
        "colab": {}
      },
      "source": [
        "plt.imshow(imagesp[16])"
      ],
      "execution_count": 0,
      "outputs": []
    },
    {
      "cell_type": "code",
      "metadata": {
        "id": "WCVqCLpcfN1u",
        "colab_type": "code",
        "colab": {}
      },
      "source": [
        "plt.imshow(imagesp[17])"
      ],
      "execution_count": 0,
      "outputs": []
    },
    {
      "cell_type": "code",
      "metadata": {
        "id": "1UXuk8sxfN1x",
        "colab_type": "code",
        "colab": {}
      },
      "source": [
        "plt.imshow(imagesp[18])"
      ],
      "execution_count": 0,
      "outputs": []
    },
    {
      "cell_type": "code",
      "metadata": {
        "id": "hbx4K_-9fN1y",
        "colab_type": "code",
        "colab": {}
      },
      "source": [
        "plt.imshow(imagesp[19])"
      ],
      "execution_count": 0,
      "outputs": []
    },
    {
      "cell_type": "code",
      "metadata": {
        "id": "e6MwZhmyfN1y",
        "colab_type": "code",
        "colab": {}
      },
      "source": [
        "plt.imshow(imagesp[20])"
      ],
      "execution_count": 0,
      "outputs": []
    },
    {
      "cell_type": "code",
      "metadata": {
        "id": "L2t3dY8EfN11",
        "colab_type": "code",
        "colab": {}
      },
      "source": [
        "plt.imshow(imagesp[21])"
      ],
      "execution_count": 0,
      "outputs": []
    },
    {
      "cell_type": "code",
      "metadata": {
        "id": "DuGQCCKnfN11",
        "colab_type": "code",
        "colab": {}
      },
      "source": [
        "plt.imshow(imagesp[22])"
      ],
      "execution_count": 0,
      "outputs": []
    },
    {
      "cell_type": "code",
      "metadata": {
        "id": "ust1UM-LfN15",
        "colab_type": "code",
        "colab": {}
      },
      "source": [
        "plt.imshow(imagesp[23])"
      ],
      "execution_count": 0,
      "outputs": []
    },
    {
      "cell_type": "code",
      "metadata": {
        "id": "hrAjXfnUfN16",
        "colab_type": "code",
        "colab": {}
      },
      "source": [
        "plt.imshow(imagesp[24])"
      ],
      "execution_count": 0,
      "outputs": []
    },
    {
      "cell_type": "code",
      "metadata": {
        "id": "Nig__U98fN16",
        "colab_type": "code",
        "colab": {}
      },
      "source": [
        "plt.imshow(imagesp[25])"
      ],
      "execution_count": 0,
      "outputs": []
    },
    {
      "cell_type": "code",
      "metadata": {
        "id": "i7tRlK70fN17",
        "colab_type": "code",
        "colab": {}
      },
      "source": [
        "plt.imshow(imagesp[26])"
      ],
      "execution_count": 0,
      "outputs": []
    },
    {
      "cell_type": "code",
      "metadata": {
        "id": "xhAjKp-FfN18",
        "colab_type": "code",
        "colab": {}
      },
      "source": [
        "plt.imshow(imagesp[27])"
      ],
      "execution_count": 0,
      "outputs": []
    },
    {
      "cell_type": "code",
      "metadata": {
        "id": "ONZHGxYgfN19",
        "colab_type": "code",
        "colab": {}
      },
      "source": [
        "plt.imshow(imagesp[0])"
      ],
      "execution_count": 0,
      "outputs": []
    },
    {
      "cell_type": "code",
      "metadata": {
        "id": "WBoXOjU6fN1-",
        "colab_type": "code",
        "colab": {}
      },
      "source": [
        "test = normal - pigmented"
      ],
      "execution_count": 0,
      "outputs": []
    },
    {
      "cell_type": "code",
      "metadata": {
        "id": "_3vR3FEkfN1_",
        "colab_type": "code",
        "colab": {}
      },
      "source": [
        "test = np.hstack([test[0:2], test[4:8], test[9:21], test[22:26], test[27]])"
      ],
      "execution_count": 0,
      "outputs": []
    },
    {
      "cell_type": "code",
      "metadata": {
        "id": "eBWPYJQqfN2A",
        "colab_type": "code",
        "colab": {}
      },
      "source": [
        "plt.plot(test)"
      ],
      "execution_count": 0,
      "outputs": []
    },
    {
      "cell_type": "code",
      "metadata": {
        "id": "tUhETHmvfN2B",
        "colab_type": "code",
        "colab": {}
      },
      "source": [
        "filenames"
      ],
      "execution_count": 0,
      "outputs": []
    },
    {
      "cell_type": "code",
      "metadata": {
        "id": "cXZzpi6CfN2C",
        "colab_type": "code",
        "colab": {}
      },
      "source": [
        "normal = np.hstack([normal[0:2], normal[12], normal[21:28], normal[2:12], normal[13:20]])"
      ],
      "execution_count": 0,
      "outputs": []
    },
    {
      "cell_type": "code",
      "metadata": {
        "id": "xCGAAJMafN2D",
        "colab_type": "code",
        "colab": {}
      },
      "source": [
        "pigmented = np.hstack([pigmented[0:2], pigmented[12], pigmented[21:28], pigmented[2:12], pigmented[13:20]])"
      ],
      "execution_count": 0,
      "outputs": []
    },
    {
      "cell_type": "code",
      "metadata": {
        "id": "8oUhRhYvfN2E",
        "colab_type": "code",
        "colab": {}
      },
      "source": [
        "plt.plot(normal-pigmented)"
      ],
      "execution_count": 0,
      "outputs": []
    },
    {
      "cell_type": "code",
      "metadata": {
        "id": "RQzHMxI8fN2F",
        "colab_type": "code",
        "colab": {}
      },
      "source": [
        "## 26, 21, 2, 3, 8 -> 8,3,10,11,16"
      ],
      "execution_count": 0,
      "outputs": []
    },
    {
      "cell_type": "code",
      "metadata": {
        "id": "DSo5OEV8fN2F",
        "colab_type": "code",
        "colab": {}
      },
      "source": [
        "normal.shape"
      ],
      "execution_count": 0,
      "outputs": []
    },
    {
      "cell_type": "code",
      "metadata": {
        "id": "kuY1yTNrfN2G",
        "colab_type": "code",
        "colab": {}
      },
      "source": [
        "normal = np.hstack([normal[0:3], normal[4:8], normal[9], normal[12:16], normal[17:27]])"
      ],
      "execution_count": 0,
      "outputs": []
    },
    {
      "cell_type": "code",
      "metadata": {
        "id": "PR9K3H7ufN2H",
        "colab_type": "code",
        "colab": {}
      },
      "source": [
        "pigmented = np.hstack([pigmented[0:3], pigmented[4:8], pigmented[9], pigmented[12:16], pigmented[17:27]])"
      ],
      "execution_count": 0,
      "outputs": []
    },
    {
      "cell_type": "code",
      "metadata": {
        "id": "3xtRhAlQfN2I",
        "colab_type": "code",
        "colab": {}
      },
      "source": [
        "new_files_names = np.hstack([filenames[0:3], filenames[4:8], filenames[9], filenames[12:16], filenames[17:27]])"
      ],
      "execution_count": 0,
      "outputs": []
    },
    {
      "cell_type": "code",
      "metadata": {
        "id": "4Bn2MCC6fN2I",
        "colab_type": "code",
        "colab": {}
      },
      "source": [
        "plt.plot(normal-pigmented)"
      ],
      "execution_count": 0,
      "outputs": []
    },
    {
      "cell_type": "code",
      "metadata": {
        "id": "RGsF6DPXfN2L",
        "colab_type": "code",
        "colab": {}
      },
      "source": [
        "plt.plot(pigmented)"
      ],
      "execution_count": 0,
      "outputs": []
    },
    {
      "cell_type": "code",
      "metadata": {
        "id": "edq64hVRfN2M",
        "colab_type": "code",
        "colab": {}
      },
      "source": [
        "plt.plot(normal)"
      ],
      "execution_count": 0,
      "outputs": []
    },
    {
      "cell_type": "code",
      "metadata": {
        "id": "mKzE4nHQfN2N",
        "colab_type": "code",
        "colab": {}
      },
      "source": [
        "plt.plot(pigmented/normal)"
      ],
      "execution_count": 0,
      "outputs": []
    },
    {
      "cell_type": "code",
      "metadata": {
        "id": "AlBabwzifN2N",
        "colab_type": "code",
        "colab": {}
      },
      "source": [
        "plt.plot((normal - pigmented)/normal)"
      ],
      "execution_count": 0,
      "outputs": []
    },
    {
      "cell_type": "code",
      "metadata": {
        "id": "QgYrZGrXfN2O",
        "colab_type": "code",
        "colab": {}
      },
      "source": [
        "new_files_names"
      ],
      "execution_count": 0,
      "outputs": []
    },
    {
      "cell_type": "code",
      "metadata": {
        "id": "KTrCVmMOfN2P",
        "colab_type": "code",
        "colab": {}
      },
      "source": [
        "plt.imshow(imagesp[12])"
      ],
      "execution_count": 0,
      "outputs": []
    },
    {
      "cell_type": "code",
      "metadata": {
        "id": "ZtyHpfeIfN2Q",
        "colab_type": "code",
        "colab": {}
      },
      "source": [
        ""
      ],
      "execution_count": 0,
      "outputs": []
    },
    {
      "cell_type": "code",
      "metadata": {
        "id": "0-fgJ663fN2U",
        "colab_type": "code",
        "colab": {}
      },
      "source": [
        ""
      ],
      "execution_count": 0,
      "outputs": []
    },
    {
      "cell_type": "markdown",
      "metadata": {
        "id": "AT9oUH6HujIw",
        "colab_type": "text"
      },
      "source": [
        ""
      ]
    }
  ]
}